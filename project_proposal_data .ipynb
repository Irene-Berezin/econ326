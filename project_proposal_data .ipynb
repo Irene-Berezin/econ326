{
 "cells": [
  {
   "cell_type": "code",
   "execution_count": 5,
   "metadata": {
    "vscode": {
     "languageId": "r"
    }
   },
   "outputs": [
    {
     "name": "stderr",
     "output_type": "stream",
     "text": [
      "Installing package into 'C:/Users/Kaiyan Zhang/AppData/Local/R/win-library/4.4'\n",
      "(as 'lib' is unspecified)\n",
      "\n"
     ]
    },
    {
     "name": "stdout",
     "output_type": "stream",
     "text": [
      "package 'VancouvR' successfully unpacked and MD5 sums checked\n",
      "\n",
      "The downloaded binary packages are in\n",
      "\tC:\\Users\\Kaiyan Zhang\\AppData\\Local\\Temp\\RtmpeUYwfj\\downloaded_packages\n"
     ]
    },
    {
     "name": "stderr",
     "output_type": "stream",
     "text": [
      "Warning message:\n",
      "\"package 'geojsonio' is in use and will not be installed\"\n"
     ]
    }
   ],
   "source": [
    "install.packages(\"VancouvR\")\n",
    "install.packages(\"geojsonio\")\n",
    "\n",
    "library(geojsonio)\n",
    "library(tidyverse)\n",
    "library(dplyr)\n",
    "library(\"knitr\")"
   ]
  },
  {
   "cell_type": "code",
   "execution_count": 3,
   "metadata": {
    "vscode": {
     "languageId": "r"
    }
   },
   "outputs": [
    {
     "name": "stderr",
     "output_type": "stream",
     "text": [
      "Installing package into 'C:/Users/Kaiyan Zhang/AppData/Local/R/win-library/4.4'\n",
      "(as 'lib' is unspecified)\n",
      "\n"
     ]
    },
    {
     "name": "stdout",
     "output_type": "stream",
     "text": [
      "package 'cancensus' successfully unpacked and MD5 sums checked\n",
      "\n",
      "The downloaded binary packages are in\n",
      "\tC:\\Users\\Kaiyan Zhang\\AppData\\Local\\Temp\\RtmpeUYwfj\\downloaded_packages\n"
     ]
    },
    {
     "name": "stderr",
     "output_type": "stream",
     "text": [
      "Census data is currently stored temporarily.\n",
      "\n",
      " In order to speed up performance, reduce API quota usage, and reduce unnecessary network calls, please set up a persistent cache directory via `set_cancensus_cache_path('<local cache path>', install = TRUE)`.\n",
      " This will add your cache directory as environment varianble to your .Renviron to be used across sessions and projects.\n",
      "\n",
      "\n",
      "\n"
     ]
    }
   ],
   "source": [
    "install.packages(\"cancensus\")\n",
    "library(cancensus)\n",
    "options(cancensus.api_key='CensusMapper_f228791d9506a7a747ece66db73b95be')\n",
    "options(cancensus.cache_path = 'C:\\\\Users\\\\Kaiyan Zhang\\\\Desktop\\\\econ326')"
   ]
  },
  {
   "cell_type": "code",
   "execution_count": 30,
   "metadata": {
    "vscode": {
     "languageId": "r"
    }
   },
   "outputs": [
    {
     "name": "stderr",
     "output_type": "stream",
     "text": [
      "Reading vectors data from local cache.\n",
      "\n"
     ]
    },
    {
     "name": "stderr",
     "output_type": "stream",
     "text": [
      "Reading geo data from local cache.\n",
      "\n"
     ]
    }
   ],
   "source": [
    "census_data <- get_census(dataset='CA16', \n",
    "regions=list(CMA=\"59933\",CSD=\"5915022\"), \n",
    "vectors=c(\"v_CA16_4951\",\"v_CA16_5141\"), \n",
    "labels=\"detailed\", \n",
    "geo_format='sf', level='CT')|>\n",
    "as.tibble()\n",
    "# |>\n",
    "# filter('Region Name' == 'Vancouver')"
   ]
  },
  {
   "cell_type": "code",
   "execution_count": 31,
   "metadata": {
    "vscode": {
     "languageId": "r"
    }
   },
   "outputs": [
    {
     "data": {
      "text/html": [
       "<table class=\"dataframe\">\n",
       "<caption>A tibble: 6 × 16</caption>\n",
       "<thead>\n",
       "\t<tr><th scope=col>Shape Area</th><th scope=col>Type</th><th scope=col>Households</th><th scope=col>Adjusted Population (previous Census)</th><th scope=col>PR_UID</th><th scope=col>Dwellings</th><th scope=col>GeoUID</th><th scope=col>Population</th><th scope=col>CMA_UID</th><th scope=col>CSD_UID</th><th scope=col>CD_UID</th><th scope=col>Region Name</th><th scope=col>Area (sq km)</th><th scope=col>v_CA16_4951: Total - Income statistics in 2015 for the population aged 15 years and over in private households - 25% sample data</th><th scope=col>v_CA16_5141: Total - Major field of study - Classification of Instructional Programs (CIP) 2016 for the population aged 15 years and over in private households - 25% sample data</th><th scope=col>geometry</th></tr>\n",
       "\t<tr><th scope=col>&lt;dbl&gt;</th><th scope=col>&lt;fct&gt;</th><th scope=col>&lt;int&gt;</th><th scope=col>&lt;int&gt;</th><th scope=col>&lt;chr&gt;</th><th scope=col>&lt;int&gt;</th><th scope=col>&lt;chr&gt;</th><th scope=col>&lt;int&gt;</th><th scope=col>&lt;chr&gt;</th><th scope=col>&lt;chr&gt;</th><th scope=col>&lt;chr&gt;</th><th scope=col>&lt;fct&gt;</th><th scope=col>&lt;dbl&gt;</th><th scope=col>&lt;dbl&gt;</th><th scope=col>&lt;dbl&gt;</th><th scope=col>&lt;MULTIPOLYGON [°]&gt;</th></tr>\n",
       "</thead>\n",
       "<tbody>\n",
       "\t<tr><td>1.01953</td><td>CT</td><td>2314</td><td>6311</td><td>59</td><td>2334</td><td>9330001.01</td><td>6293</td><td>59933</td><td>5915022</td><td>5915</td><td>Vancouver</td><td>1.01953</td><td>5210</td><td>5210</td><td>MULTIPOLYGON (((-123.0235 4...</td></tr>\n",
       "\t<tr><td>2.02898</td><td>CT</td><td>2089</td><td>4837</td><td>59</td><td>2132</td><td>9330001.02</td><td>5456</td><td>59933</td><td>5915022</td><td>5915</td><td>Vancouver</td><td>2.02898</td><td>4485</td><td>4490</td><td>MULTIPOLYGON (((-123.0235 4...</td></tr>\n",
       "\t<tr><td>2.02909</td><td>CT</td><td>2507</td><td>5974</td><td>59</td><td>2631</td><td>9330002.01</td><td>6150</td><td>59933</td><td>5915022</td><td>5915</td><td>Vancouver</td><td>2.02909</td><td>5230</td><td>5230</td><td>MULTIPOLYGON (((-123.0423 4...</td></tr>\n",
       "\t<tr><td>0.78516</td><td>CT</td><td>1292</td><td>4005</td><td>59</td><td>1497</td><td>9330002.03</td><td>4077</td><td>59933</td><td>5915022</td><td>5915</td><td>Vancouver</td><td>0.78516</td><td>3585</td><td>3585</td><td>MULTIPOLYGON (((-123.0592 4...</td></tr>\n",
       "\t<tr><td>0.84513</td><td>CT</td><td>1560</td><td>4503</td><td>59</td><td>1652</td><td>9330002.04</td><td>4509</td><td>59933</td><td>5915022</td><td>5915</td><td>Vancouver</td><td>0.84513</td><td>3680</td><td>3680</td><td>MULTIPOLYGON (((-123.0592 4...</td></tr>\n",
       "\t<tr><td>0.54316</td><td>CT</td><td>1080</td><td>3772</td><td>59</td><td>1210</td><td>9330003.01</td><td>3714</td><td>59933</td><td>5915022</td><td>5915</td><td>Vancouver</td><td>0.54316</td><td>3040</td><td>3045</td><td>MULTIPOLYGON (((-123.072 49...</td></tr>\n",
       "</tbody>\n",
       "</table>\n"
      ],
      "text/latex": [
       "A tibble: 6 × 16\n",
       "\\begin{tabular}{llllllllllllllll}\n",
       " Shape Area & Type & Households & Adjusted Population (previous Census) & PR\\_UID & Dwellings & GeoUID & Population & CMA\\_UID & CSD\\_UID & CD\\_UID & Region Name & Area (sq km) & v\\_CA16\\_4951: Total - Income statistics in 2015 for the population aged 15 years and over in private households - 25\\% sample data & v\\_CA16\\_5141: Total - Major field of study - Classification of Instructional Programs (CIP) 2016 for the population aged 15 years and over in private households - 25\\% sample data & geometry\\\\\n",
       " <dbl> & <fct> & <int> & <int> & <chr> & <int> & <chr> & <int> & <chr> & <chr> & <chr> & <fct> & <dbl> & <dbl> & <dbl> & <MULTIPOLYGON {[}°{]}>\\\\\n",
       "\\hline\n",
       "\t 1.01953 & CT & 2314 & 6311 & 59 & 2334 & 9330001.01 & 6293 & 59933 & 5915022 & 5915 & Vancouver & 1.01953 & 5210 & 5210 & MULTIPOLYGON (((-123.0235 4...\\\\\n",
       "\t 2.02898 & CT & 2089 & 4837 & 59 & 2132 & 9330001.02 & 5456 & 59933 & 5915022 & 5915 & Vancouver & 2.02898 & 4485 & 4490 & MULTIPOLYGON (((-123.0235 4...\\\\\n",
       "\t 2.02909 & CT & 2507 & 5974 & 59 & 2631 & 9330002.01 & 6150 & 59933 & 5915022 & 5915 & Vancouver & 2.02909 & 5230 & 5230 & MULTIPOLYGON (((-123.0423 4...\\\\\n",
       "\t 0.78516 & CT & 1292 & 4005 & 59 & 1497 & 9330002.03 & 4077 & 59933 & 5915022 & 5915 & Vancouver & 0.78516 & 3585 & 3585 & MULTIPOLYGON (((-123.0592 4...\\\\\n",
       "\t 0.84513 & CT & 1560 & 4503 & 59 & 1652 & 9330002.04 & 4509 & 59933 & 5915022 & 5915 & Vancouver & 0.84513 & 3680 & 3680 & MULTIPOLYGON (((-123.0592 4...\\\\\n",
       "\t 0.54316 & CT & 1080 & 3772 & 59 & 1210 & 9330003.01 & 3714 & 59933 & 5915022 & 5915 & Vancouver & 0.54316 & 3040 & 3045 & MULTIPOLYGON (((-123.072 49...\\\\\n",
       "\\end{tabular}\n"
      ],
      "text/markdown": [
       "\n",
       "A tibble: 6 × 16\n",
       "\n",
       "| Shape Area &lt;dbl&gt; | Type &lt;fct&gt; | Households &lt;int&gt; | Adjusted Population (previous Census) &lt;int&gt; | PR_UID &lt;chr&gt; | Dwellings &lt;int&gt; | GeoUID &lt;chr&gt; | Population &lt;int&gt; | CMA_UID &lt;chr&gt; | CSD_UID &lt;chr&gt; | CD_UID &lt;chr&gt; | Region Name &lt;fct&gt; | Area (sq km) &lt;dbl&gt; | v_CA16_4951: Total - Income statistics in 2015 for the population aged 15 years and over in private households - 25% sample data &lt;dbl&gt; | v_CA16_5141: Total - Major field of study - Classification of Instructional Programs (CIP) 2016 for the population aged 15 years and over in private households - 25% sample data &lt;dbl&gt; | geometry &lt;MULTIPOLYGON [°]&gt; |\n",
       "|---|---|---|---|---|---|---|---|---|---|---|---|---|---|---|---|\n",
       "| 1.01953 | CT | 2314 | 6311 | 59 | 2334 | 9330001.01 | 6293 | 59933 | 5915022 | 5915 | Vancouver | 1.01953 | 5210 | 5210 | MULTIPOLYGON (((-123.0235 4... |\n",
       "| 2.02898 | CT | 2089 | 4837 | 59 | 2132 | 9330001.02 | 5456 | 59933 | 5915022 | 5915 | Vancouver | 2.02898 | 4485 | 4490 | MULTIPOLYGON (((-123.0235 4... |\n",
       "| 2.02909 | CT | 2507 | 5974 | 59 | 2631 | 9330002.01 | 6150 | 59933 | 5915022 | 5915 | Vancouver | 2.02909 | 5230 | 5230 | MULTIPOLYGON (((-123.0423 4... |\n",
       "| 0.78516 | CT | 1292 | 4005 | 59 | 1497 | 9330002.03 | 4077 | 59933 | 5915022 | 5915 | Vancouver | 0.78516 | 3585 | 3585 | MULTIPOLYGON (((-123.0592 4... |\n",
       "| 0.84513 | CT | 1560 | 4503 | 59 | 1652 | 9330002.04 | 4509 | 59933 | 5915022 | 5915 | Vancouver | 0.84513 | 3680 | 3680 | MULTIPOLYGON (((-123.0592 4... |\n",
       "| 0.54316 | CT | 1080 | 3772 | 59 | 1210 | 9330003.01 | 3714 | 59933 | 5915022 | 5915 | Vancouver | 0.54316 | 3040 | 3045 | MULTIPOLYGON (((-123.072 49... |\n",
       "\n"
      ],
      "text/plain": [
       "  Shape Area Type Households Adjusted Population (previous Census) PR_UID\n",
       "1 1.01953    CT   2314       6311                                  59    \n",
       "2 2.02898    CT   2089       4837                                  59    \n",
       "3 2.02909    CT   2507       5974                                  59    \n",
       "4 0.78516    CT   1292       4005                                  59    \n",
       "5 0.84513    CT   1560       4503                                  59    \n",
       "6 0.54316    CT   1080       3772                                  59    \n",
       "  Dwellings GeoUID     Population CMA_UID CSD_UID CD_UID Region Name\n",
       "1 2334      9330001.01 6293       59933   5915022 5915   Vancouver  \n",
       "2 2132      9330001.02 5456       59933   5915022 5915   Vancouver  \n",
       "3 2631      9330002.01 6150       59933   5915022 5915   Vancouver  \n",
       "4 1497      9330002.03 4077       59933   5915022 5915   Vancouver  \n",
       "5 1652      9330002.04 4509       59933   5915022 5915   Vancouver  \n",
       "6 1210      9330003.01 3714       59933   5915022 5915   Vancouver  \n",
       "  Area (sq km)\n",
       "1 1.01953     \n",
       "2 2.02898     \n",
       "3 2.02909     \n",
       "4 0.78516     \n",
       "5 0.84513     \n",
       "6 0.54316     \n",
       "  v_CA16_4951: Total - Income statistics in 2015 for the population aged 15 years and over in private households - 25% sample data\n",
       "1 5210                                                                                                                            \n",
       "2 4485                                                                                                                            \n",
       "3 5230                                                                                                                            \n",
       "4 3585                                                                                                                            \n",
       "5 3680                                                                                                                            \n",
       "6 3040                                                                                                                            \n",
       "  v_CA16_5141: Total - Major field of study - Classification of Instructional Programs (CIP) 2016 for the population aged 15 years and over in private households - 25% sample data\n",
       "1 5210                                                                                                                                                                             \n",
       "2 4490                                                                                                                                                                             \n",
       "3 5230                                                                                                                                                                             \n",
       "4 3585                                                                                                                                                                             \n",
       "5 3680                                                                                                                                                                             \n",
       "6 3045                                                                                                                                                                             \n",
       "  geometry                      \n",
       "1 MULTIPOLYGON (((-123.0235 4...\n",
       "2 MULTIPOLYGON (((-123.0235 4...\n",
       "3 MULTIPOLYGON (((-123.0423 4...\n",
       "4 MULTIPOLYGON (((-123.0592 4...\n",
       "5 MULTIPOLYGON (((-123.0592 4...\n",
       "6 MULTIPOLYGON (((-123.072 49..."
      ]
     },
     "metadata": {},
     "output_type": "display_data"
    }
   ],
   "source": [
    "head(census_data)"
   ]
  },
  {
   "cell_type": "code",
   "execution_count": null,
   "metadata": {
    "vscode": {
     "languageId": "r"
    }
   },
   "outputs": [],
   "source": []
  }
 ],
 "metadata": {
  "kernelspec": {
   "display_name": "R",
   "language": "R",
   "name": "ir"
  },
  "language_info": {
   "codemirror_mode": "r",
   "file_extension": ".r",
   "mimetype": "text/x-r-source",
   "name": "R",
   "pygments_lexer": "r",
   "version": "4.4.1"
  }
 },
 "nbformat": 4,
 "nbformat_minor": 2
}
