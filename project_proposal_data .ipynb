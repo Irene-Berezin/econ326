{
 "cells": [
  {
   "cell_type": "code",
   "execution_count": 42,
   "metadata": {
    "vscode": {
     "languageId": "r"
    }
   },
   "outputs": [
    {
     "name": "stderr",
     "output_type": "stream",
     "text": [
      "Warning message:\n",
      "\"package 'VancouvR' is in use and will not be installed\"\n",
      "Warning message:\n",
      "\"package 'geojsonio' is in use and will not be installed\"\n"
     ]
    }
   ],
   "source": [
    "install.packages(\"VancouvR\")\n",
    "install.packages(\"geojsonio\")\n",
    "\n",
    "library(geojsonio)\n",
    "library(tidyverse)\n",
    "library(dplyr)\n",
    "library(\"knitr\")"
   ]
  },
  {
   "cell_type": "code",
   "execution_count": 43,
   "metadata": {
    "vscode": {
     "languageId": "r"
    }
   },
   "outputs": [
    {
     "name": "stderr",
     "output_type": "stream",
     "text": [
      "Warning message:\n",
      "\"package 'cancensus' is in use and will not be installed\"\n"
     ]
    }
   ],
   "source": [
    "install.packages(\"cancensus\")\n",
    "library(cancensus)\n",
    "options(cancensus.api_key='CensusMapper_f228791d9506a7a747ece66db73b95be')\n",
    "options(cancensus.cache_path = \"/cache\")"
   ]
  },
  {
   "cell_type": "code",
   "execution_count": 44,
   "metadata": {
    "vscode": {
     "languageId": "r"
    }
   },
   "outputs": [
    {
     "name": "stderr",
     "output_type": "stream",
     "text": [
      "Reading vectors data from local cache.\n",
      "\n",
      "Reading geo data from local cache.\n",
      "\n"
     ]
    }
   ],
   "source": [
    "census_data <- get_census(dataset='CA16', regions=list(CT=\"9330044.00\"), vectors=c(\"v_CA16_401\",\"v_CA16_404\",\"v_CA16_1\",\"v_CA16_2426\",\"v_CA16_2510\",\"v_CA16_2525\",\"v_CA16_5096\",\"v_CA16_5147\"), labels=\"detailed\", geo_format='sf', level='DA')\n",
    "# filter('`Region Name`' == 'Vancouver') # Installing Census data api but failed to select only Vancouver region"
   ]
  },
  {
   "cell_type": "code",
   "execution_count": 45,
   "metadata": {
    "vscode": {
     "languageId": "r"
    }
   },
   "outputs": [
    {
     "data": {
      "text/html": [
       "<style>\n",
       ".list-inline {list-style: none; margin:0; padding: 0}\n",
       ".list-inline>li {display: inline-block}\n",
       ".list-inline>li:not(:last-child)::after {content: \"\\00b7\"; padding: 0 .5ex}\n",
       "</style>\n",
       "<ol class=list-inline><li>'Shape Area'</li><li>'Type'</li><li>'Households'</li><li>'CD_UID'</li><li>'Dwellings'</li><li>'GeoUID'</li><li>'Population'</li><li>'CSD_UID'</li><li>'CT_UID'</li><li>'CMA_UID'</li><li>'Region Name'</li><li>'Area (sq km)'</li><li>'v_CA16_401: Population, 2016'</li><li>'v_CA16_404: Total private dwellings'</li><li>'v_CA16_1: Age Stats'</li><li>'v_CA16_2426: Total - Household after-tax income groups in 2015 for private households - 100% data'</li><li>'v_CA16_2510: Total - Low-income status in 2015 for the population in private households to whom low-income concepts are applicable - 100% data'</li><li>'v_CA16_2525: In low income based on the Low-income measure, after tax (LIM-AT)'</li><li>'v_CA16_5096: Total - Highest certificate, diploma or degree for the population aged 25 to 64 years in private households - 25% sample data'</li><li>'v_CA16_5147: Education'</li><li>'geometry'</li></ol>\n"
      ],
      "text/latex": [
       "\\begin{enumerate*}\n",
       "\\item 'Shape Area'\n",
       "\\item 'Type'\n",
       "\\item 'Households'\n",
       "\\item 'CD\\_UID'\n",
       "\\item 'Dwellings'\n",
       "\\item 'GeoUID'\n",
       "\\item 'Population'\n",
       "\\item 'CSD\\_UID'\n",
       "\\item 'CT\\_UID'\n",
       "\\item 'CMA\\_UID'\n",
       "\\item 'Region Name'\n",
       "\\item 'Area (sq km)'\n",
       "\\item 'v\\_CA16\\_401: Population, 2016'\n",
       "\\item 'v\\_CA16\\_404: Total private dwellings'\n",
       "\\item 'v\\_CA16\\_1: Age Stats'\n",
       "\\item 'v\\_CA16\\_2426: Total - Household after-tax income groups in 2015 for private households - 100\\% data'\n",
       "\\item 'v\\_CA16\\_2510: Total - Low-income status in 2015 for the population in private households to whom low-income concepts are applicable - 100\\% data'\n",
       "\\item 'v\\_CA16\\_2525: In low income based on the Low-income measure, after tax (LIM-AT)'\n",
       "\\item 'v\\_CA16\\_5096: Total - Highest certificate, diploma or degree for the population aged 25 to 64 years in private households - 25\\% sample data'\n",
       "\\item 'v\\_CA16\\_5147: Education'\n",
       "\\item 'geometry'\n",
       "\\end{enumerate*}\n"
      ],
      "text/markdown": [
       "1. 'Shape Area'\n",
       "2. 'Type'\n",
       "3. 'Households'\n",
       "4. 'CD_UID'\n",
       "5. 'Dwellings'\n",
       "6. 'GeoUID'\n",
       "7. 'Population'\n",
       "8. 'CSD_UID'\n",
       "9. 'CT_UID'\n",
       "10. 'CMA_UID'\n",
       "11. 'Region Name'\n",
       "12. 'Area (sq km)'\n",
       "13. 'v_CA16_401: Population, 2016'\n",
       "14. 'v_CA16_404: Total private dwellings'\n",
       "15. 'v_CA16_1: Age Stats'\n",
       "16. 'v_CA16_2426: Total - Household after-tax income groups in 2015 for private households - 100% data'\n",
       "17. 'v_CA16_2510: Total - Low-income status in 2015 for the population in private households to whom low-income concepts are applicable - 100% data'\n",
       "18. 'v_CA16_2525: In low income based on the Low-income measure, after tax (LIM-AT)'\n",
       "19. 'v_CA16_5096: Total - Highest certificate, diploma or degree for the population aged 25 to 64 years in private households - 25% sample data'\n",
       "20. 'v_CA16_5147: Education'\n",
       "21. 'geometry'\n",
       "\n",
       "\n"
      ],
      "text/plain": [
       " [1] \"Shape Area\"                                                                                                                                    \n",
       " [2] \"Type\"                                                                                                                                          \n",
       " [3] \"Households\"                                                                                                                                    \n",
       " [4] \"CD_UID\"                                                                                                                                        \n",
       " [5] \"Dwellings\"                                                                                                                                     \n",
       " [6] \"GeoUID\"                                                                                                                                        \n",
       " [7] \"Population\"                                                                                                                                    \n",
       " [8] \"CSD_UID\"                                                                                                                                       \n",
       " [9] \"CT_UID\"                                                                                                                                        \n",
       "[10] \"CMA_UID\"                                                                                                                                       \n",
       "[11] \"Region Name\"                                                                                                                                   \n",
       "[12] \"Area (sq km)\"                                                                                                                                  \n",
       "[13] \"v_CA16_401: Population, 2016\"                                                                                                                  \n",
       "[14] \"v_CA16_404: Total private dwellings\"                                                                                                           \n",
       "[15] \"v_CA16_1: Age Stats\"                                                                                                                           \n",
       "[16] \"v_CA16_2426: Total - Household after-tax income groups in 2015 for private households - 100% data\"                                             \n",
       "[17] \"v_CA16_2510: Total - Low-income status in 2015 for the population in private households to whom low-income concepts are applicable - 100% data\"\n",
       "[18] \"v_CA16_2525: In low income based on the Low-income measure, after tax (LIM-AT)\"                                                                \n",
       "[19] \"v_CA16_5096: Total - Highest certificate, diploma or degree for the population aged 25 to 64 years in private households - 25% sample data\"    \n",
       "[20] \"v_CA16_5147: Education\"                                                                                                                        \n",
       "[21] \"geometry\"                                                                                                                                      "
      ]
     },
     "metadata": {},
     "output_type": "display_data"
    }
   ],
   "source": [
    "colnames(census_data)"
   ]
  },
  {
   "cell_type": "code",
   "execution_count": 46,
   "metadata": {
    "vscode": {
     "languageId": "r"
    }
   },
   "outputs": [
    {
     "name": "stdout",
     "output_type": "stream",
     "text": [
      "Rows: 10\n",
      "Columns: 21\n",
      "$ `Shape Area`                                                                                                                                     \u001b[3m\u001b[90m<dbl>\u001b[39m\u001b[23m …\n",
      "$ Type                                                                                                                                             \u001b[3m\u001b[90m<fct>\u001b[39m\u001b[23m …\n",
      "$ Households                                                                                                                                       \u001b[3m\u001b[90m<int>\u001b[39m\u001b[23m …\n",
      "$ CD_UID                                                                                                                                           \u001b[3m\u001b[90m<chr>\u001b[39m\u001b[23m …\n",
      "$ Dwellings                                                                                                                                        \u001b[3m\u001b[90m<int>\u001b[39m\u001b[23m …\n",
      "$ GeoUID                                                                                                                                           \u001b[3m\u001b[90m<chr>\u001b[39m\u001b[23m …\n",
      "$ Population                                                                                                                                       \u001b[3m\u001b[90m<int>\u001b[39m\u001b[23m …\n",
      "$ CSD_UID                                                                                                                                          \u001b[3m\u001b[90m<chr>\u001b[39m\u001b[23m …\n",
      "$ CT_UID                                                                                                                                           \u001b[3m\u001b[90m<chr>\u001b[39m\u001b[23m …\n",
      "$ CMA_UID                                                                                                                                          \u001b[3m\u001b[90m<chr>\u001b[39m\u001b[23m …\n",
      "$ `Region Name`                                                                                                                                    \u001b[3m\u001b[90m<fct>\u001b[39m\u001b[23m …\n",
      "$ `Area (sq km)`                                                                                                                                   \u001b[3m\u001b[90m<dbl>\u001b[39m\u001b[23m …\n",
      "$ `v_CA16_401: Population, 2016`                                                                                                                   \u001b[3m\u001b[90m<dbl>\u001b[39m\u001b[23m …\n",
      "$ `v_CA16_404: Total private dwellings`                                                                                                            \u001b[3m\u001b[90m<dbl>\u001b[39m\u001b[23m …\n",
      "$ `v_CA16_1: Age Stats`                                                                                                                            \u001b[3m\u001b[90m<dbl>\u001b[39m\u001b[23m …\n",
      "$ `v_CA16_2426: Total - Household after-tax income groups in 2015 for private households - 100% data`                                              \u001b[3m\u001b[90m<dbl>\u001b[39m\u001b[23m …\n",
      "$ `v_CA16_2510: Total - Low-income status in 2015 for the population in private households to whom low-income concepts are applicable - 100% data` \u001b[3m\u001b[90m<dbl>\u001b[39m\u001b[23m …\n",
      "$ `v_CA16_2525: In low income based on the Low-income measure, after tax (LIM-AT)`                                                                 \u001b[3m\u001b[90m<dbl>\u001b[39m\u001b[23m …\n",
      "$ `v_CA16_5096: Total - Highest certificate, diploma or degree for the population aged 25 to 64 years in private households - 25% sample data`     \u001b[3m\u001b[90m<dbl>\u001b[39m\u001b[23m …\n",
      "$ `v_CA16_5147: Education`                                                                                                                         \u001b[3m\u001b[90m<dbl>\u001b[39m\u001b[23m …\n",
      "$ geometry                                                                                                                                         \u001b[3m\u001b[90m<MULTIPOLYGON [°]>\u001b[39m\u001b[23m …\n"
     ]
    }
   ],
   "source": [
    "glimpse(census_data)"
   ]
  },
  {
   "cell_type": "code",
   "execution_count": 47,
   "metadata": {
    "vscode": {
     "languageId": "r"
    }
   },
   "outputs": [
    {
     "name": "stderr",
     "output_type": "stream",
     "text": [
      "Warning message:\n",
      "\"package 'sf' is in use and will not be installed\"\n"
     ]
    }
   ],
   "source": [
    "install.packages(\"sf\")\n",
    "library(\"sf\")"
   ]
  },
  {
   "cell_type": "code",
   "execution_count": null,
   "metadata": {
    "vscode": {
     "languageId": "r"
    }
   },
   "outputs": [],
   "source": []
  },
  {
   "cell_type": "code",
   "execution_count": 48,
   "metadata": {
    "vscode": {
     "languageId": "r"
    }
   },
   "outputs": [
    {
     "data": {
      "text/html": [
       "<table class=\"dataframe\">\n",
       "<caption>A tibble: 4 × 2</caption>\n",
       "<thead>\n",
       "\t<tr><th scope=col>dataset_id</th><th scope=col>title</th></tr>\n",
       "\t<tr><th scope=col>&lt;chr&gt;</th><th scope=col>&lt;chr&gt;</th></tr>\n",
       "</thead>\n",
       "<tbody>\n",
       "\t<tr><td>property-tax-report-2011-2015</td><td>Property tax report 2011-2015</td></tr>\n",
       "\t<tr><td>property-tax-report-2006-2010</td><td>Property tax report 2006-2010</td></tr>\n",
       "\t<tr><td>property-tax-report-2016-2019</td><td>Property tax report 2016-2019</td></tr>\n",
       "\t<tr><td>property-tax-report          </td><td>Property tax report          </td></tr>\n",
       "</tbody>\n",
       "</table>\n"
      ],
      "text/latex": [
       "A tibble: 4 × 2\n",
       "\\begin{tabular}{ll}\n",
       " dataset\\_id & title\\\\\n",
       " <chr> & <chr>\\\\\n",
       "\\hline\n",
       "\t property-tax-report-2011-2015 & Property tax report 2011-2015\\\\\n",
       "\t property-tax-report-2006-2010 & Property tax report 2006-2010\\\\\n",
       "\t property-tax-report-2016-2019 & Property tax report 2016-2019\\\\\n",
       "\t property-tax-report           & Property tax report          \\\\\n",
       "\\end{tabular}\n"
      ],
      "text/markdown": [
       "\n",
       "A tibble: 4 × 2\n",
       "\n",
       "| dataset_id &lt;chr&gt; | title &lt;chr&gt; |\n",
       "|---|---|\n",
       "| property-tax-report-2011-2015 | Property tax report 2011-2015 |\n",
       "| property-tax-report-2006-2010 | Property tax report 2006-2010 |\n",
       "| property-tax-report-2016-2019 | Property tax report 2016-2019 |\n",
       "| property-tax-report           | Property tax report           |\n",
       "\n"
      ],
      "text/plain": [
       "  dataset_id                    title                        \n",
       "1 property-tax-report-2011-2015 Property tax report 2011-2015\n",
       "2 property-tax-report-2006-2010 Property tax report 2006-2010\n",
       "3 property-tax-report-2016-2019 Property tax report 2016-2019\n",
       "4 property-tax-report           Property tax report          "
      ]
     },
     "metadata": {},
     "output_type": "display_data"
    }
   ],
   "source": [
    "library(VancouvR)\n",
    "search_cov_datasets(\"property-tax\") %>%\n",
    "  select(dataset_id,title)"
   ]
  },
  {
   "cell_type": "code",
   "execution_count": 49,
   "metadata": {
    "vscode": {
     "languageId": "r"
    }
   },
   "outputs": [
    {
     "name": "stderr",
     "output_type": "stream",
     "text": [
      "Reading data from temporary cache\n",
      "\n",
      "Warning message:\n",
      "\"\u001b[1m\u001b[22mThere was 1 warning in `mutate()`.\n",
      "\u001b[1m\u001b[22m\u001b[36mℹ\u001b[39m In argument: `current_land_value =\n",
      "  .Primitive(\"as.integer\")(current_land_value)`.\n",
      "Caused by warning:\n",
      "\u001b[33m!\u001b[39m NAs introduced by coercion to integer range\"\n"
     ]
    },
    {
     "name": "stdout",
     "output_type": "stream",
     "text": [
      "Rows: 199,924\n",
      "Columns: 2\n",
      "$ current_land_value \u001b[3m\u001b[90m<int>\u001b[39m\u001b[23m 362000, 4217000, 346000, 287000, 1883000, 228000, 1…\n",
      "$ tax_coord          \u001b[3m\u001b[90m<chr>\u001b[39m\u001b[23m \"12060598\", \"58911893\", \"60318606\", \"64615992\", \"69…\n"
     ]
    }
   ],
   "source": [
    "tax_data <- get_cov_data(dataset_id = \"property-tax-report-2016-2019\",\n",
    "                         where=\"tax_assessment_year='2016'\",\n",
    "                         select = \"current_land_value, land_coordinate as tax_coord\")|>\n",
    "    as.tibble()\n",
    "glimpse(tax_data) # read in the data of land value, and changed it coordname to tax coord, so it matched the property polygon data"
   ]
  },
  {
   "cell_type": "code",
   "execution_count": 50,
   "metadata": {
    "vscode": {
     "languageId": "r"
    }
   },
   "outputs": [
    {
     "data": {
      "text/html": [
       "<style>\n",
       ".list-inline {list-style: none; margin:0; padding: 0}\n",
       ".list-inline>li {display: inline-block}\n",
       ".list-inline>li:not(:last-child)::after {content: \"\\00b7\"; padding: 0 .5ex}\n",
       "</style>\n",
       "<ol class=list-inline><li>'current_land_value'</li><li>'tax_coord'</li></ol>\n"
      ],
      "text/latex": [
       "\\begin{enumerate*}\n",
       "\\item 'current\\_land\\_value'\n",
       "\\item 'tax\\_coord'\n",
       "\\end{enumerate*}\n"
      ],
      "text/markdown": [
       "1. 'current_land_value'\n",
       "2. 'tax_coord'\n",
       "\n",
       "\n"
      ],
      "text/plain": [
       "[1] \"current_land_value\" \"tax_coord\"         "
      ]
     },
     "metadata": {},
     "output_type": "display_data"
    }
   ],
   "source": [
    "colnames(tax_data)"
   ]
  },
  {
   "cell_type": "code",
   "execution_count": 51,
   "metadata": {
    "vscode": {
     "languageId": "r"
    }
   },
   "outputs": [
    {
     "name": "stderr",
     "output_type": "stream",
     "text": [
      "\u001b[1mRows: \u001b[22m\u001b[34m895823\u001b[39m \u001b[1mColumns: \u001b[22m\u001b[34m10\u001b[39m\n",
      "\u001b[36m──\u001b[39m \u001b[1mColumn specification\u001b[22m \u001b[36m────────────────────────────────────────────────────────\u001b[39m\n",
      "\u001b[1mDelimiter:\u001b[22m \",\"\n",
      "\u001b[31mchr\u001b[39m (3): TYPE, HUNDRED_BLOCK, NEIGHBOURHOOD\n",
      "\u001b[32mdbl\u001b[39m (7): YEAR, MONTH, DAY, HOUR, MINUTE, X, Y\n",
      "\n",
      "\u001b[36mℹ\u001b[39m Use `spec()` to retrieve the full column specification for this data.\n",
      "\u001b[36mℹ\u001b[39m Specify the column types or set `show_col_types = FALSE` to quiet this message.\n"
     ]
    },
    {
     "name": "stdout",
     "output_type": "stream",
     "text": [
      "Rows: 37,802\n",
      "Columns: 3\n",
      "Groups: type [8]\n",
      "$ type          \u001b[3m\u001b[90m<chr>\u001b[39m\u001b[23m \"Offence Against a Person\", \"Offence Against a Person\", …\n",
      "$ year          \u001b[3m\u001b[90m<dbl>\u001b[39m\u001b[23m 2016, 2016, 2016, 2016, 2016, 2016, 2016, 2016, 2016, 20…\n",
      "$ neighbourhood \u001b[3m\u001b[90m<chr>\u001b[39m\u001b[23m \"Kitsilano\", \"Kitsilano\", \"Kitsilano\", \"Kitsilano\", \"Kit…\n"
     ]
    }
   ],
   "source": [
    "url = \"https://raw.githubusercontent.com/Irene-Berezin/econ326/refs/heads/main/crimedata_csv_AllNeighbourhoods_AllYears/crimedata_csv_AllNeighbourhoods_AllYears.csv\"\n",
    "intentional_crime_data <- read_csv(url)|>\n",
    "    as.tibble()|>\n",
    "    select(TYPE, YEAR, NEIGHBOURHOOD)|>\n",
    "    rename(type = TYPE, year = YEAR, neighbourhood = NEIGHBOURHOOD)|>\n",
    "    filter(!type %in% c(\"Vehicle Collision or Pedestrian Struck (with Fatality)\",\n",
    "    \"Vehicle Collision or Pedestrian Struck (with Injury)\",\n",
    "    \"Mischief\"))|>\n",
    "    filter(year == 2016)|>\n",
    "    group_by(type)|>\n",
    "    arrange(year)\n",
    "\n",
    "glimpse(intentional_crime_data)\n"
   ]
  },
  {
   "cell_type": "code",
   "execution_count": 52,
   "metadata": {
    "vscode": {
     "languageId": "r"
    }
   },
   "outputs": [
    {
     "name": "stderr",
     "output_type": "stream",
     "text": [
      "Reading data from temporary cache\n",
      "\n"
     ]
    },
    {
     "name": "stdout",
     "output_type": "stream",
     "text": [
      "Rows: 22\n",
      "Columns: 4\n",
      "$ name         \u001b[3m\u001b[90m<chr>\u001b[39m\u001b[23m \"Arbutus Ridge\", \"Grandview-Woodland\", \"Kensington-Cedar …\n",
      "$ geom         \u001b[3m\u001b[90m<chr>\u001b[39m\u001b[23m \"{\\\"coordinates\\\": [[[-123.15259552001952, 49.25722503568…\n",
      "$ geo_point_2d \u001b[3m\u001b[90m<chr>\u001b[39m\u001b[23m \"49.24680490982789, -123.16166923820482\", \"49.27643960930…\n",
      "$ geometry     \u001b[3m\u001b[90m<POLYGON [°]>\u001b[39m\u001b[23m POLYGON ((-123.1526 49.2572..., POLYGON ((-123.07…\n"
     ]
    }
   ],
   "source": [
    "local_area_boundary <- get_cov_data(dataset_id =\"local-area-boundary\")|>\n",
    "    glimpse()"
   ]
  },
  {
   "cell_type": "code",
   "execution_count": 53,
   "metadata": {
    "vscode": {
     "languageId": "r"
    }
   },
   "outputs": [
    {
     "name": "stdout",
     "output_type": "stream",
     "text": [
      "Rows: 22\n",
      "Columns: 4\n",
      "$ name         \u001b[3m\u001b[90m<chr>\u001b[39m\u001b[23m \"Arbutus Ridge\", \"Grandview-Woodland\", \"Kensington-Cedar …\n",
      "$ geom         \u001b[3m\u001b[90m<chr>\u001b[39m\u001b[23m \"{\\\"coordinates\\\": [[[-123.15259552001952, 49.25722503568…\n",
      "$ geo_point_2d \u001b[3m\u001b[90m<chr>\u001b[39m\u001b[23m \"49.24680490982789, -123.16166923820482\", \"49.27643960930…\n",
      "$ geometry     \u001b[3m\u001b[90m<POLYGON [°]>\u001b[39m\u001b[23m POLYGON ((-123.1526 49.2572..., POLYGON ((-123.07…\n"
     ]
    }
   ],
   "source": [
    "glimpse(local_area_boundary)  # This dataframe stores the geom"
   ]
  },
  {
   "cell_type": "code",
   "execution_count": 54,
   "metadata": {
    "vscode": {
     "languageId": "r"
    }
   },
   "outputs": [
    {
     "name": "stderr",
     "output_type": "stream",
     "text": [
      "Reading data from temporary cache\n",
      "\n"
     ]
    }
   ],
   "source": [
    "property_polygons <- get_cov_data(dataset_id=\"property-parcel-polygons\")"
   ]
  },
  {
   "cell_type": "code",
   "execution_count": 55,
   "metadata": {
    "vscode": {
     "languageId": "r"
    }
   },
   "outputs": [
    {
     "name": "stdout",
     "output_type": "stream",
     "text": [
      "Rows: 99,939\n",
      "Columns: 7\n",
      "$ civic_number \u001b[3m\u001b[90m<chr>\u001b[39m\u001b[23m \"4050\", \"4034\", \"4026\", \"4033\", \"4041\", \"4055\", \"5912\", \"…\n",
      "$ streetname   \u001b[3m\u001b[90m<chr>\u001b[39m\u001b[23m \"W 40TH AV\", \"W 40TH AV\", \"W 40TH AV\", \"W 41ST AV\", \"W 41…\n",
      "$ tax_coord    \u001b[3m\u001b[90m<chr>\u001b[39m\u001b[23m \"74703048\", \"74703062\", \"74703070\", \"75003063\", \"75003057…\n",
      "$ site_id      \u001b[3m\u001b[90m<chr>\u001b[39m\u001b[23m \"011037491\", \"009828028\", \"011037521\", \"011037971\", \"0110…\n",
      "$ geom         \u001b[3m\u001b[90m<chr>\u001b[39m\u001b[23m \"{\\\"coordinates\\\": [[[-123.1952054199714, 49.235263660093…\n",
      "$ geo_point_2d \u001b[3m\u001b[90m<chr>\u001b[39m\u001b[23m \"49.23541759077318, -123.19531316487794\", \"49.23541632098…\n",
      "$ geometry     \u001b[3m\u001b[90m<POLYGON [°]>\u001b[39m\u001b[23m POLYGON ((-123.1952 49.2352..., POLYGON ((-123.19…\n"
     ]
    }
   ],
   "source": [
    "glimpse(property_polygons)"
   ]
  },
  {
   "cell_type": "code",
   "execution_count": 56,
   "metadata": {
    "vscode": {
     "languageId": "r"
    }
   },
   "outputs": [],
   "source": [
    "census_geom <- st_geometry(census_data)\n",
    "census_centroids <- st_centroid(census_geom)"
   ]
  },
  {
   "cell_type": "code",
   "execution_count": null,
   "metadata": {
    "vscode": {
     "languageId": "r"
    }
   },
   "outputs": [
    {
     "name": "stdout",
     "output_type": "stream",
     "text": [
      "Rows: 204,278\n",
      "Columns: 8\n",
      "$ tax_coord          \u001b[3m\u001b[90m<chr>\u001b[39m\u001b[23m \"01963206\", \"01963229\", \"01963245\", \"01963265\", \"01…\n",
      "$ current_land_value \u001b[3m\u001b[90m<int>\u001b[39m\u001b[23m 11366000, 10623000, 10763000, 10763000, 12864000, 1…\n",
      "$ civic_number       \u001b[3m\u001b[90m<chr>\u001b[39m\u001b[23m \"4888\", \"4898\", \"4874\", \"4850\", \"4811\", \"4818\", \"16…\n",
      "$ streetname         \u001b[3m\u001b[90m<chr>\u001b[39m\u001b[23m \"BELMONT AV\", \"FANNIN AV\", \"FANNIN AV\", \"FANNIN AV\"…\n",
      "$ site_id            \u001b[3m\u001b[90m<chr>\u001b[39m\u001b[23m \"010862706\", \"010863915\", \"010863923\", \"010863931\",…\n",
      "$ geom               \u001b[3m\u001b[90m<chr>\u001b[39m\u001b[23m \"{\\\"coordinates\\\": [[[-123.22221178283283, 49.27466…\n",
      "$ geo_point_2d       \u001b[3m\u001b[90m<chr>\u001b[39m\u001b[23m \"49.27488185499064, -123.22286857659084\", \"49.27431…\n",
      "$ geometry           \u001b[3m\u001b[90m<POLYGON [°]>\u001b[39m\u001b[23m POLYGON ((-123.2222 49.2746..., POLYGON ((-…\n"
     ]
    }
   ],
   "source": [
    "land_price <- merge(tax_data, property_polygons, by = \"tax_coord\")|>\n",
    "    glimpse() \n",
    "\n",
    "# Merge two datasets so we have land price and their geometry information in one single dataframe"
   ]
  },
  {
   "cell_type": "code",
   "execution_count": null,
   "metadata": {
    "vscode": {
     "languageId": "r"
    }
   },
   "outputs": [],
   "source": []
  }
 ],
 "metadata": {
  "kernelspec": {
   "display_name": "R",
   "language": "R",
   "name": "ir"
  },
  "language_info": {
   "codemirror_mode": "r",
   "file_extension": ".r",
   "mimetype": "text/x-r-source",
   "name": "R",
   "pygments_lexer": "r",
   "version": "4.4.1"
  }
 },
 "nbformat": 4,
 "nbformat_minor": 2
}
