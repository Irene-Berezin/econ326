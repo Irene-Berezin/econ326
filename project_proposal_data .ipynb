{
 "cells": [
  {
   "cell_type": "code",
   "execution_count": 1,
   "metadata": {
    "vscode": {
     "languageId": "r"
    }
   },
   "outputs": [
    {
     "name": "stderr",
     "output_type": "stream",
     "text": [
      "Installing package into 'C:/Users/Kaiyan Zhang/AppData/Local/R/win-library/4.4'\n",
      "(as 'lib' is unspecified)\n",
      "\n"
     ]
    },
    {
     "name": "stdout",
     "output_type": "stream",
     "text": [
      "package 'VancouvR' successfully unpacked and MD5 sums checked\n",
      "\n",
      "The downloaded binary packages are in\n",
      "\tC:\\Users\\Kaiyan Zhang\\AppData\\Local\\Temp\\RtmpO4U159\\downloaded_packages\n"
     ]
    },
    {
     "name": "stderr",
     "output_type": "stream",
     "text": [
      "Installing package into 'C:/Users/Kaiyan Zhang/AppData/Local/R/win-library/4.4'\n",
      "(as 'lib' is unspecified)\n",
      "\n"
     ]
    },
    {
     "name": "stdout",
     "output_type": "stream",
     "text": [
      "package 'geojsonio' successfully unpacked and MD5 sums checked\n",
      "\n",
      "The downloaded binary packages are in\n",
      "\tC:\\Users\\Kaiyan Zhang\\AppData\\Local\\Temp\\RtmpO4U159\\downloaded_packages\n"
     ]
    },
    {
     "name": "stderr",
     "output_type": "stream",
     "text": [
      "Installing package into 'C:/Users/Kaiyan Zhang/AppData/Local/R/win-library/4.4'\n",
      "(as 'lib' is unspecified)\n",
      "\n"
     ]
    },
    {
     "name": "stdout",
     "output_type": "stream",
     "text": [
      "package 'sf' successfully unpacked and MD5 sums checked\n"
     ]
    },
    {
     "name": "stderr",
     "output_type": "stream",
     "text": [
      "Warning message:\n",
      "\"cannot remove prior installation of package 'sf'\"\n",
      "Warning message in file.copy(savedcopy, lib, recursive = TRUE):\n",
      "\"problem copying C:\\Users\\Kaiyan Zhang\\AppData\\Local\\R\\win-library\\4.4\\00LOCK\\sf\\libs\\x64\\sf.dll to C:\\Users\\Kaiyan Zhang\\AppData\\Local\\R\\win-library\\4.4\\sf\\libs\\x64\\sf.dll: Permission denied\"\n",
      "Warning message:\n",
      "\"restored 'sf'\"\n"
     ]
    },
    {
     "name": "stdout",
     "output_type": "stream",
     "text": [
      "\n",
      "The downloaded binary packages are in\n",
      "\tC:\\Users\\Kaiyan Zhang\\AppData\\Local\\Temp\\RtmpO4U159\\downloaded_packages\n"
     ]
    },
    {
     "name": "stderr",
     "output_type": "stream",
     "text": [
      "Registered S3 method overwritten by 'geojsonsf':\n",
      "  method        from   \n",
      "  print.geojson geojson\n",
      "\n",
      "\n",
      "Attaching package: 'geojsonio'\n",
      "\n",
      "\n",
      "The following object is masked from 'package:base':\n",
      "\n",
      "    pretty\n",
      "\n",
      "\n",
      "── \u001b[1mAttaching core tidyverse packages\u001b[22m ──────────────────────── tidyverse 2.0.0 ──\n",
      "\u001b[32m✔\u001b[39m \u001b[34mdplyr    \u001b[39m 1.1.4     \u001b[32m✔\u001b[39m \u001b[34mreadr    \u001b[39m 2.1.5\n",
      "\u001b[32m✔\u001b[39m \u001b[34mforcats  \u001b[39m 1.0.0     \u001b[32m✔\u001b[39m \u001b[34mstringr  \u001b[39m 1.5.1\n",
      "\u001b[32m✔\u001b[39m \u001b[34mggplot2  \u001b[39m 3.5.1     \u001b[32m✔\u001b[39m \u001b[34mtibble   \u001b[39m 3.2.1\n",
      "\u001b[32m✔\u001b[39m \u001b[34mlubridate\u001b[39m 1.9.3     \u001b[32m✔\u001b[39m \u001b[34mtidyr    \u001b[39m 1.3.1\n",
      "\u001b[32m✔\u001b[39m \u001b[34mpurrr    \u001b[39m 1.0.2     \n",
      "── \u001b[1mConflicts\u001b[22m ────────────────────────────────────────── tidyverse_conflicts() ──\n",
      "\u001b[31m✖\u001b[39m \u001b[34mdplyr\u001b[39m::\u001b[32mfilter()\u001b[39m masks \u001b[34mstats\u001b[39m::filter()\n",
      "\u001b[31m✖\u001b[39m \u001b[34mdplyr\u001b[39m::\u001b[32mlag()\u001b[39m    masks \u001b[34mstats\u001b[39m::lag()\n",
      "\u001b[36mℹ\u001b[39m Use the conflicted package (\u001b[3m\u001b[34m<http://conflicted.r-lib.org/>\u001b[39m\u001b[23m) to force all conflicts to become errors\n",
      "Linking to GEOS 3.12.1, GDAL 3.8.4, PROJ 9.3.1; sf_use_s2() is TRUE\n",
      "\n"
     ]
    }
   ],
   "source": [
    "install.packages(\"VancouvR\")\n",
    "install.packages(\"geojsonio\")\n",
    "install.packages(\"sf\")\n",
    "\n",
    "library(geojsonio)\n",
    "library(tidyverse)\n",
    "library(dplyr)\n",
    "library(\"knitr\")\n",
    "library(\"sf\")"
   ]
  },
  {
   "cell_type": "code",
   "execution_count": 2,
   "metadata": {
    "vscode": {
     "languageId": "r"
    }
   },
   "outputs": [
    {
     "name": "stderr",
     "output_type": "stream",
     "text": [
      "Installing package into 'C:/Users/Kaiyan Zhang/AppData/Local/R/win-library/4.4'\n",
      "(as 'lib' is unspecified)\n",
      "\n"
     ]
    },
    {
     "name": "stdout",
     "output_type": "stream",
     "text": [
      "package 'cancensus' successfully unpacked and MD5 sums checked\n",
      "\n",
      "The downloaded binary packages are in\n",
      "\tC:\\Users\\Kaiyan Zhang\\AppData\\Local\\Temp\\RtmpO4U159\\downloaded_packages\n"
     ]
    },
    {
     "name": "stderr",
     "output_type": "stream",
     "text": [
      "Census data is currently stored temporarily.\n",
      "\n",
      " In order to speed up performance, reduce API quota usage, and reduce unnecessary network calls, please set up a persistent cache directory via `set_cancensus_cache_path('<local cache path>', install = TRUE)`.\n",
      " This will add your cache directory as environment varianble to your .Renviron to be used across sessions and projects.\n",
      "\n",
      "\n",
      "\n"
     ]
    }
   ],
   "source": [
    "install.packages(\"cancensus\")\n",
    "library(cancensus)\n",
    "options(cancensus.api_key='CensusMapper_f228791d9506a7a747ece66db73b95be')\n",
    "options(cancensus.cache_path = \"/cache\")"
   ]
  },
  {
   "cell_type": "code",
   "execution_count": 3,
   "metadata": {
    "vscode": {
     "languageId": "r"
    }
   },
   "outputs": [
    {
     "name": "stderr",
     "output_type": "stream",
     "text": [
      "Reading vectors data from local cache.\n",
      "\n",
      "Reading geo data from local cache.\n",
      "\n"
     ]
    }
   ],
   "source": [
    "census_data <- get_census(dataset='CA16', regions=list(CT=\"9330044.00\"), vectors=c(\"v_CA16_401\",\"v_CA16_404\",\"v_CA16_1\",\"v_CA16_2426\",\"v_CA16_2510\",\"v_CA16_2525\",\"v_CA16_5096\",\"v_CA16_5147\"), labels=\"detailed\", geo_format='sf', level='DA')\n",
    "# filter('`Region Name`' == 'Vancouver') # Installing Census data api but failed to select only Vancouver region"
   ]
  },
  {
   "cell_type": "code",
   "execution_count": 4,
   "metadata": {
    "vscode": {
     "languageId": "r"
    }
   },
   "outputs": [
    {
     "data": {
      "text/html": [
       "<style>\n",
       ".list-inline {list-style: none; margin:0; padding: 0}\n",
       ".list-inline>li {display: inline-block}\n",
       ".list-inline>li:not(:last-child)::after {content: \"\\00b7\"; padding: 0 .5ex}\n",
       "</style>\n",
       "<ol class=list-inline><li>'Shape Area'</li><li>'Type'</li><li>'Households'</li><li>'CD_UID'</li><li>'Dwellings'</li><li>'GeoUID'</li><li>'Population'</li><li>'CSD_UID'</li><li>'CT_UID'</li><li>'CMA_UID'</li><li>'Region Name'</li><li>'Area (sq km)'</li><li>'v_CA16_401: Population, 2016'</li><li>'v_CA16_404: Total private dwellings'</li><li>'v_CA16_1: Age Stats'</li><li>'v_CA16_2426: Total - Household after-tax income groups in 2015 for private households - 100% data'</li><li>'v_CA16_2510: Total - Low-income status in 2015 for the population in private households to whom low-income concepts are applicable - 100% data'</li><li>'v_CA16_2525: In low income based on the Low-income measure, after tax (LIM-AT)'</li><li>'v_CA16_5096: Total - Highest certificate, diploma or degree for the population aged 25 to 64 years in private households - 25% sample data'</li><li>'v_CA16_5147: Education'</li><li>'geometry'</li></ol>\n"
      ],
      "text/latex": [
       "\\begin{enumerate*}\n",
       "\\item 'Shape Area'\n",
       "\\item 'Type'\n",
       "\\item 'Households'\n",
       "\\item 'CD\\_UID'\n",
       "\\item 'Dwellings'\n",
       "\\item 'GeoUID'\n",
       "\\item 'Population'\n",
       "\\item 'CSD\\_UID'\n",
       "\\item 'CT\\_UID'\n",
       "\\item 'CMA\\_UID'\n",
       "\\item 'Region Name'\n",
       "\\item 'Area (sq km)'\n",
       "\\item 'v\\_CA16\\_401: Population, 2016'\n",
       "\\item 'v\\_CA16\\_404: Total private dwellings'\n",
       "\\item 'v\\_CA16\\_1: Age Stats'\n",
       "\\item 'v\\_CA16\\_2426: Total - Household after-tax income groups in 2015 for private households - 100\\% data'\n",
       "\\item 'v\\_CA16\\_2510: Total - Low-income status in 2015 for the population in private households to whom low-income concepts are applicable - 100\\% data'\n",
       "\\item 'v\\_CA16\\_2525: In low income based on the Low-income measure, after tax (LIM-AT)'\n",
       "\\item 'v\\_CA16\\_5096: Total - Highest certificate, diploma or degree for the population aged 25 to 64 years in private households - 25\\% sample data'\n",
       "\\item 'v\\_CA16\\_5147: Education'\n",
       "\\item 'geometry'\n",
       "\\end{enumerate*}\n"
      ],
      "text/markdown": [
       "1. 'Shape Area'\n",
       "2. 'Type'\n",
       "3. 'Households'\n",
       "4. 'CD_UID'\n",
       "5. 'Dwellings'\n",
       "6. 'GeoUID'\n",
       "7. 'Population'\n",
       "8. 'CSD_UID'\n",
       "9. 'CT_UID'\n",
       "10. 'CMA_UID'\n",
       "11. 'Region Name'\n",
       "12. 'Area (sq km)'\n",
       "13. 'v_CA16_401: Population, 2016'\n",
       "14. 'v_CA16_404: Total private dwellings'\n",
       "15. 'v_CA16_1: Age Stats'\n",
       "16. 'v_CA16_2426: Total - Household after-tax income groups in 2015 for private households - 100% data'\n",
       "17. 'v_CA16_2510: Total - Low-income status in 2015 for the population in private households to whom low-income concepts are applicable - 100% data'\n",
       "18. 'v_CA16_2525: In low income based on the Low-income measure, after tax (LIM-AT)'\n",
       "19. 'v_CA16_5096: Total - Highest certificate, diploma or degree for the population aged 25 to 64 years in private households - 25% sample data'\n",
       "20. 'v_CA16_5147: Education'\n",
       "21. 'geometry'\n",
       "\n",
       "\n"
      ],
      "text/plain": [
       " [1] \"Shape Area\"                                                                                                                                    \n",
       " [2] \"Type\"                                                                                                                                          \n",
       " [3] \"Households\"                                                                                                                                    \n",
       " [4] \"CD_UID\"                                                                                                                                        \n",
       " [5] \"Dwellings\"                                                                                                                                     \n",
       " [6] \"GeoUID\"                                                                                                                                        \n",
       " [7] \"Population\"                                                                                                                                    \n",
       " [8] \"CSD_UID\"                                                                                                                                       \n",
       " [9] \"CT_UID\"                                                                                                                                        \n",
       "[10] \"CMA_UID\"                                                                                                                                       \n",
       "[11] \"Region Name\"                                                                                                                                   \n",
       "[12] \"Area (sq km)\"                                                                                                                                  \n",
       "[13] \"v_CA16_401: Population, 2016\"                                                                                                                  \n",
       "[14] \"v_CA16_404: Total private dwellings\"                                                                                                           \n",
       "[15] \"v_CA16_1: Age Stats\"                                                                                                                           \n",
       "[16] \"v_CA16_2426: Total - Household after-tax income groups in 2015 for private households - 100% data\"                                             \n",
       "[17] \"v_CA16_2510: Total - Low-income status in 2015 for the population in private households to whom low-income concepts are applicable - 100% data\"\n",
       "[18] \"v_CA16_2525: In low income based on the Low-income measure, after tax (LIM-AT)\"                                                                \n",
       "[19] \"v_CA16_5096: Total - Highest certificate, diploma or degree for the population aged 25 to 64 years in private households - 25% sample data\"    \n",
       "[20] \"v_CA16_5147: Education\"                                                                                                                        \n",
       "[21] \"geometry\"                                                                                                                                      "
      ]
     },
     "metadata": {},
     "output_type": "display_data"
    }
   ],
   "source": [
    "colnames(census_data)"
   ]
  },
  {
   "cell_type": "code",
   "execution_count": 5,
   "metadata": {
    "vscode": {
     "languageId": "r"
    }
   },
   "outputs": [
    {
     "name": "stdout",
     "output_type": "stream",
     "text": [
      "Rows: 10\n",
      "Columns: 21\n",
      "$ `Shape Area`                                                                                                                                     \u001b[3m\u001b[90m<dbl>\u001b[39m\u001b[23m …\n",
      "$ Type                                                                                                                                             \u001b[3m\u001b[90m<fct>\u001b[39m\u001b[23m …\n",
      "$ Households                                                                                                                                       \u001b[3m\u001b[90m<int>\u001b[39m\u001b[23m …\n",
      "$ CD_UID                                                                                                                                           \u001b[3m\u001b[90m<chr>\u001b[39m\u001b[23m …\n",
      "$ Dwellings                                                                                                                                        \u001b[3m\u001b[90m<int>\u001b[39m\u001b[23m …\n",
      "$ GeoUID                                                                                                                                           \u001b[3m\u001b[90m<chr>\u001b[39m\u001b[23m …\n",
      "$ Population                                                                                                                                       \u001b[3m\u001b[90m<int>\u001b[39m\u001b[23m …\n",
      "$ CSD_UID                                                                                                                                          \u001b[3m\u001b[90m<chr>\u001b[39m\u001b[23m …\n",
      "$ CT_UID                                                                                                                                           \u001b[3m\u001b[90m<chr>\u001b[39m\u001b[23m …\n",
      "$ CMA_UID                                                                                                                                          \u001b[3m\u001b[90m<chr>\u001b[39m\u001b[23m …\n",
      "$ `Region Name`                                                                                                                                    \u001b[3m\u001b[90m<fct>\u001b[39m\u001b[23m …\n",
      "$ `Area (sq km)`                                                                                                                                   \u001b[3m\u001b[90m<dbl>\u001b[39m\u001b[23m …\n",
      "$ `v_CA16_401: Population, 2016`                                                                                                                   \u001b[3m\u001b[90m<dbl>\u001b[39m\u001b[23m …\n",
      "$ `v_CA16_404: Total private dwellings`                                                                                                            \u001b[3m\u001b[90m<dbl>\u001b[39m\u001b[23m …\n",
      "$ `v_CA16_1: Age Stats`                                                                                                                            \u001b[3m\u001b[90m<dbl>\u001b[39m\u001b[23m …\n",
      "$ `v_CA16_2426: Total - Household after-tax income groups in 2015 for private households - 100% data`                                              \u001b[3m\u001b[90m<dbl>\u001b[39m\u001b[23m …\n",
      "$ `v_CA16_2510: Total - Low-income status in 2015 for the population in private households to whom low-income concepts are applicable - 100% data` \u001b[3m\u001b[90m<dbl>\u001b[39m\u001b[23m …\n",
      "$ `v_CA16_2525: In low income based on the Low-income measure, after tax (LIM-AT)`                                                                 \u001b[3m\u001b[90m<dbl>\u001b[39m\u001b[23m …\n",
      "$ `v_CA16_5096: Total - Highest certificate, diploma or degree for the population aged 25 to 64 years in private households - 25% sample data`     \u001b[3m\u001b[90m<dbl>\u001b[39m\u001b[23m …\n",
      "$ `v_CA16_5147: Education`                                                                                                                         \u001b[3m\u001b[90m<dbl>\u001b[39m\u001b[23m …\n",
      "$ geometry                                                                                                                                         \u001b[3m\u001b[90m<MULTIPOLYGON [°]>\u001b[39m\u001b[23m …\n"
     ]
    }
   ],
   "source": [
    "glimpse(census_data)"
   ]
  },
  {
   "cell_type": "code",
   "execution_count": 6,
   "metadata": {
    "vscode": {
     "languageId": "r"
    }
   },
   "outputs": [
    {
     "data": {
      "text/html": [
       "<table class=\"dataframe\">\n",
       "<caption>A tibble: 4 × 2</caption>\n",
       "<thead>\n",
       "\t<tr><th scope=col>dataset_id</th><th scope=col>title</th></tr>\n",
       "\t<tr><th scope=col>&lt;chr&gt;</th><th scope=col>&lt;chr&gt;</th></tr>\n",
       "</thead>\n",
       "<tbody>\n",
       "\t<tr><td>property-tax-report-2016-2019</td><td>Property tax report 2016-2019</td></tr>\n",
       "\t<tr><td>property-tax-report-2011-2015</td><td>Property tax report 2011-2015</td></tr>\n",
       "\t<tr><td>property-tax-report-2006-2010</td><td>Property tax report 2006-2010</td></tr>\n",
       "\t<tr><td>property-tax-report          </td><td>Property tax report          </td></tr>\n",
       "</tbody>\n",
       "</table>\n"
      ],
      "text/latex": [
       "A tibble: 4 × 2\n",
       "\\begin{tabular}{ll}\n",
       " dataset\\_id & title\\\\\n",
       " <chr> & <chr>\\\\\n",
       "\\hline\n",
       "\t property-tax-report-2016-2019 & Property tax report 2016-2019\\\\\n",
       "\t property-tax-report-2011-2015 & Property tax report 2011-2015\\\\\n",
       "\t property-tax-report-2006-2010 & Property tax report 2006-2010\\\\\n",
       "\t property-tax-report           & Property tax report          \\\\\n",
       "\\end{tabular}\n"
      ],
      "text/markdown": [
       "\n",
       "A tibble: 4 × 2\n",
       "\n",
       "| dataset_id &lt;chr&gt; | title &lt;chr&gt; |\n",
       "|---|---|\n",
       "| property-tax-report-2016-2019 | Property tax report 2016-2019 |\n",
       "| property-tax-report-2011-2015 | Property tax report 2011-2015 |\n",
       "| property-tax-report-2006-2010 | Property tax report 2006-2010 |\n",
       "| property-tax-report           | Property tax report           |\n",
       "\n"
      ],
      "text/plain": [
       "  dataset_id                    title                        \n",
       "1 property-tax-report-2016-2019 Property tax report 2016-2019\n",
       "2 property-tax-report-2011-2015 Property tax report 2011-2015\n",
       "3 property-tax-report-2006-2010 Property tax report 2006-2010\n",
       "4 property-tax-report           Property tax report          "
      ]
     },
     "metadata": {},
     "output_type": "display_data"
    }
   ],
   "source": [
    "library(VancouvR)\n",
    "search_cov_datasets(\"property-tax\") %>%\n",
    "  select(dataset_id,title)"
   ]
  },
  {
   "cell_type": "code",
   "execution_count": 7,
   "metadata": {
    "vscode": {
     "languageId": "r"
    }
   },
   "outputs": [
    {
     "name": "stderr",
     "output_type": "stream",
     "text": [
      "Warning message:\n",
      "\"\u001b[1m\u001b[22m`as.tibble()` was deprecated in tibble 2.0.0.\n",
      "\u001b[36mℹ\u001b[39m Please use `as_tibble()` instead.\n",
      "\u001b[36mℹ\u001b[39m The signature and semantics have changed, see `?as_tibble`.\"\n",
      "Downloading data from CoV Open Data portal\n",
      "\n",
      "Warning message:\n",
      "\"\u001b[1m\u001b[22mThere was 1 warning in `mutate()`.\n",
      "\u001b[1m\u001b[22m\u001b[36mℹ\u001b[39m In argument: `current_land_value =\n",
      "  .Primitive(\"as.integer\")(current_land_value)`.\n",
      "Caused by warning:\n",
      "\u001b[33m!\u001b[39m NAs introduced by coercion to integer range\"\n"
     ]
    },
    {
     "name": "stdout",
     "output_type": "stream",
     "text": [
      "Rows: 199,924\n",
      "Columns: 2\n",
      "$ current_land_value \u001b[3m\u001b[90m<int>\u001b[39m\u001b[23m 126000, 1100000, 1028000, 825000, 922000, 878000, 1…\n",
      "$ tax_coord          \u001b[3m\u001b[90m<chr>\u001b[39m\u001b[23m \"58825549\", \"60125529\", \"61223603\", \"63025324\", \"59…\n"
     ]
    }
   ],
   "source": [
    "tax_data <- get_cov_data(dataset_id = \"property-tax-report-2016-2019\",\n",
    "                         where=\"tax_assessment_year='2016'\",\n",
    "                         select = \"current_land_value, land_coordinate as tax_coord\")|>\n",
    "    as.tibble()\n",
    "glimpse(tax_data) # read in the data of land value, and changed it coordname to tax coord, so it matched the property polygon data"
   ]
  },
  {
   "cell_type": "code",
   "execution_count": 8,
   "metadata": {
    "vscode": {
     "languageId": "r"
    }
   },
   "outputs": [
    {
     "data": {
      "text/html": [
       "<style>\n",
       ".list-inline {list-style: none; margin:0; padding: 0}\n",
       ".list-inline>li {display: inline-block}\n",
       ".list-inline>li:not(:last-child)::after {content: \"\\00b7\"; padding: 0 .5ex}\n",
       "</style>\n",
       "<ol class=list-inline><li>'current_land_value'</li><li>'tax_coord'</li></ol>\n"
      ],
      "text/latex": [
       "\\begin{enumerate*}\n",
       "\\item 'current\\_land\\_value'\n",
       "\\item 'tax\\_coord'\n",
       "\\end{enumerate*}\n"
      ],
      "text/markdown": [
       "1. 'current_land_value'\n",
       "2. 'tax_coord'\n",
       "\n",
       "\n"
      ],
      "text/plain": [
       "[1] \"current_land_value\" \"tax_coord\"         "
      ]
     },
     "metadata": {},
     "output_type": "display_data"
    }
   ],
   "source": [
    "colnames(tax_data)"
   ]
  },
  {
   "cell_type": "code",
   "execution_count": 9,
   "metadata": {
    "vscode": {
     "languageId": "r"
    }
   },
   "outputs": [
    {
     "name": "stderr",
     "output_type": "stream",
     "text": [
      "\u001b[1mRows: \u001b[22m\u001b[34m895823\u001b[39m \u001b[1mColumns: \u001b[22m\u001b[34m10\u001b[39m\n",
      "\u001b[36m──\u001b[39m \u001b[1mColumn specification\u001b[22m \u001b[36m────────────────────────────────────────────────────────\u001b[39m\n",
      "\u001b[1mDelimiter:\u001b[22m \",\"\n",
      "\u001b[31mchr\u001b[39m (3): TYPE, HUNDRED_BLOCK, NEIGHBOURHOOD\n",
      "\u001b[32mdbl\u001b[39m (7): YEAR, MONTH, DAY, HOUR, MINUTE, X, Y\n",
      "\n",
      "\u001b[36mℹ\u001b[39m Use `spec()` to retrieve the full column specification for this data.\n",
      "\u001b[36mℹ\u001b[39m Specify the column types or set `show_col_types = FALSE` to quiet this message.\n"
     ]
    },
    {
     "name": "stdout",
     "output_type": "stream",
     "text": [
      "Rows: 37,802\n",
      "Columns: 3\n",
      "Groups: type [8]\n",
      "$ type          \u001b[3m\u001b[90m<chr>\u001b[39m\u001b[23m \"Offence Against a Person\", \"Offence Against a Person\", …\n",
      "$ year          \u001b[3m\u001b[90m<dbl>\u001b[39m\u001b[23m 2016, 2016, 2016, 2016, 2016, 2016, 2016, 2016, 2016, 20…\n",
      "$ neighbourhood \u001b[3m\u001b[90m<chr>\u001b[39m\u001b[23m \"Kitsilano\", \"Kitsilano\", \"Kitsilano\", \"Kitsilano\", \"Kit…\n"
     ]
    }
   ],
   "source": [
    "url = \"https://raw.githubusercontent.com/Irene-Berezin/econ326/refs/heads/main/crimedata_csv_AllNeighbourhoods_AllYears/crimedata_csv_AllNeighbourhoods_AllYears.csv\"\n",
    "intentional_crime_data <- read_csv(url)|>\n",
    "    as.tibble()|>\n",
    "    select(TYPE, YEAR, NEIGHBOURHOOD)|>\n",
    "    rename(type = TYPE, year = YEAR, neighbourhood = NEIGHBOURHOOD)|>\n",
    "    filter(!type %in% c(\"Vehicle Collision or Pedestrian Struck (with Fatality)\",\n",
    "    \"Vehicle Collision or Pedestrian Struck (with Injury)\",\n",
    "    \"Mischief\"))|>\n",
    "    filter(year == 2016)|>\n",
    "    group_by(type)|>\n",
    "    arrange(year)\n",
    "\n",
    "glimpse(intentional_crime_data)\n"
   ]
  },
  {
   "cell_type": "code",
   "execution_count": 10,
   "metadata": {
    "vscode": {
     "languageId": "r"
    }
   },
   "outputs": [
    {
     "name": "stderr",
     "output_type": "stream",
     "text": [
      "Downloading data from CoV Open Data portal\n",
      "\n"
     ]
    },
    {
     "name": "stdout",
     "output_type": "stream",
     "text": [
      "Rows: 22\n",
      "Columns: 4\n",
      "$ name         \u001b[3m\u001b[90m<chr>\u001b[39m\u001b[23m \"Downtown\", \"Hastings-Sunrise\", \"Kerrisdale\", \"Marpole\", …\n",
      "$ geom         \u001b[3m\u001b[90m<chr>\u001b[39m\u001b[23m \"{\\\"coordinates\\\": [[[-123.11226654052733, 49.29016494657…\n",
      "$ geo_point_2d \u001b[3m\u001b[90m<chr>\u001b[39m\u001b[23m \"49.28074707013743, -123.11656700827415\", \"49.27793405209…\n",
      "$ geometry     \u001b[3m\u001b[90m<POLYGON [°]>\u001b[39m\u001b[23m POLYGON ((-123.1123 49.2901..., POLYGON ((-123.05…\n"
     ]
    }
   ],
   "source": [
    "local_area_boundary <- get_cov_data(dataset_id =\"local-area-boundary\")|>\n",
    "    glimpse()"
   ]
  },
  {
   "cell_type": "code",
   "execution_count": 11,
   "metadata": {
    "vscode": {
     "languageId": "r"
    }
   },
   "outputs": [
    {
     "name": "stdout",
     "output_type": "stream",
     "text": [
      "Rows: 22\n",
      "Columns: 4\n",
      "$ name         \u001b[3m\u001b[90m<chr>\u001b[39m\u001b[23m \"Downtown\", \"Hastings-Sunrise\", \"Kerrisdale\", \"Marpole\", …\n",
      "$ geom         \u001b[3m\u001b[90m<chr>\u001b[39m\u001b[23m \"{\\\"coordinates\\\": [[[-123.11226654052733, 49.29016494657…\n",
      "$ geo_point_2d \u001b[3m\u001b[90m<chr>\u001b[39m\u001b[23m \"49.28074707013743, -123.11656700827415\", \"49.27793405209…\n",
      "$ geometry     \u001b[3m\u001b[90m<POLYGON [°]>\u001b[39m\u001b[23m POLYGON ((-123.1123 49.2901..., POLYGON ((-123.05…\n"
     ]
    }
   ],
   "source": [
    "glimpse(local_area_boundary)  # This dataframe stores the geom"
   ]
  },
  {
   "cell_type": "code",
   "execution_count": 12,
   "metadata": {
    "vscode": {
     "languageId": "r"
    }
   },
   "outputs": [
    {
     "name": "stderr",
     "output_type": "stream",
     "text": [
      "Downloading data from CoV Open Data portal\n",
      "\n"
     ]
    }
   ],
   "source": [
    "property_polygons <- get_cov_data(dataset_id=\"property-parcel-polygons\")"
   ]
  },
  {
   "cell_type": "code",
   "execution_count": 13,
   "metadata": {
    "vscode": {
     "languageId": "r"
    }
   },
   "outputs": [
    {
     "name": "stdout",
     "output_type": "stream",
     "text": [
      "Rows: 99,939\n",
      "Columns: 7\n",
      "$ civic_number \u001b[3m\u001b[90m<chr>\u001b[39m\u001b[23m \"3945\", \"3955\", \"3969\", \"1399\", \"1373\", \"1351\", \"1339\", \"…\n",
      "$ streetname   \u001b[3m\u001b[90m<chr>\u001b[39m\u001b[23m \"WELWYN ST\", \"WELWYN ST\", \"WELWYN ST\", \"E 19TH AV\", \"E 19…\n",
      "$ tax_coord    \u001b[3m\u001b[90m<chr>\u001b[39m\u001b[23m \"23970111\", \"23970115\", \"23970119\", \"69422893\", \"69422873…\n",
      "$ site_id      \u001b[3m\u001b[90m<chr>\u001b[39m\u001b[23m \"014527723\", \"014527740\", \"014527782\", \"007245190\", \"0146…\n",
      "$ geom         \u001b[3m\u001b[90m<chr>\u001b[39m\u001b[23m \"{\\\"coordinates\\\": [[[-123.07000584813854, 49.24987403564…\n",
      "$ geo_point_2d \u001b[3m\u001b[90m<chr>\u001b[39m\u001b[23m \"49.249921869270814, -123.0702771178116\", \"49.24983424082…\n",
      "$ geometry     \u001b[3m\u001b[90m<POLYGON [°]>\u001b[39m\u001b[23m POLYGON ((-123.07 49.24987,..., POLYGON ((-123.07…\n"
     ]
    }
   ],
   "source": [
    "glimpse(property_polygons)"
   ]
  },
  {
   "cell_type": "code",
   "execution_count": 14,
   "metadata": {
    "vscode": {
     "languageId": "r"
    }
   },
   "outputs": [],
   "source": [
    "census_geom <- st_geometry(census_data)\n",
    "census_centroids <- st_centroid(census_geom) # The move in the project lab, might be getting the "
   ]
  },
  {
   "cell_type": "code",
   "execution_count": 15,
   "metadata": {
    "vscode": {
     "languageId": "r"
    }
   },
   "outputs": [
    {
     "name": "stdout",
     "output_type": "stream",
     "text": [
      "Rows: 204,278\n",
      "Columns: 8\n",
      "$ tax_coord          \u001b[3m\u001b[90m<chr>\u001b[39m\u001b[23m \"01963206\", \"01963229\", \"01963245\", \"01963265\", \"01…\n",
      "$ current_land_value \u001b[3m\u001b[90m<int>\u001b[39m\u001b[23m 11366000, 10623000, 10763000, 10763000, 12864000, 1…\n",
      "$ civic_number       \u001b[3m\u001b[90m<chr>\u001b[39m\u001b[23m \"4888\", \"4898\", \"4874\", \"4850\", \"4811\", \"4818\", \"16…\n",
      "$ streetname         \u001b[3m\u001b[90m<chr>\u001b[39m\u001b[23m \"BELMONT AV\", \"FANNIN AV\", \"FANNIN AV\", \"FANNIN AV\"…\n",
      "$ site_id            \u001b[3m\u001b[90m<chr>\u001b[39m\u001b[23m \"010862706\", \"010863915\", \"010863923\", \"010863931\",…\n",
      "$ geom               \u001b[3m\u001b[90m<chr>\u001b[39m\u001b[23m \"{\\\"coordinates\\\": [[[-123.22221178283283, 49.27466…\n",
      "$ geo_point_2d       \u001b[3m\u001b[90m<chr>\u001b[39m\u001b[23m \"49.27488185499064, -123.22286857659084\", \"49.27431…\n",
      "$ geometry           \u001b[3m\u001b[90m<POLYGON [°]>\u001b[39m\u001b[23m POLYGON ((-123.2222 49.2746..., POLYGON ((-…\n"
     ]
    }
   ],
   "source": [
    "land_price <- merge(tax_data, property_polygons, by = \"tax_coord\")|>\n",
    "    glimpse() \n",
    "\n",
    "# Merge two datasets so we have land price and their geometry information in one single dataframe"
   ]
  },
  {
   "cell_type": "code",
   "execution_count": null,
   "metadata": {
    "vscode": {
     "languageId": "r"
    }
   },
   "outputs": [],
   "source": []
  }
 ],
 "metadata": {
  "kernelspec": {
   "display_name": "R",
   "language": "R",
   "name": "ir"
  },
  "language_info": {
   "codemirror_mode": "r",
   "file_extension": ".r",
   "mimetype": "text/x-r-source",
   "name": "R",
   "pygments_lexer": "r",
   "version": "4.4.1"
  }
 },
 "nbformat": 4,
 "nbformat_minor": 2
}
