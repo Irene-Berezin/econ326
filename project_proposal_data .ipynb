{
 "cells": [
  {
   "cell_type": "code",
   "execution_count": 1,
   "metadata": {
    "vscode": {
     "languageId": "r"
    }
   },
   "outputs": [
    {
     "name": "stderr",
     "output_type": "stream",
     "text": [
      "Installing package into 'C:/Users/Kaiyan Zhang/AppData/Local/R/win-library/4.4'\n",
      "(as 'lib' is unspecified)\n",
      "\n"
     ]
    },
    {
     "name": "stdout",
     "output_type": "stream",
     "text": [
      "package 'VancouvR' successfully unpacked and MD5 sums checked\n",
      "\n",
      "The downloaded binary packages are in\n",
      "\tC:\\Users\\Kaiyan Zhang\\AppData\\Local\\Temp\\RtmpQhOIyu\\downloaded_packages\n"
     ]
    },
    {
     "name": "stderr",
     "output_type": "stream",
     "text": [
      "Installing package into 'C:/Users/Kaiyan Zhang/AppData/Local/R/win-library/4.4'\n",
      "(as 'lib' is unspecified)\n",
      "\n"
     ]
    },
    {
     "name": "stdout",
     "output_type": "stream",
     "text": [
      "package 'geojsonio' successfully unpacked and MD5 sums checked\n",
      "\n",
      "The downloaded binary packages are in\n",
      "\tC:\\Users\\Kaiyan Zhang\\AppData\\Local\\Temp\\RtmpQhOIyu\\downloaded_packages\n"
     ]
    },
    {
     "name": "stderr",
     "output_type": "stream",
     "text": [
      "Registered S3 method overwritten by 'geojsonsf':\n",
      "  method        from   \n",
      "  print.geojson geojson\n",
      "\n",
      "\n",
      "Attaching package: 'geojsonio'\n",
      "\n",
      "\n",
      "The following object is masked from 'package:base':\n",
      "\n",
      "    pretty\n",
      "\n",
      "\n",
      "── \u001b[1mAttaching core tidyverse packages\u001b[22m ──────────────────────── tidyverse 2.0.0 ──\n",
      "\u001b[32m✔\u001b[39m \u001b[34mdplyr    \u001b[39m 1.1.4     \u001b[32m✔\u001b[39m \u001b[34mreadr    \u001b[39m 2.1.5\n",
      "\u001b[32m✔\u001b[39m \u001b[34mforcats  \u001b[39m 1.0.0     \u001b[32m✔\u001b[39m \u001b[34mstringr  \u001b[39m 1.5.1\n",
      "\u001b[32m✔\u001b[39m \u001b[34mggplot2  \u001b[39m 3.5.1     \u001b[32m✔\u001b[39m \u001b[34mtibble   \u001b[39m 3.2.1\n",
      "\u001b[32m✔\u001b[39m \u001b[34mlubridate\u001b[39m 1.9.3     \u001b[32m✔\u001b[39m \u001b[34mtidyr    \u001b[39m 1.3.1\n",
      "\u001b[32m✔\u001b[39m \u001b[34mpurrr    \u001b[39m 1.0.2     \n",
      "── \u001b[1mConflicts\u001b[22m ────────────────────────────────────────── tidyverse_conflicts() ──\n",
      "\u001b[31m✖\u001b[39m \u001b[34mdplyr\u001b[39m::\u001b[32mfilter()\u001b[39m masks \u001b[34mstats\u001b[39m::filter()\n",
      "\u001b[31m✖\u001b[39m \u001b[34mdplyr\u001b[39m::\u001b[32mlag()\u001b[39m    masks \u001b[34mstats\u001b[39m::lag()\n",
      "\u001b[36mℹ\u001b[39m Use the conflicted package (\u001b[3m\u001b[34m<http://conflicted.r-lib.org/>\u001b[39m\u001b[23m) to force all conflicts to become errors\n"
     ]
    }
   ],
   "source": [
    "install.packages(\"VancouvR\")\n",
    "install.packages(\"geojsonio\")\n",
    "\n",
    "library(geojsonio)\n",
    "library(tidyverse)\n",
    "library(dplyr)\n",
    "library(\"knitr\")"
   ]
  },
  {
   "cell_type": "code",
   "execution_count": 2,
   "metadata": {
    "vscode": {
     "languageId": "r"
    }
   },
   "outputs": [
    {
     "name": "stderr",
     "output_type": "stream",
     "text": [
      "Installing package into 'C:/Users/Kaiyan Zhang/AppData/Local/R/win-library/4.4'\n",
      "(as 'lib' is unspecified)\n",
      "\n"
     ]
    },
    {
     "name": "stdout",
     "output_type": "stream",
     "text": [
      "package 'cancensus' successfully unpacked and MD5 sums checked\n",
      "\n",
      "The downloaded binary packages are in\n",
      "\tC:\\Users\\Kaiyan Zhang\\AppData\\Local\\Temp\\RtmpQhOIyu\\downloaded_packages\n"
     ]
    },
    {
     "name": "stderr",
     "output_type": "stream",
     "text": [
      "Census data is currently stored temporarily.\n",
      "\n",
      " In order to speed up performance, reduce API quota usage, and reduce unnecessary network calls, please set up a persistent cache directory via `set_cancensus_cache_path('<local cache path>', install = TRUE)`.\n",
      " This will add your cache directory as environment varianble to your .Renviron to be used across sessions and projects.\n",
      "\n",
      "\n",
      "\n"
     ]
    }
   ],
   "source": [
    "install.packages(\"cancensus\")\n",
    "library(cancensus)\n",
    "options(cancensus.api_key='CensusMapper_f228791d9506a7a747ece66db73b95be')\n",
    "options(cancensus.cache_path = 'C:\\\\Users\\\\Kaiyan Zhang\\\\Desktop\\\\econ326')"
   ]
  },
  {
   "cell_type": "code",
   "execution_count": 3,
   "metadata": {
    "vscode": {
     "languageId": "r"
    }
   },
   "outputs": [
    {
     "name": "stderr",
     "output_type": "stream",
     "text": [
      "Warning message:\n",
      "\"\u001b[1m\u001b[22m`as.tibble()` was deprecated in tibble 2.0.0.\n",
      "\u001b[36mℹ\u001b[39m Please use `as_tibble()` instead.\n",
      "\u001b[36mℹ\u001b[39m The signature and semantics have changed, see `?as_tibble`.\"\n",
      "Reading vectors data from local cache.\n",
      "\n",
      "Reading geo data from local cache.\n",
      "\n"
     ]
    }
   ],
   "source": [
    "census_data <- get_census(dataset='CA16', \n",
    "regions=list(CMA=\"59933\",CSD=\"5915022\"), \n",
    "vectors=c(\"v_CA16_4951\",\"v_CA16_5141\"), \n",
    "labels=\"detailed\", \n",
    "geo_format='sf', level='CT')|>\n",
    "as.tibble()\n",
    "# |>\n",
    "# filter('Region Name' == 'Vancouver')"
   ]
  },
  {
   "cell_type": "code",
   "execution_count": 4,
   "metadata": {
    "vscode": {
     "languageId": "r"
    }
   },
   "outputs": [
    {
     "name": "stdout",
     "output_type": "stream",
     "text": [
      "Rows: 478\n",
      "Columns: 16\n",
      "$ `Shape Area`                                                                                                                                                                        \u001b[3m\u001b[90m<dbl>\u001b[39m\u001b[23m …\n",
      "$ Type                                                                                                                                                                                \u001b[3m\u001b[90m<fct>\u001b[39m\u001b[23m …\n",
      "$ Households                                                                                                                                                                          \u001b[3m\u001b[90m<int>\u001b[39m\u001b[23m …\n",
      "$ `Adjusted Population (previous Census)`                                                                                                                                             \u001b[3m\u001b[90m<int>\u001b[39m\u001b[23m …\n",
      "$ PR_UID                                                                                                                                                                              \u001b[3m\u001b[90m<chr>\u001b[39m\u001b[23m …\n",
      "$ Dwellings                                                                                                                                                                           \u001b[3m\u001b[90m<int>\u001b[39m\u001b[23m …\n",
      "$ GeoUID                                                                                                                                                                              \u001b[3m\u001b[90m<chr>\u001b[39m\u001b[23m …\n",
      "$ Population                                                                                                                                                                          \u001b[3m\u001b[90m<int>\u001b[39m\u001b[23m …\n",
      "$ CMA_UID                                                                                                                                                                             \u001b[3m\u001b[90m<chr>\u001b[39m\u001b[23m …\n",
      "$ CSD_UID                                                                                                                                                                             \u001b[3m\u001b[90m<chr>\u001b[39m\u001b[23m …\n",
      "$ CD_UID                                                                                                                                                                              \u001b[3m\u001b[90m<chr>\u001b[39m\u001b[23m …\n",
      "$ `Region Name`                                                                                                                                                                       \u001b[3m\u001b[90m<fct>\u001b[39m\u001b[23m …\n",
      "$ `Area (sq km)`                                                                                                                                                                      \u001b[3m\u001b[90m<dbl>\u001b[39m\u001b[23m …\n",
      "$ `v_CA16_4951: Total - Income statistics in 2015 for the population aged 15 years and over in private households - 25% sample data`                                                  \u001b[3m\u001b[90m<dbl>\u001b[39m\u001b[23m …\n",
      "$ `v_CA16_5141: Total - Major field of study - Classification of Instructional Programs (CIP) 2016 for the population aged 15 years and over in private households - 25% sample data` \u001b[3m\u001b[90m<dbl>\u001b[39m\u001b[23m …\n",
      "$ geometry                                                                                                                                                                            \u001b[3m\u001b[90m<MULTIPOLYGON [°]>\u001b[39m\u001b[23m …\n"
     ]
    }
   ],
   "source": [
    "glimpse(census_data)"
   ]
  },
  {
   "cell_type": "code",
   "execution_count": 5,
   "metadata": {
    "vscode": {
     "languageId": "r"
    }
   },
   "outputs": [
    {
     "data": {
      "text/html": [
       "<table class=\"dataframe\">\n",
       "<caption>A tibble: 4 × 2</caption>\n",
       "<thead>\n",
       "\t<tr><th scope=col>dataset_id</th><th scope=col>title</th></tr>\n",
       "\t<tr><th scope=col>&lt;chr&gt;</th><th scope=col>&lt;chr&gt;</th></tr>\n",
       "</thead>\n",
       "<tbody>\n",
       "\t<tr><td>property-tax-report-2006-2010</td><td>Property tax report 2006-2010</td></tr>\n",
       "\t<tr><td>property-tax-report-2016-2019</td><td>Property tax report 2016-2019</td></tr>\n",
       "\t<tr><td>property-tax-report-2011-2015</td><td>Property tax report 2011-2015</td></tr>\n",
       "\t<tr><td>property-tax-report          </td><td>Property tax report          </td></tr>\n",
       "</tbody>\n",
       "</table>\n"
      ],
      "text/latex": [
       "A tibble: 4 × 2\n",
       "\\begin{tabular}{ll}\n",
       " dataset\\_id & title\\\\\n",
       " <chr> & <chr>\\\\\n",
       "\\hline\n",
       "\t property-tax-report-2006-2010 & Property tax report 2006-2010\\\\\n",
       "\t property-tax-report-2016-2019 & Property tax report 2016-2019\\\\\n",
       "\t property-tax-report-2011-2015 & Property tax report 2011-2015\\\\\n",
       "\t property-tax-report           & Property tax report          \\\\\n",
       "\\end{tabular}\n"
      ],
      "text/markdown": [
       "\n",
       "A tibble: 4 × 2\n",
       "\n",
       "| dataset_id &lt;chr&gt; | title &lt;chr&gt; |\n",
       "|---|---|\n",
       "| property-tax-report-2006-2010 | Property tax report 2006-2010 |\n",
       "| property-tax-report-2016-2019 | Property tax report 2016-2019 |\n",
       "| property-tax-report-2011-2015 | Property tax report 2011-2015 |\n",
       "| property-tax-report           | Property tax report           |\n",
       "\n"
      ],
      "text/plain": [
       "  dataset_id                    title                        \n",
       "1 property-tax-report-2006-2010 Property tax report 2006-2010\n",
       "2 property-tax-report-2016-2019 Property tax report 2016-2019\n",
       "3 property-tax-report-2011-2015 Property tax report 2011-2015\n",
       "4 property-tax-report           Property tax report          "
      ]
     },
     "metadata": {},
     "output_type": "display_data"
    }
   ],
   "source": [
    "library(VancouvR)\n",
    "search_cov_datasets(\"property-tax\") %>%\n",
    "  select(dataset_id,title)"
   ]
  },
  {
   "cell_type": "code",
   "execution_count": 6,
   "metadata": {
    "vscode": {
     "languageId": "r"
    }
   },
   "outputs": [
    {
     "name": "stderr",
     "output_type": "stream",
     "text": [
      "Downloading data from CoV Open Data portal\n",
      "\n",
      "Warning message:\n",
      "\"\u001b[1m\u001b[22mThere was 1 warning in `mutate()`.\n",
      "\u001b[1m\u001b[22m\u001b[36mℹ\u001b[39m In argument: `current_land_value =\n",
      "  .Primitive(\"as.integer\")(current_land_value)`.\n",
      "Caused by warning:\n",
      "\u001b[33m!\u001b[39m NAs introduced by coercion to integer range\"\n"
     ]
    },
    {
     "name": "stdout",
     "output_type": "stream",
     "text": [
      "Rows: 199,924\n",
      "Columns: 29\n",
      "$ pid                        \u001b[3m\u001b[90m<chr>\u001b[39m\u001b[23m \"019-179-049\", \"028-786-394\", \"026-041-138\"…\n",
      "$ legal_type                 \u001b[3m\u001b[90m<chr>\u001b[39m\u001b[23m \"STRATA\", \"STRATA\", \"STRATA\", \"STRATA\", \"ST…\n",
      "$ folio                      \u001b[3m\u001b[90m<chr>\u001b[39m\u001b[23m \"120605980191\", \"589118930004\", \"6031860600…\n",
      "$ land_coordinate            \u001b[3m\u001b[90m<chr>\u001b[39m\u001b[23m \"12060598\", \"58911893\", \"60318606\", \"646159…\n",
      "$ zoning_district            \u001b[3m\u001b[90m<chr>\u001b[39m\u001b[23m \"CD-1 (322)\", \"CD-1 (364)\", \"CD-1 (264)\", \"…\n",
      "$ zoning_classification      \u001b[3m\u001b[90m<chr>\u001b[39m\u001b[23m \"Comprehensive Development\", \"Comprehensive…\n",
      "$ lot                        \u001b[3m\u001b[90m<chr>\u001b[39m\u001b[23m \"191\", \"4\", \"53\", \"2\", \"1\", \"21\", \"31\", \"78…\n",
      "$ plan                       \u001b[3m\u001b[90m<chr>\u001b[39m\u001b[23m \"LMS1866\", \"EPS677\", \"BCS966\", \"VAS1717\", \"…\n",
      "$ block                      \u001b[3m\u001b[90m<chr>\u001b[39m\u001b[23m NA, NA, NA, NA, NA, NA, NA, NA, NA, NA, NA,…\n",
      "$ district_lot               \u001b[3m\u001b[90m<chr>\u001b[39m\u001b[23m \"541\", NA, \"2037\", \"526\", \"526\", \"185\", \"54…\n",
      "$ from_civic_number          \u001b[3m\u001b[90m<chr>\u001b[39m\u001b[23m \"1601\", \"108\", \"804\", \"2\", NA, \"305\", \"406\"…\n",
      "$ to_civic_number            \u001b[3m\u001b[90m<chr>\u001b[39m\u001b[23m \"989\", \"277\", \"120\", \"704\", \"1574\", \"1045\",…\n",
      "$ street_name                \u001b[3m\u001b[90m<chr>\u001b[39m\u001b[23m \"NELSON ST\", \"THURLOW ST\", \"MILROSS AVE\", \"…\n",
      "$ property_postal_code       \u001b[3m\u001b[90m<chr>\u001b[39m\u001b[23m \"V6Z 2S1\", \"V6C 0C1\", \"V6A 4K7\", \"V5Z 1B8\",…\n",
      "$ narrative_legal_line1      \u001b[3m\u001b[90m<chr>\u001b[39m\u001b[23m \"LOT 191  PLAN LMS1866  DISTRICT LOT\", \"LOT…\n",
      "$ narrative_legal_line2      \u001b[3m\u001b[90m<chr>\u001b[39m\u001b[23m \"541  NEW WESTMINSTER UNDIV 751/234\", \"OUR …\n",
      "$ narrative_legal_line3      \u001b[3m\u001b[90m<chr>\u001b[39m\u001b[23m \"700 SHARE IN COM PROP THEREIN.\", \"INTEREST…\n",
      "$ current_land_value         \u001b[3m\u001b[90m<int>\u001b[39m\u001b[23m 362000, 4217000, 346000, 287000, 1883000, 2…\n",
      "$ current_improvement_value  \u001b[3m\u001b[90m<int>\u001b[39m\u001b[23m 151000, 2182000, 322000, 140000, 380000, 98…\n",
      "$ tax_assessment_year        \u001b[3m\u001b[90m<chr>\u001b[39m\u001b[23m \"2016\", \"2016\", \"2016\", \"2016\", \"2016\", \"20…\n",
      "$ narrative_legal_line4      \u001b[3m\u001b[90m<chr>\u001b[39m\u001b[23m NA, \"PROPORTION TO THE UNIT ENTITLEMENT\", N…\n",
      "$ narrative_legal_line5      \u001b[3m\u001b[90m<chr>\u001b[39m\u001b[23m NA, \"OF THE STRATA LOT AS SHOWN ON FORM\", N…\n",
      "$ previous_improvement_value \u001b[3m\u001b[90m<int>\u001b[39m\u001b[23m 142000, 2052000, 315000, 154000, 379000, 10…\n",
      "$ previous_land_value        \u001b[3m\u001b[90m<int>\u001b[39m\u001b[23m 380000, 3532000, 241000, 233000, 1687000, 2…\n",
      "$ year_built                 \u001b[3m\u001b[90m<chr>\u001b[39m\u001b[23m \"1957\", \"2012\", \"2004\", \"1986\", \"1912\", \"19…\n",
      "$ big_improvement_year       \u001b[3m\u001b[90m<chr>\u001b[39m\u001b[23m \"1985\", \"2012\", \"2004\", \"1986\", \"1986\", \"19…\n",
      "$ tax_levy                   \u001b[3m\u001b[90m<dbl>\u001b[39m\u001b[23m 1623.98, 20257.10, 2114.67, 1351.75, 7163.9…\n",
      "$ neighbourhood_code         \u001b[3m\u001b[90m<chr>\u001b[39m\u001b[23m \"026\", \"028\", \"030\", \"007\", \"008\", \"027\", \"…\n",
      "$ report_year                \u001b[3m\u001b[90m<chr>\u001b[39m\u001b[23m \"2016\", \"2016\", \"2016\", \"2016\", \"2016\", \"20…\n"
     ]
    }
   ],
   "source": [
    "tax_data <- get_cov_data(dataset_id = \"property-tax-report-2016-2019\",\n",
    "                         where=\"tax_assessment_year='2016'\")|>\n",
    "    as.tibble()\n",
    "\n",
    "glimpse(tax_data)"
   ]
  },
  {
   "cell_type": "code",
   "execution_count": 7,
   "metadata": {
    "vscode": {
     "languageId": "r"
    }
   },
   "outputs": [
    {
     "data": {
      "text/html": [
       "<style>\n",
       ".list-inline {list-style: none; margin:0; padding: 0}\n",
       ".list-inline>li {display: inline-block}\n",
       ".list-inline>li:not(:last-child)::after {content: \"\\00b7\"; padding: 0 .5ex}\n",
       "</style>\n",
       "<ol class=list-inline><li>'pid'</li><li>'legal_type'</li><li>'folio'</li><li>'land_coordinate'</li><li>'zoning_district'</li><li>'zoning_classification'</li><li>'lot'</li><li>'plan'</li><li>'block'</li><li>'district_lot'</li><li>'from_civic_number'</li><li>'to_civic_number'</li><li>'street_name'</li><li>'property_postal_code'</li><li>'narrative_legal_line1'</li><li>'narrative_legal_line2'</li><li>'narrative_legal_line3'</li><li>'current_land_value'</li><li>'current_improvement_value'</li><li>'tax_assessment_year'</li><li>'narrative_legal_line4'</li><li>'narrative_legal_line5'</li><li>'previous_improvement_value'</li><li>'previous_land_value'</li><li>'year_built'</li><li>'big_improvement_year'</li><li>'tax_levy'</li><li>'neighbourhood_code'</li><li>'report_year'</li></ol>\n"
      ],
      "text/latex": [
       "\\begin{enumerate*}\n",
       "\\item 'pid'\n",
       "\\item 'legal\\_type'\n",
       "\\item 'folio'\n",
       "\\item 'land\\_coordinate'\n",
       "\\item 'zoning\\_district'\n",
       "\\item 'zoning\\_classification'\n",
       "\\item 'lot'\n",
       "\\item 'plan'\n",
       "\\item 'block'\n",
       "\\item 'district\\_lot'\n",
       "\\item 'from\\_civic\\_number'\n",
       "\\item 'to\\_civic\\_number'\n",
       "\\item 'street\\_name'\n",
       "\\item 'property\\_postal\\_code'\n",
       "\\item 'narrative\\_legal\\_line1'\n",
       "\\item 'narrative\\_legal\\_line2'\n",
       "\\item 'narrative\\_legal\\_line3'\n",
       "\\item 'current\\_land\\_value'\n",
       "\\item 'current\\_improvement\\_value'\n",
       "\\item 'tax\\_assessment\\_year'\n",
       "\\item 'narrative\\_legal\\_line4'\n",
       "\\item 'narrative\\_legal\\_line5'\n",
       "\\item 'previous\\_improvement\\_value'\n",
       "\\item 'previous\\_land\\_value'\n",
       "\\item 'year\\_built'\n",
       "\\item 'big\\_improvement\\_year'\n",
       "\\item 'tax\\_levy'\n",
       "\\item 'neighbourhood\\_code'\n",
       "\\item 'report\\_year'\n",
       "\\end{enumerate*}\n"
      ],
      "text/markdown": [
       "1. 'pid'\n",
       "2. 'legal_type'\n",
       "3. 'folio'\n",
       "4. 'land_coordinate'\n",
       "5. 'zoning_district'\n",
       "6. 'zoning_classification'\n",
       "7. 'lot'\n",
       "8. 'plan'\n",
       "9. 'block'\n",
       "10. 'district_lot'\n",
       "11. 'from_civic_number'\n",
       "12. 'to_civic_number'\n",
       "13. 'street_name'\n",
       "14. 'property_postal_code'\n",
       "15. 'narrative_legal_line1'\n",
       "16. 'narrative_legal_line2'\n",
       "17. 'narrative_legal_line3'\n",
       "18. 'current_land_value'\n",
       "19. 'current_improvement_value'\n",
       "20. 'tax_assessment_year'\n",
       "21. 'narrative_legal_line4'\n",
       "22. 'narrative_legal_line5'\n",
       "23. 'previous_improvement_value'\n",
       "24. 'previous_land_value'\n",
       "25. 'year_built'\n",
       "26. 'big_improvement_year'\n",
       "27. 'tax_levy'\n",
       "28. 'neighbourhood_code'\n",
       "29. 'report_year'\n",
       "\n",
       "\n"
      ],
      "text/plain": [
       " [1] \"pid\"                        \"legal_type\"                \n",
       " [3] \"folio\"                      \"land_coordinate\"           \n",
       " [5] \"zoning_district\"            \"zoning_classification\"     \n",
       " [7] \"lot\"                        \"plan\"                      \n",
       " [9] \"block\"                      \"district_lot\"              \n",
       "[11] \"from_civic_number\"          \"to_civic_number\"           \n",
       "[13] \"street_name\"                \"property_postal_code\"      \n",
       "[15] \"narrative_legal_line1\"      \"narrative_legal_line2\"     \n",
       "[17] \"narrative_legal_line3\"      \"current_land_value\"        \n",
       "[19] \"current_improvement_value\"  \"tax_assessment_year\"       \n",
       "[21] \"narrative_legal_line4\"      \"narrative_legal_line5\"     \n",
       "[23] \"previous_improvement_value\" \"previous_land_value\"       \n",
       "[25] \"year_built\"                 \"big_improvement_year\"      \n",
       "[27] \"tax_levy\"                   \"neighbourhood_code\"        \n",
       "[29] \"report_year\"               "
      ]
     },
     "metadata": {},
     "output_type": "display_data"
    }
   ],
   "source": [
    "colnames(tax_data)"
   ]
  },
  {
   "cell_type": "code",
   "execution_count": 11,
   "metadata": {
    "vscode": {
     "languageId": "r"
    }
   },
   "outputs": [
    {
     "name": "stderr",
     "output_type": "stream",
     "text": [
      "\u001b[1mRows: \u001b[22m\u001b[34m895823\u001b[39m \u001b[1mColumns: \u001b[22m\u001b[34m10\u001b[39m\n",
      "\u001b[36m──\u001b[39m \u001b[1mColumn specification\u001b[22m \u001b[36m────────────────────────────────────────────────────────\u001b[39m\n",
      "\u001b[1mDelimiter:\u001b[22m \",\"\n",
      "\u001b[31mchr\u001b[39m (3): TYPE, HUNDRED_BLOCK, NEIGHBOURHOOD\n",
      "\u001b[32mdbl\u001b[39m (7): YEAR, MONTH, DAY, HOUR, MINUTE, X, Y\n",
      "\n",
      "\u001b[36mℹ\u001b[39m Use `spec()` to retrieve the full column specification for this data.\n",
      "\u001b[36mℹ\u001b[39m Specify the column types or set `show_col_types = FALSE` to quiet this message.\n"
     ]
    },
    {
     "name": "stdout",
     "output_type": "stream",
     "text": [
      "Rows: 37,802\n",
      "Columns: 3\n",
      "Groups: type [8]\n",
      "$ type          \u001b[3m\u001b[90m<chr>\u001b[39m\u001b[23m \"Offence Against a Person\", \"Offence Against a Person\", …\n",
      "$ year          \u001b[3m\u001b[90m<dbl>\u001b[39m\u001b[23m 2016, 2016, 2016, 2016, 2016, 2016, 2016, 2016, 2016, 20…\n",
      "$ neighbourhood \u001b[3m\u001b[90m<chr>\u001b[39m\u001b[23m \"Kitsilano\", \"Kitsilano\", \"Kitsilano\", \"Kitsilano\", \"Kit…\n"
     ]
    }
   ],
   "source": [
    "url = \"https://raw.githubusercontent.com/Irene-Berezin/econ326/refs/heads/main/crimedata_csv_AllNeighbourhoods_AllYears/crimedata_csv_AllNeighbourhoods_AllYears.csv\"\n",
    "intentional_crime_data <- read_csv(url)|>\n",
    "    as.tibble()|>\n",
    "    select(TYPE, YEAR, NEIGHBOURHOOD)|>\n",
    "    rename(type = TYPE, year = YEAR, neighbourhood = NEIGHBOURHOOD)|>\n",
    "    filter(!type %in% c(\"Vehicle Collision or Pedestrian Struck (with Fatality)\",\n",
    "    \"Vehicle Collision or Pedestrian Struck (with Injury)\",\n",
    "    \"Mischief\"))|>\n",
    "    filter(year == 2016)|>\n",
    "    group_by(type)|>\n",
    "    arrange(year)\n",
    "\n",
    "glimpse(intentional_crime_data)\n"
   ]
  },
  {
   "cell_type": "code",
   "execution_count": null,
   "metadata": {
    "vscode": {
     "languageId": "r"
    }
   },
   "outputs": [],
   "source": []
  }
 ],
 "metadata": {
  "kernelspec": {
   "display_name": "R",
   "language": "R",
   "name": "ir"
  },
  "language_info": {
   "codemirror_mode": "r",
   "file_extension": ".r",
   "mimetype": "text/x-r-source",
   "name": "R",
   "pygments_lexer": "r",
   "version": "4.4.1"
  }
 },
 "nbformat": 4,
 "nbformat_minor": 2
}
