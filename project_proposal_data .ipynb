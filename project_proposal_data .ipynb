{
 "cells": [
  {
   "cell_type": "code",
   "execution_count": 14,
   "metadata": {
    "vscode": {
     "languageId": "r"
    }
   },
   "outputs": [
    {
     "name": "stderr",
     "output_type": "stream",
     "text": [
      "Warning message:\n",
      "\"package 'VancouvR' is in use and will not be installed\"\n",
      "Warning message:\n",
      "\"package 'geojsonio' is in use and will not be installed\"\n"
     ]
    }
   ],
   "source": [
    "install.packages(\"VancouvR\")\n",
    "install.packages(\"geojsonio\")\n",
    "\n",
    "library(geojsonio)\n",
    "library(tidyverse)\n",
    "library(dplyr)\n",
    "library(\"knitr\")"
   ]
  },
  {
   "cell_type": "code",
   "execution_count": 43,
   "metadata": {
    "vscode": {
     "languageId": "r"
    }
   },
   "outputs": [
    {
     "name": "stderr",
     "output_type": "stream",
     "text": [
      "Warning message:\n",
      "\"package 'cancensus' is in use and will not be installed\"\n"
     ]
    }
   ],
   "source": [
    "install.packages(\"cancensus\")\n",
    "library(cancensus)\n",
    "options(cancensus.api_key='CensusMapper_f228791d9506a7a747ece66db73b95be')\n",
    "options(cancensus.cache_path = 'C:\\\\Users\\\\Kaiyan Zhang\\\\Desktop\\\\econ326')"
   ]
  },
  {
   "cell_type": "code",
   "execution_count": 44,
   "metadata": {
    "vscode": {
     "languageId": "r"
    }
   },
   "outputs": [
    {
     "name": "stderr",
     "output_type": "stream",
     "text": [
      "Reading vectors data from local cache.\n",
      "\n"
     ]
    },
    {
     "name": "stderr",
     "output_type": "stream",
     "text": [
      "Reading geo data from local cache.\n",
      "\n",
      "Warning message in value[[3L]](cond):\n",
      "\"Unable to download recall database at this point.\"\n"
     ]
    }
   ],
   "source": [
    "census_data <- get_census(dataset='CA16', \n",
    "regions=list(CMA=\"59933\",CSD=\"5915022\"), \n",
    "vectors=c(\"v_CA16_4951\",\"v_CA16_5141\"), \n",
    "labels=\"detailed\", \n",
    "geo_format='sf', level='CT')|>\n",
    "as.tibble()\n",
    "# filter('`Region Name`' == 'Vancouver') # Installing Census data api but failed to select only Vancouver region"
   ]
  },
  {
   "cell_type": "code",
   "execution_count": 45,
   "metadata": {
    "vscode": {
     "languageId": "r"
    }
   },
   "outputs": [
    {
     "data": {
      "text/html": [
       "<style>\n",
       ".list-inline {list-style: none; margin:0; padding: 0}\n",
       ".list-inline>li {display: inline-block}\n",
       ".list-inline>li:not(:last-child)::after {content: \"\\00b7\"; padding: 0 .5ex}\n",
       "</style>\n",
       "<ol class=list-inline><li>'Shape Area'</li><li>'Type'</li><li>'Households'</li><li>'Adjusted Population (previous Census)'</li><li>'PR_UID'</li><li>'Dwellings'</li><li>'GeoUID'</li><li>'Population'</li><li>'CMA_UID'</li><li>'CSD_UID'</li><li>'CD_UID'</li><li>'Region Name'</li><li>'Area (sq km)'</li><li>'v_CA16_4951: Total - Income statistics in 2015 for the population aged 15 years and over in private households - 25% sample data'</li><li>'v_CA16_5141: Total - Major field of study - Classification of Instructional Programs (CIP) 2016 for the population aged 15 years and over in private households - 25% sample data'</li><li>'geometry'</li></ol>\n"
      ],
      "text/latex": [
       "\\begin{enumerate*}\n",
       "\\item 'Shape Area'\n",
       "\\item 'Type'\n",
       "\\item 'Households'\n",
       "\\item 'Adjusted Population (previous Census)'\n",
       "\\item 'PR\\_UID'\n",
       "\\item 'Dwellings'\n",
       "\\item 'GeoUID'\n",
       "\\item 'Population'\n",
       "\\item 'CMA\\_UID'\n",
       "\\item 'CSD\\_UID'\n",
       "\\item 'CD\\_UID'\n",
       "\\item 'Region Name'\n",
       "\\item 'Area (sq km)'\n",
       "\\item 'v\\_CA16\\_4951: Total - Income statistics in 2015 for the population aged 15 years and over in private households - 25\\% sample data'\n",
       "\\item 'v\\_CA16\\_5141: Total - Major field of study - Classification of Instructional Programs (CIP) 2016 for the population aged 15 years and over in private households - 25\\% sample data'\n",
       "\\item 'geometry'\n",
       "\\end{enumerate*}\n"
      ],
      "text/markdown": [
       "1. 'Shape Area'\n",
       "2. 'Type'\n",
       "3. 'Households'\n",
       "4. 'Adjusted Population (previous Census)'\n",
       "5. 'PR_UID'\n",
       "6. 'Dwellings'\n",
       "7. 'GeoUID'\n",
       "8. 'Population'\n",
       "9. 'CMA_UID'\n",
       "10. 'CSD_UID'\n",
       "11. 'CD_UID'\n",
       "12. 'Region Name'\n",
       "13. 'Area (sq km)'\n",
       "14. 'v_CA16_4951: Total - Income statistics in 2015 for the population aged 15 years and over in private households - 25% sample data'\n",
       "15. 'v_CA16_5141: Total - Major field of study - Classification of Instructional Programs (CIP) 2016 for the population aged 15 years and over in private households - 25% sample data'\n",
       "16. 'geometry'\n",
       "\n",
       "\n"
      ],
      "text/plain": [
       " [1] \"Shape Area\"                                                                                                                                                                       \n",
       " [2] \"Type\"                                                                                                                                                                             \n",
       " [3] \"Households\"                                                                                                                                                                       \n",
       " [4] \"Adjusted Population (previous Census)\"                                                                                                                                            \n",
       " [5] \"PR_UID\"                                                                                                                                                                           \n",
       " [6] \"Dwellings\"                                                                                                                                                                        \n",
       " [7] \"GeoUID\"                                                                                                                                                                           \n",
       " [8] \"Population\"                                                                                                                                                                       \n",
       " [9] \"CMA_UID\"                                                                                                                                                                          \n",
       "[10] \"CSD_UID\"                                                                                                                                                                          \n",
       "[11] \"CD_UID\"                                                                                                                                                                           \n",
       "[12] \"Region Name\"                                                                                                                                                                      \n",
       "[13] \"Area (sq km)\"                                                                                                                                                                     \n",
       "[14] \"v_CA16_4951: Total - Income statistics in 2015 for the population aged 15 years and over in private households - 25% sample data\"                                                 \n",
       "[15] \"v_CA16_5141: Total - Major field of study - Classification of Instructional Programs (CIP) 2016 for the population aged 15 years and over in private households - 25% sample data\"\n",
       "[16] \"geometry\"                                                                                                                                                                         "
      ]
     },
     "metadata": {},
     "output_type": "display_data"
    }
   ],
   "source": [
    "colnames(census_data)"
   ]
  },
  {
   "cell_type": "code",
   "execution_count": 46,
   "metadata": {
    "vscode": {
     "languageId": "r"
    }
   },
   "outputs": [
    {
     "data": {
      "text/html": [
       "<table class=\"dataframe\">\n",
       "<caption>A tibble: 1 × 1</caption>\n",
       "<thead>\n",
       "\t<tr><th scope=col>\"Region Name\"</th></tr>\n",
       "\t<tr><th scope=col>&lt;chr&gt;</th></tr>\n",
       "</thead>\n",
       "<tbody>\n",
       "\t<tr><td>Region Name</td></tr>\n",
       "</tbody>\n",
       "</table>\n"
      ],
      "text/latex": [
       "A tibble: 1 × 1\n",
       "\\begin{tabular}{l}\n",
       " \"Region Name\"\\\\\n",
       " <chr>\\\\\n",
       "\\hline\n",
       "\t Region Name\\\\\n",
       "\\end{tabular}\n"
      ],
      "text/markdown": [
       "\n",
       "A tibble: 1 × 1\n",
       "\n",
       "| \"Region Name\" &lt;chr&gt; |\n",
       "|---|\n",
       "| Region Name |\n",
       "\n"
      ],
      "text/plain": [
       "  \"Region Name\"\n",
       "1 Region Name  "
      ]
     },
     "metadata": {},
     "output_type": "display_data"
    }
   ],
   "source": [
    "distinct(census_data, 'Region Name')"
   ]
  },
  {
   "cell_type": "code",
   "execution_count": 47,
   "metadata": {
    "vscode": {
     "languageId": "r"
    }
   },
   "outputs": [
    {
     "data": {
      "text/html": [
       "<table class=\"dataframe\">\n",
       "<caption>A tibble: 4 × 2</caption>\n",
       "<thead>\n",
       "\t<tr><th scope=col>dataset_id</th><th scope=col>title</th></tr>\n",
       "\t<tr><th scope=col>&lt;chr&gt;</th><th scope=col>&lt;chr&gt;</th></tr>\n",
       "</thead>\n",
       "<tbody>\n",
       "\t<tr><td>property-tax-report-2011-2015</td><td>Property tax report 2011-2015</td></tr>\n",
       "\t<tr><td>property-tax-report-2006-2010</td><td>Property tax report 2006-2010</td></tr>\n",
       "\t<tr><td>property-tax-report-2016-2019</td><td>Property tax report 2016-2019</td></tr>\n",
       "\t<tr><td>property-tax-report          </td><td>Property tax report          </td></tr>\n",
       "</tbody>\n",
       "</table>\n"
      ],
      "text/latex": [
       "A tibble: 4 × 2\n",
       "\\begin{tabular}{ll}\n",
       " dataset\\_id & title\\\\\n",
       " <chr> & <chr>\\\\\n",
       "\\hline\n",
       "\t property-tax-report-2011-2015 & Property tax report 2011-2015\\\\\n",
       "\t property-tax-report-2006-2010 & Property tax report 2006-2010\\\\\n",
       "\t property-tax-report-2016-2019 & Property tax report 2016-2019\\\\\n",
       "\t property-tax-report           & Property tax report          \\\\\n",
       "\\end{tabular}\n"
      ],
      "text/markdown": [
       "\n",
       "A tibble: 4 × 2\n",
       "\n",
       "| dataset_id &lt;chr&gt; | title &lt;chr&gt; |\n",
       "|---|---|\n",
       "| property-tax-report-2011-2015 | Property tax report 2011-2015 |\n",
       "| property-tax-report-2006-2010 | Property tax report 2006-2010 |\n",
       "| property-tax-report-2016-2019 | Property tax report 2016-2019 |\n",
       "| property-tax-report           | Property tax report           |\n",
       "\n"
      ],
      "text/plain": [
       "  dataset_id                    title                        \n",
       "1 property-tax-report-2011-2015 Property tax report 2011-2015\n",
       "2 property-tax-report-2006-2010 Property tax report 2006-2010\n",
       "3 property-tax-report-2016-2019 Property tax report 2016-2019\n",
       "4 property-tax-report           Property tax report          "
      ]
     },
     "metadata": {},
     "output_type": "display_data"
    }
   ],
   "source": [
    "library(VancouvR)\n",
    "search_cov_datasets(\"property-tax\") %>%\n",
    "  select(dataset_id,title)"
   ]
  },
  {
   "cell_type": "code",
   "execution_count": 48,
   "metadata": {
    "vscode": {
     "languageId": "r"
    }
   },
   "outputs": [
    {
     "name": "stderr",
     "output_type": "stream",
     "text": [
      "Reading data from temporary cache\n",
      "\n"
     ]
    },
    {
     "name": "stderr",
     "output_type": "stream",
     "text": [
      "Warning message:\n",
      "\"\u001b[1m\u001b[22mThere was 1 warning in `mutate()`.\n",
      "\u001b[1m\u001b[22m\u001b[36mℹ\u001b[39m In argument: `current_land_value =\n",
      "  .Primitive(\"as.integer\")(current_land_value)`.\n",
      "Caused by warning:\n",
      "\u001b[33m!\u001b[39m NAs introduced by coercion to integer range\"\n"
     ]
    },
    {
     "name": "stdout",
     "output_type": "stream",
     "text": [
      "Rows: 199,924\n",
      "Columns: 2\n",
      "$ current_land_value \u001b[3m\u001b[90m<int>\u001b[39m\u001b[23m 126000, 1100000, 1028000, 825000, 922000, 878000, 1…\n",
      "$ tax_coord          \u001b[3m\u001b[90m<chr>\u001b[39m\u001b[23m \"58825549\", \"60125529\", \"61223603\", \"63025324\", \"59…\n"
     ]
    }
   ],
   "source": [
    "tax_data <- get_cov_data(dataset_id = \"property-tax-report-2016-2019\",\n",
    "                         where=\"tax_assessment_year='2016'\",\n",
    "                         select = \"current_land_value, land_coordinate as tax_coord\")|>\n",
    "    as.tibble()\n",
    "glimpse(tax_data) # read in the data of land value, and changed it coordname to tax coord, so it matched the property polygon data"
   ]
  },
  {
   "cell_type": "code",
   "execution_count": 20,
   "metadata": {
    "vscode": {
     "languageId": "r"
    }
   },
   "outputs": [
    {
     "data": {
      "text/html": [
       "<style>\n",
       ".list-inline {list-style: none; margin:0; padding: 0}\n",
       ".list-inline>li {display: inline-block}\n",
       ".list-inline>li:not(:last-child)::after {content: \"\\00b7\"; padding: 0 .5ex}\n",
       "</style>\n",
       "<ol class=list-inline><li>'current_land_value'</li><li>'tax_coord'</li></ol>\n"
      ],
      "text/latex": [
       "\\begin{enumerate*}\n",
       "\\item 'current\\_land\\_value'\n",
       "\\item 'tax\\_coord'\n",
       "\\end{enumerate*}\n"
      ],
      "text/markdown": [
       "1. 'current_land_value'\n",
       "2. 'tax_coord'\n",
       "\n",
       "\n"
      ],
      "text/plain": [
       "[1] \"current_land_value\" \"tax_coord\"         "
      ]
     },
     "metadata": {},
     "output_type": "display_data"
    }
   ],
   "source": [
    "colnames(tax_data)"
   ]
  },
  {
   "cell_type": "code",
   "execution_count": 21,
   "metadata": {
    "vscode": {
     "languageId": "r"
    }
   },
   "outputs": [
    {
     "name": "stderr",
     "output_type": "stream",
     "text": [
      "\u001b[1mRows: \u001b[22m\u001b[34m895823\u001b[39m \u001b[1mColumns: \u001b[22m\u001b[34m10\u001b[39m\n",
      "\u001b[36m──\u001b[39m \u001b[1mColumn specification\u001b[22m \u001b[36m────────────────────────────────────────────────────────\u001b[39m\n",
      "\u001b[1mDelimiter:\u001b[22m \",\"\n",
      "\u001b[31mchr\u001b[39m (3): TYPE, HUNDRED_BLOCK, NEIGHBOURHOOD\n",
      "\u001b[32mdbl\u001b[39m (7): YEAR, MONTH, DAY, HOUR, MINUTE, X, Y\n",
      "\n",
      "\u001b[36mℹ\u001b[39m Use `spec()` to retrieve the full column specification for this data.\n",
      "\u001b[36mℹ\u001b[39m Specify the column types or set `show_col_types = FALSE` to quiet this message.\n"
     ]
    },
    {
     "name": "stdout",
     "output_type": "stream",
     "text": [
      "Rows: 37,802\n",
      "Columns: 3\n",
      "Groups: type [8]\n",
      "$ type          \u001b[3m\u001b[90m<chr>\u001b[39m\u001b[23m \"Offence Against a Person\", \"Offence Against a Person\", …\n",
      "$ year          \u001b[3m\u001b[90m<dbl>\u001b[39m\u001b[23m 2016, 2016, 2016, 2016, 2016, 2016, 2016, 2016, 2016, 20…\n",
      "$ neighbourhood \u001b[3m\u001b[90m<chr>\u001b[39m\u001b[23m \"Kitsilano\", \"Kitsilano\", \"Kitsilano\", \"Kitsilano\", \"Kit…\n"
     ]
    }
   ],
   "source": [
    "url = \"https://raw.githubusercontent.com/Irene-Berezin/econ326/refs/heads/main/crimedata_csv_AllNeighbourhoods_AllYears/crimedata_csv_AllNeighbourhoods_AllYears.csv\"\n",
    "intentional_crime_data <- read_csv(url)|>\n",
    "    as.tibble()|>\n",
    "    select(TYPE, YEAR, NEIGHBOURHOOD)|>\n",
    "    rename(type = TYPE, year = YEAR, neighbourhood = NEIGHBOURHOOD)|>\n",
    "    filter(!type %in% c(\"Vehicle Collision or Pedestrian Struck (with Fatality)\",\n",
    "    \"Vehicle Collision or Pedestrian Struck (with Injury)\",\n",
    "    \"Mischief\"))|>\n",
    "    filter(year == 2016)|>\n",
    "    group_by(type)|>\n",
    "    arrange(year)\n",
    "\n",
    "glimpse(intentional_crime_data)\n"
   ]
  },
  {
   "cell_type": "code",
   "execution_count": 22,
   "metadata": {
    "vscode": {
     "languageId": "r"
    }
   },
   "outputs": [
    {
     "name": "stderr",
     "output_type": "stream",
     "text": [
      "Downloading data from CoV Open Data portal\n",
      "\n"
     ]
    },
    {
     "name": "stdout",
     "output_type": "stream",
     "text": [
      "Rows: 22\n",
      "Columns: 4\n",
      "$ name         \u001b[3m\u001b[90m<chr>\u001b[39m\u001b[23m \"Downtown\", \"Hastings-Sunrise\", \"Kerrisdale\", \"Marpole\", …\n",
      "$ geom         \u001b[3m\u001b[90m<chr>\u001b[39m\u001b[23m \"{\\\"coordinates\\\": [[[-123.11226654052733, 49.29016494657…\n",
      "$ geo_point_2d \u001b[3m\u001b[90m<chr>\u001b[39m\u001b[23m \"49.28074707013743, -123.11656700827415\", \"49.27793405209…\n",
      "$ geometry     \u001b[3m\u001b[90m<POLYGON [°]>\u001b[39m\u001b[23m POLYGON ((-123.1123 49.2901..., POLYGON ((-123.05…\n"
     ]
    }
   ],
   "source": [
    "local_area_boundary <- get_cov_data(dataset_id =\"local-area-boundary\")|>\n",
    "    as_tibble()|>\n",
    "    glimpse()"
   ]
  },
  {
   "cell_type": "code",
   "execution_count": 49,
   "metadata": {
    "vscode": {
     "languageId": "r"
    }
   },
   "outputs": [
    {
     "name": "stdout",
     "output_type": "stream",
     "text": [
      "Rows: 22\n",
      "Columns: 4\n",
      "$ name         \u001b[3m\u001b[90m<chr>\u001b[39m\u001b[23m \"Downtown\", \"Hastings-Sunrise\", \"Kerrisdale\", \"Marpole\", …\n",
      "$ geom         \u001b[3m\u001b[90m<chr>\u001b[39m\u001b[23m \"{\\\"coordinates\\\": [[[-123.11226654052733, 49.29016494657…\n",
      "$ geo_point_2d \u001b[3m\u001b[90m<chr>\u001b[39m\u001b[23m \"49.28074707013743, -123.11656700827415\", \"49.27793405209…\n",
      "$ geometry     \u001b[3m\u001b[90m<POLYGON [°]>\u001b[39m\u001b[23m POLYGON ((-123.1123 49.2901..., POLYGON ((-123.05…\n"
     ]
    }
   ],
   "source": [
    "glimpse(local_area_boundary)  # This dataframe stores the geom"
   ]
  },
  {
   "cell_type": "code",
   "execution_count": 51,
   "metadata": {
    "vscode": {
     "languageId": "r"
    }
   },
   "outputs": [
    {
     "name": "stderr",
     "output_type": "stream",
     "text": [
      "Reading data from temporary cache\n",
      "\n"
     ]
    }
   ],
   "source": [
    "property_polygons <- get_cov_data(dataset_id=\"property-parcel-polygons\")|>\n",
    "    as_tibble()"
   ]
  },
  {
   "cell_type": "code",
   "execution_count": 52,
   "metadata": {
    "vscode": {
     "languageId": "r"
    }
   },
   "outputs": [
    {
     "data": {
      "text/html": [
       "<table class=\"dataframe\">\n",
       "<caption>A tibble: 6 × 7</caption>\n",
       "<thead>\n",
       "\t<tr><th scope=col>civic_number</th><th scope=col>streetname</th><th scope=col>tax_coord</th><th scope=col>site_id</th><th scope=col>geom</th><th scope=col>geo_point_2d</th><th scope=col>geometry</th></tr>\n",
       "\t<tr><th scope=col>&lt;chr&gt;</th><th scope=col>&lt;chr&gt;</th><th scope=col>&lt;chr&gt;</th><th scope=col>&lt;chr&gt;</th><th scope=col>&lt;chr&gt;</th><th scope=col>&lt;chr&gt;</th><th scope=col>&lt;POLYGON [°]&gt;</th></tr>\n",
       "</thead>\n",
       "<tbody>\n",
       "\t<tr><td>3945</td><td>WELWYN ST</td><td>23970111</td><td>014527723</td><td>{\"coordinates\": [[[-123.07000584813854, 49.24987403564525], [-123.07000406207052, 49.24996166822032], [-123.07054814175194, 49.249969711822665], [-123.07055042153875, 49.249882087932896], [-123.07000584813854, 49.24987403564525]]], \"type\": \"Polygon\"}                                         </td><td>49.249921869270814, -123.0702771178116</td><td>POLYGON ((-123.07 49.24987,...</td></tr>\n",
       "\t<tr><td>3955</td><td>WELWYN ST</td><td>23970115</td><td>014527740</td><td>{\"coordinates\": [[[-123.0700076342004, 49.24978640306883], [-123.07000584813854, 49.24987403564525], [-123.07055042153875, 49.249882087932896], [-123.07055220732926, 49.24981422685563], [-123.07055271505841, 49.249794464033364], [-123.0700076342004, 49.24978640306883]]], \"type\": \"Polygon\"} </td><td>49.24983424082434, -123.07027915667443</td><td>POLYGON ((-123.07 49.24979,...</td></tr>\n",
       "\t<tr><td>3969</td><td>WELWYN ST</td><td>23970119</td><td>014527782</td><td>{\"coordinates\": [[[-123.0700094202561, 49.249698770491044], [-123.0700076342004, 49.24978640306883], [-123.07055271505841, 49.249794464033364], [-123.07055500857015, 49.24970684013244], [-123.07051315332703, 49.249706218029374], [-123.0700094202561, 49.249698770491044]]], \"type\": \"Polygon\"}</td><td>49.24974661188814, -123.07028119542241</td><td>POLYGON ((-123.07 49.2497, ...</td></tr>\n",
       "\t<tr><td>1399</td><td>E 19TH AV</td><td>69422893</td><td>007245190</td><td>{\"coordinates\": [[[-123.07625563593871, 49.253595208520274], [-123.07614707274392, 49.25359348107949], [-123.07613458693838, 49.25392767973197], [-123.07624315086562, 49.25392940718403], [-123.07625563593871, 49.253595208520274]]], \"type\": \"Polygon\"}                                         </td><td>49.25376144431683, -123.07619511161461</td><td>POLYGON ((-123.0763 49.2536...</td></tr>\n",
       "\t<tr><td>1373</td><td>E 19TH AV</td><td>69422873</td><td>014613557</td><td>{\"coordinates\": [[[-123.07639374476234, 49.25359736608769], [-123.07638124686534, 49.25393155577966], [-123.07652004374253, 49.25393372173649], [-123.07653185361174, 49.25359953248523], [-123.07639374476234, 49.25359736608769]]], \"type\": \"Polygon\"}                                           </td><td>49.25376568232775, -123.0764567168287 </td><td>POLYGON ((-123.0764 49.2536...</td></tr>\n",
       "\t<tr><td>1351</td><td>E 19TH AV</td><td>69422851</td><td>010815431</td><td>{\"coordinates\": [[[-123.07653185361174, 49.25359953248523], [-123.07652004374253, 49.25393372173649], [-123.07665816726369, 49.25393587897811], [-123.07666997620092, 49.253601689713335], [-123.07653185361174, 49.25359953248523]]], \"type\": \"Polygon\"}                                          </td><td>49.2537677059162, -123.07659501019803 </td><td>POLYGON ((-123.0765 49.2536...</td></tr>\n",
       "</tbody>\n",
       "</table>\n"
      ],
      "text/latex": [
       "A tibble: 6 × 7\n",
       "\\begin{tabular}{lllllll}\n",
       " civic\\_number & streetname & tax\\_coord & site\\_id & geom & geo\\_point\\_2d & geometry\\\\\n",
       " <chr> & <chr> & <chr> & <chr> & <chr> & <chr> & <POLYGON {[}°{]}>\\\\\n",
       "\\hline\n",
       "\t 3945 & WELWYN ST & 23970111 & 014527723 & \\{\"coordinates\": {[}{[}{[}-123.07000584813854, 49.24987403564525{]}, {[}-123.07000406207052, 49.24996166822032{]}, {[}-123.07054814175194, 49.249969711822665{]}, {[}-123.07055042153875, 49.249882087932896{]}, {[}-123.07000584813854, 49.24987403564525{]}{]}{]}, \"type\": \"Polygon\"\\}                                          & 49.249921869270814, -123.0702771178116 & POLYGON ((-123.07 49.24987,...\\\\\n",
       "\t 3955 & WELWYN ST & 23970115 & 014527740 & \\{\"coordinates\": {[}{[}{[}-123.0700076342004, 49.24978640306883{]}, {[}-123.07000584813854, 49.24987403564525{]}, {[}-123.07055042153875, 49.249882087932896{]}, {[}-123.07055220732926, 49.24981422685563{]}, {[}-123.07055271505841, 49.249794464033364{]}, {[}-123.0700076342004, 49.24978640306883{]}{]}{]}, \"type\": \"Polygon\"\\}  & 49.24983424082434, -123.07027915667443 & POLYGON ((-123.07 49.24979,...\\\\\n",
       "\t 3969 & WELWYN ST & 23970119 & 014527782 & \\{\"coordinates\": {[}{[}{[}-123.0700094202561, 49.249698770491044{]}, {[}-123.0700076342004, 49.24978640306883{]}, {[}-123.07055271505841, 49.249794464033364{]}, {[}-123.07055500857015, 49.24970684013244{]}, {[}-123.07051315332703, 49.249706218029374{]}, {[}-123.0700094202561, 49.249698770491044{]}{]}{]}, \"type\": \"Polygon\"\\} & 49.24974661188814, -123.07028119542241 & POLYGON ((-123.07 49.2497, ...\\\\\n",
       "\t 1399 & E 19TH AV & 69422893 & 007245190 & \\{\"coordinates\": {[}{[}{[}-123.07625563593871, 49.253595208520274{]}, {[}-123.07614707274392, 49.25359348107949{]}, {[}-123.07613458693838, 49.25392767973197{]}, {[}-123.07624315086562, 49.25392940718403{]}, {[}-123.07625563593871, 49.253595208520274{]}{]}{]}, \"type\": \"Polygon\"\\}                                          & 49.25376144431683, -123.07619511161461 & POLYGON ((-123.0763 49.2536...\\\\\n",
       "\t 1373 & E 19TH AV & 69422873 & 014613557 & \\{\"coordinates\": {[}{[}{[}-123.07639374476234, 49.25359736608769{]}, {[}-123.07638124686534, 49.25393155577966{]}, {[}-123.07652004374253, 49.25393372173649{]}, {[}-123.07653185361174, 49.25359953248523{]}, {[}-123.07639374476234, 49.25359736608769{]}{]}{]}, \"type\": \"Polygon\"\\}                                            & 49.25376568232775, -123.0764567168287  & POLYGON ((-123.0764 49.2536...\\\\\n",
       "\t 1351 & E 19TH AV & 69422851 & 010815431 & \\{\"coordinates\": {[}{[}{[}-123.07653185361174, 49.25359953248523{]}, {[}-123.07652004374253, 49.25393372173649{]}, {[}-123.07665816726369, 49.25393587897811{]}, {[}-123.07666997620092, 49.253601689713335{]}, {[}-123.07653185361174, 49.25359953248523{]}{]}{]}, \"type\": \"Polygon\"\\}                                           & 49.2537677059162, -123.07659501019803  & POLYGON ((-123.0765 49.2536...\\\\\n",
       "\\end{tabular}\n"
      ],
      "text/markdown": [
       "\n",
       "A tibble: 6 × 7\n",
       "\n",
       "| civic_number &lt;chr&gt; | streetname &lt;chr&gt; | tax_coord &lt;chr&gt; | site_id &lt;chr&gt; | geom &lt;chr&gt; | geo_point_2d &lt;chr&gt; | geometry &lt;POLYGON [°]&gt; |\n",
       "|---|---|---|---|---|---|---|\n",
       "| 3945 | WELWYN ST | 23970111 | 014527723 | {\"coordinates\": [[[-123.07000584813854, 49.24987403564525], [-123.07000406207052, 49.24996166822032], [-123.07054814175194, 49.249969711822665], [-123.07055042153875, 49.249882087932896], [-123.07000584813854, 49.24987403564525]]], \"type\": \"Polygon\"}                                          | 49.249921869270814, -123.0702771178116 | POLYGON ((-123.07 49.24987,... |\n",
       "| 3955 | WELWYN ST | 23970115 | 014527740 | {\"coordinates\": [[[-123.0700076342004, 49.24978640306883], [-123.07000584813854, 49.24987403564525], [-123.07055042153875, 49.249882087932896], [-123.07055220732926, 49.24981422685563], [-123.07055271505841, 49.249794464033364], [-123.0700076342004, 49.24978640306883]]], \"type\": \"Polygon\"}  | 49.24983424082434, -123.07027915667443 | POLYGON ((-123.07 49.24979,... |\n",
       "| 3969 | WELWYN ST | 23970119 | 014527782 | {\"coordinates\": [[[-123.0700094202561, 49.249698770491044], [-123.0700076342004, 49.24978640306883], [-123.07055271505841, 49.249794464033364], [-123.07055500857015, 49.24970684013244], [-123.07051315332703, 49.249706218029374], [-123.0700094202561, 49.249698770491044]]], \"type\": \"Polygon\"} | 49.24974661188814, -123.07028119542241 | POLYGON ((-123.07 49.2497, ... |\n",
       "| 1399 | E 19TH AV | 69422893 | 007245190 | {\"coordinates\": [[[-123.07625563593871, 49.253595208520274], [-123.07614707274392, 49.25359348107949], [-123.07613458693838, 49.25392767973197], [-123.07624315086562, 49.25392940718403], [-123.07625563593871, 49.253595208520274]]], \"type\": \"Polygon\"}                                          | 49.25376144431683, -123.07619511161461 | POLYGON ((-123.0763 49.2536... |\n",
       "| 1373 | E 19TH AV | 69422873 | 014613557 | {\"coordinates\": [[[-123.07639374476234, 49.25359736608769], [-123.07638124686534, 49.25393155577966], [-123.07652004374253, 49.25393372173649], [-123.07653185361174, 49.25359953248523], [-123.07639374476234, 49.25359736608769]]], \"type\": \"Polygon\"}                                            | 49.25376568232775, -123.0764567168287  | POLYGON ((-123.0764 49.2536... |\n",
       "| 1351 | E 19TH AV | 69422851 | 010815431 | {\"coordinates\": [[[-123.07653185361174, 49.25359953248523], [-123.07652004374253, 49.25393372173649], [-123.07665816726369, 49.25393587897811], [-123.07666997620092, 49.253601689713335], [-123.07653185361174, 49.25359953248523]]], \"type\": \"Polygon\"}                                           | 49.2537677059162, -123.07659501019803  | POLYGON ((-123.0765 49.2536... |\n",
       "\n"
      ],
      "text/plain": [
       "  civic_number streetname tax_coord site_id  \n",
       "1 3945         WELWYN ST  23970111  014527723\n",
       "2 3955         WELWYN ST  23970115  014527740\n",
       "3 3969         WELWYN ST  23970119  014527782\n",
       "4 1399         E 19TH AV  69422893  007245190\n",
       "5 1373         E 19TH AV  69422873  014613557\n",
       "6 1351         E 19TH AV  69422851  010815431\n",
       "  geom                                                                                                                                                                                                                                                                                               \n",
       "1 {\"coordinates\": [[[-123.07000584813854, 49.24987403564525], [-123.07000406207052, 49.24996166822032], [-123.07054814175194, 49.249969711822665], [-123.07055042153875, 49.249882087932896], [-123.07000584813854, 49.24987403564525]]], \"type\": \"Polygon\"}                                         \n",
       "2 {\"coordinates\": [[[-123.0700076342004, 49.24978640306883], [-123.07000584813854, 49.24987403564525], [-123.07055042153875, 49.249882087932896], [-123.07055220732926, 49.24981422685563], [-123.07055271505841, 49.249794464033364], [-123.0700076342004, 49.24978640306883]]], \"type\": \"Polygon\"} \n",
       "3 {\"coordinates\": [[[-123.0700094202561, 49.249698770491044], [-123.0700076342004, 49.24978640306883], [-123.07055271505841, 49.249794464033364], [-123.07055500857015, 49.24970684013244], [-123.07051315332703, 49.249706218029374], [-123.0700094202561, 49.249698770491044]]], \"type\": \"Polygon\"}\n",
       "4 {\"coordinates\": [[[-123.07625563593871, 49.253595208520274], [-123.07614707274392, 49.25359348107949], [-123.07613458693838, 49.25392767973197], [-123.07624315086562, 49.25392940718403], [-123.07625563593871, 49.253595208520274]]], \"type\": \"Polygon\"}                                         \n",
       "5 {\"coordinates\": [[[-123.07639374476234, 49.25359736608769], [-123.07638124686534, 49.25393155577966], [-123.07652004374253, 49.25393372173649], [-123.07653185361174, 49.25359953248523], [-123.07639374476234, 49.25359736608769]]], \"type\": \"Polygon\"}                                           \n",
       "6 {\"coordinates\": [[[-123.07653185361174, 49.25359953248523], [-123.07652004374253, 49.25393372173649], [-123.07665816726369, 49.25393587897811], [-123.07666997620092, 49.253601689713335], [-123.07653185361174, 49.25359953248523]]], \"type\": \"Polygon\"}                                          \n",
       "  geo_point_2d                           geometry                      \n",
       "1 49.249921869270814, -123.0702771178116 POLYGON ((-123.07 49.24987,...\n",
       "2 49.24983424082434, -123.07027915667443 POLYGON ((-123.07 49.24979,...\n",
       "3 49.24974661188814, -123.07028119542241 POLYGON ((-123.07 49.2497, ...\n",
       "4 49.25376144431683, -123.07619511161461 POLYGON ((-123.0763 49.2536...\n",
       "5 49.25376568232775, -123.0764567168287  POLYGON ((-123.0764 49.2536...\n",
       "6 49.2537677059162, -123.07659501019803  POLYGON ((-123.0765 49.2536..."
      ]
     },
     "metadata": {},
     "output_type": "display_data"
    }
   ],
   "source": [
    "head(property_polygons)"
   ]
  },
  {
   "cell_type": "code",
   "execution_count": null,
   "metadata": {
    "vscode": {
     "languageId": "r"
    }
   },
   "outputs": [],
   "source": []
  }
 ],
 "metadata": {
  "kernelspec": {
   "display_name": "R",
   "language": "R",
   "name": "ir"
  },
  "language_info": {
   "codemirror_mode": "r",
   "file_extension": ".r",
   "mimetype": "text/x-r-source",
   "name": "R",
   "pygments_lexer": "r",
   "version": "4.4.1"
  }
 },
 "nbformat": 4,
 "nbformat_minor": 2
}
