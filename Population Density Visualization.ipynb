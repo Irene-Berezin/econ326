{
 "cells": [
  {
   "cell_type": "code",
   "execution_count": null,
   "metadata": {
    "vscode": {
     "languageId": "r"
    }
   },
   "outputs": [],
   "source": [
    "\n",
    "library(cancensus)\n",
    "options(cancensus.api_key='CensusMapper_f228791d9506a7a747ece66db73b95be')\n",
    "options(cancensus.cache_path = \"/cache\")"
   ]
  },
  {
   "cell_type": "code",
   "execution_count": null,
   "metadata": {
    "vscode": {
     "languageId": "r"
    }
   },
   "outputs": [],
   "source": [
    "census_data <- get_census(dataset='CA16', regions=list(CSD=\"5915022\"), vectors=c(\"v_CA16_401\",\"v_CA16_404\",\"v_CA16_406\",\"v_CA16_1\",\"v_CA16_2396\",\"v_CA16_2510\"), labels=\"detailed\", geo_format=\"sf\", level='DA')"
   ]
  },
  {
   "cell_type": "code",
   "execution_count": null,
   "metadata": {
    "vscode": {
     "languageId": "r"
    }
   },
   "outputs": [],
   "source": [
    "census_data_clean <- census_data|>\n",
    "    rename(\n",
    "        name = 'GeoUID',\n",
    "        households = Households, \n",
    "        dwellings = Dwellings, \n",
    "        population = `v_CA16_401: Population, 2016` ,\n",
    "        population_density = 'v_CA16_406: Population density per square kilometre', \n",
    "        region = `Region Name` , \n",
    "        area_sq_km = `Area (sq km)`, \n",
    "        age =  `v_CA16_1: Age Stats` , \n",
    "        income = `v_CA16_2396: Total - Income statistics in 2015 for private households by household size - 100% data`     \n",
    "    )|>\n",
    "    select(name, households, dwellings, population,population_density, region, area_sq_km, age, income)|>\n",
    "    filter(region == \"Vancouver\")|>\n",
    "    glimpse()"
   ]
  },
  {
   "cell_type": "code",
   "execution_count": null,
   "metadata": {
    "vscode": {
     "languageId": "r"
    }
   },
   "outputs": [],
   "source": [
    "ggmap(map) +\n",
    "  geom_sf(data = census_data_clean, aes(fill = population_density),inherit.aes = FALSE) +\n",
    "  scale_fill_viridis_c() +\n",
    "  scale_fill_gradient(low = \"lightyellow\", high = \"red\") +\n",
    "  coord_sf(crs = st_crs(4326)) +\n",
    "  theme_minimal() +\n",
    "  labs(title = \"Population Density by Census Area\", fill = \"Population Density (sq km)\", x = \"Longitude\", y = \"Latitude\")"
   ]
  }
 ],
 "metadata": {
  "kernelspec": {
   "display_name": "R",
   "language": "R",
   "name": "ir"
  },
  "language_info": {
   "name": "R"
  }
 },
 "nbformat": 4,
 "nbformat_minor": 2
}
