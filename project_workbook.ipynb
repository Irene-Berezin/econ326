{
 "cells": [
  {
   "cell_type": "markdown",
   "metadata": {},
   "source": [
    "<h2>Project Workbook<h2>"
   ]
  },
  {
   "cell_type": "markdown",
   "metadata": {},
   "source": [
    "Author: Irene Berezin, Kaiyan Zhang, Niko Bauer, Jerrold Huang"
   ]
  },
  {
   "cell_type": "code",
   "execution_count": null,
   "metadata": {
    "vscode": {
     "languageId": "r"
    }
   },
   "outputs": [
    {
     "name": "stderr",
     "output_type": "stream",
     "text": [
      "Warning message:\n",
      "\"package 'sandwich' is in use and will not be installed\"\n",
      "Warning message:\n",
      "\"package 'coefplot' is in use and will not be installed\"\n",
      "Warning message:\n",
      "\"package 'lmtest' is in use and will not be installed\"\n",
      "Installing package into 'C:/Users/irene/AppData/Local/R/win-library/4.4'\n",
      "(as 'lib' is unspecified)\n",
      "\n"
     ]
    },
    {
     "name": "stdout",
     "output_type": "stream",
     "text": [
      "package 'xtable' successfully unpacked and MD5 sums checked\n",
      "\n",
      "The downloaded binary packages are in\n",
      "\tC:\\Users\\irene\\AppData\\Local\\Temp\\RtmpmoY3ba\\downloaded_packages\n"
     ]
    }
   ],
   "source": [
    "# Installing required packages\n",
    "install.packages(\"sandwich\")\n",
    "install.packages(\"coefplot\")\n",
    "install.packages(\"lmtest\")\n",
    "install.packages(\"kableExtra\")\n"
   ]
  },
  {
   "cell_type": "code",
   "execution_count": 113,
   "metadata": {
    "vscode": {
     "languageId": "r"
    }
   },
   "outputs": [
    {
     "name": "stderr",
     "output_type": "stream",
     "text": [
      "\n",
      "Attaching package: 'kableExtra'\n",
      "\n",
      "\n",
      "The following object is masked from 'package:dplyr':\n",
      "\n",
      "    group_rows\n",
      "\n",
      "\n"
     ]
    }
   ],
   "source": [
    "# Loading packages\n",
    "library(geojsonio)\n",
    "library(tidyverse)\n",
    "library(ggplot2)\n",
    "library(tidyr)\n",
    "library(dplyr)\n",
    "library(\"knitr\")\n",
    "library(broom)\n",
    "library(stargazer)\n",
    "library(units)\n",
    "library(sf)\n",
    "library(car)\n",
    "library(sandwich)\n",
    "library(coefplot)\n",
    "library(lmtest)\n",
    "library(VancouvR)\n",
    "library(\"kableExtra\")"
   ]
  },
  {
   "cell_type": "markdown",
   "metadata": {},
   "source": [
    "### Summary statistics table"
   ]
  },
  {
   "cell_type": "code",
   "execution_count": 114,
   "metadata": {
    "vscode": {
     "languageId": "r"
    }
   },
   "outputs": [
    {
     "name": "stdout",
     "output_type": "stream",
     "text": [
      "Reading layer `census_new_index_crime' from data source \n",
      "  `C:\\econ326-1\\census_new_index_crime.geojson' using driver `GeoJSON'\n",
      "Simple feature collection with 993 features and 18 fields\n",
      "Geometry type: MULTIPOLYGON\n",
      "Dimension:     XY\n",
      "Bounding box:  xmin: -123.2242 ymin: 49.19853 xmax: -123.0229 ymax: 49.31408\n",
      "Geodetic CRS:  WGS 84\n"
     ]
    },
    {
     "name": "stderr",
     "output_type": "stream",
     "text": [
      "Warning message:\n",
      "\"\u001b[1m\u001b[22mThere were 4 warnings in `stopifnot()`.\n",
      "The first warning was:\n",
      "\u001b[1m\u001b[22m\u001b[36mℹ\u001b[39m In argument: `across(...)`.\n",
      "Caused by warning:\n",
      "\u001b[33m!\u001b[39m NAs introduced by coercion\n",
      "\u001b[1m\u001b[22m\u001b[36mℹ\u001b[39m Run `dplyr::last_dplyr_warnings()` to see the 3 remaining warnings.\"\n"
     ]
    },
    {
     "name": "stdout",
     "output_type": "stream",
     "text": [
      "Rows: 989\n",
      "Columns: 19\n",
      "$ name                 \u001b[3m\u001b[90m<chr>\u001b[39m\u001b[23m \"59150307\", \"59150308\", \"59150309\", \"59150310\", \"…\n",
      "$ households           \u001b[3m\u001b[90m<int>\u001b[39m\u001b[23m 254, 203, 269, 283, 181, 203, 402, 170, 333, 174,…\n",
      "$ dwellings            \u001b[3m\u001b[90m<int>\u001b[39m\u001b[23m 273, 223, 299, 310, 199, 211, 418, 181, 356, 189,…\n",
      "$ population           \u001b[3m\u001b[90m<int>\u001b[39m\u001b[23m 632, 501, 745, 536, 532, 562, 1088, 556, 959, 506…\n",
      "$ population_density   \u001b[3m\u001b[90m<dbl>\u001b[39m\u001b[23m 2110.9, 4575.3, 6663.7, 4895.0, 6567.9, 6445.0, 6…\n",
      "$ region               \u001b[3m\u001b[90m<chr>\u001b[39m\u001b[23m \"Vancouver\", \"Vancouver\", \"Vancouver\", \"Vancouver…\n",
      "$ area_sq_km           \u001b[3m\u001b[90m<dbl>\u001b[39m\u001b[23m 0.29926, 0.10956, 0.11190, 0.10940, 0.08094, 0.08…\n",
      "$ age                  \u001b[3m\u001b[90m<int>\u001b[39m\u001b[23m 630, 500, 745, 540, 530, 560, 1085, 555, 960, 510…\n",
      "$ income               \u001b[3m\u001b[90m<dbl>\u001b[39m\u001b[23m 0.90965, 0.93611, 0.84736, 0.45184, 0.82517, 0.74…\n",
      "$ immigrant_prop       \u001b[3m\u001b[90m<dbl>\u001b[39m\u001b[23m 0.2610759, 0.2894212, 0.3557047, 0.2891791, 0.404…\n",
      "$ education_prop       \u001b[3m\u001b[90m<dbl>\u001b[39m\u001b[23m 0.3085443, 0.2794411, 0.3154362, 0.1865672, 0.253…\n",
      "$ school_index         \u001b[3m\u001b[90m<dbl>\u001b[39m\u001b[23m 1.967207, 2.127046, 2.283703, 3.196982, 2.388786,…\n",
      "$ light_index          \u001b[3m\u001b[90m<dbl>\u001b[39m\u001b[23m 3.476492, 3.318048, 3.687467, 3.915391, 3.068842,…\n",
      "$ bus_index            \u001b[3m\u001b[90m<dbl>\u001b[39m\u001b[23m 2.182603, 2.310107, 2.631079, 4.245162, 2.604649,…\n",
      "$ cultural_space_index \u001b[3m\u001b[90m<dbl>\u001b[39m\u001b[23m 2.157921, 2.214813, 2.337378, 2.244403, 2.351434,…\n",
      "$ crime_count          \u001b[3m\u001b[90m<int>\u001b[39m\u001b[23m 28, 16, 31, 24, 14, 13, 20, 15, 23, 12, 15, 12, 8…\n",
      "$ crime_rate           \u001b[3m\u001b[90m<dbl>\u001b[39m\u001b[23m 443.0380, 319.3613, 416.1074, 447.7612, 263.1579,…\n",
      "$ mean_land_value      \u001b[3m\u001b[90m<dbl>\u001b[39m\u001b[23m 0.9556436, 1.0139412, 0.7501839, 1.1976135, 0.904…\n",
      "$ geometry             \u001b[3m\u001b[90m<MULTIPOLYGON [°]>\u001b[39m\u001b[23m MULTIPOLYGON (((-123.0233 4..., MULT…\n"
     ]
    }
   ],
   "source": [
    "census_index_crime <- st_read(\"census_new_index_crime.geojson\") |>\n",
    "    mutate(across(c(immigrant_prop, education_prop, mean_land_value,income), as.double))|>\n",
    "    na.omit()|>\n",
    "    glimpse()"
   ]
  },
  {
   "cell_type": "code",
   "execution_count": 123,
   "metadata": {
    "vscode": {
     "languageId": "r"
    }
   },
   "outputs": [],
   "source": [
    "sum_stats <- function(column) {\n",
    "    col_name <- deparse(substitute(column))\n",
    "    col_name <- gsub(\".*\\\\$\", \"\", col_name)\n",
    "\n",
    "    dataframe = data.frame(mean = round(mean(column), 3),\n",
    "                            standard_dev = round(sd(column), 3),\n",
    "                            max = round(max(column), 3),\n",
    "                            min = round(min(column), 3),\n",
    "                            col_name = col_name)\n",
    "    return(dataframe)}"
   ]
  },
  {
   "cell_type": "code",
   "execution_count": 124,
   "metadata": {
    "vscode": {
     "languageId": "r"
    }
   },
   "outputs": [
    {
     "data": {
      "text/html": [
       "<table class=\"dataframe\">\n",
       "<caption>A data.frame: 11 × 5</caption>\n",
       "<thead>\n",
       "\t<tr><th scope=col>mean</th><th scope=col>standard_dev</th><th scope=col>max</th><th scope=col>min</th><th scope=col>col_name</th></tr>\n",
       "\t<tr><th scope=col>&lt;dbl&gt;</th><th scope=col>&lt;dbl&gt;</th><th scope=col>&lt;dbl&gt;</th><th scope=col>&lt;dbl&gt;</th><th scope=col>&lt;chr&gt;</th></tr>\n",
       "</thead>\n",
       "<tbody>\n",
       "\t<tr><td>  0.730</td><td>  0.248</td><td>    2.135</td><td>  0.127</td><td>income              </td></tr>\n",
       "\t<tr><td>637.240</td><td>400.194</td><td> 8775.000</td><td>185.000</td><td>age                 </td></tr>\n",
       "\t<tr><td>  0.417</td><td>  0.150</td><td>    0.880</td><td>  0.078</td><td>immigrant_prop      </td></tr>\n",
       "\t<tr><td>  0.336</td><td>  0.135</td><td>    0.637</td><td>  0.000</td><td>education_prop      </td></tr>\n",
       "\t<tr><td>  3.363</td><td>  0.729</td><td>    8.119</td><td>  1.000</td><td>school_index        </td></tr>\n",
       "\t<tr><td>  4.414</td><td>  0.802</td><td>    8.313</td><td>  1.894</td><td>light_index         </td></tr>\n",
       "\t<tr><td>  3.627</td><td>  0.707</td><td>    6.995</td><td>  1.263</td><td>bus_index           </td></tr>\n",
       "\t<tr><td>  2.999</td><td>  0.850</td><td>    7.732</td><td>  1.000</td><td>cultural_space_index</td></tr>\n",
       "\t<tr><td> 34.886</td><td>117.082</td><td> 2731.000</td><td>  1.000</td><td>crime_count         </td></tr>\n",
       "\t<tr><td>460.524</td><td>841.972</td><td>15000.000</td><td> 13.908</td><td>crime_rate          </td></tr>\n",
       "\t<tr><td>  1.944</td><td>  3.815</td><td>   64.832</td><td>  0.063</td><td>mean_land_value     </td></tr>\n",
       "</tbody>\n",
       "</table>\n"
      ],
      "text/latex": [
       "A data.frame: 11 × 5\n",
       "\\begin{tabular}{lllll}\n",
       " mean & standard\\_dev & max & min & col\\_name\\\\\n",
       " <dbl> & <dbl> & <dbl> & <dbl> & <chr>\\\\\n",
       "\\hline\n",
       "\t   0.730 &   0.248 &     2.135 &   0.127 & income              \\\\\n",
       "\t 637.240 & 400.194 &  8775.000 & 185.000 & age                 \\\\\n",
       "\t   0.417 &   0.150 &     0.880 &   0.078 & immigrant\\_prop      \\\\\n",
       "\t   0.336 &   0.135 &     0.637 &   0.000 & education\\_prop      \\\\\n",
       "\t   3.363 &   0.729 &     8.119 &   1.000 & school\\_index        \\\\\n",
       "\t   4.414 &   0.802 &     8.313 &   1.894 & light\\_index         \\\\\n",
       "\t   3.627 &   0.707 &     6.995 &   1.263 & bus\\_index           \\\\\n",
       "\t   2.999 &   0.850 &     7.732 &   1.000 & cultural\\_space\\_index\\\\\n",
       "\t  34.886 & 117.082 &  2731.000 &   1.000 & crime\\_count         \\\\\n",
       "\t 460.524 & 841.972 & 15000.000 &  13.908 & crime\\_rate          \\\\\n",
       "\t   1.944 &   3.815 &    64.832 &   0.063 & mean\\_land\\_value     \\\\\n",
       "\\end{tabular}\n"
      ],
      "text/markdown": [
       "\n",
       "A data.frame: 11 × 5\n",
       "\n",
       "| mean &lt;dbl&gt; | standard_dev &lt;dbl&gt; | max &lt;dbl&gt; | min &lt;dbl&gt; | col_name &lt;chr&gt; |\n",
       "|---|---|---|---|---|\n",
       "|   0.730 |   0.248 |     2.135 |   0.127 | income               |\n",
       "| 637.240 | 400.194 |  8775.000 | 185.000 | age                  |\n",
       "|   0.417 |   0.150 |     0.880 |   0.078 | immigrant_prop       |\n",
       "|   0.336 |   0.135 |     0.637 |   0.000 | education_prop       |\n",
       "|   3.363 |   0.729 |     8.119 |   1.000 | school_index         |\n",
       "|   4.414 |   0.802 |     8.313 |   1.894 | light_index          |\n",
       "|   3.627 |   0.707 |     6.995 |   1.263 | bus_index            |\n",
       "|   2.999 |   0.850 |     7.732 |   1.000 | cultural_space_index |\n",
       "|  34.886 | 117.082 |  2731.000 |   1.000 | crime_count          |\n",
       "| 460.524 | 841.972 | 15000.000 |  13.908 | crime_rate           |\n",
       "|   1.944 |   3.815 |    64.832 |   0.063 | mean_land_value      |\n",
       "\n"
      ],
      "text/plain": [
       "   mean    standard_dev max       min     col_name            \n",
       "1    0.730   0.248          2.135   0.127 income              \n",
       "2  637.240 400.194       8775.000 185.000 age                 \n",
       "3    0.417   0.150          0.880   0.078 immigrant_prop      \n",
       "4    0.336   0.135          0.637   0.000 education_prop      \n",
       "5    3.363   0.729          8.119   1.000 school_index        \n",
       "6    4.414   0.802          8.313   1.894 light_index         \n",
       "7    3.627   0.707          6.995   1.263 bus_index           \n",
       "8    2.999   0.850          7.732   1.000 cultural_space_index\n",
       "9   34.886 117.082       2731.000   1.000 crime_count         \n",
       "10 460.524 841.972      15000.000  13.908 crime_rate          \n",
       "11   1.944   3.815         64.832   0.063 mean_land_value     "
      ]
     },
     "metadata": {},
     "output_type": "display_data"
    }
   ],
   "source": [
    "options(scipen = 9999)\n",
    "\n",
    "income <- sum_stats(census_index_crime$income)\n",
    "age <- sum_stats(census_index_crime$age)\n",
    "immigrant_prop <- sum_stats(census_index_crime$immigrant_prop)\n",
    "education_prop <- sum_stats(census_index_crime$education_prop)\n",
    "school_index <- sum_stats(census_index_crime$school_index)\n",
    "light_index <- sum_stats(census_index_crime$light_index)\n",
    "bus_index <- sum_stats(census_index_crime$bus_index)\n",
    "cultural_space_index <- sum_stats(census_index_crime$cultural_space_index)\n",
    "crime_count <- sum_stats(census_index_crime$crime_count)\n",
    "crime_rate <- sum_stats(census_index_crime$crime_rate)\n",
    "mean_land_value  <- sum_stats(census_index_crime$mean_land_value)\n",
    "\n",
    "summary_statistics <- rbind(income, age, immigrant_prop, education_prop, school_index,\n",
    "                            light_index, bus_index, cultural_space_index, crime_count,\n",
    "                            crime_rate, mean_land_value)\n",
    "\n",
    "summary_statistics"
   ]
  },
  {
   "cell_type": "code",
   "execution_count": 125,
   "metadata": {
    "vscode": {
     "languageId": "r"
    }
   },
   "outputs": [
    {
     "data": {
      "text/plain": [
       "\\begin{table}\n",
       "\\centering\n",
       "\\caption{Table 1: Summary Statistics of Regression Variables}\n",
       "\\centering\n",
       "\\begin{tabular}[t]{r|r|r|r|r}\n",
       "\\hline\n",
       "mean & standard\\_dev & max & min & col\\_name\\\\\n",
       "\\hline\n",
       "0.730 & 0.248 & 2.135 & 0.127 & income\\\\\n",
       "\\hline\n",
       "637.240 & 400.194 & 8775.000 & 185.000 & age\\\\\n",
       "\\hline\n",
       "0.417 & 0.150 & 0.880 & 0.078 & immigrant\\_prop\\\\\n",
       "\\hline\n",
       "0.336 & 0.135 & 0.637 & 0.000 & education\\_prop\\\\\n",
       "\\hline\n",
       "3.363 & 0.729 & 8.119 & 1.000 & school\\_index\\\\\n",
       "\\hline\n",
       "4.414 & 0.802 & 8.313 & 1.894 & light\\_index\\\\\n",
       "\\hline\n",
       "3.627 & 0.707 & 6.995 & 1.263 & bus\\_index\\\\\n",
       "\\hline\n",
       "2.999 & 0.850 & 7.732 & 1.000 & cultural\\_space\\_index\\\\\n",
       "\\hline\n",
       "34.886 & 117.082 & 2731.000 & 1.000 & crime\\_count\\\\\n",
       "\\hline\n",
       "460.524 & 841.972 & 15000.000 & 13.908 & crime\\_rate\\\\\n",
       "\\hline\n",
       "1.944 & 3.815 & 64.832 & 0.063 & mean\\_land\\_value\\\\\n",
       "\\hline\n",
       "\\end{tabular}\n",
       "\\end{table}"
      ]
     },
     "metadata": {},
     "output_type": "display_data"
    }
   ],
   "source": [
    "summary_statistics |>\n",
    "  kbl(caption=\"Table 1: Summary Statistics of Regression Variables\",\n",
    "       format= \"latex\",\n",
    "   col.names = c('mean', 'standard_dev','max','min', 'col_name'),\n",
    "                  align=\"r\") |>\n",
    "   kable_classic(full_width = F, html_font = \"helvetica\")"
   ]
  },
  {
   "cell_type": "markdown",
   "metadata": {},
   "source": [
    "<h4>Linear Regression Check<h4>"
   ]
  },
  {
   "cell_type": "code",
   "execution_count": 44,
   "metadata": {
    "vscode": {
     "languageId": "r"
    }
   },
   "outputs": [
    {
     "name": "stdout",
     "output_type": "stream",
     "text": [
      "Reading layer `census_new_index_crime' from data source \n",
      "  `C:\\econ326-1\\census_new_index_crime.geojson' using driver `GeoJSON'\n",
      "Simple feature collection with 993 features and 18 fields\n",
      "Geometry type: MULTIPOLYGON\n",
      "Dimension:     XY\n",
      "Bounding box:  xmin: -123.2242 ymin: 49.19853 xmax: -123.0229 ymax: 49.31408\n",
      "Geodetic CRS:  WGS 84\n"
     ]
    },
    {
     "name": "stderr",
     "output_type": "stream",
     "text": [
      "Warning message:\n",
      "\"\u001b[1m\u001b[22mThere were 4 warnings in `stopifnot()`.\n",
      "The first warning was:\n",
      "\u001b[1m\u001b[22m\u001b[36mℹ\u001b[39m In argument: `across(...)`.\n",
      "Caused by warning:\n",
      "\u001b[33m!\u001b[39m NAs introduced by coercion\n",
      "\u001b[1m\u001b[22m\u001b[36mℹ\u001b[39m Run `dplyr::last_dplyr_warnings()` to see the 3 remaining warnings.\"\n"
     ]
    },
    {
     "name": "stdout",
     "output_type": "stream",
     "text": [
      "Rows: 989\n",
      "Columns: 19\n",
      "$ name                 \u001b[3m\u001b[90m<chr>\u001b[39m\u001b[23m \"59150307\", \"59150308\", \"59150309\", \"59150310\", \"…\n",
      "$ households           \u001b[3m\u001b[90m<int>\u001b[39m\u001b[23m 254, 203, 269, 283, 181, 203, 402, 170, 333, 174,…\n",
      "$ dwellings            \u001b[3m\u001b[90m<int>\u001b[39m\u001b[23m 273, 223, 299, 310, 199, 211, 418, 181, 356, 189,…\n",
      "$ population           \u001b[3m\u001b[90m<int>\u001b[39m\u001b[23m 632, 501, 745, 536, 532, 562, 1088, 556, 959, 506…\n",
      "$ population_density   \u001b[3m\u001b[90m<dbl>\u001b[39m\u001b[23m 2110.9, 4575.3, 6663.7, 4895.0, 6567.9, 6445.0, 6…\n",
      "$ region               \u001b[3m\u001b[90m<chr>\u001b[39m\u001b[23m \"Vancouver\", \"Vancouver\", \"Vancouver\", \"Vancouver…\n",
      "$ area_sq_km           \u001b[3m\u001b[90m<dbl>\u001b[39m\u001b[23m 0.29926, 0.10956, 0.11190, 0.10940, 0.08094, 0.08…\n",
      "$ age                  \u001b[3m\u001b[90m<int>\u001b[39m\u001b[23m 630, 500, 745, 540, 530, 560, 1085, 555, 960, 510…\n",
      "$ income               \u001b[3m\u001b[90m<dbl>\u001b[39m\u001b[23m 0.90965, 0.93611, 0.84736, 0.45184, 0.82517, 0.74…\n",
      "$ immigrant_prop       \u001b[3m\u001b[90m<dbl>\u001b[39m\u001b[23m 0.2610759, 0.2894212, 0.3557047, 0.2891791, 0.404…\n",
      "$ education_prop       \u001b[3m\u001b[90m<dbl>\u001b[39m\u001b[23m 0.3085443, 0.2794411, 0.3154362, 0.1865672, 0.253…\n",
      "$ school_index         \u001b[3m\u001b[90m<dbl>\u001b[39m\u001b[23m 1.967207, 2.127046, 2.283703, 3.196982, 2.388786,…\n",
      "$ light_index          \u001b[3m\u001b[90m<dbl>\u001b[39m\u001b[23m 3.476492, 3.318048, 3.687467, 3.915391, 3.068842,…\n",
      "$ bus_index            \u001b[3m\u001b[90m<dbl>\u001b[39m\u001b[23m 2.182603, 2.310107, 2.631079, 4.245162, 2.604649,…\n",
      "$ cultural_space_index \u001b[3m\u001b[90m<dbl>\u001b[39m\u001b[23m 2.157921, 2.214813, 2.337378, 2.244403, 2.351434,…\n",
      "$ crime_count          \u001b[3m\u001b[90m<int>\u001b[39m\u001b[23m 28, 16, 31, 24, 14, 13, 20, 15, 23, 12, 15, 12, 8…\n",
      "$ crime_rate           \u001b[3m\u001b[90m<dbl>\u001b[39m\u001b[23m 443.0380, 319.3613, 416.1074, 447.7612, 263.1579,…\n",
      "$ mean_land_value      \u001b[3m\u001b[90m<dbl>\u001b[39m\u001b[23m 0.9556436, 1.0139412, 0.7501839, 1.1976135, 0.904…\n",
      "$ geometry             \u001b[3m\u001b[90m<MULTIPOLYGON [°]>\u001b[39m\u001b[23m MULTIPOLYGON (((-123.0233 4..., MULT…\n"
     ]
    }
   ],
   "source": [
    "# Read in the data\n",
    "census_index_crime <- st_read(\"census_new_index_crime.geojson\") |>\n",
    "    mutate(across(c(immigrant_prop, education_prop, mean_land_value,income), as.double))|>\n",
    "    na.omit()|>\n",
    "    glimpse()"
   ]
  },
  {
   "cell_type": "markdown",
   "metadata": {},
   "source": [
    "Residuals visualization"
   ]
  },
  {
   "cell_type": "code",
   "execution_count": 45,
   "metadata": {
    "vscode": {
     "languageId": "r"
    }
   },
   "outputs": [],
   "source": [
    "fn_residuals <- function(data, dependent_vars, independent_var) {\n",
    "  \n",
    "residuals_list <- list() #empty accumulator list\n",
    "\n",
    "# looping through each variable and calcualting residuals\n",
    "  for (var in dependent_vars) {\n",
    "   formula <- as.formula(paste(var, \"~\", independent_var)) # https://www.rdocumentation.org/packages/stats/versions/3.6.2/topics/formula\n",
    "    model <- lm(formula, data = data)\n",
    "    residuals_list[[var]] <- resid(model) # extracting residuals and assigning to empty list\n",
    "  }\n",
    "  \n",
    "  residuals_df <- as.data.frame(residuals_list)\n",
    "  colnames(residuals_df) <- paste0(\"residual_\", dependent_vars)\n",
    "\n",
    "residuals_df <- cbind(residuals_df, data[dependent_vars]) |>\n",
    "select(!geometry)\n",
    "\n",
    " return(residuals_df)}"
   ]
  },
  {
   "cell_type": "code",
   "execution_count": 46,
   "metadata": {
    "vscode": {
     "languageId": "r"
    }
   },
   "outputs": [
    {
     "data": {
      "image/png": "[encoded data removed]",
      "text/plain": [
       "plot without title"
      ]
     },
     "metadata": {
      "image/png": {
       "height": 720,
       "width": 900
      }
     },
     "output_type": "display_data"
    }
   ],
   "source": [
    "dependent_vars <- c('mean_land_value','school_index', 'light_index', 'bus_index', 'cultural_space_index', 'income', 'immigrant_prop', 'education_prop')\n",
    "residuals_df <- fn_residuals(census_index_crime, dependent_vars, \"crime_rate\")\n",
    "\n",
    "residuals_long <- residuals_df |>\n",
    "  pivot_longer(\n",
    "    cols = starts_with(\"residual_\"), names_to = \"residual_type\", values_to = \"residual_value\") |>\n",
    "  mutate(x_value = case_when(\n",
    "    residual_type == \"residual_mean_land_value\" ~ mean_land_value,\n",
    "    residual_type == \"residual_school_index\" ~ school_index,\n",
    "    residual_type == \"residual_light_index\" ~ light_index,\n",
    "    residual_type == \"residual_bus_index\" ~ bus_index,\n",
    "    residual_type == \"residual_cultural_space_index\" ~ cultural_space_index,\n",
    "    residual_type == \"residual_income\" ~ income,\n",
    "    residual_type == \"residual_immigrant_prop\" ~ immigrant_prop,\n",
    "    residual_type == \"residual_education_prop\" ~ education_prop\n",
    "  ))\n",
    "\n",
    "  options(repr.plot.width = 15, repr.plot.height = 12)\n",
    "\n",
    "residuals_long  <- residuals_long |>\n",
    "  group_by(residual_type) |>\n",
    "  mutate(\n",
    "    model = list(lm(residual_value ~ x_value, data = cur_data())),\n",
    "    fitted_values = predict(model[[1]], newdata = data.frame(x_value = x_value))\n",
    "  ) |>\n",
    "  ungroup()\n",
    "\n",
    "ggplot(residuals_long, aes(x = x_value, y = residual_value)) +\n",
    "  geom_point(alpha=0.3) +\n",
    "  geom_line(aes(y = fitted_values), color = \"#ff9500\", size=1, alpha=0.8) +  \n",
    "  facet_wrap(~ residual_type, scales = \"free\") +\n",
    "  labs(\n",
    "    title = \"Residual vs Respective Xi\",\n",
    "    x = \"Xi\",\n",
    "    y = \"Residual\"\n",
    "  ) +\n",
    "  theme_minimal()"
   ]
  },
  {
   "cell_type": "markdown",
   "metadata": {},
   "source": [
    "Simple regressions and visualizations"
   ]
  },
  {
   "cell_type": "code",
   "execution_count": 47,
   "metadata": {
    "vscode": {
     "languageId": "r"
    }
   },
   "outputs": [
    {
     "name": "stderr",
     "output_type": "stream",
     "text": [
      "\u001b[1m\u001b[22m`geom_smooth()` using formula = 'y ~ x'\n"
     ]
    },
    {
     "data": {
      "image/png": "[encoded data removed]",
      "text/plain": [
       "plot without title"
      ]
     },
     "metadata": {
      "image/png": {
       "height": 720,
       "width": 900
      }
     },
     "output_type": "display_data"
    }
   ],
   "source": [
    "regressors <- c('light_index', 'mean_land_value','school_index', 'bus_index', 'cultural_space_index', 'income', 'immigrant_prop', 'education_prop')\n",
    "\n",
    "long_data <- census_index_crime |>\n",
    "  pivot_longer(cols = regressors,\n",
    "               names_to = \"regressor\",\n",
    "               values_to = \"value\")\n",
    "\n",
    "variables_regression_scatter <- ggplot(long_data, aes(x = value, y = crime_rate)) +\n",
    "  geom_point(color = \"darkblue\", alpha = 0.6) +\n",
    "  facet_wrap(~ regressor, scales = \"free_x\") + \n",
    "  geom_smooth(method = \"lm\", se = FALSE, color = \"red\") +\n",
    "  labs(title = \"Crime Rate vs Regressors\",\n",
    "       x = \"Explanatory Variable Value\",\n",
    "       y = \"Crime Rate\") +\n",
    "  theme_minimal() +\n",
    "  theme(plot.title = element_text(size = 20, face = \"bold\"),\n",
    "        strip.text = element_text(size = 15),  \n",
    "        axis.title = element_text(size = 14),\n",
    "        axis.text = element_text(size = 12))\n",
    "        \n",
    "variables_regression_scatter"
   ]
  },
  {
   "cell_type": "code",
   "execution_count": 48,
   "metadata": {
    "vscode": {
     "languageId": "r"
    }
   },
   "outputs": [
    {
     "name": "stdout",
     "output_type": "stream",
     "text": [
      "\n",
      "Simple Regression Results\n",
      "============================================================================================================================\n",
      "                                                                    Dependent variable:                                     \n",
      "                               ---------------------------------------------------------------------------------------------\n",
      "                                                                        Crime Rate                                          \n",
      "                                    (1)         (2)        (3)        (4)         (5)         (6)         (7)        (8)    \n",
      "----------------------------------------------------------------------------------------------------------------------------\n",
      "light_index                     413.580***                                                                                  \n",
      "                                 (30.733)                                                                                   \n",
      "                                                                                                                            \n",
      "mean_land_value                                6.177                                                                        \n",
      "                                              (7.023)                                                                       \n",
      "                                                                                                                            \n",
      "school_index                                             50.633                                                             \n",
      "                                                        (36.736)                                                            \n",
      "                                                                                                                            \n",
      "bus_index                                                         375.805***                                                \n",
      "                                                                   (35.955)                                                 \n",
      "                                                                                                                            \n",
      "cultural_space_index                                                          393.231***                                    \n",
      "                                                                               (28.945)                                     \n",
      "                                                                                                                            \n",
      "income                                                                                    -583.360***                       \n",
      "                                                                                           (106.463)                        \n",
      "                                                                                                                            \n",
      "immigrant_prop                                                                                        -964.330***           \n",
      "                                                                                                       (175.969)            \n",
      "                                                                                                                            \n",
      "education_prop                                                                                                    445.897** \n",
      "                                                                                                                  (198.519) \n",
      "                                                                                                                            \n",
      "Constant                       -1,365.077*** 448.519*** 290.236** -902.400*** -718.617*** 886.297***  863.030***  310.618***\n",
      "                                 (137.878)    (30.054)  (126.415)  (132.853)   (90.210)    (82.062)    (78.045)    (71.890) \n",
      "                                                                                                                            \n",
      "----------------------------------------------------------------------------------------------------------------------------\n",
      "Observations                        989         989        989        989         989         989         989        989    \n",
      "R2                                 0.155       0.001      0.002      0.100       0.158       0.030       0.030      0.005   \n",
      "Adjusted R2                        0.154      -0.0002     0.001      0.099       0.157       0.029       0.029      0.004   \n",
      "Residual Std. Error (df = 987)    774.350     842.068    841.589    799.323     773.202     829.871     829.868    840.254  \n",
      "F Statistic (df = 1; 987)       181.092***     0.774      1.900   109.244***  184.564***   30.025***   30.032***   5.045**  \n",
      "============================================================================================================================\n",
      "Note:                                                                                            *p<0.1; **p<0.05; ***p<0.01\n"
     ]
    }
   ],
   "source": [
    "# Carry out all the simple regressions\n",
    "outcome <- \"crime_rate\"\n",
    "\n",
    "simple_regressions <- map(regressors, ~ lm(as.formula(paste(outcome, \"~\", .x)), data = census_index_crime))\n",
    "\n",
    "names(simple_regressions) <- regressors\n",
    "\n",
    "stargazer(simple_regressions, type = \"text\",\n",
    "          title = \"Simple Regression Results\",\n",
    "          dep.var.labels = c(\"Crime Rate\"))"
   ]
  },
  {
   "cell_type": "markdown",
   "metadata": {},
   "source": [
    "<h4> Shifting to log-log regression model <h4>"
   ]
  },
  {
   "cell_type": "code",
   "execution_count": 49,
   "metadata": {
    "vscode": {
     "languageId": "r"
    }
   },
   "outputs": [
    {
     "name": "stdout",
     "output_type": "stream",
     "text": [
      "[1] \"Variables with zero counts:\"\n",
      "                name           households            dwellings \n",
      "                  NA                    0                    0 \n",
      "          population   population_density               region \n",
      "                   0                    0                   NA \n",
      "          area_sq_km                  age               income \n",
      "                   0                    0                    0 \n",
      "      immigrant_prop       education_prop         school_index \n",
      "                   0                    1                    0 \n",
      "         light_index            bus_index cultural_space_index \n",
      "                   0                    0                    0 \n",
      "         crime_count           crime_rate      mean_land_value \n",
      "                   0                    0                    0 \n",
      "            geometry \n",
      "                  NA \n"
     ]
    }
   ],
   "source": [
    "# Identify variables with zeros\n",
    "zero_counts <- sapply(census_index_crime, function(x) {\n",
    "  if (is.numeric(x)) {\n",
    "    sum(x == 0, na.rm = TRUE)\n",
    "  } else {\n",
    "    NA\n",
    "  }\n",
    "})\n",
    "print(\"Variables with zero counts:\")\n",
    "print(zero_counts)"
   ]
  },
  {
   "cell_type": "code",
   "execution_count": 50,
   "metadata": {
    "vscode": {
     "languageId": "r"
    }
   },
   "outputs": [
    {
     "name": "stdout",
     "output_type": "stream",
     "text": [
      "Rows: 989\n",
      "Columns: 26\n",
      "$ name                     \u001b[3m\u001b[90m<chr>\u001b[39m\u001b[23m \"59150307\", \"59150308\", \"59150309\", \"59150310…\n",
      "$ households               \u001b[3m\u001b[90m<int>\u001b[39m\u001b[23m 254, 203, 269, 283, 181, 203, 402, 170, 333, …\n",
      "$ dwellings                \u001b[3m\u001b[90m<int>\u001b[39m\u001b[23m 273, 223, 299, 310, 199, 211, 418, 181, 356, …\n",
      "$ population               \u001b[3m\u001b[90m<int>\u001b[39m\u001b[23m 632, 501, 745, 536, 532, 562, 1088, 556, 959,…\n",
      "$ population_density       \u001b[3m\u001b[90m<dbl>\u001b[39m\u001b[23m 2110.9, 4575.3, 6663.7, 4895.0, 6567.9, 6445.…\n",
      "$ region                   \u001b[3m\u001b[90m<chr>\u001b[39m\u001b[23m \"Vancouver\", \"Vancouver\", \"Vancouver\", \"Vanco…\n",
      "$ area_sq_km               \u001b[3m\u001b[90m<dbl>\u001b[39m\u001b[23m 0.29926, 0.10956, 0.11190, 0.10940, 0.08094, …\n",
      "$ age                      \u001b[3m\u001b[90m<int>\u001b[39m\u001b[23m 630, 500, 745, 540, 530, 560, 1085, 555, 960,…\n",
      "$ income                   \u001b[3m\u001b[90m<dbl>\u001b[39m\u001b[23m 0.90965, 0.93611, 0.84736, 0.45184, 0.82517, …\n",
      "$ immigrant_prop           \u001b[3m\u001b[90m<dbl>\u001b[39m\u001b[23m 0.2610759, 0.2894212, 0.3557047, 0.2891791, 0…\n",
      "$ education_prop           \u001b[3m\u001b[90m<dbl>\u001b[39m\u001b[23m 0.3085443, 0.2794411, 0.3154362, 0.1865672, 0…\n",
      "$ school_index             \u001b[3m\u001b[90m<dbl>\u001b[39m\u001b[23m 1.967207, 2.127046, 2.283703, 3.196982, 2.388…\n",
      "$ light_index              \u001b[3m\u001b[90m<dbl>\u001b[39m\u001b[23m 3.476492, 3.318048, 3.687467, 3.915391, 3.068…\n",
      "$ bus_index                \u001b[3m\u001b[90m<dbl>\u001b[39m\u001b[23m 2.182603, 2.310107, 2.631079, 4.245162, 2.604…\n",
      "$ cultural_space_index     \u001b[3m\u001b[90m<dbl>\u001b[39m\u001b[23m 2.157921, 2.214813, 2.337378, 2.244403, 2.351…\n",
      "$ crime_count              \u001b[3m\u001b[90m<int>\u001b[39m\u001b[23m 28, 16, 31, 24, 14, 13, 20, 15, 23, 12, 15, 1…\n",
      "$ crime_rate               \u001b[3m\u001b[90m<dbl>\u001b[39m\u001b[23m 443.0380, 319.3613, 416.1074, 447.7612, 263.1…\n",
      "$ mean_land_value          \u001b[3m\u001b[90m<dbl>\u001b[39m\u001b[23m 0.9556436, 1.0139412, 0.7501839, 1.1976135, 0…\n",
      "$ geometry                 \u001b[3m\u001b[90m<MULTIPOLYGON [°]>\u001b[39m\u001b[23m MULTIPOLYGON (((-123.0233 4..., …\n",
      "$ log_crime_rate           \u001b[3m\u001b[90m<dbl>\u001b[39m\u001b[23m 6.093655, 5.766323, 6.030943, 6.104260, 5.572…\n",
      "$ log_mean_land_value      \u001b[3m\u001b[90m<dbl>\u001b[39m\u001b[23m -0.04537024, 0.01384492, -0.28743690, 0.18033…\n",
      "$ log_school_index         \u001b[3m\u001b[90m<dbl>\u001b[39m\u001b[23m 0.6766149, 0.7547340, 0.8257981, 1.1622073, 0…\n",
      "$ log_light_index          \u001b[3m\u001b[90m<dbl>\u001b[39m\u001b[23m 1.246024, 1.199377, 1.304940, 1.364915, 1.121…\n",
      "$ log_bus_index            \u001b[3m\u001b[90m<dbl>\u001b[39m\u001b[23m 0.7805182, 0.8372938, 0.9673941, 1.4457801, 0…\n",
      "$ log_cultural_space_index \u001b[3m\u001b[90m<dbl>\u001b[39m\u001b[23m 0.7691453, 0.7951678, 0.8490300, 0.8084395, 0…\n",
      "$ log_income               \u001b[3m\u001b[90m<dbl>\u001b[39m\u001b[23m -0.094695369, -0.066022288, -0.165629645, -0.…\n"
     ]
    }
   ],
   "source": [
    "# log transformation for variables other than immigrant_prop and education_prop\n",
    "census_index_crime_log <- census_index_crime |> \n",
    "  mutate(\n",
    "    log_crime_rate = log(crime_rate),\n",
    "    log_mean_land_value = log(mean_land_value),\n",
    "    log_school_index = log(school_index),\n",
    "    log_light_index = log(light_index),\n",
    "    log_bus_index = log(bus_index),\n",
    "    log_cultural_space_index = log(cultural_space_index),\n",
    "    log_income = log(income),\n",
    "    immigrant_prop = immigrant_prop,  \n",
    "    education_prop = education_prop \n",
    "  )|>\n",
    "  glimpse()\n"
   ]
  },
  {
   "cell_type": "code",
   "execution_count": 51,
   "metadata": {
    "vscode": {
     "languageId": "r"
    }
   },
   "outputs": [
    {
     "name": "stdout",
     "output_type": "stream",
     "text": [
      "\n",
      "\tstudentized Breusch-Pagan test\n",
      "\n",
      "data:  reg_log_simple\n",
      "BP = 64.428, df = 2, p-value = 1.022e-14\n",
      "\n",
      "\n",
      "Log-Log Regression Results with Robust Standard Errors\n",
      "===============================================\n",
      "                        Dependent variable:    \n",
      "                    ---------------------------\n",
      "                          Log Crime Rate       \n",
      "-----------------------------------------------\n",
      "log_light_index          1.791*** (0.154)      \n",
      "Constant                 3.051*** (0.221)      \n",
      "-----------------------------------------------\n",
      "Observations                    989            \n",
      "R2                             0.168           \n",
      "Adjusted R2                    0.168           \n",
      "Residual Std. Error      0.745 (df = 987)      \n",
      "F Statistic          199.876*** (df = 1; 987)  \n",
      "===============================================\n",
      "Note:               *p<0.1; **p<0.05; ***p<0.01\n"
     ]
    }
   ],
   "source": [
    "# Conduct a regression on log(light index) only\n",
    "reg_log_simple <- lm(log_crime_rate ~  log_light_index,\n",
    "              data = census_index_crime_log)\n",
    "\n",
    "white_test <- bptest(reg_log_simple, ~ fitted(reg_log_simple) + I(fitted(reg_log_simple)^2), data = census_index_crime_log)\n",
    "print(white_test) \n",
    "\n",
    "robust_se_simple <- sqrt(diag(vcovHC(reg_log_simple, type = \"HC1\")))\n",
    "\n",
    "stargazer(reg_log_simple, type = \"text\", \n",
    "        title = \"Log-Log Regression Results with Robust Standard Errors\", \n",
    "        dep.var.labels = c(\"Log Crime Rate\"), \n",
    "        se = list(robust_se_simple),\n",
    "        single.row=TRUE)"
   ]
  },
  {
   "cell_type": "markdown",
   "metadata": {},
   "source": [
    "We shift to using log(light count) instead for research topic concern."
   ]
  },
  {
   "cell_type": "code",
   "execution_count": 52,
   "metadata": {
    "vscode": {
     "languageId": "r"
    }
   },
   "outputs": [
    {
     "name": "stderr",
     "output_type": "stream",
     "text": [
      "Reading data from temporary cache\n",
      "\n"
     ]
    }
   ],
   "source": [
    "light_data <- get_cov_data(dataset_id = 'street-lighting-poles')|>\n",
    "    st_sf()"
   ]
  },
  {
   "cell_type": "code",
   "execution_count": 53,
   "metadata": {
    "vscode": {
     "languageId": "r"
    }
   },
   "outputs": [
    {
     "name": "stdout",
     "output_type": "stream",
     "text": [
      "Rows: 989\n",
      "Columns: 28\n",
      "$ name                     \u001b[3m\u001b[90m<chr>\u001b[39m\u001b[23m \"59150307\", \"59150308\", \"59150309\", \"59150310…\n",
      "$ households               \u001b[3m\u001b[90m<int>\u001b[39m\u001b[23m 254, 203, 269, 283, 181, 203, 402, 170, 333, …\n",
      "$ dwellings                \u001b[3m\u001b[90m<int>\u001b[39m\u001b[23m 273, 223, 299, 310, 199, 211, 418, 181, 356, …\n",
      "$ population               \u001b[3m\u001b[90m<int>\u001b[39m\u001b[23m 632, 501, 745, 536, 532, 562, 1088, 556, 959,…\n",
      "$ population_density       \u001b[3m\u001b[90m<dbl>\u001b[39m\u001b[23m 2110.9, 4575.3, 6663.7, 4895.0, 6567.9, 6445.…\n",
      "$ region                   \u001b[3m\u001b[90m<chr>\u001b[39m\u001b[23m \"Vancouver\", \"Vancouver\", \"Vancouver\", \"Vanco…\n",
      "$ area_sq_km               \u001b[3m\u001b[90m<dbl>\u001b[39m\u001b[23m 0.29926, 0.10956, 0.11190, 0.10940, 0.08094, …\n",
      "$ age                      \u001b[3m\u001b[90m<int>\u001b[39m\u001b[23m 630, 500, 745, 540, 530, 560, 1085, 555, 960,…\n",
      "$ income                   \u001b[3m\u001b[90m<dbl>\u001b[39m\u001b[23m 0.90965, 0.93611, 0.84736, 0.45184, 0.82517, …\n",
      "$ immigrant_prop           \u001b[3m\u001b[90m<dbl>\u001b[39m\u001b[23m 0.2610759, 0.2894212, 0.3557047, 0.2891791, 0…\n",
      "$ education_prop           \u001b[3m\u001b[90m<dbl>\u001b[39m\u001b[23m 0.3085443, 0.2794411, 0.3154362, 0.1865672, 0…\n",
      "$ school_index             \u001b[3m\u001b[90m<dbl>\u001b[39m\u001b[23m 1.967207, 2.127046, 2.283703, 3.196982, 2.388…\n",
      "$ light_index              \u001b[3m\u001b[90m<dbl>\u001b[39m\u001b[23m 3.476492, 3.318048, 3.687467, 3.915391, 3.068…\n",
      "$ bus_index                \u001b[3m\u001b[90m<dbl>\u001b[39m\u001b[23m 2.182603, 2.310107, 2.631079, 4.245162, 2.604…\n",
      "$ cultural_space_index     \u001b[3m\u001b[90m<dbl>\u001b[39m\u001b[23m 2.157921, 2.214813, 2.337378, 2.244403, 2.351…\n",
      "$ crime_count              \u001b[3m\u001b[90m<int>\u001b[39m\u001b[23m 28, 16, 31, 24, 14, 13, 20, 15, 23, 12, 15, 1…\n",
      "$ crime_rate               \u001b[3m\u001b[90m<dbl>\u001b[39m\u001b[23m 443.0380, 319.3613, 416.1074, 447.7612, 263.1…\n",
      "$ mean_land_value          \u001b[3m\u001b[90m<dbl>\u001b[39m\u001b[23m 0.9556436, 1.0139412, 0.7501839, 1.1976135, 0…\n",
      "$ log_crime_rate           \u001b[3m\u001b[90m<dbl>\u001b[39m\u001b[23m 6.093655, 5.766323, 6.030943, 6.104260, 5.572…\n",
      "$ log_mean_land_value      \u001b[3m\u001b[90m<dbl>\u001b[39m\u001b[23m -0.04537024, 0.01384492, -0.28743690, 0.18033…\n",
      "$ log_school_index         \u001b[3m\u001b[90m<dbl>\u001b[39m\u001b[23m 0.6766149, 0.7547340, 0.8257981, 1.1622073, 0…\n",
      "$ log_light_index          \u001b[3m\u001b[90m<dbl>\u001b[39m\u001b[23m 1.246024, 1.199377, 1.304940, 1.364915, 1.121…\n",
      "$ log_bus_index            \u001b[3m\u001b[90m<dbl>\u001b[39m\u001b[23m 0.7805182, 0.8372938, 0.9673941, 1.4457801, 0…\n",
      "$ log_cultural_space_index \u001b[3m\u001b[90m<dbl>\u001b[39m\u001b[23m 0.7691453, 0.7951678, 0.8490300, 0.8084395, 0…\n",
      "$ log_income               \u001b[3m\u001b[90m<dbl>\u001b[39m\u001b[23m -0.094695369, -0.066022288, -0.165629645, -0.…\n",
      "$ light_count              \u001b[3m\u001b[90m<int>\u001b[39m\u001b[23m 117, 57, 81, 81, 32, 26, 50, 85, 122, 38, 78,…\n",
      "$ geometry                 \u001b[3m\u001b[90m<MULTIPOLYGON [°]>\u001b[39m\u001b[23m MULTIPOLYGON (((-123.0233 4..., …\n",
      "$ log_light_count          \u001b[3m\u001b[90m<dbl>\u001b[39m\u001b[23m 4.762174, 4.043051, 4.394449, 4.394449, 3.465…\n"
     ]
    }
   ],
   "source": [
    "# Merge light counts back into the census dataset\n",
    "census_index_crime_log <- st_sf(census_index_crime_log)|>\n",
    "    st_make_valid()\n",
    "\n",
    "light_data <- st_transform(light_data, st_crs(census_index_crime_log))\n",
    "\n",
    "lights_with_census <- st_join(light_data, census_index_crime_log, join = st_within)\n",
    "\n",
    "light_counts <- lights_with_census %>%\n",
    "    st_drop_geometry() %>% \n",
    "    group_by(name) %>%     \n",
    "    summarize(light_count = n(), .groups = \"drop\")\n",
    "\n",
    "census_index_crime_log <- census_index_crime_log %>%\n",
    "    left_join(light_counts, by = \"name\") %>%\n",
    "    mutate(light_count = replace_na(light_count, 0))|>\n",
    "    mutate(log_light_count = log(if_else(light_count == 0, 0.01, light_count))) # Fill missing values with 0\n",
    "\n",
    "glimpse(census_index_crime_log)"
   ]
  },
  {
   "cell_type": "code",
   "execution_count": 54,
   "metadata": {
    "vscode": {
     "languageId": "r"
    }
   },
   "outputs": [
    {
     "name": "stdout",
     "output_type": "stream",
     "text": [
      "\n",
      "\tstudentized Breusch-Pagan test\n",
      "\n",
      "data:  reg_log_simple2\n",
      "BP = 54.41, df = 2, p-value = 1.531e-12\n",
      "\n",
      "\n",
      "Log-Log Regression Results with Robust Standard Errors\n",
      "===============================================\n",
      "                        Dependent variable:    \n",
      "                    ---------------------------\n",
      "                          Log Crime Rate       \n",
      "-----------------------------------------------\n",
      "log_light_count          0.345*** (0.048)      \n",
      "Constant                 4.358*** (0.181)      \n",
      "-----------------------------------------------\n",
      "Observations                    989            \n",
      "R2                             0.076           \n",
      "Adjusted R2                    0.075           \n",
      "Residual Std. Error      0.785 (df = 987)      \n",
      "F Statistic           81.135*** (df = 1; 987)  \n",
      "===============================================\n",
      "Note:               *p<0.1; **p<0.05; ***p<0.01\n"
     ]
    }
   ],
   "source": [
    "# Conduct a regression on log(light count) only\n",
    "reg_log_simple2 <- lm(log_crime_rate ~  log_light_count,\n",
    "              data = census_index_crime_log)\n",
    "\n",
    "white_test <- bptest(reg_log_simple2, ~ fitted(reg_log_simple2) + I(fitted(reg_log_simple2)^2), data = census_index_crime_log)\n",
    "print(white_test) \n",
    "\n",
    "robust_se_simple2 <- sqrt(diag(vcovHC(reg_log_simple2, type = \"HC1\")))\n",
    "\n",
    "stargazer(reg_log_simple2, type = \"text\", \n",
    "        title = \"Log-Log Regression Results with Robust Standard Errors\", \n",
    "        dep.var.labels = c(\"Log Crime Rate\"), \n",
    "        se = list(robust_se_simple2),\n",
    "        single.row=TRUE)"
   ]
  },
  {
   "cell_type": "markdown",
   "metadata": {},
   "source": [
    "Adding control variables into the regression. We decided to also include variables capturing demographic factors, we decide to use mean age from census 2016 data."
   ]
  },
  {
   "cell_type": "code",
   "execution_count": 55,
   "metadata": {
    "vscode": {
     "languageId": "r"
    }
   },
   "outputs": [
    {
     "name": "stderr",
     "output_type": "stream",
     "text": [
      "Reading vectors data from local cache.\n",
      "\n",
      "Reading geo data from local cache.\n",
      "\n"
     ]
    },
    {
     "name": "stdout",
     "output_type": "stream",
     "text": [
      "Rows: 993\n",
      "Columns: 3\n",
      "$ name             \u001b[3m\u001b[90m<chr>\u001b[39m\u001b[23m \"59150307\", \"59150308\", \"59150309\", \"59150310\", \"5915…\n",
      "$ mean_age         \u001b[3m\u001b[90m<dbl>\u001b[39m\u001b[23m 43.2, 42.2, 41.5, 40.2, 40.1, 41.0, 43.9, 37.6, 42.3,…\n",
      "$ prop_working_age \u001b[3m\u001b[90m<dbl>\u001b[39m\u001b[23m 0.622, 0.670, 0.745, 0.815, 0.710, 0.743, 0.696, 0.73…\n"
     ]
    }
   ],
   "source": [
    "# Load average age data\n",
    "library(cancensus)\n",
    "options(cancensus.api_key='CensusMapper_f228791d9506a7a747ece66db73b95be')\n",
    "options(cancensus.cache_path = \"/cache\")\n",
    "\n",
    "census_data_age <- get_census(dataset='CA16', regions=list(CSD=\"5915022\"), vectors=c(\"v_CA16_379\",\"v_CA16_388\"), labels=\"detailed\", geo_format=\"sf\", level='DA')|>\n",
    "    rename(mean_age = `v_CA16_379: Average age`, name = GeoUID)|>\n",
    "    mutate(prop_working_age = `v_CA16_388: 15 to 64 years`/100)|>\n",
    "    select(name, mean_age, prop_working_age)|>\n",
    "    st_drop_geometry()|>\n",
    "    glimpse()"
   ]
  },
  {
   "cell_type": "code",
   "execution_count": 56,
   "metadata": {
    "vscode": {
     "languageId": "r"
    }
   },
   "outputs": [
    {
     "name": "stdout",
     "output_type": "stream",
     "text": [
      "Rows: 989\n",
      "Columns: 31\n",
      "$ name                     \u001b[3m\u001b[90m<chr>\u001b[39m\u001b[23m \"59150307\", \"59150308\", \"59150309\", \"59150310…\n",
      "$ households               \u001b[3m\u001b[90m<int>\u001b[39m\u001b[23m 254, 203, 269, 283, 181, 203, 402, 170, 333, …\n",
      "$ dwellings                \u001b[3m\u001b[90m<int>\u001b[39m\u001b[23m 273, 223, 299, 310, 199, 211, 418, 181, 356, …\n",
      "$ population               \u001b[3m\u001b[90m<int>\u001b[39m\u001b[23m 632, 501, 745, 536, 532, 562, 1088, 556, 959,…\n",
      "$ population_density       \u001b[3m\u001b[90m<dbl>\u001b[39m\u001b[23m 2110.9, 4575.3, 6663.7, 4895.0, 6567.9, 6445.…\n",
      "$ region                   \u001b[3m\u001b[90m<chr>\u001b[39m\u001b[23m \"Vancouver\", \"Vancouver\", \"Vancouver\", \"Vanco…\n",
      "$ area_sq_km               \u001b[3m\u001b[90m<dbl>\u001b[39m\u001b[23m 0.29926, 0.10956, 0.11190, 0.10940, 0.08094, …\n",
      "$ age                      \u001b[3m\u001b[90m<int>\u001b[39m\u001b[23m 630, 500, 745, 540, 530, 560, 1085, 555, 960,…\n",
      "$ income                   \u001b[3m\u001b[90m<dbl>\u001b[39m\u001b[23m 0.90965, 0.93611, 0.84736, 0.45184, 0.82517, …\n",
      "$ immigrant_prop           \u001b[3m\u001b[90m<dbl>\u001b[39m\u001b[23m 0.2610759, 0.2894212, 0.3557047, 0.2891791, 0…\n",
      "$ education_prop           \u001b[3m\u001b[90m<dbl>\u001b[39m\u001b[23m 0.3085443, 0.2794411, 0.3154362, 0.1865672, 0…\n",
      "$ school_index             \u001b[3m\u001b[90m<dbl>\u001b[39m\u001b[23m 1.967207, 2.127046, 2.283703, 3.196982, 2.388…\n",
      "$ light_index              \u001b[3m\u001b[90m<dbl>\u001b[39m\u001b[23m 3.476492, 3.318048, 3.687467, 3.915391, 3.068…\n",
      "$ bus_index                \u001b[3m\u001b[90m<dbl>\u001b[39m\u001b[23m 2.182603, 2.310107, 2.631079, 4.245162, 2.604…\n",
      "$ cultural_space_index     \u001b[3m\u001b[90m<dbl>\u001b[39m\u001b[23m 2.157921, 2.214813, 2.337378, 2.244403, 2.351…\n",
      "$ crime_count              \u001b[3m\u001b[90m<int>\u001b[39m\u001b[23m 28, 16, 31, 24, 14, 13, 20, 15, 23, 12, 15, 1…\n",
      "$ crime_rate               \u001b[3m\u001b[90m<dbl>\u001b[39m\u001b[23m 443.0380, 319.3613, 416.1074, 447.7612, 263.1…\n",
      "$ mean_land_value          \u001b[3m\u001b[90m<dbl>\u001b[39m\u001b[23m 0.9556436, 1.0139412, 0.7501839, 1.1976135, 0…\n",
      "$ log_crime_rate           \u001b[3m\u001b[90m<dbl>\u001b[39m\u001b[23m 6.093655, 5.766323, 6.030943, 6.104260, 5.572…\n",
      "$ log_mean_land_value      \u001b[3m\u001b[90m<dbl>\u001b[39m\u001b[23m -0.04537024, 0.01384492, -0.28743690, 0.18033…\n",
      "$ log_school_index         \u001b[3m\u001b[90m<dbl>\u001b[39m\u001b[23m 0.6766149, 0.7547340, 0.8257981, 1.1622073, 0…\n",
      "$ log_light_index          \u001b[3m\u001b[90m<dbl>\u001b[39m\u001b[23m 1.246024, 1.199377, 1.304940, 1.364915, 1.121…\n",
      "$ log_bus_index            \u001b[3m\u001b[90m<dbl>\u001b[39m\u001b[23m 0.7805182, 0.8372938, 0.9673941, 1.4457801, 0…\n",
      "$ log_cultural_space_index \u001b[3m\u001b[90m<dbl>\u001b[39m\u001b[23m 0.7691453, 0.7951678, 0.8490300, 0.8084395, 0…\n",
      "$ log_income               \u001b[3m\u001b[90m<dbl>\u001b[39m\u001b[23m -0.094695369, -0.066022288, -0.165629645, -0.…\n",
      "$ light_count              \u001b[3m\u001b[90m<int>\u001b[39m\u001b[23m 117, 57, 81, 81, 32, 26, 50, 85, 122, 38, 78,…\n",
      "$ log_light_count          \u001b[3m\u001b[90m<dbl>\u001b[39m\u001b[23m 4.762174, 4.043051, 4.394449, 4.394449, 3.465…\n",
      "$ mean_age                 \u001b[3m\u001b[90m<dbl>\u001b[39m\u001b[23m 43.2, 42.2, 41.5, 40.2, 40.1, 41.0, 43.9, 37.…\n",
      "$ prop_working_age         \u001b[3m\u001b[90m<dbl>\u001b[39m\u001b[23m 0.622, 0.670, 0.745, 0.815, 0.710, 0.743, 0.6…\n",
      "$ geometry                 \u001b[3m\u001b[90m<MULTIPOLYGON [°]>\u001b[39m\u001b[23m MULTIPOLYGON (((-123.0233 4..., …\n",
      "$ log_mean_age             \u001b[3m\u001b[90m<dbl>\u001b[39m\u001b[23m 3.765840, 3.742420, 3.725693, 3.693867, 3.691…\n"
     ]
    }
   ],
   "source": [
    "census_index_crime_log <- merge(census_index_crime_log, census_data_age, by = \"name\")|>\n",
    "    mutate(log_mean_age = log(if_else(is.na(mean_age),0,mean_age)))|>\n",
    "    glimpse()"
   ]
  },
  {
   "cell_type": "code",
   "execution_count": 57,
   "metadata": {
    "vscode": {
     "languageId": "r"
    }
   },
   "outputs": [
    {
     "name": "stdout",
     "output_type": "stream",
     "text": [
      "\n",
      "\tstudentized Breusch-Pagan test\n",
      "\n",
      "data:  reg_log1\n",
      "BP = 7.2491, df = 2, p-value = 0.02666\n",
      "\n",
      "\n",
      "Log-Log Regression Results with Robust Standard Errors\n",
      "====================================================\n",
      "                             Dependent variable:    \n",
      "                         ---------------------------\n",
      "                               Log Crime Rate       \n",
      "----------------------------------------------------\n",
      "log_light_count               0.520*** (0.037)      \n",
      "log_mean_land_value            0.093** (0.036)      \n",
      "log_school_index              -0.531*** (0.107)     \n",
      "log_cultural_space_index      1.485*** (0.111)      \n",
      "log_income                    -0.562*** (0.067)     \n",
      "log_mean_age                  -0.470** (0.224)      \n",
      "immigrant_prop                -0.511*** (0.153)     \n",
      "education_prop                0.725*** (0.195)      \n",
      "Constant                      4.230*** (0.849)      \n",
      "----------------------------------------------------\n",
      "Observations                         989            \n",
      "R2                                  0.514           \n",
      "Adjusted R2                         0.510           \n",
      "Residual Std. Error           0.572 (df = 980)      \n",
      "F Statistic               129.344*** (df = 8; 980)  \n",
      "====================================================\n",
      "Note:                    *p<0.1; **p<0.05; ***p<0.01\n"
     ]
    },
    {
     "name": "stderr",
     "output_type": "stream",
     "text": [
      "Warning message in tidy.numeric(vif(reg_log1)):\n",
      "\"'tidy.numeric' is deprecated.\n",
      "See help(\"Deprecated\")\"\n"
     ]
    },
    {
     "data": {
      "text/html": [
       "<table class=\"dataframe\">\n",
       "<caption>A tibble: 8 × 2</caption>\n",
       "<thead>\n",
       "\t<tr><th scope=col>names</th><th scope=col>x</th></tr>\n",
       "\t<tr><th scope=col>&lt;chr&gt;</th><th scope=col>&lt;dbl&gt;</th></tr>\n",
       "</thead>\n",
       "<tbody>\n",
       "\t<tr><td>log_light_count         </td><td>1.163559</td></tr>\n",
       "\t<tr><td>log_mean_land_value     </td><td>1.082058</td></tr>\n",
       "\t<tr><td>log_school_index        </td><td>1.602741</td></tr>\n",
       "\t<tr><td>log_cultural_space_index</td><td>2.450723</td></tr>\n",
       "\t<tr><td>log_income              </td><td>1.536786</td></tr>\n",
       "\t<tr><td>log_mean_age            </td><td>1.112643</td></tr>\n",
       "\t<tr><td>immigrant_prop          </td><td>1.570815</td></tr>\n",
       "\t<tr><td>education_prop          </td><td>1.717151</td></tr>\n",
       "</tbody>\n",
       "</table>\n"
      ],
      "text/latex": [
       "A tibble: 8 × 2\n",
       "\\begin{tabular}{ll}\n",
       " names & x\\\\\n",
       " <chr> & <dbl>\\\\\n",
       "\\hline\n",
       "\t log\\_light\\_count          & 1.163559\\\\\n",
       "\t log\\_mean\\_land\\_value      & 1.082058\\\\\n",
       "\t log\\_school\\_index         & 1.602741\\\\\n",
       "\t log\\_cultural\\_space\\_index & 2.450723\\\\\n",
       "\t log\\_income               & 1.536786\\\\\n",
       "\t log\\_mean\\_age             & 1.112643\\\\\n",
       "\t immigrant\\_prop           & 1.570815\\\\\n",
       "\t education\\_prop           & 1.717151\\\\\n",
       "\\end{tabular}\n"
      ],
      "text/markdown": [
       "\n",
       "A tibble: 8 × 2\n",
       "\n",
       "| names &lt;chr&gt; | x &lt;dbl&gt; |\n",
       "|---|---|\n",
       "| log_light_count          | 1.163559 |\n",
       "| log_mean_land_value      | 1.082058 |\n",
       "| log_school_index         | 1.602741 |\n",
       "| log_cultural_space_index | 2.450723 |\n",
       "| log_income               | 1.536786 |\n",
       "| log_mean_age             | 1.112643 |\n",
       "| immigrant_prop           | 1.570815 |\n",
       "| education_prop           | 1.717151 |\n",
       "\n"
      ],
      "text/plain": [
       "  names                    x       \n",
       "1 log_light_count          1.163559\n",
       "2 log_mean_land_value      1.082058\n",
       "3 log_school_index         1.602741\n",
       "4 log_cultural_space_index 2.450723\n",
       "5 log_income               1.536786\n",
       "6 log_mean_age             1.112643\n",
       "7 immigrant_prop           1.570815\n",
       "8 education_prop           1.717151"
      ]
     },
     "metadata": {},
     "output_type": "display_data"
    }
   ],
   "source": [
    "# Add control variables\n",
    "reg_log1 <- lm(log_crime_rate ~ log_light_count+ log_mean_land_value + log_school_index + log_cultural_space_index\n",
    "               + log_income + log_mean_age + immigrant_prop + education_prop, \n",
    "              data = census_index_crime_log)\n",
    "\n",
    "white_test <- bptest(reg_log1, ~ fitted(reg_log1) + I(fitted(reg_log1)^2), data = census_index_crime_log)\n",
    "print(white_test)  \n",
    "\n",
    "robust_se1 <- sqrt(diag(vcovHC(reg_log1, type = \"HC1\")))\n",
    "\n",
    "stargazer(reg_log1, type = \"text\", \n",
    "        title = \"Log-Log Regression Results with Robust Standard Errors\", \n",
    "        dep.var.labels = c(\"Log Crime Rate\"), \n",
    "        se = list(robust_se1),\n",
    "        single.row=TRUE)\n",
    "\n",
    "vif(reg_log1)|>tidy()"
   ]
  },
  {
   "cell_type": "markdown",
   "metadata": {},
   "source": [
    "We decide to add a dummy control variable, \"containing insite\" to capture this regional characteristic"
   ]
  },
  {
   "cell_type": "code",
   "execution_count": 58,
   "metadata": {
    "vscode": {
     "languageId": "r"
    }
   },
   "outputs": [
    {
     "data": {
      "text/html": [
       "<style>\n",
       ".list-inline {list-style: none; margin:0; padding: 0}\n",
       ".list-inline>li {display: inline-block}\n",
       ".list-inline>li:not(:last-child)::after {content: \"\\00b7\"; padding: 0 .5ex}\n",
       "</style>\n",
       "<ol class=list-inline><li>0</li><li>0</li><li>0</li><li>0</li><li>0</li><li>0</li></ol>\n"
      ],
      "text/latex": [
       "\\begin{enumerate*}\n",
       "\\item 0\n",
       "\\item 0\n",
       "\\item 0\n",
       "\\item 0\n",
       "\\item 0\n",
       "\\item 0\n",
       "\\end{enumerate*}\n"
      ],
      "text/markdown": [
       "1. 0\n",
       "2. 0\n",
       "3. 0\n",
       "4. 0\n",
       "5. 0\n",
       "6. 0\n",
       "\n",
       "\n"
      ],
      "text/plain": [
       "[1] 0 0 0 0 0 0"
      ]
     },
     "metadata": {},
     "output_type": "display_data"
    }
   ],
   "source": [
    "# Add insite dummy\n",
    "insite_df <- data.frame(\n",
    "  id = 1:3,\n",
    "  lon = c(-123.10129, -123.10555, -123.12074), \n",
    "  lat = c(49.28160, 49.28302, 49.27544)          \n",
    ") # Source: Google Map\n",
    "\n",
    "insite_sf <- st_as_sf(insite_df, coords = c(\"lon\", \"lat\"), crs = 4326)\n",
    "\n",
    "if (st_crs(census_index_crime_log) != st_crs(insite_sf)) {\n",
    "  insite_sf <- st_transform(insite_sf, st_crs(census_index_crime_log))\n",
    "}\n",
    "\n",
    "valid_geometries <- st_is_valid(census_index_crime_log)\n",
    "\n",
    "if (!all(valid_geometries)) {\n",
    "  invalid_indices <- which(!valid_geometries)\n",
    "  invalid_reasons <- st_is_valid(census_index_crime_log[invalid_indices, ], reason = TRUE)\n",
    "  cat(\"Invalid geometries found. Reasons:\\n\")\n",
    "  print(invalid_reasons)\n",
    "\n",
    "  census_index_crime_log_st <- st_make_valid(census_index_crime_log_st)\n",
    "\n",
    "  valid_geometries <- st_is_valid(census_index_crime_log_st)\n",
    "  \n",
    "  if (!all(valid_geometries)) {\n",
    "    census_index_crime_log <- st_buffer(census_index_crime_log, dist = 0)\n",
    "    valid_geometries <- st_is_valid(census_index_crime_log)\n",
    "    \n",
    "    if (!all(valid_geometries)) {\n",
    "      stop(\"Some geometries are still invalid after attempting to fix them.\")\n",
    "    }\n",
    "  }\n",
    "}\n",
    "\n",
    "contains_result <- st_contains(census_index_crime_log, insite_sf, sparse = FALSE)\n",
    "\n",
    "census_index_crime_log$insite_dummy <- as.integer(apply(contains_result, 1, any))\n",
    "\n",
    "head(census_index_crime_log$insite_dummy)"
   ]
  },
  {
   "cell_type": "code",
   "execution_count": 59,
   "metadata": {
    "vscode": {
     "languageId": "r"
    }
   },
   "outputs": [
    {
     "name": "stdout",
     "output_type": "stream",
     "text": [
      "\n",
      "\tstudentized Breusch-Pagan test\n",
      "\n",
      "data:  reg_log2\n",
      "BP = 5.4015, df = 2, p-value = 0.06715\n",
      "\n",
      "\n",
      "Log-Log Regression Results with Robust Standard Errors\n",
      "====================================================\n",
      "                             Dependent variable:    \n",
      "                         ---------------------------\n",
      "                               Log Crime Rate       \n",
      "----------------------------------------------------\n",
      "log_light_count               0.514*** (0.030)      \n",
      "log_mean_land_value           0.095*** (0.027)      \n",
      "log_school_index              -0.516*** (0.105)     \n",
      "log_cultural_space_index      1.465*** (0.100)      \n",
      "log_income                    -0.557*** (0.063)     \n",
      "log_mean_age                  -0.495** (0.198)      \n",
      "immigrant_prop                -0.495*** (0.152)     \n",
      "education_prop                0.750*** (0.177)      \n",
      "insite_dummy                   0.859** (0.334)      \n",
      "Constant                      4.331*** (0.759)      \n",
      "----------------------------------------------------\n",
      "Observations                         989            \n",
      "R2                                  0.517           \n",
      "Adjusted R2                         0.512           \n",
      "Residual Std. Error           0.570 (df = 979)      \n",
      "F Statistic               116.360*** (df = 9; 979)  \n",
      "====================================================\n",
      "Note:                    *p<0.1; **p<0.05; ***p<0.01\n"
     ]
    },
    {
     "name": "stderr",
     "output_type": "stream",
     "text": [
      "Warning message in tidy.numeric(vif(reg_log2)):\n",
      "\"'tidy.numeric' is deprecated.\n",
      "See help(\"Deprecated\")\"\n"
     ]
    },
    {
     "data": {
      "text/html": [
       "<table class=\"dataframe\">\n",
       "<caption>A tibble: 9 × 2</caption>\n",
       "<thead>\n",
       "\t<tr><th scope=col>names</th><th scope=col>x</th></tr>\n",
       "\t<tr><th scope=col>&lt;chr&gt;</th><th scope=col>&lt;dbl&gt;</th></tr>\n",
       "</thead>\n",
       "<tbody>\n",
       "\t<tr><td>log_light_count         </td><td>1.170060</td></tr>\n",
       "\t<tr><td>log_mean_land_value     </td><td>1.083342</td></tr>\n",
       "\t<tr><td>log_school_index        </td><td>1.608086</td></tr>\n",
       "\t<tr><td>log_cultural_space_index</td><td>2.465894</td></tr>\n",
       "\t<tr><td>log_income              </td><td>1.537895</td></tr>\n",
       "\t<tr><td>log_mean_age            </td><td>1.115342</td></tr>\n",
       "\t<tr><td>immigrant_prop          </td><td>1.573455</td></tr>\n",
       "\t<tr><td>education_prop          </td><td>1.722164</td></tr>\n",
       "\t<tr><td>insite_dummy            </td><td>1.029246</td></tr>\n",
       "</tbody>\n",
       "</table>\n"
      ],
      "text/latex": [
       "A tibble: 9 × 2\n",
       "\\begin{tabular}{ll}\n",
       " names & x\\\\\n",
       " <chr> & <dbl>\\\\\n",
       "\\hline\n",
       "\t log\\_light\\_count          & 1.170060\\\\\n",
       "\t log\\_mean\\_land\\_value      & 1.083342\\\\\n",
       "\t log\\_school\\_index         & 1.608086\\\\\n",
       "\t log\\_cultural\\_space\\_index & 2.465894\\\\\n",
       "\t log\\_income               & 1.537895\\\\\n",
       "\t log\\_mean\\_age             & 1.115342\\\\\n",
       "\t immigrant\\_prop           & 1.573455\\\\\n",
       "\t education\\_prop           & 1.722164\\\\\n",
       "\t insite\\_dummy             & 1.029246\\\\\n",
       "\\end{tabular}\n"
      ],
      "text/markdown": [
       "\n",
       "A tibble: 9 × 2\n",
       "\n",
       "| names &lt;chr&gt; | x &lt;dbl&gt; |\n",
       "|---|---|\n",
       "| log_light_count          | 1.170060 |\n",
       "| log_mean_land_value      | 1.083342 |\n",
       "| log_school_index         | 1.608086 |\n",
       "| log_cultural_space_index | 2.465894 |\n",
       "| log_income               | 1.537895 |\n",
       "| log_mean_age             | 1.115342 |\n",
       "| immigrant_prop           | 1.573455 |\n",
       "| education_prop           | 1.722164 |\n",
       "| insite_dummy             | 1.029246 |\n",
       "\n"
      ],
      "text/plain": [
       "  names                    x       \n",
       "1 log_light_count          1.170060\n",
       "2 log_mean_land_value      1.083342\n",
       "3 log_school_index         1.608086\n",
       "4 log_cultural_space_index 2.465894\n",
       "5 log_income               1.537895\n",
       "6 log_mean_age             1.115342\n",
       "7 immigrant_prop           1.573455\n",
       "8 education_prop           1.722164\n",
       "9 insite_dummy             1.029246"
      ]
     },
     "metadata": {},
     "output_type": "display_data"
    }
   ],
   "source": [
    "# Adding insite to our model\n",
    "reg_log2 <- lm(log_crime_rate ~ log_light_count+ log_mean_land_value + log_school_index + log_cultural_space_index\n",
    "               + log_income + log_mean_age + immigrant_prop + education_prop + insite_dummy, \n",
    "              data = census_index_crime_log)\n",
    "\n",
    "white_test <- bptest(reg_log2, ~ fitted(reg_log2) + I(fitted(reg_log2)^2), data = census_index_crime_log)\n",
    "print(white_test)  \n",
    "\n",
    "robust_se2 <- sqrt(diag(vcovHC(reg_log2, type = \"HC1\")))\n",
    "\n",
    "stargazer(reg_log2, type = \"text\", \n",
    "        title = \"Log-Log Regression Results with Robust Standard Errors\", \n",
    "        dep.var.labels = c(\"Log Crime Rate\"), \n",
    "        # se = list(robust_se2),\n",
    "        single.row=TRUE)\n",
    "\n",
    "vif(reg_log2)|>tidy()"
   ]
  },
  {
   "cell_type": "markdown",
   "metadata": {},
   "source": [
    "Decided to include another dummy variable indicating the region is in Downtown Vancouver."
   ]
  },
  {
   "cell_type": "code",
   "execution_count": 60,
   "metadata": {
    "vscode": {
     "languageId": "r"
    }
   },
   "outputs": [
    {
     "name": "stderr",
     "output_type": "stream",
     "text": [
      "Reading data from temporary cache\n",
      "\n"
     ]
    },
    {
     "name": "stdout",
     "output_type": "stream",
     "text": [
      "Rows: 22\n",
      "Columns: 4\n",
      "$ name         \u001b[3m\u001b[90m<chr>\u001b[39m\u001b[23m \"Downtown\", \"Hastings-Sunrise\", \"Kerrisdale\", \"Marpole\", …\n",
      "$ geom         \u001b[3m\u001b[90m<chr>\u001b[39m\u001b[23m \"{\\\"coordinates\\\": [[[-123.11226654052733, 49.29016494657…\n",
      "$ geo_point_2d \u001b[3m\u001b[90m<chr>\u001b[39m\u001b[23m \"49.28074707013743, -123.11656700827415\", \"49.27793405209…\n",
      "$ geometry     \u001b[3m\u001b[90m<POLYGON [°]>\u001b[39m\u001b[23m POLYGON ((-123.1123 49.2901..., POLYGON ((-123.05…\n"
     ]
    }
   ],
   "source": [
    "local_area_boundary <- get_cov_data(\"local-area-boundary\")|>\n",
    "    st_sf()\n",
    "\n",
    "glimpse(local_area_boundary)"
   ]
  },
  {
   "cell_type": "code",
   "execution_count": 61,
   "metadata": {
    "vscode": {
     "languageId": "r"
    }
   },
   "outputs": [
    {
     "name": "stdout",
     "output_type": "stream",
     "text": [
      "Rows: 989\n",
      "Columns: 33\n",
      "$ name                     \u001b[3m\u001b[90m<chr>\u001b[39m\u001b[23m \"59150307\", \"59150308\", \"59150309\", \"59150310…\n",
      "$ households               \u001b[3m\u001b[90m<int>\u001b[39m\u001b[23m 254, 203, 269, 283, 181, 203, 402, 170, 333, …\n",
      "$ dwellings                \u001b[3m\u001b[90m<int>\u001b[39m\u001b[23m 273, 223, 299, 310, 199, 211, 418, 181, 356, …\n",
      "$ population               \u001b[3m\u001b[90m<int>\u001b[39m\u001b[23m 632, 501, 745, 536, 532, 562, 1088, 556, 959,…\n",
      "$ population_density       \u001b[3m\u001b[90m<dbl>\u001b[39m\u001b[23m 2110.9, 4575.3, 6663.7, 4895.0, 6567.9, 6445.…\n",
      "$ region                   \u001b[3m\u001b[90m<chr>\u001b[39m\u001b[23m \"Vancouver\", \"Vancouver\", \"Vancouver\", \"Vanco…\n",
      "$ area_sq_km               \u001b[3m\u001b[90m<dbl>\u001b[39m\u001b[23m 0.29926, 0.10956, 0.11190, 0.10940, 0.08094, …\n",
      "$ age                      \u001b[3m\u001b[90m<int>\u001b[39m\u001b[23m 630, 500, 745, 540, 530, 560, 1085, 555, 960,…\n",
      "$ income                   \u001b[3m\u001b[90m<dbl>\u001b[39m\u001b[23m 0.90965, 0.93611, 0.84736, 0.45184, 0.82517, …\n",
      "$ immigrant_prop           \u001b[3m\u001b[90m<dbl>\u001b[39m\u001b[23m 0.2610759, 0.2894212, 0.3557047, 0.2891791, 0…\n",
      "$ education_prop           \u001b[3m\u001b[90m<dbl>\u001b[39m\u001b[23m 0.3085443, 0.2794411, 0.3154362, 0.1865672, 0…\n",
      "$ school_index             \u001b[3m\u001b[90m<dbl>\u001b[39m\u001b[23m 1.967207, 2.127046, 2.283703, 3.196982, 2.388…\n",
      "$ light_index              \u001b[3m\u001b[90m<dbl>\u001b[39m\u001b[23m 3.476492, 3.318048, 3.687467, 3.915391, 3.068…\n",
      "$ bus_index                \u001b[3m\u001b[90m<dbl>\u001b[39m\u001b[23m 2.182603, 2.310107, 2.631079, 4.245162, 2.604…\n",
      "$ cultural_space_index     \u001b[3m\u001b[90m<dbl>\u001b[39m\u001b[23m 2.157921, 2.214813, 2.337378, 2.244403, 2.351…\n",
      "$ crime_count              \u001b[3m\u001b[90m<int>\u001b[39m\u001b[23m 28, 16, 31, 24, 14, 13, 20, 15, 23, 12, 15, 1…\n",
      "$ crime_rate               \u001b[3m\u001b[90m<dbl>\u001b[39m\u001b[23m 443.0380, 319.3613, 416.1074, 447.7612, 263.1…\n",
      "$ mean_land_value          \u001b[3m\u001b[90m<dbl>\u001b[39m\u001b[23m 0.9556436, 1.0139412, 0.7501839, 1.1976135, 0…\n",
      "$ log_crime_rate           \u001b[3m\u001b[90m<dbl>\u001b[39m\u001b[23m 6.093655, 5.766323, 6.030943, 6.104260, 5.572…\n",
      "$ log_mean_land_value      \u001b[3m\u001b[90m<dbl>\u001b[39m\u001b[23m -0.04537024, 0.01384492, -0.28743690, 0.18033…\n",
      "$ log_school_index         \u001b[3m\u001b[90m<dbl>\u001b[39m\u001b[23m 0.6766149, 0.7547340, 0.8257981, 1.1622073, 0…\n",
      "$ log_light_index          \u001b[3m\u001b[90m<dbl>\u001b[39m\u001b[23m 1.246024, 1.199377, 1.304940, 1.364915, 1.121…\n",
      "$ log_bus_index            \u001b[3m\u001b[90m<dbl>\u001b[39m\u001b[23m 0.7805182, 0.8372938, 0.9673941, 1.4457801, 0…\n",
      "$ log_cultural_space_index \u001b[3m\u001b[90m<dbl>\u001b[39m\u001b[23m 0.7691453, 0.7951678, 0.8490300, 0.8084395, 0…\n",
      "$ log_income               \u001b[3m\u001b[90m<dbl>\u001b[39m\u001b[23m -0.094695369, -0.066022288, -0.165629645, -0.…\n",
      "$ light_count              \u001b[3m\u001b[90m<int>\u001b[39m\u001b[23m 117, 57, 81, 81, 32, 26, 50, 85, 122, 38, 78,…\n",
      "$ log_light_count          \u001b[3m\u001b[90m<dbl>\u001b[39m\u001b[23m 4.762174, 4.043051, 4.394449, 4.394449, 3.465…\n",
      "$ mean_age                 \u001b[3m\u001b[90m<dbl>\u001b[39m\u001b[23m 43.2, 42.2, 41.5, 40.2, 40.1, 41.0, 43.9, 37.…\n",
      "$ prop_working_age         \u001b[3m\u001b[90m<dbl>\u001b[39m\u001b[23m 0.622, 0.670, 0.745, 0.815, 0.710, 0.743, 0.6…\n",
      "$ geometry                 \u001b[3m\u001b[90m<MULTIPOLYGON [°]>\u001b[39m\u001b[23m MULTIPOLYGON (((-123.0233 4..., …\n",
      "$ log_mean_age             \u001b[3m\u001b[90m<dbl>\u001b[39m\u001b[23m 3.765840, 3.742420, 3.725693, 3.693867, 3.691…\n",
      "$ insite_dummy             \u001b[3m\u001b[90m<int>\u001b[39m\u001b[23m 0, 0, 0, 0, 0, 0, 0, 0, 0, 0, 0, 0, 0, 0, 0, …\n",
      "$ is_downtown              \u001b[3m\u001b[90m<int>\u001b[39m\u001b[23m 0, 0, 0, 0, 0, 0, 0, 0, 0, 0, 0, 0, 0, 0, 0, …\n"
     ]
    }
   ],
   "source": [
    "# Create a downtown dummy in our dataset\n",
    "local_area_boundary_valid <- st_make_valid(local_area_boundary)\n",
    "\n",
    "selected_areas <- local_area_boundary_valid %>%\n",
    "  filter(name %in% c(\"West End\", \"Downtown\", \"Strathcona\"))\n",
    "\n",
    "census_index_crime_log <- st_simplify(census_index_crime_log, dTolerance = 0.01)\n",
    "selected_areas <- st_simplify(selected_areas, dTolerance = 0.01)\n",
    "\n",
    "desired_crs <- st_crs(selected_areas)\n",
    "census_index_crime_log <- st_transform(census_index_crime_log, crs = desired_crs)\n",
    "\n",
    "census_index_crime_log$is_downtown <- as.integer(\n",
    "  lengths(st_intersects(census_index_crime_log, selected_areas)) > 0\n",
    ")\n",
    "\n",
    "glimpse(census_index_crime_log)"
   ]
  },
  {
   "cell_type": "code",
   "execution_count": 62,
   "metadata": {
    "vscode": {
     "languageId": "r"
    }
   },
   "outputs": [
    {
     "name": "stdout",
     "output_type": "stream",
     "text": [
      "\n",
      "\tstudentized Breusch-Pagan test\n",
      "\n",
      "data:  reg_log3\n",
      "BP = 7.1996, df = 2, p-value = 0.02733\n",
      "\n",
      "\n",
      "% Table created by stargazer v.5.2.3 by Marek Hlavac, Social Policy Institute. E-mail: marek.hlavac at gmail.com\n",
      "% Date and time: Thu, Dec 12, 2024 - 3:13:47 PM\n",
      "\\begin{table}[!htbp] \\centering \n",
      "  \\caption{Log-Log Regression Results with Robust Standard Errors} \n",
      "  \\label{} \n",
      "\\begin{tabular}{@{\\extracolsep{5pt}}lc} \n",
      "\\\\[-1.8ex]\\hline \n",
      "\\hline \\\\[-1.8ex] \n",
      " & \\multicolumn{1}{c}{\\textit{Dependent variable:}} \\\\ \n",
      "\\cline{2-2} \n",
      "\\\\[-1.8ex] & Log Crime Rate \\\\ \n",
      "\\hline \\\\[-1.8ex] \n",
      " log\\_light\\_count & 0.526$^{***}$ (0.037) \\\\ \n",
      "  log\\_mean\\_land\\_value & 0.093$^{**}$ (0.037) \\\\ \n",
      "  log\\_school\\_index & $-$0.340$^{***}$ (0.103) \\\\ \n",
      "  log\\_cultural\\_space\\_index & 1.215$^{***}$ (0.110) \\\\ \n",
      "  log\\_income & $-$0.480$^{***}$ (0.069) \\\\ \n",
      "  log\\_mean\\_age & $-$0.535$^{**}$ (0.228) \\\\ \n",
      "  immigrant\\_prop & $-$0.632$^{***}$ (0.151) \\\\ \n",
      "  education\\_prop & 0.653$^{***}$ (0.193) \\\\ \n",
      "  is\\_downtown & 0.327$^{***}$ (0.075) \\\\ \n",
      "  Constant & 4.558$^{***}$ (0.870) \\\\ \n",
      " \\hline \\\\[-1.8ex] \n",
      "Observations & 989 \\\\ \n",
      "R$^{2}$ & 0.526 \\\\ \n",
      "Adjusted R$^{2}$ & 0.521 \\\\ \n",
      "Residual Std. Error & 0.565 (df = 979) \\\\ \n",
      "F Statistic & 120.535$^{***}$ (df = 9; 979) \\\\ \n",
      "\\hline \n",
      "\\hline \\\\[-1.8ex] \n",
      "\\textit{Note:}  & \\multicolumn{1}{r}{$^{*}$p$<$0.1; $^{**}$p$<$0.05; $^{***}$p$<$0.01} \\\\ \n",
      "\\end{tabular} \n",
      "\\end{table} \n"
     ]
    },
    {
     "name": "stderr",
     "output_type": "stream",
     "text": [
      "Warning message in tidy.numeric(vif(reg_log3)):\n",
      "\"'tidy.numeric' is deprecated.\n",
      "See help(\"Deprecated\")\"\n"
     ]
    },
    {
     "data": {
      "text/html": [
       "<table class=\"dataframe\">\n",
       "<caption>A tibble: 9 × 2</caption>\n",
       "<thead>\n",
       "\t<tr><th scope=col>names</th><th scope=col>x</th></tr>\n",
       "\t<tr><th scope=col>&lt;chr&gt;</th><th scope=col>&lt;dbl&gt;</th></tr>\n",
       "</thead>\n",
       "<tbody>\n",
       "\t<tr><td>log_light_count         </td><td>1.165966</td></tr>\n",
       "\t<tr><td>log_mean_land_value     </td><td>1.082083</td></tr>\n",
       "\t<tr><td>log_school_index        </td><td>1.820606</td></tr>\n",
       "\t<tr><td>log_cultural_space_index</td><td>3.183302</td></tr>\n",
       "\t<tr><td>log_income              </td><td>1.644177</td></tr>\n",
       "\t<tr><td>log_mean_age            </td><td>1.117513</td></tr>\n",
       "\t<tr><td>immigrant_prop          </td><td>1.611907</td></tr>\n",
       "\t<tr><td>education_prop          </td><td>1.728924</td></tr>\n",
       "\t<tr><td>is_downtown             </td><td>1.749356</td></tr>\n",
       "</tbody>\n",
       "</table>\n"
      ],
      "text/latex": [
       "A tibble: 9 × 2\n",
       "\\begin{tabular}{ll}\n",
       " names & x\\\\\n",
       " <chr> & <dbl>\\\\\n",
       "\\hline\n",
       "\t log\\_light\\_count          & 1.165966\\\\\n",
       "\t log\\_mean\\_land\\_value      & 1.082083\\\\\n",
       "\t log\\_school\\_index         & 1.820606\\\\\n",
       "\t log\\_cultural\\_space\\_index & 3.183302\\\\\n",
       "\t log\\_income               & 1.644177\\\\\n",
       "\t log\\_mean\\_age             & 1.117513\\\\\n",
       "\t immigrant\\_prop           & 1.611907\\\\\n",
       "\t education\\_prop           & 1.728924\\\\\n",
       "\t is\\_downtown              & 1.749356\\\\\n",
       "\\end{tabular}\n"
      ],
      "text/markdown": [
       "\n",
       "A tibble: 9 × 2\n",
       "\n",
       "| names &lt;chr&gt; | x &lt;dbl&gt; |\n",
       "|---|---|\n",
       "| log_light_count          | 1.165966 |\n",
       "| log_mean_land_value      | 1.082083 |\n",
       "| log_school_index         | 1.820606 |\n",
       "| log_cultural_space_index | 3.183302 |\n",
       "| log_income               | 1.644177 |\n",
       "| log_mean_age             | 1.117513 |\n",
       "| immigrant_prop           | 1.611907 |\n",
       "| education_prop           | 1.728924 |\n",
       "| is_downtown              | 1.749356 |\n",
       "\n"
      ],
      "text/plain": [
       "  names                    x       \n",
       "1 log_light_count          1.165966\n",
       "2 log_mean_land_value      1.082083\n",
       "3 log_school_index         1.820606\n",
       "4 log_cultural_space_index 3.183302\n",
       "5 log_income               1.644177\n",
       "6 log_mean_age             1.117513\n",
       "7 immigrant_prop           1.611907\n",
       "8 education_prop           1.728924\n",
       "9 is_downtown              1.749356"
      ]
     },
     "metadata": {},
     "output_type": "display_data"
    }
   ],
   "source": [
    "reg_log3 <- lm(log_crime_rate ~ log_light_count+ log_mean_land_value + log_school_index + log_cultural_space_index\n",
    "               + log_income + log_mean_age + immigrant_prop + education_prop + is_downtown, \n",
    "              data = census_index_crime_log)\n",
    "\n",
    "white_test <- bptest(reg_log3, ~ fitted(reg_log3) + I(fitted(reg_log3)^2), data = census_index_crime_log)\n",
    "print(white_test)  \n",
    "\n",
    "robust_se3 <- sqrt(diag(vcovHC(reg_log3, type = \"HC1\")))\n",
    "\n",
    "stargazer(reg_log3, type = \"latex\", \n",
    "        title = \"Log-Log Regression Results with Robust Standard Errors\", \n",
    "        dep.var.labels = c(\"Log Crime Rate\"), \n",
    "        se = list(robust_se3),\n",
    "        single.row=TRUE)\n",
    "\n",
    "vif(reg_log3)|>tidy()"
   ]
  },
  {
   "cell_type": "markdown",
   "metadata": {},
   "source": [
    "We decide to move on with \"Is Downtown\" dummy, then we seek to add more control to improve our model. We begin by adding population density."
   ]
  },
  {
   "cell_type": "code",
   "execution_count": 63,
   "metadata": {
    "vscode": {
     "languageId": "r"
    }
   },
   "outputs": [
    {
     "name": "stdout",
     "output_type": "stream",
     "text": [
      "Rows: 989\n",
      "Columns: 34\n",
      "$ name                     \u001b[3m\u001b[90m<chr>\u001b[39m\u001b[23m \"59150307\", \"59150308\", \"59150309\", \"59150310…\n",
      "$ households               \u001b[3m\u001b[90m<int>\u001b[39m\u001b[23m 254, 203, 269, 283, 181, 203, 402, 170, 333, …\n",
      "$ dwellings                \u001b[3m\u001b[90m<int>\u001b[39m\u001b[23m 273, 223, 299, 310, 199, 211, 418, 181, 356, …\n",
      "$ population               \u001b[3m\u001b[90m<int>\u001b[39m\u001b[23m 632, 501, 745, 536, 532, 562, 1088, 556, 959,…\n",
      "$ population_density       \u001b[3m\u001b[90m<dbl>\u001b[39m\u001b[23m 2110.9, 4575.3, 6663.7, 4895.0, 6567.9, 6445.…\n",
      "$ region                   \u001b[3m\u001b[90m<chr>\u001b[39m\u001b[23m \"Vancouver\", \"Vancouver\", \"Vancouver\", \"Vanco…\n",
      "$ area_sq_km               \u001b[3m\u001b[90m<dbl>\u001b[39m\u001b[23m 0.29926, 0.10956, 0.11190, 0.10940, 0.08094, …\n",
      "$ age                      \u001b[3m\u001b[90m<int>\u001b[39m\u001b[23m 630, 500, 745, 540, 530, 560, 1085, 555, 960,…\n",
      "$ income                   \u001b[3m\u001b[90m<dbl>\u001b[39m\u001b[23m 0.90965, 0.93611, 0.84736, 0.45184, 0.82517, …\n",
      "$ immigrant_prop           \u001b[3m\u001b[90m<dbl>\u001b[39m\u001b[23m 0.2610759, 0.2894212, 0.3557047, 0.2891791, 0…\n",
      "$ education_prop           \u001b[3m\u001b[90m<dbl>\u001b[39m\u001b[23m 0.3085443, 0.2794411, 0.3154362, 0.1865672, 0…\n",
      "$ school_index             \u001b[3m\u001b[90m<dbl>\u001b[39m\u001b[23m 1.967207, 2.127046, 2.283703, 3.196982, 2.388…\n",
      "$ light_index              \u001b[3m\u001b[90m<dbl>\u001b[39m\u001b[23m 3.476492, 3.318048, 3.687467, 3.915391, 3.068…\n",
      "$ bus_index                \u001b[3m\u001b[90m<dbl>\u001b[39m\u001b[23m 2.182603, 2.310107, 2.631079, 4.245162, 2.604…\n",
      "$ cultural_space_index     \u001b[3m\u001b[90m<dbl>\u001b[39m\u001b[23m 2.157921, 2.214813, 2.337378, 2.244403, 2.351…\n",
      "$ crime_count              \u001b[3m\u001b[90m<int>\u001b[39m\u001b[23m 28, 16, 31, 24, 14, 13, 20, 15, 23, 12, 15, 1…\n",
      "$ crime_rate               \u001b[3m\u001b[90m<dbl>\u001b[39m\u001b[23m 443.0380, 319.3613, 416.1074, 447.7612, 263.1…\n",
      "$ mean_land_value          \u001b[3m\u001b[90m<dbl>\u001b[39m\u001b[23m 0.9556436, 1.0139412, 0.7501839, 1.1976135, 0…\n",
      "$ log_crime_rate           \u001b[3m\u001b[90m<dbl>\u001b[39m\u001b[23m 6.093655, 5.766323, 6.030943, 6.104260, 5.572…\n",
      "$ log_mean_land_value      \u001b[3m\u001b[90m<dbl>\u001b[39m\u001b[23m -0.04537024, 0.01384492, -0.28743690, 0.18033…\n",
      "$ log_school_index         \u001b[3m\u001b[90m<dbl>\u001b[39m\u001b[23m 0.6766149, 0.7547340, 0.8257981, 1.1622073, 0…\n",
      "$ log_light_index          \u001b[3m\u001b[90m<dbl>\u001b[39m\u001b[23m 1.246024, 1.199377, 1.304940, 1.364915, 1.121…\n",
      "$ log_bus_index            \u001b[3m\u001b[90m<dbl>\u001b[39m\u001b[23m 0.7805182, 0.8372938, 0.9673941, 1.4457801, 0…\n",
      "$ log_cultural_space_index \u001b[3m\u001b[90m<dbl>\u001b[39m\u001b[23m 0.7691453, 0.7951678, 0.8490300, 0.8084395, 0…\n",
      "$ log_income               \u001b[3m\u001b[90m<dbl>\u001b[39m\u001b[23m -0.094695369, -0.066022288, -0.165629645, -0.…\n",
      "$ light_count              \u001b[3m\u001b[90m<int>\u001b[39m\u001b[23m 117, 57, 81, 81, 32, 26, 50, 85, 122, 38, 78,…\n",
      "$ log_light_count          \u001b[3m\u001b[90m<dbl>\u001b[39m\u001b[23m 4.762174, 4.043051, 4.394449, 4.394449, 3.465…\n",
      "$ mean_age                 \u001b[3m\u001b[90m<dbl>\u001b[39m\u001b[23m 43.2, 42.2, 41.5, 40.2, 40.1, 41.0, 43.9, 37.…\n",
      "$ prop_working_age         \u001b[3m\u001b[90m<dbl>\u001b[39m\u001b[23m 0.622, 0.670, 0.745, 0.815, 0.710, 0.743, 0.6…\n",
      "$ geometry                 \u001b[3m\u001b[90m<MULTIPOLYGON [°]>\u001b[39m\u001b[23m MULTIPOLYGON (((-123.0233 4..., …\n",
      "$ log_mean_age             \u001b[3m\u001b[90m<dbl>\u001b[39m\u001b[23m 3.765840, 3.742420, 3.725693, 3.693867, 3.691…\n",
      "$ insite_dummy             \u001b[3m\u001b[90m<int>\u001b[39m\u001b[23m 0, 0, 0, 0, 0, 0, 0, 0, 0, 0, 0, 0, 0, 0, 0, …\n",
      "$ is_downtown              \u001b[3m\u001b[90m<int>\u001b[39m\u001b[23m 0, 0, 0, 0, 0, 0, 0, 0, 0, 0, 0, 0, 0, 0, 0, …\n",
      "$ log_population_density   \u001b[3m\u001b[90m<dbl>\u001b[39m\u001b[23m 7.654870, 8.428428, 8.804430, 8.495970, 8.789…\n"
     ]
    }
   ],
   "source": [
    "census_index_crime_log <- census_index_crime_log|>\n",
    "    mutate(log_population_density = log(ifelse(population_density == 0, 0.01, population_density)))|>\n",
    "    glimpse()"
   ]
  },
  {
   "cell_type": "code",
   "execution_count": 64,
   "metadata": {
    "vscode": {
     "languageId": "r"
    }
   },
   "outputs": [
    {
     "name": "stdout",
     "output_type": "stream",
     "text": [
      "\n",
      "\tstudentized Breusch-Pagan test\n",
      "\n",
      "data:  reg_log4\n",
      "BP = 11.78, df = 2, p-value = 0.002768\n",
      "\n"
     ]
    },
    {
     "name": "stdout",
     "output_type": "stream",
     "text": [
      "\n",
      "Log-Log Regression Results with Robust Standard Errors\n",
      "====================================================\n",
      "                             Dependent variable:    \n",
      "                         ---------------------------\n",
      "                               Log Crime Rate       \n",
      "----------------------------------------------------\n",
      "log_light_count               0.393*** (0.044)      \n",
      "log_mean_land_value             0.021 (0.043)       \n",
      "log_school_index              -0.612*** (0.108)     \n",
      "log_cultural_space_index      1.651*** (0.113)      \n",
      "log_income                    -0.681*** (0.077)     \n",
      "log_mean_age                  -0.594*** (0.223)     \n",
      "log_population_density        -0.202*** (0.051)     \n",
      "immigrant_prop                -0.363** (0.157)      \n",
      "education_prop                0.911*** (0.204)      \n",
      "Constant                      6.746*** (1.007)      \n",
      "----------------------------------------------------\n",
      "Observations                         989            \n",
      "R2                                  0.526           \n",
      "Adjusted R2                         0.521           \n",
      "Residual Std. Error           0.565 (df = 979)      \n",
      "F Statistic               120.622*** (df = 9; 979)  \n",
      "====================================================\n",
      "Note:                    *p<0.1; **p<0.05; ***p<0.01\n"
     ]
    },
    {
     "name": "stderr",
     "output_type": "stream",
     "text": [
      "Warning message in tidy.numeric(vif(reg_log4)):\n",
      "\"'tidy.numeric' is deprecated.\n",
      "See help(\"Deprecated\")\"\n"
     ]
    },
    {
     "data": {
      "text/html": [
       "<table class=\"dataframe\">\n",
       "<caption>A tibble: 9 × 2</caption>\n",
       "<thead>\n",
       "\t<tr><th scope=col>names</th><th scope=col>x</th></tr>\n",
       "\t<tr><th scope=col>&lt;chr&gt;</th><th scope=col>&lt;dbl&gt;</th></tr>\n",
       "</thead>\n",
       "<tbody>\n",
       "\t<tr><td>log_light_count         </td><td>1.999630</td></tr>\n",
       "\t<tr><td>log_mean_land_value     </td><td>1.384692</td></tr>\n",
       "\t<tr><td>log_school_index        </td><td>1.641671</td></tr>\n",
       "\t<tr><td>log_cultural_space_index</td><td>2.724606</td></tr>\n",
       "\t<tr><td>log_income              </td><td>1.760801</td></tr>\n",
       "\t<tr><td>log_mean_age            </td><td>1.130175</td></tr>\n",
       "\t<tr><td>log_population_density  </td><td>3.167412</td></tr>\n",
       "\t<tr><td>immigrant_prop          </td><td>1.631704</td></tr>\n",
       "\t<tr><td>education_prop          </td><td>1.794012</td></tr>\n",
       "</tbody>\n",
       "</table>\n"
      ],
      "text/latex": [
       "A tibble: 9 × 2\n",
       "\\begin{tabular}{ll}\n",
       " names & x\\\\\n",
       " <chr> & <dbl>\\\\\n",
       "\\hline\n",
       "\t log\\_light\\_count          & 1.999630\\\\\n",
       "\t log\\_mean\\_land\\_value      & 1.384692\\\\\n",
       "\t log\\_school\\_index         & 1.641671\\\\\n",
       "\t log\\_cultural\\_space\\_index & 2.724606\\\\\n",
       "\t log\\_income               & 1.760801\\\\\n",
       "\t log\\_mean\\_age             & 1.130175\\\\\n",
       "\t log\\_population\\_density   & 3.167412\\\\\n",
       "\t immigrant\\_prop           & 1.631704\\\\\n",
       "\t education\\_prop           & 1.794012\\\\\n",
       "\\end{tabular}\n"
      ],
      "text/markdown": [
       "\n",
       "A tibble: 9 × 2\n",
       "\n",
       "| names &lt;chr&gt; | x &lt;dbl&gt; |\n",
       "|---|---|\n",
       "| log_light_count          | 1.999630 |\n",
       "| log_mean_land_value      | 1.384692 |\n",
       "| log_school_index         | 1.641671 |\n",
       "| log_cultural_space_index | 2.724606 |\n",
       "| log_income               | 1.760801 |\n",
       "| log_mean_age             | 1.130175 |\n",
       "| log_population_density   | 3.167412 |\n",
       "| immigrant_prop           | 1.631704 |\n",
       "| education_prop           | 1.794012 |\n",
       "\n"
      ],
      "text/plain": [
       "  names                    x       \n",
       "1 log_light_count          1.999630\n",
       "2 log_mean_land_value      1.384692\n",
       "3 log_school_index         1.641671\n",
       "4 log_cultural_space_index 2.724606\n",
       "5 log_income               1.760801\n",
       "6 log_mean_age             1.130175\n",
       "7 log_population_density   3.167412\n",
       "8 immigrant_prop           1.631704\n",
       "9 education_prop           1.794012"
      ]
     },
     "metadata": {},
     "output_type": "display_data"
    }
   ],
   "source": [
    "reg_log4 <- lm(log_crime_rate ~ log_light_count+ log_mean_land_value + log_school_index + log_cultural_space_index\n",
    "               + log_income  + log_mean_age + log_population_density + immigrant_prop + education_prop, \n",
    "              data = census_index_crime_log)\n",
    "\n",
    "white_test <- bptest(reg_log4, ~ fitted(reg_log4) + I(fitted(reg_log4)^2), data = census_index_crime_log)\n",
    "print(white_test)  \n",
    "\n",
    "robust_se4 <- sqrt(diag(vcovHC(reg_log4, type = \"HC1\")))\n",
    "\n",
    "stargazer(reg_log4, type = \"text\", \n",
    "        title = \"Log-Log Regression Results with Robust Standard Errors\", \n",
    "        dep.var.labels = c(\"Log Crime Rate\"), \n",
    "        se = list(robust_se4),\n",
    "        single.row=TRUE)\n",
    "\n",
    "vif(reg_log4)|>tidy()"
   ]
  },
  {
   "cell_type": "code",
   "execution_count": 65,
   "metadata": {
    "vscode": {
     "languageId": "r"
    }
   },
   "outputs": [
    {
     "name": "stdout",
     "output_type": "stream",
     "text": [
      "\n",
      "\tstudentized Breusch-Pagan test\n",
      "\n",
      "data:  reg_log5\n",
      "BP = 11.809, df = 2, p-value = 0.002727\n",
      "\n",
      "\n",
      "Log-Log Regression Results with Robust Standard Errors\n",
      "====================================================\n",
      "                             Dependent variable:    \n",
      "                         ---------------------------\n",
      "                               Log Crime Rate       \n",
      "----------------------------------------------------\n",
      "log_light_count               0.388*** (0.042)      \n",
      "log_school_index              -0.621*** (0.110)     \n",
      "log_cultural_space_index      1.660*** (0.115)      \n",
      "log_income                    -0.687*** (0.075)     \n",
      "log_mean_age                  -0.583*** (0.220)     \n",
      "log_population_density        -0.215*** (0.040)     \n",
      "immigrant_prop                -0.355** (0.157)      \n",
      "education_prop                0.936*** (0.194)      \n",
      "Constant                      6.834*** (0.992)      \n",
      "----------------------------------------------------\n",
      "Observations                         989            \n",
      "R2                                  0.526           \n",
      "Adjusted R2                         0.522           \n",
      "Residual Std. Error           0.565 (df = 980)      \n",
      "F Statistic               135.715*** (df = 8; 980)  \n",
      "====================================================\n",
      "Note:                    *p<0.1; **p<0.05; ***p<0.01\n"
     ]
    },
    {
     "name": "stderr",
     "output_type": "stream",
     "text": [
      "Warning message in tidy.numeric(vif(reg_log5)):\n",
      "\"'tidy.numeric' is deprecated.\n",
      "See help(\"Deprecated\")\"\n"
     ]
    },
    {
     "data": {
      "text/html": [
       "<table class=\"dataframe\">\n",
       "<caption>A tibble: 8 × 2</caption>\n",
       "<thead>\n",
       "\t<tr><th scope=col>names</th><th scope=col>x</th></tr>\n",
       "\t<tr><th scope=col>&lt;chr&gt;</th><th scope=col>&lt;dbl&gt;</th></tr>\n",
       "</thead>\n",
       "<tbody>\n",
       "\t<tr><td>log_light_count         </td><td>1.918726</td></tr>\n",
       "\t<tr><td>log_school_index        </td><td>1.620445</td></tr>\n",
       "\t<tr><td>log_cultural_space_index</td><td>2.687291</td></tr>\n",
       "\t<tr><td>log_income              </td><td>1.723980</td></tr>\n",
       "\t<tr><td>log_mean_age            </td><td>1.123207</td></tr>\n",
       "\t<tr><td>log_population_density  </td><td>2.475152</td></tr>\n",
       "\t<tr><td>immigrant_prop          </td><td>1.622450</td></tr>\n",
       "\t<tr><td>education_prop          </td><td>1.719839</td></tr>\n",
       "</tbody>\n",
       "</table>\n"
      ],
      "text/latex": [
       "A tibble: 8 × 2\n",
       "\\begin{tabular}{ll}\n",
       " names & x\\\\\n",
       " <chr> & <dbl>\\\\\n",
       "\\hline\n",
       "\t log\\_light\\_count          & 1.918726\\\\\n",
       "\t log\\_school\\_index         & 1.620445\\\\\n",
       "\t log\\_cultural\\_space\\_index & 2.687291\\\\\n",
       "\t log\\_income               & 1.723980\\\\\n",
       "\t log\\_mean\\_age             & 1.123207\\\\\n",
       "\t log\\_population\\_density   & 2.475152\\\\\n",
       "\t immigrant\\_prop           & 1.622450\\\\\n",
       "\t education\\_prop           & 1.719839\\\\\n",
       "\\end{tabular}\n"
      ],
      "text/markdown": [
       "\n",
       "A tibble: 8 × 2\n",
       "\n",
       "| names &lt;chr&gt; | x &lt;dbl&gt; |\n",
       "|---|---|\n",
       "| log_light_count          | 1.918726 |\n",
       "| log_school_index         | 1.620445 |\n",
       "| log_cultural_space_index | 2.687291 |\n",
       "| log_income               | 1.723980 |\n",
       "| log_mean_age             | 1.123207 |\n",
       "| log_population_density   | 2.475152 |\n",
       "| immigrant_prop           | 1.622450 |\n",
       "| education_prop           | 1.719839 |\n",
       "\n"
      ],
      "text/plain": [
       "  names                    x       \n",
       "1 log_light_count          1.918726\n",
       "2 log_school_index         1.620445\n",
       "3 log_cultural_space_index 2.687291\n",
       "4 log_income               1.723980\n",
       "5 log_mean_age             1.123207\n",
       "6 log_population_density   2.475152\n",
       "7 immigrant_prop           1.622450\n",
       "8 education_prop           1.719839"
      ]
     },
     "metadata": {},
     "output_type": "display_data"
    }
   ],
   "source": [
    "# Omit mean land value\n",
    "reg_log5 <- lm(log_crime_rate ~ log_light_count + log_school_index + log_cultural_space_index\n",
    "               + log_income  + log_mean_age + log_population_density + immigrant_prop + education_prop, \n",
    "              data = census_index_crime_log)\n",
    "\n",
    "white_test <- bptest(reg_log5, ~ fitted(reg_log5) + I(fitted(reg_log5)^2), data = census_index_crime_log)\n",
    "print(white_test)  \n",
    "\n",
    "robust_se5 <- sqrt(diag(vcovHC(reg_log5, type = \"HC1\")))\n",
    "\n",
    "stargazer(reg_log5, type = \"text\", \n",
    "        title = \"Log-Log Regression Results with Robust Standard Errors\", \n",
    "        dep.var.labels = c(\"Log Crime Rate\"), \n",
    "        se = list(robust_se5),\n",
    "        single.row=TRUE)\n",
    "\n",
    "vif(reg_log5)|>tidy()"
   ]
  },
  {
   "cell_type": "code",
   "execution_count": 66,
   "metadata": {
    "vscode": {
     "languageId": "r"
    }
   },
   "outputs": [
    {
     "name": "stdout",
     "output_type": "stream",
     "text": [
      "\n",
      "\tstudentized Breusch-Pagan test\n",
      "\n",
      "data:  reg_log6\n",
      "BP = 13.447, df = 2, p-value = 0.001202\n",
      "\n",
      "\n",
      "Log-Log Regression Results with Robust Standard Errors\n",
      "====================================================\n",
      "                             Dependent variable:    \n",
      "                         ---------------------------\n",
      "                               Log Crime Rate       \n",
      "----------------------------------------------------\n",
      "log_light_count               0.345*** (0.041)      \n",
      "log_school_index              -0.363*** (0.104)     \n",
      "log_cultural_space_index      1.326*** (0.110)      \n",
      "log_income                    -0.613*** (0.075)     \n",
      "log_mean_age                  -0.758*** (0.226)     \n",
      "log_population_density        -0.293*** (0.042)     \n",
      "immigrant_prop                -0.475*** (0.152)     \n",
      "education_prop                0.879*** (0.187)      \n",
      "is_downtown                   0.486*** (0.076)      \n",
      "Constant                      8.411*** (1.055)      \n",
      "----------------------------------------------------\n",
      "Observations                         989            \n",
      "R2                                  0.550           \n",
      "Adjusted R2                         0.546           \n",
      "Residual Std. Error           0.550 (df = 979)      \n",
      "F Statistic               132.880*** (df = 9; 979)  \n",
      "====================================================\n",
      "Note:                    *p<0.1; **p<0.05; ***p<0.01\n"
     ]
    },
    {
     "name": "stderr",
     "output_type": "stream",
     "text": [
      "Warning message in tidy.numeric(vif(reg_log6)):\n",
      "\"'tidy.numeric' is deprecated.\n",
      "See help(\"Deprecated\")\"\n"
     ]
    },
    {
     "data": {
      "text/html": [
       "<table class=\"dataframe\">\n",
       "<caption>A tibble: 9 × 2</caption>\n",
       "<thead>\n",
       "\t<tr><th scope=col>names</th><th scope=col>x</th></tr>\n",
       "\t<tr><th scope=col>&lt;chr&gt;</th><th scope=col>&lt;dbl&gt;</th></tr>\n",
       "</thead>\n",
       "<tbody>\n",
       "\t<tr><td>log_light_count         </td><td>1.968018</td></tr>\n",
       "\t<tr><td>log_school_index        </td><td>1.816747</td></tr>\n",
       "\t<tr><td>log_cultural_space_index</td><td>3.241528</td></tr>\n",
       "\t<tr><td>log_income              </td><td>1.767524</td></tr>\n",
       "\t<tr><td>log_mean_age            </td><td>1.140738</td></tr>\n",
       "\t<tr><td>log_population_density  </td><td>2.713300</td></tr>\n",
       "\t<tr><td>immigrant_prop          </td><td>1.642484</td></tr>\n",
       "\t<tr><td>education_prop          </td><td>1.723463</td></tr>\n",
       "\t<tr><td>is_downtown             </td><td>1.917628</td></tr>\n",
       "</tbody>\n",
       "</table>\n"
      ],
      "text/latex": [
       "A tibble: 9 × 2\n",
       "\\begin{tabular}{ll}\n",
       " names & x\\\\\n",
       " <chr> & <dbl>\\\\\n",
       "\\hline\n",
       "\t log\\_light\\_count          & 1.968018\\\\\n",
       "\t log\\_school\\_index         & 1.816747\\\\\n",
       "\t log\\_cultural\\_space\\_index & 3.241528\\\\\n",
       "\t log\\_income               & 1.767524\\\\\n",
       "\t log\\_mean\\_age             & 1.140738\\\\\n",
       "\t log\\_population\\_density   & 2.713300\\\\\n",
       "\t immigrant\\_prop           & 1.642484\\\\\n",
       "\t education\\_prop           & 1.723463\\\\\n",
       "\t is\\_downtown              & 1.917628\\\\\n",
       "\\end{tabular}\n"
      ],
      "text/markdown": [
       "\n",
       "A tibble: 9 × 2\n",
       "\n",
       "| names &lt;chr&gt; | x &lt;dbl&gt; |\n",
       "|---|---|\n",
       "| log_light_count          | 1.968018 |\n",
       "| log_school_index         | 1.816747 |\n",
       "| log_cultural_space_index | 3.241528 |\n",
       "| log_income               | 1.767524 |\n",
       "| log_mean_age             | 1.140738 |\n",
       "| log_population_density   | 2.713300 |\n",
       "| immigrant_prop           | 1.642484 |\n",
       "| education_prop           | 1.723463 |\n",
       "| is_downtown              | 1.917628 |\n",
       "\n"
      ],
      "text/plain": [
       "  names                    x       \n",
       "1 log_light_count          1.968018\n",
       "2 log_school_index         1.816747\n",
       "3 log_cultural_space_index 3.241528\n",
       "4 log_income               1.767524\n",
       "5 log_mean_age             1.140738\n",
       "6 log_population_density   2.713300\n",
       "7 immigrant_prop           1.642484\n",
       "8 education_prop           1.723463\n",
       "9 is_downtown              1.917628"
      ]
     },
     "metadata": {},
     "output_type": "display_data"
    }
   ],
   "source": [
    "# Add is downtown\n",
    "reg_log6 <- lm(log_crime_rate ~ log_light_count + log_school_index + log_cultural_space_index\n",
    "               + log_income  + log_mean_age + log_population_density + log_mean_age + immigrant_prop + education_prop + is_downtown, \n",
    "              data = census_index_crime_log)\n",
    "\n",
    "white_test <- bptest(reg_log6, ~ fitted(reg_log6) + I(fitted(reg_log6)^2), data = census_index_crime_log)\n",
    "print(white_test)  \n",
    "\n",
    "robust_se6 <- sqrt(diag(vcovHC(reg_log6, type = \"HC1\")))\n",
    "\n",
    "stargazer(reg_log6, type = \"text\", \n",
    "        title = \"Log-Log Regression Results with Robust Standard Errors\", \n",
    "        dep.var.labels = c(\"Log Crime Rate\"), \n",
    "        se = list(robust_se6),\n",
    "        single.row=TRUE)\n",
    "\n",
    "vif(reg_log6)|>tidy()"
   ]
  },
  {
   "cell_type": "markdown",
   "metadata": {},
   "source": [
    "Since we've decided all the controls, we want to add interaction. "
   ]
  },
  {
   "cell_type": "code",
   "execution_count": 67,
   "metadata": {
    "vscode": {
     "languageId": "r"
    }
   },
   "outputs": [
    {
     "name": "stdout",
     "output_type": "stream",
     "text": [
      "\n",
      "\tstudentized Breusch-Pagan test\n",
      "\n",
      "data:  reg_log7\n",
      "BP = 13.19, df = 2, p-value = 0.001367\n",
      "\n",
      "\n",
      "Log-Log Regression Results with Robust Standard Errors\n",
      "=======================================================\n",
      "                                Dependent variable:    \n",
      "                            ---------------------------\n",
      "                                  Log Crime Rate       \n",
      "-------------------------------------------------------\n",
      "log_light_count                  0.286*** (0.048)      \n",
      "log_school_index                 -0.354*** (0.105)     \n",
      "log_cultural_space_index         1.310*** (0.111)      \n",
      "log_income                       -0.597*** (0.077)     \n",
      "log_mean_age                     -0.735*** (0.226)     \n",
      "log_population_density           -0.298*** (0.043)     \n",
      "immigrant_prop                   -0.439*** (0.150)     \n",
      "education_prop                   0.875*** (0.187)      \n",
      "is_downtown                        0.004 (0.248)       \n",
      "log_light_count:is_downtown       0.136* (0.070)       \n",
      "Constant                         8.595*** (1.063)      \n",
      "-------------------------------------------------------\n",
      "Observations                            989            \n",
      "R2                                     0.552           \n",
      "Adjusted R2                            0.548           \n",
      "Residual Std. Error              0.549 (df = 978)      \n",
      "F Statistic                  120.698*** (df = 10; 978) \n",
      "=======================================================\n",
      "Note:                       *p<0.1; **p<0.05; ***p<0.01\n"
     ]
    },
    {
     "name": "stderr",
     "output_type": "stream",
     "text": [
      "there are higher-order terms (interactions) in this model\n",
      "consider setting type = 'predictor'; see ?vif\n",
      "\n",
      "Warning message in tidy.numeric(vif(reg_log7)):\n",
      "\"'tidy.numeric' is deprecated.\n",
      "See help(\"Deprecated\")\"\n"
     ]
    },
    {
     "data": {
      "text/html": [
       "<table class=\"dataframe\">\n",
       "<caption>A tibble: 10 × 2</caption>\n",
       "<thead>\n",
       "\t<tr><th scope=col>names</th><th scope=col>x</th></tr>\n",
       "\t<tr><th scope=col>&lt;chr&gt;</th><th scope=col>&lt;dbl&gt;</th></tr>\n",
       "</thead>\n",
       "<tbody>\n",
       "\t<tr><td>log_light_count            </td><td> 2.832492</td></tr>\n",
       "\t<tr><td>log_school_index           </td><td> 1.818908</td></tr>\n",
       "\t<tr><td>log_cultural_space_index   </td><td> 3.254008</td></tr>\n",
       "\t<tr><td>log_income                 </td><td> 1.788674</td></tr>\n",
       "\t<tr><td>log_mean_age               </td><td> 1.143515</td></tr>\n",
       "\t<tr><td>log_population_density     </td><td> 2.722700</td></tr>\n",
       "\t<tr><td>immigrant_prop             </td><td> 1.660043</td></tr>\n",
       "\t<tr><td>education_prop             </td><td> 1.723669</td></tr>\n",
       "\t<tr><td>is_downtown                </td><td>20.051078</td></tr>\n",
       "\t<tr><td>log_light_count:is_downtown</td><td>20.142919</td></tr>\n",
       "</tbody>\n",
       "</table>\n"
      ],
      "text/latex": [
       "A tibble: 10 × 2\n",
       "\\begin{tabular}{ll}\n",
       " names & x\\\\\n",
       " <chr> & <dbl>\\\\\n",
       "\\hline\n",
       "\t log\\_light\\_count             &  2.832492\\\\\n",
       "\t log\\_school\\_index            &  1.818908\\\\\n",
       "\t log\\_cultural\\_space\\_index    &  3.254008\\\\\n",
       "\t log\\_income                  &  1.788674\\\\\n",
       "\t log\\_mean\\_age                &  1.143515\\\\\n",
       "\t log\\_population\\_density      &  2.722700\\\\\n",
       "\t immigrant\\_prop              &  1.660043\\\\\n",
       "\t education\\_prop              &  1.723669\\\\\n",
       "\t is\\_downtown                 & 20.051078\\\\\n",
       "\t log\\_light\\_count:is\\_downtown & 20.142919\\\\\n",
       "\\end{tabular}\n"
      ],
      "text/markdown": [
       "\n",
       "A tibble: 10 × 2\n",
       "\n",
       "| names &lt;chr&gt; | x &lt;dbl&gt; |\n",
       "|---|---|\n",
       "| log_light_count             |  2.832492 |\n",
       "| log_school_index            |  1.818908 |\n",
       "| log_cultural_space_index    |  3.254008 |\n",
       "| log_income                  |  1.788674 |\n",
       "| log_mean_age                |  1.143515 |\n",
       "| log_population_density      |  2.722700 |\n",
       "| immigrant_prop              |  1.660043 |\n",
       "| education_prop              |  1.723669 |\n",
       "| is_downtown                 | 20.051078 |\n",
       "| log_light_count:is_downtown | 20.142919 |\n",
       "\n"
      ],
      "text/plain": [
       "   names                       x        \n",
       "1  log_light_count              2.832492\n",
       "2  log_school_index             1.818908\n",
       "3  log_cultural_space_index     3.254008\n",
       "4  log_income                   1.788674\n",
       "5  log_mean_age                 1.143515\n",
       "6  log_population_density       2.722700\n",
       "7  immigrant_prop               1.660043\n",
       "8  education_prop               1.723669\n",
       "9  is_downtown                 20.051078\n",
       "10 log_light_count:is_downtown 20.142919"
      ]
     },
     "metadata": {},
     "output_type": "display_data"
    }
   ],
   "source": [
    "# Add an interaction\n",
    "reg_log7 <- lm(log_crime_rate ~ log_light_count + log_school_index + log_cultural_space_index\n",
    "               + log_income  + log_mean_age + log_population_density + log_mean_age + immigrant_prop + education_prop\n",
    "               + is_downtown + is_downtown:log_light_count, \n",
    "              data = census_index_crime_log)\n",
    "\n",
    "white_test <- bptest(reg_log7, ~ fitted(reg_log7) + I(fitted(reg_log7)^2), data = census_index_crime_log)\n",
    "print(white_test)  \n",
    "\n",
    "robust_se7 <- sqrt(diag(vcovHC(reg_log7, type = \"HC1\")))\n",
    "\n",
    "stargazer(reg_log7, type = \"text\", \n",
    "        title = \"Log-Log Regression Results with Robust Standard Errors\", \n",
    "        dep.var.labels = c(\"Log Crime Rate\"), \n",
    "        se = list(robust_se7),\n",
    "        single.row=TRUE)\n",
    "\n",
    "vif(reg_log7)|>tidy()"
   ]
  },
  {
   "cell_type": "markdown",
   "metadata": {},
   "source": [
    "Since the high VIF suggest it may not be a good idea to include both \"is downtown\" and the interaction."
   ]
  },
  {
   "cell_type": "code",
   "execution_count": 68,
   "metadata": {
    "vscode": {
     "languageId": "r"
    }
   },
   "outputs": [
    {
     "name": "stdout",
     "output_type": "stream",
     "text": [
      "\n",
      "\tstudentized Breusch-Pagan test\n",
      "\n",
      "data:  reg_log8\n",
      "BP = 13.191, df = 2, p-value = 0.001367\n",
      "\n",
      "\n",
      "Log-Log Regression Results with Robust Standard Errors\n",
      "=======================================================\n",
      "                                Dependent variable:    \n",
      "                            ---------------------------\n",
      "                                  Log Crime Rate       \n",
      "-------------------------------------------------------\n",
      "log_light_count                  0.286*** (0.043)      \n",
      "log_school_index                 -0.355*** (0.106)     \n",
      "log_cultural_space_index         1.310*** (0.112)      \n",
      "log_income                       -0.597*** (0.076)     \n",
      "log_mean_age                     -0.735*** (0.224)     \n",
      "log_population_density           -0.298*** (0.043)     \n",
      "immigrant_prop                   -0.438*** (0.151)     \n",
      "education_prop                   0.875*** (0.187)      \n",
      "log_light_count:is_downtown      0.137*** (0.021)      \n",
      "Constant                         8.595*** (1.063)      \n",
      "-------------------------------------------------------\n",
      "Observations                            989            \n",
      "R2                                     0.552           \n",
      "Adjusted R2                            0.548           \n",
      "Residual Std. Error              0.549 (df = 979)      \n",
      "F Statistic                  134.246*** (df = 9; 979)  \n",
      "=======================================================\n",
      "Note:                       *p<0.1; **p<0.05; ***p<0.01\n"
     ]
    },
    {
     "name": "stderr",
     "output_type": "stream",
     "text": [
      "there are higher-order terms (interactions) in this model\n",
      "consider setting type = 'predictor'; see ?vif\n",
      "\n",
      "Warning message in tidy.numeric(vif(reg_log8)):\n",
      "\"'tidy.numeric' is deprecated.\n",
      "See help(\"Deprecated\")\"\n"
     ]
    },
    {
     "data": {
      "text/html": [
       "<table class=\"dataframe\">\n",
       "<caption>A tibble: 9 × 2</caption>\n",
       "<thead>\n",
       "\t<tr><th scope=col>names</th><th scope=col>x</th></tr>\n",
       "\t<tr><th scope=col>&lt;chr&gt;</th><th scope=col>&lt;dbl&gt;</th></tr>\n",
       "</thead>\n",
       "<tbody>\n",
       "\t<tr><td>log_light_count            </td><td>2.167397</td></tr>\n",
       "\t<tr><td>log_school_index           </td><td>1.810295</td></tr>\n",
       "\t<tr><td>log_cultural_space_index   </td><td>3.238634</td></tr>\n",
       "\t<tr><td>log_income                 </td><td>1.783232</td></tr>\n",
       "\t<tr><td>log_mean_age               </td><td>1.135222</td></tr>\n",
       "\t<tr><td>log_population_density     </td><td>2.719252</td></tr>\n",
       "\t<tr><td>immigrant_prop             </td><td>1.631215</td></tr>\n",
       "\t<tr><td>education_prop             </td><td>1.723644</td></tr>\n",
       "\t<tr><td>log_light_count:is_downtown</td><td>1.926411</td></tr>\n",
       "</tbody>\n",
       "</table>\n"
      ],
      "text/latex": [
       "A tibble: 9 × 2\n",
       "\\begin{tabular}{ll}\n",
       " names & x\\\\\n",
       " <chr> & <dbl>\\\\\n",
       "\\hline\n",
       "\t log\\_light\\_count             & 2.167397\\\\\n",
       "\t log\\_school\\_index            & 1.810295\\\\\n",
       "\t log\\_cultural\\_space\\_index    & 3.238634\\\\\n",
       "\t log\\_income                  & 1.783232\\\\\n",
       "\t log\\_mean\\_age                & 1.135222\\\\\n",
       "\t log\\_population\\_density      & 2.719252\\\\\n",
       "\t immigrant\\_prop              & 1.631215\\\\\n",
       "\t education\\_prop              & 1.723644\\\\\n",
       "\t log\\_light\\_count:is\\_downtown & 1.926411\\\\\n",
       "\\end{tabular}\n"
      ],
      "text/markdown": [
       "\n",
       "A tibble: 9 × 2\n",
       "\n",
       "| names &lt;chr&gt; | x &lt;dbl&gt; |\n",
       "|---|---|\n",
       "| log_light_count             | 2.167397 |\n",
       "| log_school_index            | 1.810295 |\n",
       "| log_cultural_space_index    | 3.238634 |\n",
       "| log_income                  | 1.783232 |\n",
       "| log_mean_age                | 1.135222 |\n",
       "| log_population_density      | 2.719252 |\n",
       "| immigrant_prop              | 1.631215 |\n",
       "| education_prop              | 1.723644 |\n",
       "| log_light_count:is_downtown | 1.926411 |\n",
       "\n"
      ],
      "text/plain": [
       "  names                       x       \n",
       "1 log_light_count             2.167397\n",
       "2 log_school_index            1.810295\n",
       "3 log_cultural_space_index    3.238634\n",
       "4 log_income                  1.783232\n",
       "5 log_mean_age                1.135222\n",
       "6 log_population_density      2.719252\n",
       "7 immigrant_prop              1.631215\n",
       "8 education_prop              1.723644\n",
       "9 log_light_count:is_downtown 1.926411"
      ]
     },
     "metadata": {},
     "output_type": "display_data"
    }
   ],
   "source": [
    "# Add an interaction\n",
    "reg_log8 <- lm(log_crime_rate ~ log_light_count + log_school_index + log_cultural_space_index\n",
    "               + log_income  + log_mean_age + log_population_density + immigrant_prop + education_prop \n",
    "               + is_downtown:log_light_count, \n",
    "              data = census_index_crime_log)\n",
    "\n",
    "white_test <- bptest(reg_log8, ~ fitted(reg_log8) + I(fitted(reg_log8)^2), data = census_index_crime_log)\n",
    "print(white_test)  \n",
    "\n",
    "robust_se8 <- sqrt(diag(vcovHC(reg_log8, type = \"HC1\")))\n",
    "\n",
    "stargazer(reg_log8, type = \"text\", \n",
    "        title = \"Log-Log Regression Results with Robust Standard Errors\", \n",
    "        dep.var.labels = c(\"Log Crime Rate\"), \n",
    "        se = list(robust_se8),\n",
    "        single.row=TRUE)\n",
    "\n",
    "vif(reg_log8)|>tidy()"
   ]
  },
  {
   "cell_type": "markdown",
   "metadata": {},
   "source": [
    "We therefore decided our final regression model. But we still want to explore the inverse causality problem in our model and the regional fixed effect more."
   ]
  },
  {
   "cell_type": "code",
   "execution_count": 69,
   "metadata": {
    "vscode": {
     "languageId": "r"
    }
   },
   "outputs": [
    {
     "name": "stdout",
     "output_type": "stream",
     "text": [
      "\n",
      "\tstudentized Breusch-Pagan test\n",
      "\n",
      "data:  reg_log_inverse\n",
      "BP = 7.374, df = 2, p-value = 0.02505\n",
      "\n",
      "\n",
      "Log-Log Regression Results with Robust Standard Errors\n",
      "=======================================================\n",
      "                                Dependent variable:    \n",
      "                            ---------------------------\n",
      "                                  Log Crime Rate       \n",
      "-------------------------------------------------------\n",
      "log_crime_rate                   0.178*** (0.026)      \n",
      "log_school_index                 0.300*** (0.088)      \n",
      "log_cultural_space_index          -0.080 (0.110)       \n",
      "log_income                       0.171*** (0.059)      \n",
      "log_mean_age                      -0.191 (0.181)       \n",
      "log_population_density           -0.535*** (0.028)     \n",
      "immigrant_prop                   0.609*** (0.116)      \n",
      "education_prop                   -0.397*** (0.126)     \n",
      "log_light_count:is_downtown      0.121*** (0.023)      \n",
      "Constant                         7.883*** (0.810)      \n",
      "-------------------------------------------------------\n",
      "Observations                            989            \n",
      "R2                                     0.562           \n",
      "Adjusted R2                            0.558           \n",
      "Residual Std. Error              0.434 (df = 979)      \n",
      "F Statistic                  139.656*** (df = 9; 979)  \n",
      "=======================================================\n",
      "Note:                       *p<0.1; **p<0.05; ***p<0.01\n"
     ]
    },
    {
     "name": "stderr",
     "output_type": "stream",
     "text": [
      "there are higher-order terms (interactions) in this model\n",
      "consider setting type = 'predictor'; see ?vif\n",
      "\n",
      "Warning message in tidy.numeric(vif(reg_log_inverse)):\n",
      "\"'tidy.numeric' is deprecated.\n",
      "See help(\"Deprecated\")\"\n"
     ]
    },
    {
     "data": {
      "text/html": [
       "<table class=\"dataframe\">\n",
       "<caption>A tibble: 9 × 2</caption>\n",
       "<thead>\n",
       "\t<tr><th scope=col>names</th><th scope=col>x</th></tr>\n",
       "\t<tr><th scope=col>&lt;chr&gt;</th><th scope=col>&lt;dbl&gt;</th></tr>\n",
       "</thead>\n",
       "<tbody>\n",
       "\t<tr><td>log_crime_rate             </td><td>2.120199</td></tr>\n",
       "\t<tr><td>log_school_index           </td><td>1.807302</td></tr>\n",
       "\t<tr><td>log_cultural_space_index   </td><td>3.700288</td></tr>\n",
       "\t<tr><td>log_income                 </td><td>1.916707</td></tr>\n",
       "\t<tr><td>log_mean_age               </td><td>1.150296</td></tr>\n",
       "\t<tr><td>log_population_density     </td><td>1.936655</td></tr>\n",
       "\t<tr><td>immigrant_prop             </td><td>1.600905</td></tr>\n",
       "\t<tr><td>education_prop             </td><td>1.754843</td></tr>\n",
       "\t<tr><td>log_light_count:is_downtown</td><td>1.896415</td></tr>\n",
       "</tbody>\n",
       "</table>\n"
      ],
      "text/latex": [
       "A tibble: 9 × 2\n",
       "\\begin{tabular}{ll}\n",
       " names & x\\\\\n",
       " <chr> & <dbl>\\\\\n",
       "\\hline\n",
       "\t log\\_crime\\_rate              & 2.120199\\\\\n",
       "\t log\\_school\\_index            & 1.807302\\\\\n",
       "\t log\\_cultural\\_space\\_index    & 3.700288\\\\\n",
       "\t log\\_income                  & 1.916707\\\\\n",
       "\t log\\_mean\\_age                & 1.150296\\\\\n",
       "\t log\\_population\\_density      & 1.936655\\\\\n",
       "\t immigrant\\_prop              & 1.600905\\\\\n",
       "\t education\\_prop              & 1.754843\\\\\n",
       "\t log\\_light\\_count:is\\_downtown & 1.896415\\\\\n",
       "\\end{tabular}\n"
      ],
      "text/markdown": [
       "\n",
       "A tibble: 9 × 2\n",
       "\n",
       "| names &lt;chr&gt; | x &lt;dbl&gt; |\n",
       "|---|---|\n",
       "| log_crime_rate              | 2.120199 |\n",
       "| log_school_index            | 1.807302 |\n",
       "| log_cultural_space_index    | 3.700288 |\n",
       "| log_income                  | 1.916707 |\n",
       "| log_mean_age                | 1.150296 |\n",
       "| log_population_density      | 1.936655 |\n",
       "| immigrant_prop              | 1.600905 |\n",
       "| education_prop              | 1.754843 |\n",
       "| log_light_count:is_downtown | 1.896415 |\n",
       "\n"
      ],
      "text/plain": [
       "  names                       x       \n",
       "1 log_crime_rate              2.120199\n",
       "2 log_school_index            1.807302\n",
       "3 log_cultural_space_index    3.700288\n",
       "4 log_income                  1.916707\n",
       "5 log_mean_age                1.150296\n",
       "6 log_population_density      1.936655\n",
       "7 immigrant_prop              1.600905\n",
       "8 education_prop              1.754843\n",
       "9 log_light_count:is_downtown 1.896415"
      ]
     },
     "metadata": {},
     "output_type": "display_data"
    }
   ],
   "source": [
    "# Creating an inverse causality model to shopw endogeneity\n",
    "reg_log_inverse <- lm(log_light_count ~ log_crime_rate + log_school_index + log_cultural_space_index\n",
    "               + log_income  + log_mean_age + log_population_density + immigrant_prop + education_prop \n",
    "               + is_downtown:log_light_count, \n",
    "              data = census_index_crime_log)\n",
    "\n",
    "white_test <- bptest(reg_log_inverse, ~ fitted(reg_log_inverse) + I(fitted(reg_log_inverse)^2), data = census_index_crime_log)\n",
    "print(white_test)  \n",
    "\n",
    "robust_se_inverse <- sqrt(diag(vcovHC(reg_log_inverse, type = \"HC1\")))\n",
    "\n",
    "stargazer(reg_log_inverse, type = \"text\", \n",
    "        title = \"Log-Log Regression Results with Robust Standard Errors\", \n",
    "        dep.var.labels = c(\"Log Crime Rate\"), \n",
    "        se = list(robust_se_inverse),\n",
    "        single.row=TRUE)\n",
    "\n",
    "vif(reg_log_inverse)|>tidy()"
   ]
  },
  {
   "cell_type": "code",
   "execution_count": 70,
   "metadata": {
    "vscode": {
     "languageId": "r"
    }
   },
   "outputs": [
    {
     "name": "stdout",
     "output_type": "stream",
     "text": [
      "Rows: 112\n",
      "Columns: 37\n",
      "$ name.x                   \u001b[3m\u001b[90m<chr>\u001b[39m\u001b[23m \"59150751\", \"59150752\", \"59150753\", \"59150754…\n",
      "$ households               \u001b[3m\u001b[90m<int>\u001b[39m\u001b[23m 349, 120, 116, 240, 413, 76, 254, 287, 191, 6…\n",
      "$ dwellings                \u001b[3m\u001b[90m<int>\u001b[39m\u001b[23m 379, 142, 130, 267, 454, 109, 261, 299, 228, …\n",
      "$ population               \u001b[3m\u001b[90m<int>\u001b[39m\u001b[23m 782, 300, 271, 456, 779, 203, 499, 577, 644, …\n",
      "$ population_density       \u001b[3m\u001b[90m<dbl>\u001b[39m\u001b[23m 895.7, 7537.7, 9609.9, 10654.2, 15096.9, 8388…\n",
      "$ region                   \u001b[3m\u001b[90m<chr>\u001b[39m\u001b[23m \"Vancouver\", \"Vancouver\", \"Vancouver\", \"Vanco…\n",
      "$ area_sq_km               \u001b[3m\u001b[90m<dbl>\u001b[39m\u001b[23m 0.87307, 0.03983, 0.02826, 0.04282, 0.05163, …\n",
      "$ age                      \u001b[3m\u001b[90m<int>\u001b[39m\u001b[23m 785, 300, 275, 455, 780, 205, 495, 575, 645, …\n",
      "$ income                   \u001b[3m\u001b[90m<dbl>\u001b[39m\u001b[23m 0.34624, 0.73216, 0.62080, 0.41600, 0.17740, …\n",
      "$ immigrant_prop           \u001b[3m\u001b[90m<dbl>\u001b[39m\u001b[23m 0.3324808, 0.4000000, 0.1660517, 0.2850877, 0…\n",
      "$ education_prop           \u001b[3m\u001b[90m<dbl>\u001b[39m\u001b[23m 0.2365729, 0.3833333, 0.3874539, 0.2960526, 0…\n",
      "$ school_index             \u001b[3m\u001b[90m<dbl>\u001b[39m\u001b[23m 3.600271, 3.508716, 3.474039, 3.433914, 3.441…\n",
      "$ light_index              \u001b[3m\u001b[90m<dbl>\u001b[39m\u001b[23m 6.539331, 5.126017, 4.903184, 4.537481, 3.793…\n",
      "$ bus_index                \u001b[3m\u001b[90m<dbl>\u001b[39m\u001b[23m 4.737193, 4.692437, 3.577114, 3.534585, 3.915…\n",
      "$ cultural_space_index     \u001b[3m\u001b[90m<dbl>\u001b[39m\u001b[23m 4.182006, 3.865926, 3.875664, 3.847782, 3.900…\n",
      "$ crime_count              \u001b[3m\u001b[90m<int>\u001b[39m\u001b[23m 176, 28, 21, 29, 39, 33, 29, 62, 78, 18, 24, …\n",
      "$ crime_rate               \u001b[3m\u001b[90m<dbl>\u001b[39m\u001b[23m 2250.6394, 933.3333, 774.9077, 635.9649, 500.…\n",
      "$ mean_land_value          \u001b[3m\u001b[90m<dbl>\u001b[39m\u001b[23m 2.5668269, 0.8127200, 1.1456812, 1.2539565, 4…\n",
      "$ log_crime_rate           \u001b[3m\u001b[90m<dbl>\u001b[39m\u001b[23m 7.718970, 6.838762, 6.652744, 6.455143, 6.215…\n",
      "$ log_mean_land_value      \u001b[3m\u001b[90m<dbl>\u001b[39m\u001b[23m 0.94267047, -0.20736863, 0.13599939, 0.226303…\n",
      "$ log_school_index         \u001b[3m\u001b[90m<dbl>\u001b[39m\u001b[23m 1.281009, 1.255250, 1.245318, 1.233701, 1.236…\n",
      "$ log_light_index          \u001b[3m\u001b[90m<dbl>\u001b[39m\u001b[23m 1.877835, 1.634329, 1.589885, 1.512372, 1.333…\n",
      "$ log_bus_index            \u001b[3m\u001b[90m<dbl>\u001b[39m\u001b[23m 1.555445, 1.545952, 1.274556, 1.262596, 1.364…\n",
      "$ log_cultural_space_index \u001b[3m\u001b[90m<dbl>\u001b[39m\u001b[23m 1.430791, 1.352201, 1.354717, 1.347497, 1.361…\n",
      "$ log_income               \u001b[3m\u001b[90m<dbl>\u001b[39m\u001b[23m -1.06062310, -0.31175621, -0.47674631, -0.877…\n",
      "$ light_count              \u001b[3m\u001b[90m<int>\u001b[39m\u001b[23m 310, 32, 22, 27, 12, 15, 11, 40, 40, 18, 30, …\n",
      "$ log_light_count          \u001b[3m\u001b[90m<dbl>\u001b[39m\u001b[23m 5.736572, 3.465736, 3.091042, 3.295837, 2.484…\n",
      "$ mean_age                 \u001b[3m\u001b[90m<dbl>\u001b[39m\u001b[23m 47.1, 38.9, 38.4, 42.0, 44.7, 41.5, 54.0, 60.…\n",
      "$ prop_working_age         \u001b[3m\u001b[90m<dbl>\u001b[39m\u001b[23m 0.699, 0.750, 0.796, 0.769, 0.564, 0.756, 0.4…\n",
      "$ log_mean_age             \u001b[3m\u001b[90m<dbl>\u001b[39m\u001b[23m 3.852273, 3.660994, 3.648057, 3.737670, 3.799…\n",
      "$ insite_dummy             \u001b[3m\u001b[90m<int>\u001b[39m\u001b[23m 0, 0, 0, 0, 0, 0, 0, 0, 0, 0, 0, 0, 0, 0, 0, …\n",
      "$ is_downtown              \u001b[3m\u001b[90m<int>\u001b[39m\u001b[23m 1, 1, 1, 1, 1, 1, 1, 1, 1, 1, 1, 1, 1, 1, 1, …\n",
      "$ log_population_density   \u001b[3m\u001b[90m<dbl>\u001b[39m\u001b[23m 6.797606, 8.927672, 9.170549, 9.273709, 9.622…\n",
      "$ name.y                   \u001b[3m\u001b[90m<chr>\u001b[39m\u001b[23m \"Strathcona\", \"Strathcona\", \"Strathcona\", \"St…\n",
      "$ geom                     \u001b[3m\u001b[90m<chr>\u001b[39m\u001b[23m \"{\\\"coordinates\\\": [[[-123.0992889404297, 49.…\n",
      "$ geo_point_2d             \u001b[3m\u001b[90m<chr>\u001b[39m\u001b[23m \"49.27821957764724, -123.08823528054062\", \"49…\n",
      "$ geometry                 \u001b[3m\u001b[90m<MULTIPOLYGON [°]>\u001b[39m\u001b[23m MULTIPOLYGON (((-123.0932 4..., …\n"
     ]
    }
   ],
   "source": [
    "# Create a new downtown only dataset\n",
    "downtown_areas <- local_area_boundary_valid %>%\n",
    "  filter(name %in% c(\"West End\", \"Downtown\", \"Strathcona\"))\n",
    "\n",
    "selected_areas <- st_simplify(selected_areas, dTolerance = 0.01)\n",
    "\n",
    "desired_crs <- st_crs(selected_areas)\n",
    "census_index_crime_log <- st_transform(census_index_crime_log, crs = desired_crs)\n",
    "\n",
    "census_index_crime_log_dt <- st_join(\n",
    "  census_index_crime_log,\n",
    "  downtown_areas,\n",
    "  join = st_within,\n",
    "  left = FALSE\n",
    ")\n",
    "\n",
    "glimpse(census_index_crime_log_dt)"
   ]
  },
  {
   "cell_type": "code",
   "execution_count": 71,
   "metadata": {
    "vscode": {
     "languageId": "r"
    }
   },
   "outputs": [
    {
     "name": "stdout",
     "output_type": "stream",
     "text": [
      "\n",
      "\tstudentized Breusch-Pagan test\n",
      "\n",
      "data:  reg_log_dt\n",
      "BP = 0.98093, df = 2, p-value = 0.6123\n",
      "\n",
      "\n",
      "Log-Log Regression Results with Robust Standard Errors\n",
      "====================================================\n",
      "                             Dependent variable:    \n",
      "                         ---------------------------\n",
      "                               Log Crime Rate       \n",
      "----------------------------------------------------\n",
      "log_light_count               0.467*** (0.098)      \n",
      "log_school_index              -1.664** (0.709)      \n",
      "log_cultural_space_index      1.745*** (0.591)      \n",
      "log_income                     -0.250 (0.244)       \n",
      "log_mean_age                  -1.177** (0.554)      \n",
      "log_population_density        -0.457*** (0.119)     \n",
      "immigrant_prop                 -0.408 (0.615)       \n",
      "education_prop                 -0.703 (0.870)       \n",
      "Constant                      13.482*** (2.952)     \n",
      "----------------------------------------------------\n",
      "Observations                         112            \n",
      "R2                                  0.553           \n",
      "Adjusted R2                         0.518           \n",
      "Residual Std. Error           0.646 (df = 103)      \n",
      "F Statistic                15.937*** (df = 8; 103)  \n",
      "====================================================\n",
      "Note:                    *p<0.1; **p<0.05; ***p<0.01\n"
     ]
    },
    {
     "name": "stderr",
     "output_type": "stream",
     "text": [
      "Warning message in tidy.numeric(vif(reg_log_dt)):\n",
      "\"'tidy.numeric' is deprecated.\n",
      "See help(\"Deprecated\")\"\n"
     ]
    },
    {
     "data": {
      "text/html": [
       "<table class=\"dataframe\">\n",
       "<caption>A tibble: 8 × 2</caption>\n",
       "<thead>\n",
       "\t<tr><th scope=col>names</th><th scope=col>x</th></tr>\n",
       "\t<tr><th scope=col>&lt;chr&gt;</th><th scope=col>&lt;dbl&gt;</th></tr>\n",
       "</thead>\n",
       "<tbody>\n",
       "\t<tr><td>log_light_count         </td><td>1.790053</td></tr>\n",
       "\t<tr><td>log_school_index        </td><td>1.634793</td></tr>\n",
       "\t<tr><td>log_cultural_space_index</td><td>1.674331</td></tr>\n",
       "\t<tr><td>log_income              </td><td>3.075196</td></tr>\n",
       "\t<tr><td>log_mean_age            </td><td>1.487660</td></tr>\n",
       "\t<tr><td>log_population_density  </td><td>1.813331</td></tr>\n",
       "\t<tr><td>immigrant_prop          </td><td>1.247169</td></tr>\n",
       "\t<tr><td>education_prop          </td><td>3.692439</td></tr>\n",
       "</tbody>\n",
       "</table>\n"
      ],
      "text/latex": [
       "A tibble: 8 × 2\n",
       "\\begin{tabular}{ll}\n",
       " names & x\\\\\n",
       " <chr> & <dbl>\\\\\n",
       "\\hline\n",
       "\t log\\_light\\_count          & 1.790053\\\\\n",
       "\t log\\_school\\_index         & 1.634793\\\\\n",
       "\t log\\_cultural\\_space\\_index & 1.674331\\\\\n",
       "\t log\\_income               & 3.075196\\\\\n",
       "\t log\\_mean\\_age             & 1.487660\\\\\n",
       "\t log\\_population\\_density   & 1.813331\\\\\n",
       "\t immigrant\\_prop           & 1.247169\\\\\n",
       "\t education\\_prop           & 3.692439\\\\\n",
       "\\end{tabular}\n"
      ],
      "text/markdown": [
       "\n",
       "A tibble: 8 × 2\n",
       "\n",
       "| names &lt;chr&gt; | x &lt;dbl&gt; |\n",
       "|---|---|\n",
       "| log_light_count          | 1.790053 |\n",
       "| log_school_index         | 1.634793 |\n",
       "| log_cultural_space_index | 1.674331 |\n",
       "| log_income               | 3.075196 |\n",
       "| log_mean_age             | 1.487660 |\n",
       "| log_population_density   | 1.813331 |\n",
       "| immigrant_prop           | 1.247169 |\n",
       "| education_prop           | 3.692439 |\n",
       "\n"
      ],
      "text/plain": [
       "  names                    x       \n",
       "1 log_light_count          1.790053\n",
       "2 log_school_index         1.634793\n",
       "3 log_cultural_space_index 1.674331\n",
       "4 log_income               3.075196\n",
       "5 log_mean_age             1.487660\n",
       "6 log_population_density   1.813331\n",
       "7 immigrant_prop           1.247169\n",
       "8 education_prop           3.692439"
      ]
     },
     "metadata": {},
     "output_type": "display_data"
    }
   ],
   "source": [
    "# Carry out a downtown only regression\n",
    "reg_log_dt <- lm(log_crime_rate ~  log_light_count + log_school_index +  log_cultural_space_index\n",
    "               + log_income  + log_mean_age + log_population_density + immigrant_prop + education_prop,\n",
    "              data = census_index_crime_log_dt)\n",
    "\n",
    "white_test <- bptest(reg_log_dt, ~ fitted(reg_log_dt) + I(fitted(reg_log_dt)^2), data = census_index_crime_log_dt)\n",
    "print(white_test) \n",
    "\n",
    "robust_se_dt <- sqrt(diag(vcovHC(reg_log_dt, type = \"HC1\")))\n",
    "\n",
    "stargazer(reg_log_dt, type = \"text\", \n",
    "        title = \"Log-Log Regression Results with Robust Standard Errors\", \n",
    "        dep.var.labels = c(\"Log Crime Rate\"), \n",
    "        # se = list(robust_se_dt),\n",
    "        single.row=TRUE)\n",
    "vif(reg_log_dt)|>\n",
    "    tidy()"
   ]
  },
  {
   "cell_type": "markdown",
   "metadata": {},
   "source": [
    "Since we noticed the homoskedasticity of this model, we decide to explore more."
   ]
  },
  {
   "cell_type": "code",
   "execution_count": 72,
   "metadata": {
    "vscode": {
     "languageId": "r"
    }
   },
   "outputs": [
    {
     "name": "stdout",
     "output_type": "stream",
     "text": [
      "Rows: 608\n",
      "Columns: 37\n",
      "$ name.x                   \u001b[3m\u001b[90m<chr>\u001b[39m\u001b[23m \"59150309\", \"59150311\", \"59150329\", \"59150330…\n",
      "$ households               \u001b[3m\u001b[90m<int>\u001b[39m\u001b[23m 269, 181, 333, 174, 275, 246, 185, 192, 213, …\n",
      "$ dwellings                \u001b[3m\u001b[90m<int>\u001b[39m\u001b[23m 299, 199, 356, 189, 307, 264, 202, 208, 225, …\n",
      "$ population               \u001b[3m\u001b[90m<int>\u001b[39m\u001b[23m 745, 532, 959, 506, 782, 683, 541, 507, 618, …\n",
      "$ population_density       \u001b[3m\u001b[90m<dbl>\u001b[39m\u001b[23m 6663.7, 6567.9, 3109.6, 6462.3, 5068.0, 6103.…\n",
      "$ region                   \u001b[3m\u001b[90m<chr>\u001b[39m\u001b[23m \"Vancouver\", \"Vancouver\", \"Vancouver\", \"Vanco…\n",
      "$ area_sq_km               \u001b[3m\u001b[90m<dbl>\u001b[39m\u001b[23m 0.11190, 0.08094, 0.30854, 0.07820, 0.15441, …\n",
      "$ age                      \u001b[3m\u001b[90m<int>\u001b[39m\u001b[23m 745, 530, 960, 510, 785, 680, 545, 505, 620, …\n",
      "$ income                   \u001b[3m\u001b[90m<dbl>\u001b[39m\u001b[23m 0.84736, 0.82517, 0.66688, 0.82176, 0.67840, …\n",
      "$ immigrant_prop           \u001b[3m\u001b[90m<dbl>\u001b[39m\u001b[23m 0.3557047, 0.4041353, 0.5422315, 0.3557312, 0…\n",
      "$ education_prop           \u001b[3m\u001b[90m<dbl>\u001b[39m\u001b[23m 0.3154362, 0.2537594, 0.1876955, 0.1581028, 0…\n",
      "$ school_index             \u001b[3m\u001b[90m<dbl>\u001b[39m\u001b[23m 2.283703, 2.388786, 2.677803, 2.721358, 3.545…\n",
      "$ light_index              \u001b[3m\u001b[90m<dbl>\u001b[39m\u001b[23m 3.687467, 3.068842, 3.781829, 3.600480, 3.927…\n",
      "$ bus_index                \u001b[3m\u001b[90m<dbl>\u001b[39m\u001b[23m 2.631079, 2.604649, 3.209212, 2.939070, 2.952…\n",
      "$ cultural_space_index     \u001b[3m\u001b[90m<dbl>\u001b[39m\u001b[23m 2.337378, 2.351434, 2.478247, 2.568944, 2.650…\n",
      "$ crime_count              \u001b[3m\u001b[90m<int>\u001b[39m\u001b[23m 31, 14, 23, 12, 15, 12, 8, 8, 8, 16, 20, 19, …\n",
      "$ crime_rate               \u001b[3m\u001b[90m<dbl>\u001b[39m\u001b[23m 416.1074, 263.1579, 239.8332, 237.1542, 191.8…\n",
      "$ mean_land_value          \u001b[3m\u001b[90m<dbl>\u001b[39m\u001b[23m 0.7501839, 0.9045840, 1.5684421, 0.9563577, 1…\n",
      "$ log_crime_rate           \u001b[3m\u001b[90m<dbl>\u001b[39m\u001b[23m 6.030943, 5.572754, 5.479944, 5.468710, 5.256…\n",
      "$ log_mean_land_value      \u001b[3m\u001b[90m<dbl>\u001b[39m\u001b[23m -0.28743690, -0.10028011, 0.45008283, -0.0446…\n",
      "$ log_school_index         \u001b[3m\u001b[90m<dbl>\u001b[39m\u001b[23m 0.8257981, 0.8707852, 0.9849966, 1.0011311, 1…\n",
      "$ log_light_index          \u001b[3m\u001b[90m<dbl>\u001b[39m\u001b[23m 1.304940, 1.121300, 1.330208, 1.281067, 1.368…\n",
      "$ log_bus_index            \u001b[3m\u001b[90m<dbl>\u001b[39m\u001b[23m 0.9673941, 0.9572979, 1.1660255, 1.0780933, 1…\n",
      "$ log_cultural_space_index \u001b[3m\u001b[90m<dbl>\u001b[39m\u001b[23m 0.8490300, 0.8550251, 0.9075516, 0.9434950, 0…\n",
      "$ log_income               \u001b[3m\u001b[90m<dbl>\u001b[39m\u001b[23m -0.16562965, -0.19216585, -0.40514516, -0.196…\n",
      "$ light_count              \u001b[3m\u001b[90m<int>\u001b[39m\u001b[23m 81, 32, 122, 38, 78, 79, 73, 62, 69, 74, 58, …\n",
      "$ log_light_count          \u001b[3m\u001b[90m<dbl>\u001b[39m\u001b[23m 4.394449, 3.465736, 4.804021, 3.637586, 4.356…\n",
      "$ mean_age                 \u001b[3m\u001b[90m<dbl>\u001b[39m\u001b[23m 41.5, 40.1, 42.3, 42.1, 42.0, 43.6, 44.8, 45.…\n",
      "$ prop_working_age         \u001b[3m\u001b[90m<dbl>\u001b[39m\u001b[23m 0.745, 0.710, 0.724, 0.752, 0.667, 0.708, 0.6…\n",
      "$ log_mean_age             \u001b[3m\u001b[90m<dbl>\u001b[39m\u001b[23m 3.725693, 3.691376, 3.744787, 3.740048, 3.737…\n",
      "$ insite_dummy             \u001b[3m\u001b[90m<int>\u001b[39m\u001b[23m 0, 0, 0, 0, 0, 0, 0, 0, 0, 0, 0, 0, 0, 0, 0, …\n",
      "$ is_downtown              \u001b[3m\u001b[90m<int>\u001b[39m\u001b[23m 0, 0, 0, 0, 0, 0, 0, 0, 0, 0, 0, 0, 0, 0, 0, …\n",
      "$ log_population_density   \u001b[3m\u001b[90m<dbl>\u001b[39m\u001b[23m 8.804430, 8.789949, 8.042249, 8.773741, 8.530…\n",
      "$ name.y                   \u001b[3m\u001b[90m<chr>\u001b[39m\u001b[23m \"Hastings-Sunrise\", \"Hastings-Sunrise\", \"Hast…\n",
      "$ geom                     \u001b[3m\u001b[90m<chr>\u001b[39m\u001b[23m \"{\\\"coordinates\\\": [[[-123.05648803710938, 49…\n",
      "$ geo_point_2d             \u001b[3m\u001b[90m<chr>\u001b[39m\u001b[23m \"49.27793405209019, -123.04026992328848\", \"49…\n",
      "$ geometry                 \u001b[3m\u001b[90m<MULTIPOLYGON [°]>\u001b[39m\u001b[23m MULTIPOLYGON (((-123.0283 4..., …\n"
     ]
    }
   ],
   "source": [
    "# Create a new dataset that exclude downtown\n",
    "non_downtown_areas <- local_area_boundary_valid %>%\n",
    "  filter(!name %in% c(\"West End\", \"Downtown\", \"Strathcona\"))\n",
    "\n",
    "census_index_crime_log_ut <- st_join(\n",
    "  census_index_crime_log,\n",
    "  non_downtown_areas,\n",
    "  join = st_within,\n",
    "  left = FALSE\n",
    ")\n",
    "\n",
    "glimpse(census_index_crime_log_ut)"
   ]
  },
  {
   "cell_type": "code",
   "execution_count": 73,
   "metadata": {
    "vscode": {
     "languageId": "r"
    }
   },
   "outputs": [
    {
     "name": "stdout",
     "output_type": "stream",
     "text": [
      "\n",
      "\tstudentized Breusch-Pagan test\n",
      "\n",
      "data:  reg_log_ut\n",
      "BP = 4.7558, df = 2, p-value = 0.09275\n",
      "\n",
      "\n",
      "Log-Log Regression Results with Robust Standard Errors\n",
      "====================================================\n",
      "                             Dependent variable:    \n",
      "                         ---------------------------\n",
      "                               Log Crime Rate       \n",
      "----------------------------------------------------\n",
      "log_light_count               0.294*** (0.052)      \n",
      "log_school_index               -0.219* (0.122)      \n",
      "log_cultural_space_index      1.208*** (0.126)      \n",
      "log_income                    -0.612*** (0.088)     \n",
      "log_mean_age                  -1.060*** (0.251)     \n",
      "log_population_density        -0.237*** (0.053)     \n",
      "immigrant_prop                -0.528*** (0.179)     \n",
      "education_prop                1.114*** (0.197)      \n",
      "Constant                      9.138*** (1.166)      \n",
      "----------------------------------------------------\n",
      "Observations                         608            \n",
      "R2                                  0.459           \n",
      "Adjusted R2                         0.451           \n",
      "Residual Std. Error           0.491 (df = 599)      \n",
      "F Statistic                63.402*** (df = 8; 599)  \n",
      "====================================================\n",
      "Note:                    *p<0.1; **p<0.05; ***p<0.01\n"
     ]
    },
    {
     "name": "stderr",
     "output_type": "stream",
     "text": [
      "Warning message in tidy.numeric(vif(reg_log_ut)):\n",
      "\"'tidy.numeric' is deprecated.\n",
      "See help(\"Deprecated\")\"\n"
     ]
    },
    {
     "data": {
      "text/html": [
       "<table class=\"dataframe\">\n",
       "<caption>A tibble: 8 × 2</caption>\n",
       "<thead>\n",
       "\t<tr><th scope=col>names</th><th scope=col>x</th></tr>\n",
       "\t<tr><th scope=col>&lt;chr&gt;</th><th scope=col>&lt;dbl&gt;</th></tr>\n",
       "</thead>\n",
       "<tbody>\n",
       "\t<tr><td>log_light_count         </td><td>1.989573</td></tr>\n",
       "\t<tr><td>log_school_index        </td><td>1.929550</td></tr>\n",
       "\t<tr><td>log_cultural_space_index</td><td>2.746155</td></tr>\n",
       "\t<tr><td>log_income              </td><td>1.693297</td></tr>\n",
       "\t<tr><td>log_mean_age            </td><td>1.092807</td></tr>\n",
       "\t<tr><td>log_population_density  </td><td>2.532660</td></tr>\n",
       "\t<tr><td>immigrant_prop          </td><td>1.936993</td></tr>\n",
       "\t<tr><td>education_prop          </td><td>1.723120</td></tr>\n",
       "</tbody>\n",
       "</table>\n"
      ],
      "text/latex": [
       "A tibble: 8 × 2\n",
       "\\begin{tabular}{ll}\n",
       " names & x\\\\\n",
       " <chr> & <dbl>\\\\\n",
       "\\hline\n",
       "\t log\\_light\\_count          & 1.989573\\\\\n",
       "\t log\\_school\\_index         & 1.929550\\\\\n",
       "\t log\\_cultural\\_space\\_index & 2.746155\\\\\n",
       "\t log\\_income               & 1.693297\\\\\n",
       "\t log\\_mean\\_age             & 1.092807\\\\\n",
       "\t log\\_population\\_density   & 2.532660\\\\\n",
       "\t immigrant\\_prop           & 1.936993\\\\\n",
       "\t education\\_prop           & 1.723120\\\\\n",
       "\\end{tabular}\n"
      ],
      "text/markdown": [
       "\n",
       "A tibble: 8 × 2\n",
       "\n",
       "| names &lt;chr&gt; | x &lt;dbl&gt; |\n",
       "|---|---|\n",
       "| log_light_count          | 1.989573 |\n",
       "| log_school_index         | 1.929550 |\n",
       "| log_cultural_space_index | 2.746155 |\n",
       "| log_income               | 1.693297 |\n",
       "| log_mean_age             | 1.092807 |\n",
       "| log_population_density   | 2.532660 |\n",
       "| immigrant_prop           | 1.936993 |\n",
       "| education_prop           | 1.723120 |\n",
       "\n"
      ],
      "text/plain": [
       "  names                    x       \n",
       "1 log_light_count          1.989573\n",
       "2 log_school_index         1.929550\n",
       "3 log_cultural_space_index 2.746155\n",
       "4 log_income               1.693297\n",
       "5 log_mean_age             1.092807\n",
       "6 log_population_density   2.532660\n",
       "7 immigrant_prop           1.936993\n",
       "8 education_prop           1.723120"
      ]
     },
     "metadata": {},
     "output_type": "display_data"
    }
   ],
   "source": [
    "reg_log_ut <- lm(log_crime_rate ~  log_light_count + log_school_index +  log_cultural_space_index\n",
    "               + log_income + log_mean_age + log_population_density + immigrant_prop + education_prop,\n",
    "              data = census_index_crime_log_ut)\n",
    "\n",
    "white_test <- bptest(reg_log_ut, ~ fitted(reg_log_ut) + I(fitted(reg_log_ut)^2), data = census_index_crime_log_ut)\n",
    "print(white_test) \n",
    "\n",
    "robust_se_ut <- sqrt(diag(vcovHC(reg_log_ut, type = \"HC1\")))\n",
    "\n",
    "stargazer(reg_log_ut, type = \"text\", \n",
    "        title = \"Log-Log Regression Results with Robust Standard Errors\", \n",
    "        dep.var.labels = c(\"Log Crime Rate\"), \n",
    "        # se = list(robust_se_ut),\n",
    "        single.row=TRUE)\n",
    "\n",
    "vif(reg_log_ut)|>\n",
    "        tidy()"
   ]
  },
  {
   "cell_type": "markdown",
   "metadata": {},
   "source": [
    "<h4>Result Summary<h4>"
   ]
  },
  {
   "cell_type": "markdown",
   "metadata": {},
   "source": [
    "Comparing data before and after log-log transformation."
   ]
  },
  {
   "cell_type": "code",
   "execution_count": 74,
   "metadata": {
    "vscode": {
     "languageId": "r"
    }
   },
   "outputs": [
    {
     "name": "stderr",
     "output_type": "stream",
     "text": [
      "\u001b[1m\u001b[22m`geom_smooth()` using formula = 'y ~ x'\n"
     ]
    },
    {
     "data": {
      "image/png": "[encoded data removed]",
      "text/plain": [
       "plot without title"
      ]
     },
     "metadata": {
      "image/png": {
       "height": 720,
       "width": 900
      }
     },
     "output_type": "display_data"
    }
   ],
   "source": [
    "regressors_age_logless <- c('light_count', 'school_index', 'cultural_space_index', \n",
    "                'income', 'population_density', 'mean_age','immigrant_prop', 'education_prop','is_downtown')\n",
    "\n",
    "long_data_age_logless <- census_index_crime_log |>\n",
    "  pivot_longer(cols = regressors_age_logless,\n",
    "               names_to = \"regressor\",\n",
    "               values_to = \"value\")\n",
    "\n",
    "variables_scatter_logless <- ggplot(long_data_age_logless, aes(x = value, y = crime_rate)) +\n",
    "  geom_point(color = \"darkblue\", alpha = 0.6) +\n",
    "  facet_wrap(~ regressor, scales = \"free_x\") + \n",
    "  labs(title = \"Crime Rate vs Regressors\",\n",
    "       x = \"Explanatory Variable Value\",\n",
    "       y = \"Crime Rate\") +\n",
    "  geom_smooth(method = \"lm\", se = FALSE, color = \"red\") +\n",
    "  theme_minimal() +\n",
    "  theme(plot.title = element_text(size = 20, face = \"bold\"),\n",
    "        strip.text = element_text(size = 15),  \n",
    "        axis.title = element_text(size = 14),\n",
    "        axis.text = element_text(size = 12))\n",
    "\n",
    "variables_scatter_logless"
   ]
  },
  {
   "cell_type": "code",
   "execution_count": 75,
   "metadata": {
    "vscode": {
     "languageId": "r"
    }
   },
   "outputs": [
    {
     "name": "stderr",
     "output_type": "stream",
     "text": [
      "\u001b[1m\u001b[22m`geom_smooth()` using formula = 'y ~ x'\n"
     ]
    },
    {
     "data": {
      "image/png": "[encoded data removed]",
      "text/plain": [
       "plot without title"
      ]
     },
     "metadata": {
      "image/png": {
       "height": 720,
       "width": 900
      }
     },
     "output_type": "display_data"
    }
   ],
   "source": [
    "regressors_log <- c('log_light_count', 'log_school_index', 'log_cultural_space_index', \n",
    "                'log_income', 'log_population_density', 'log_mean_age','immigrant_prop', 'education_prop','is_downtown')\n",
    "\n",
    "long_data_log <- census_index_crime_log |>\n",
    "  pivot_longer(cols = regressors_log,\n",
    "               names_to = \"regressor\",\n",
    "               values_to = \"value\")\n",
    "\n",
    "log_log_variables_scatter_log <- ggplot(long_data_log, aes(x = value, y = log_crime_rate)) +\n",
    "  geom_point(color = \"darkblue\", alpha = 0.6) +\n",
    "  facet_wrap(~ regressor, scales = \"free_x\") + \n",
    "  labs(title = \"Log(Crime Rate) vs log(Regressors)\",\n",
    "       x = \"Explanatory Variable Value\",\n",
    "       y = \"Log(Crime Rate)\") +\n",
    "  geom_smooth(method = \"lm\", se = FALSE, color = \"red\") +\n",
    "  theme_minimal() +\n",
    "  theme(plot.title = element_text(size = 20, face = \"bold\"),\n",
    "        strip.text = element_text(size = 15),  \n",
    "        axis.title = element_text(size = 14),\n",
    "        axis.text = element_text(size = 12))\n",
    "\n",
    "log_log_variables_scatter_log"
   ]
  },
  {
   "cell_type": "markdown",
   "metadata": {},
   "source": [
    "Comparing of regression outputs."
   ]
  },
  {
   "cell_type": "code",
   "execution_count": 76,
   "metadata": {
    "vscode": {
     "languageId": "r"
    }
   },
   "outputs": [
    {
     "name": "stdout",
     "output_type": "stream",
     "text": [
      "\n",
      "Table 1: Log-Log Regression Results with Robust Standard Errors\n",
      "======================================================================================================================================================\n",
      "                                                                               Dependent variable:                                                    \n",
      "                           ---------------------------------------------------------------------------------------------------------------------------\n",
      "                                                                                Log (Crime Rate)                                                      \n",
      "                                     (1)                     (2)                      (3)                      (4)                      (5)           \n",
      "------------------------------------------------------------------------------------------------------------------------------------------------------\n",
      "Log (Light Count)             0.345*** (0.048)         0.520*** (0.037)         0.514*** (0.030)         0.526*** (0.037)         0.393*** (0.044)    \n",
      "Log (Mean Land Value)                                  0.093** (0.036)          0.095*** (0.027)         0.093** (0.037)           0.021 (0.043)      \n",
      "Log (School Index)                                    -0.531*** (0.107)        -0.516*** (0.105)        -0.340*** (0.103)        -0.612*** (0.108)    \n",
      "Log (Cultural Space Index)                             1.485*** (0.111)         1.465*** (0.100)         1.215*** (0.110)         1.651*** (0.113)    \n",
      "Log Income                                            -0.562*** (0.067)        -0.557*** (0.063)        -0.480*** (0.069)        -0.681*** (0.077)    \n",
      "Log (Mean Age)                                         -0.470** (0.224)         -0.495** (0.198)         -0.535** (0.228)        -0.594*** (0.223)    \n",
      "Log (Population Density)                                                                                                         -0.202*** (0.051)    \n",
      "Immigrant Proportion                                  -0.511*** (0.153)        -0.495*** (0.152)        -0.632*** (0.151)         -0.363** (0.157)    \n",
      "Education Proportion                                   0.725*** (0.195)         0.750*** (0.177)         0.653*** (0.193)         0.911*** (0.204)    \n",
      "Containing Insite                                                               0.859** (0.334)                                                       \n",
      "Is Downtown                                                                                              0.327*** (0.075)                             \n",
      "Constant                      4.358*** (0.181)         4.230*** (0.849)         4.331*** (0.759)         4.558*** (0.870)         6.746*** (1.007)    \n",
      "------------------------------------------------------------------------------------------------------------------------------------------------------\n",
      "Observations                         989                     989                      989                      989                      989           \n",
      "R2                                  0.076                   0.514                    0.517                    0.526                    0.526          \n",
      "Adjusted R2                         0.075                   0.510                    0.512                    0.521                    0.521          \n",
      "Residual Std. Error           0.785 (df = 987)         0.572 (df = 980)         0.570 (df = 979)         0.565 (df = 979)         0.565 (df = 979)    \n",
      "F Statistic                81.135*** (df = 1; 987) 129.344*** (df = 8; 980) 116.360*** (df = 9; 979) 120.535*** (df = 9; 979) 120.622*** (df = 9; 979)\n",
      "======================================================================================================================================================\n",
      "Note:                                                                                                                      *p<0.1; **p<0.05; ***p<0.01\n"
     ]
    }
   ],
   "source": [
    "# Waterfall table 1\n",
    "stargazer(reg_log_simple2, reg_log1, reg_log2,  reg_log3, reg_log4, type = \"text\", \n",
    "        title = \"Table 1: Log-Log Regression Results with Robust Standard Errors\", \n",
    "        dep.var.labels = c(\"Log (Crime Rate)\"), \n",
    "          covariate.labels = c(\n",
    "                \"Log (Light Count)\", \n",
    "               \"Log (Mean Land Value)\",\n",
    "               \"Log (School Index)\", \n",
    "               \"Log (Cultural Space Index)\", \n",
    "               \"Log Income\", \n",
    "               \"Log (Mean Age)\",\n",
    "               \"Log (Population Density)\",\n",
    "               \"Immigrant Proportion\", \n",
    "                \"Education Proportion\",\n",
    "                \"Containing Insite\",\n",
    "                \"Is Downtown\"),\n",
    "        se = list(robust_se_simple2, robust_se1, NULL, robust_se3, robust_se4),\n",
    "        single.row = TRUE,\n",
    "        align=TRUE)"
   ]
  },
  {
   "cell_type": "code",
   "execution_count": 77,
   "metadata": {
    "vscode": {
     "languageId": "r"
    }
   },
   "outputs": [
    {
     "name": "stdout",
     "output_type": "stream",
     "text": [
      "\n",
      "Table 2: Log-Log Regression Results with Robust Standard Errors\n",
      "====================================================================================================================================\n",
      "                                                                        Dependent variable:                                         \n",
      "                                ----------------------------------------------------------------------------------------------------\n",
      "                                                                          Log (Crime Rate)                                          \n",
      "                                          (1)                      (2)                       (3)                      (4)           \n",
      "------------------------------------------------------------------------------------------------------------------------------------\n",
      "Log (Light Count)                   0.388*** (0.042)         0.345*** (0.041)         0.286*** (0.048)          0.286*** (0.043)    \n",
      "Log (School Index)                 -0.621*** (0.110)        -0.363*** (0.104)         -0.354*** (0.105)        -0.355*** (0.106)    \n",
      "Log (Cultural Space Index)          1.660*** (0.115)         1.326*** (0.110)         1.310*** (0.111)          1.310*** (0.112)    \n",
      "Log Income                         -0.687*** (0.075)        -0.613*** (0.075)         -0.597*** (0.077)        -0.597*** (0.076)    \n",
      "Log (Mean Age)                     -0.583*** (0.220)        -0.758*** (0.226)         -0.735*** (0.226)        -0.735*** (0.224)    \n",
      "Log (Population Density)           -0.215*** (0.040)        -0.293*** (0.042)         -0.298*** (0.043)        -0.298*** (0.043)    \n",
      "Immigrant Proportion                -0.355** (0.157)        -0.475*** (0.152)         -0.439*** (0.150)        -0.438*** (0.151)    \n",
      "Education Proportion                0.936*** (0.194)         0.879*** (0.187)         0.875*** (0.187)          0.875*** (0.187)    \n",
      "Is Downtown                                                  0.486*** (0.076)           0.004 (0.248)                               \n",
      "Is Downtown X Log (Light Count)                                                        0.136* (0.070)           0.137*** (0.021)    \n",
      "Constant                            6.834*** (0.992)         8.411*** (1.055)         8.595*** (1.063)          8.595*** (1.063)    \n",
      "------------------------------------------------------------------------------------------------------------------------------------\n",
      "Observations                              989                      989                       989                      989           \n",
      "R2                                       0.526                    0.550                     0.552                    0.552          \n",
      "Adjusted R2                              0.522                    0.546                     0.548                    0.548          \n",
      "Residual Std. Error                 0.565 (df = 980)         0.550 (df = 979)         0.549 (df = 978)          0.549 (df = 979)    \n",
      "F Statistic                     135.715*** (df = 8; 980) 132.880*** (df = 9; 979) 120.698*** (df = 10; 978) 134.246*** (df = 9; 979)\n",
      "====================================================================================================================================\n",
      "Note:                                                                                                    *p<0.1; **p<0.05; ***p<0.01\n"
     ]
    }
   ],
   "source": [
    "# Waterfall table 2\n",
    "stargazer(reg_log5, reg_log6,  reg_log7, reg_log8, type = \"text\", \n",
    "        title = \"Table 2: Log-Log Regression Results with Robust Standard Errors\", \n",
    "        dep.var.labels = c(\"Log (Crime Rate)\"), \n",
    "          covariate.labels = c(\n",
    "                \"Log (Light Count)\", \n",
    "               \"Log (School Index)\", \n",
    "               \"Log (Cultural Space Index)\", \n",
    "               \"Log Income\", \n",
    "               \"Log (Mean Age)\",\n",
    "               \"Log (Population Density)\",\n",
    "               \"Immigrant Proportion\", \n",
    "                \"Education Proportion\",\n",
    "                \"Is Downtown\",\n",
    "                \"Is Downtown X Log (Light Count)\"),\n",
    "        se = list(robust_se5, robust_se6, robust_se7, robust_se8),\n",
    "        single.row = TRUE,\n",
    "        align=TRUE)"
   ]
  },
  {
   "cell_type": "code",
   "execution_count": 78,
   "metadata": {
    "vscode": {
     "languageId": "r"
    }
   },
   "outputs": [
    {
     "name": "stdout",
     "output_type": "stream",
     "text": [
      "\n",
      "Table 3: Regression Results by Region with Robust Standard Error in Model 3\n",
      "========================================================================================================\n",
      "                                                          Dependent variable:                           \n",
      "                                ------------------------------------------------------------------------\n",
      "                                                            Log (Crime Rate)                            \n",
      "                                     Downtown-Only           Non-Downtown           Whole-Vancouver     \n",
      "                                          (1)                     (2)                     (3)           \n",
      "--------------------------------------------------------------------------------------------------------\n",
      "Log (Light Count)                  0.467*** (0.098)        0.294*** (0.052)         0.286*** (0.043)    \n",
      "Log (School Index)                 -1.664** (0.709)         -0.219* (0.122)        -0.355*** (0.106)    \n",
      "Log (Cultural Space Index)         1.745*** (0.591)        1.208*** (0.126)         1.310*** (0.112)    \n",
      "Log Income                          -0.250 (0.244)         -0.612*** (0.088)       -0.597*** (0.076)    \n",
      "Log (Mean Age)                     -1.177** (0.554)        -1.060*** (0.251)       -0.735*** (0.224)    \n",
      "Log (Population Density)           -0.457*** (0.119)       -0.237*** (0.053)       -0.298*** (0.043)    \n",
      "Immigrant Proportion                -0.408 (0.615)         -0.528*** (0.179)       -0.438*** (0.151)    \n",
      "Education Proportion                -0.703 (0.870)         1.114*** (0.197)         0.875*** (0.187)    \n",
      "Is Downtown X Log (Light Count)                                                     0.137*** (0.021)    \n",
      "Constant                           13.482*** (2.952)       9.138*** (1.166)         8.595*** (1.063)    \n",
      "--------------------------------------------------------------------------------------------------------\n",
      "Observations                              112                     608                     989           \n",
      "R2                                       0.553                   0.459                   0.552          \n",
      "Adjusted R2                              0.518                   0.451                   0.548          \n",
      "Residual Std. Error                0.646 (df = 103)        0.491 (df = 599)         0.549 (df = 979)    \n",
      "F Statistic                     15.937*** (df = 8; 103) 63.402*** (df = 8; 599) 134.246*** (df = 9; 979)\n",
      "========================================================================================================\n",
      "Note:                                                                        *p<0.1; **p<0.05; ***p<0.01\n"
     ]
    }
   ],
   "source": [
    "# Comparison between our final model and the downtown-only and non-downtown models\n",
    "stargazer(reg_log_dt, reg_log_ut, reg_log8, type = \"text\",\n",
    "          title = \"Table 3: Regression Results by Region with Robust Standard Error in Model 3\",\n",
    "          column.labels = c(\"Downtown-Only\", \"Non-Downtown\", \"Whole-Vancouver\"),\n",
    "          covariate.labels = c(\"Log (Light Count)\", \n",
    "               \"Log (School Index)\", \n",
    "               \"Log (Cultural Space Index)\", \n",
    "               \"Log Income\",\n",
    "               \"Log (Mean Age)\",\n",
    "               \"Log (Population Density)\",\n",
    "               \"Immigrant Proportion\", \n",
    "                \"Education Proportion\",\n",
    "                \"Is Downtown X Log (Light Count)\"),\n",
    "                se = list(NULL, NULL, robust_se8),\n",
    "          dep.var.labels = c(\"Log (Crime Rate)\", \"Log (Crime Rate)\"),\n",
    "          single.row = TRUE)"
   ]
  },
  {
   "cell_type": "code",
   "execution_count": 79,
   "metadata": {
    "vscode": {
     "languageId": "r"
    }
   },
   "outputs": [
    {
     "name": "stdout",
     "output_type": "stream",
     "text": [
      "\n",
      "Table 4: Comparing the endogeneity effect\n",
      "===================================================================\n",
      "                                        Dependent variable:        \n",
      "                                -----------------------------------\n",
      "                                Log (Crime Rate)  Log (Light Count)\n",
      "                                       (1)               (2)       \n",
      "-------------------------------------------------------------------\n",
      "Log (Light Count)               0.286*** (0.043)                   \n",
      "Log (Crime Rate)                                  0.178*** (0.026) \n",
      "Log (School Index)              -0.355*** (0.106) 0.300*** (0.088) \n",
      "Log (Cultural Space Index)      1.310*** (0.112)   -0.080 (0.110)  \n",
      "Log Income                      -0.597*** (0.076) 0.171*** (0.059) \n",
      "Log (Mean Age)                  -0.735*** (0.224)  -0.191 (0.181)  \n",
      "Log (Population Density)        -0.298*** (0.043) -0.535*** (0.028)\n",
      "Immigrant Proportion            -0.438*** (0.151) 0.609*** (0.116) \n",
      "Education Proportion            0.875*** (0.187)  -0.397*** (0.126)\n",
      "Is Downtown X Log (Light Count) 0.137*** (0.021)  0.121*** (0.023) \n",
      "Constant                        8.595*** (1.063)  7.883*** (0.810) \n",
      "-------------------------------------------------------------------\n",
      "Observations                           989               989       \n",
      "R2                                    0.552             0.562      \n",
      "Adjusted R2                           0.548             0.558      \n",
      "Residual Std. Error (df = 979)        0.549             0.434      \n",
      "F Statistic (df = 9; 979)          134.246***        139.656***    \n",
      "===================================================================\n",
      "Note:                                   *p<0.1; **p<0.05; ***p<0.01\n"
     ]
    }
   ],
   "source": [
    "# Endogeneity Comparison\n",
    "stargazer(reg_log8,  reg_log_inverse, type = \"text\",\n",
    "          title = \"Table 4: Comparing the endogeneity effect\",\n",
    "          covariate.labels = c(\"Log (Light Count)\",\n",
    "               \"Log (Crime Rate)\", \n",
    "               \"Log (School Index)\", \n",
    "               \"Log (Cultural Space Index)\", \n",
    "               \"Log Income\",\n",
    "               \"Log (Mean Age)\",\n",
    "               \"Log (Population Density)\",\n",
    "               \"Immigrant Proportion\", \n",
    "                \"Education Proportion\",\n",
    "                \"Is Downtown X Log (Light Count)\"),\n",
    "                se = list(robust_se8, robust_se_inverse),\n",
    "          dep.var.labels = c(\"Log (Crime Rate)\", \"Log (Light Count)\"),\n",
    "          single.row = TRUE)"
   ]
  },
  {
   "cell_type": "code",
   "execution_count": null,
   "metadata": {
    "vscode": {
     "languageId": "r"
    }
   },
   "outputs": [],
   "source": []
  }
 ],
 "metadata": {
  "kernelspec": {
   "display_name": "R",
   "language": "R",
   "name": "ir"
  },
  "language_info": {
   "codemirror_mode": "r",
   "file_extension": ".r",
   "mimetype": "text/x-r-source",
   "name": "R",
   "pygments_lexer": "r",
   "version": "4.4.2"
  }
 },
 "nbformat": 4,
 "nbformat_minor": 2
}
