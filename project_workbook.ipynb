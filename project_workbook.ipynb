{
 "cells": [
  {
   "cell_type": "markdown",
   "metadata": {},
   "source": [
    "<h2>Project Workbook<h2>"
   ]
  },
  {
   "cell_type": "markdown",
   "metadata": {},
   "source": [
    "Author: Irene Berezin, Kaiyan Zhang, Niko Bauer, Jerrold Huang"
   ]
  },
  {
   "cell_type": "code",
   "execution_count": 1,
   "metadata": {
    "vscode": {
     "languageId": "r"
    }
   },
   "outputs": [
    {
     "name": "stderr",
     "output_type": "stream",
     "text": [
      "Installing package into 'C:/Users/Kaiyan Zhang/AppData/Local/R/win-library/4.4'\n",
      "(as 'lib' is unspecified)\n",
      "\n"
     ]
    },
    {
     "name": "stdout",
     "output_type": "stream",
     "text": [
      "package 'sandwich' successfully unpacked and MD5 sums checked\n",
      "\n",
      "The downloaded binary packages are in\n",
      "\tC:\\Users\\Kaiyan Zhang\\AppData\\Local\\Temp\\RtmpCWFAUo\\downloaded_packages\n"
     ]
    },
    {
     "name": "stderr",
     "output_type": "stream",
     "text": [
      "Installing package into 'C:/Users/Kaiyan Zhang/AppData/Local/R/win-library/4.4'\n",
      "(as 'lib' is unspecified)\n",
      "\n"
     ]
    },
    {
     "name": "stdout",
     "output_type": "stream",
     "text": [
      "package 'coefplot' successfully unpacked and MD5 sums checked\n",
      "\n",
      "The downloaded binary packages are in\n",
      "\tC:\\Users\\Kaiyan Zhang\\AppData\\Local\\Temp\\RtmpCWFAUo\\downloaded_packages\n"
     ]
    },
    {
     "name": "stderr",
     "output_type": "stream",
     "text": [
      "Installing package into 'C:/Users/Kaiyan Zhang/AppData/Local/R/win-library/4.4'\n",
      "(as 'lib' is unspecified)\n",
      "\n"
     ]
    },
    {
     "name": "stdout",
     "output_type": "stream",
     "text": [
      "package 'lmtest' successfully unpacked and MD5 sums checked\n"
     ]
    },
    {
     "name": "stderr",
     "output_type": "stream",
     "text": [
      "Warning message:\n",
      "\"cannot remove prior installation of package 'lmtest'\"\n",
      "Warning message in file.copy(savedcopy, lib, recursive = TRUE):\n",
      "\"problem copying C:\\Users\\Kaiyan Zhang\\AppData\\Local\\R\\win-library\\4.4\\00LOCK\\lmtest\\libs\\x64\\lmtest.dll to C:\\Users\\Kaiyan Zhang\\AppData\\Local\\R\\win-library\\4.4\\lmtest\\libs\\x64\\lmtest.dll: Permission denied\"\n",
      "Warning message:\n",
      "\"restored 'lmtest'\"\n"
     ]
    },
    {
     "name": "stdout",
     "output_type": "stream",
     "text": [
      "\n",
      "The downloaded binary packages are in\n",
      "\tC:\\Users\\Kaiyan Zhang\\AppData\\Local\\Temp\\RtmpCWFAUo\\downloaded_packages\n"
     ]
    }
   ],
   "source": [
    "# Installing required packages\n",
    "install.packages(\"sandwich\")\n",
    "install.packages(\"coefplot\")\n",
    "install.packages(\"lmtest\")"
   ]
  },
  {
   "cell_type": "code",
   "execution_count": 2,
   "metadata": {
    "vscode": {
     "languageId": "r"
    }
   },
   "outputs": [
    {
     "name": "stderr",
     "output_type": "stream",
     "text": [
      "Warning message:\n",
      "\"package 'geojsonio' was built under R version 4.4.2\"\n",
      "Registered S3 method overwritten by 'geojsonsf':\n",
      "  method        from   \n",
      "  print.geojson geojson\n",
      "\n",
      "\n",
      "Attaching package: 'geojsonio'\n",
      "\n",
      "\n",
      "The following object is masked from 'package:base':\n",
      "\n",
      "    pretty\n",
      "\n",
      "\n",
      "── \u001b[1mAttaching core tidyverse packages\u001b[22m ──────────────────────── tidyverse 2.0.0 ──\n",
      "\u001b[32m✔\u001b[39m \u001b[34mdplyr    \u001b[39m 1.1.4     \u001b[32m✔\u001b[39m \u001b[34mreadr    \u001b[39m 2.1.5\n",
      "\u001b[32m✔\u001b[39m \u001b[34mforcats  \u001b[39m 1.0.0     \u001b[32m✔\u001b[39m \u001b[34mstringr  \u001b[39m 1.5.1\n",
      "\u001b[32m✔\u001b[39m \u001b[34mggplot2  \u001b[39m 3.5.1     \u001b[32m✔\u001b[39m \u001b[34mtibble   \u001b[39m 3.2.1\n",
      "\u001b[32m✔\u001b[39m \u001b[34mlubridate\u001b[39m 1.9.3     \u001b[32m✔\u001b[39m \u001b[34mtidyr    \u001b[39m 1.3.1\n",
      "\u001b[32m✔\u001b[39m \u001b[34mpurrr    \u001b[39m 1.0.2     \n",
      "── \u001b[1mConflicts\u001b[22m ────────────────────────────────────────── tidyverse_conflicts() ──\n",
      "\u001b[31m✖\u001b[39m \u001b[34mdplyr\u001b[39m::\u001b[32mfilter()\u001b[39m masks \u001b[34mstats\u001b[39m::filter()\n",
      "\u001b[31m✖\u001b[39m \u001b[34mdplyr\u001b[39m::\u001b[32mlag()\u001b[39m    masks \u001b[34mstats\u001b[39m::lag()\n",
      "\u001b[36mℹ\u001b[39m Use the conflicted package (\u001b[3m\u001b[34m<http://conflicted.r-lib.org/>\u001b[39m\u001b[23m) to force all conflicts to become errors\n",
      "\n",
      "Please cite as: \n",
      "\n",
      "\n",
      " Hlavac, Marek (2022). stargazer: Well-Formatted Regression and Summary Statistics Tables.\n",
      "\n",
      " R package version 5.2.3. https://CRAN.R-project.org/package=stargazer \n",
      "\n",
      "\n",
      "udunits database from C:/Users/Kaiyan Zhang/AppData/Local/R/win-library/4.4/units/share/udunits/udunits2.xml\n",
      "\n",
      "Linking to GEOS 3.12.1, GDAL 3.8.4, PROJ 9.3.1; sf_use_s2() is TRUE\n",
      "\n",
      "Loading required package: carData\n",
      "\n",
      "\n",
      "Attaching package: 'car'\n",
      "\n",
      "\n",
      "The following object is masked from 'package:dplyr':\n",
      "\n",
      "    recode\n",
      "\n",
      "\n",
      "The following object is masked from 'package:purrr':\n",
      "\n",
      "    some\n",
      "\n",
      "\n",
      "Warning message:\n",
      "\"package 'sandwich' was built under R version 4.4.2\"\n",
      "Warning message:\n",
      "\"package 'coefplot' was built under R version 4.4.2\"\n",
      "Warning message:\n",
      "\"package 'lmtest' was built under R version 4.4.2\"\n",
      "Loading required package: zoo\n",
      "\n",
      "\n",
      "Attaching package: 'zoo'\n",
      "\n",
      "\n",
      "The following objects are masked from 'package:base':\n",
      "\n",
      "    as.Date, as.Date.numeric\n",
      "\n",
      "\n",
      "Warning message:\n",
      "\"package 'VancouvR' was built under R version 4.4.2\"\n"
     ]
    }
   ],
   "source": [
    "# Loading packages\n",
    "library(geojsonio)\n",
    "library(tidyverse)\n",
    "library(ggplot2)\n",
    "library(tidyr)\n",
    "library(dplyr)\n",
    "library(\"knitr\")\n",
    "library(broom)\n",
    "library(stargazer)\n",
    "library(units)\n",
    "library(sf)\n",
    "library(car)\n",
    "library(sandwich)\n",
    "library(coefplot)\n",
    "library(lmtest)\n",
    "library(VancouvR)"
   ]
  },
  {
   "cell_type": "markdown",
   "metadata": {},
   "source": [
    "<h4>Linear Regression Check<h4>"
   ]
  },
  {
   "cell_type": "code",
   "execution_count": 3,
   "metadata": {
    "vscode": {
     "languageId": "r"
    }
   },
   "outputs": [
    {
     "name": "stdout",
     "output_type": "stream",
     "text": [
      "Reading layer `census_new_index_crime' from data source \n",
      "  `C:\\Users\\Kaiyan Zhang\\Desktop\\econ326\\census_new_index_crime.geojson' \n",
      "  using driver `GeoJSON'\n",
      "Simple feature collection with 993 features and 18 fields\n",
      "Geometry type: MULTIPOLYGON\n",
      "Dimension:     XY\n",
      "Bounding box:  xmin: -123.2242 ymin: 49.19853 xmax: -123.0229 ymax: 49.31408\n",
      "Geodetic CRS:  WGS 84\n"
     ]
    },
    {
     "name": "stderr",
     "output_type": "stream",
     "text": [
      "Warning message:\n",
      "\"\u001b[1m\u001b[22mThere were 4 warnings in `stopifnot()`.\n",
      "The first warning was:\n",
      "\u001b[1m\u001b[22m\u001b[36mℹ\u001b[39m In argument: `across(...)`.\n",
      "Caused by warning:\n",
      "\u001b[33m!\u001b[39m NAs introduced by coercion\n",
      "\u001b[1m\u001b[22m\u001b[36mℹ\u001b[39m Run `dplyr::last_dplyr_warnings()` to see the 3 remaining warnings.\"\n"
     ]
    },
    {
     "name": "stdout",
     "output_type": "stream",
     "text": [
      "Rows: 989\n",
      "Columns: 19\n",
      "$ name                 \u001b[3m\u001b[90m<chr>\u001b[39m\u001b[23m \"59150307\", \"59150308\", \"59150309\", \"59150310\", \"…\n",
      "$ households           \u001b[3m\u001b[90m<int>\u001b[39m\u001b[23m 254, 203, 269, 283, 181, 203, 402, 170, 333, 174,…\n",
      "$ dwellings            \u001b[3m\u001b[90m<int>\u001b[39m\u001b[23m 273, 223, 299, 310, 199, 211, 418, 181, 356, 189,…\n",
      "$ population           \u001b[3m\u001b[90m<int>\u001b[39m\u001b[23m 632, 501, 745, 536, 532, 562, 1088, 556, 959, 506…\n",
      "$ population_density   \u001b[3m\u001b[90m<dbl>\u001b[39m\u001b[23m 2110.9, 4575.3, 6663.7, 4895.0, 6567.9, 6445.0, 6…\n",
      "$ region               \u001b[3m\u001b[90m<chr>\u001b[39m\u001b[23m \"Vancouver\", \"Vancouver\", \"Vancouver\", \"Vancouver…\n",
      "$ area_sq_km           \u001b[3m\u001b[90m<dbl>\u001b[39m\u001b[23m 0.29926, 0.10956, 0.11190, 0.10940, 0.08094, 0.08…\n",
      "$ age                  \u001b[3m\u001b[90m<int>\u001b[39m\u001b[23m 630, 500, 745, 540, 530, 560, 1085, 555, 960, 510…\n",
      "$ income               \u001b[3m\u001b[90m<dbl>\u001b[39m\u001b[23m 0.90965, 0.93611, 0.84736, 0.45184, 0.82517, 0.74…\n",
      "$ immigrant_prop       \u001b[3m\u001b[90m<dbl>\u001b[39m\u001b[23m 0.2610759, 0.2894212, 0.3557047, 0.2891791, 0.404…\n",
      "$ education_prop       \u001b[3m\u001b[90m<dbl>\u001b[39m\u001b[23m 0.3085443, 0.2794411, 0.3154362, 0.1865672, 0.253…\n",
      "$ school_index         \u001b[3m\u001b[90m<dbl>\u001b[39m\u001b[23m 1.967207, 2.127046, 2.283703, 3.196982, 2.388786,…\n",
      "$ light_index          \u001b[3m\u001b[90m<dbl>\u001b[39m\u001b[23m 3.476492, 3.318048, 3.687467, 3.915391, 3.068842,…\n",
      "$ bus_index            \u001b[3m\u001b[90m<dbl>\u001b[39m\u001b[23m 2.182603, 2.310107, 2.631079, 4.245162, 2.604649,…\n",
      "$ cultural_space_index \u001b[3m\u001b[90m<dbl>\u001b[39m\u001b[23m 2.157921, 2.214813, 2.337378, 2.244403, 2.351434,…\n",
      "$ crime_count          \u001b[3m\u001b[90m<int>\u001b[39m\u001b[23m 28, 16, 31, 24, 14, 13, 20, 15, 23, 12, 15, 12, 8…\n",
      "$ crime_rate           \u001b[3m\u001b[90m<dbl>\u001b[39m\u001b[23m 443.0380, 319.3613, 416.1074, 447.7612, 263.1579,…\n",
      "$ mean_land_value      \u001b[3m\u001b[90m<dbl>\u001b[39m\u001b[23m 0.9556436, 1.0139412, 0.7501839, 1.1976135, 0.904…\n",
      "$ geometry             \u001b[3m\u001b[90m<MULTIPOLYGON [°]>\u001b[39m\u001b[23m MULTIPOLYGON (((-123.0233 4..., MULT…\n"
     ]
    }
   ],
   "source": [
    "# Read in the data\n",
    "census_index_crime <- st_read(\"census_new_index_crime.geojson\") |>\n",
    "    mutate(across(c(immigrant_prop, education_prop, mean_land_value,income), as.double))|>\n",
    "    na.omit()|>\n",
    "    glimpse()"
   ]
  },
  {
   "cell_type": "markdown",
   "metadata": {},
   "source": [
    "Residuals visualization"
   ]
  },
  {
   "cell_type": "code",
   "execution_count": 4,
   "metadata": {
    "vscode": {
     "languageId": "r"
    }
   },
   "outputs": [],
   "source": [
    "fn_residuals <- function(data, dependent_vars, independent_var) {\n",
    "  \n",
    "residuals_list <- list() #empty accumulator list\n",
    "\n",
    "# looping through each variable and calcualting residuals\n",
    "  for (var in dependent_vars) {\n",
    "   formula <- as.formula(paste(var, \"~\", independent_var)) # https://www.rdocumentation.org/packages/stats/versions/3.6.2/topics/formula\n",
    "    model <- lm(formula, data = data)\n",
    "    residuals_list[[var]] <- resid(model) # extracting residuals and assigning to empty list\n",
    "  }\n",
    "  \n",
    "  residuals_df <- as.data.frame(residuals_list)\n",
    "  colnames(residuals_df) <- paste0(\"residual_\", dependent_vars)\n",
    "\n",
    "residuals_df <- cbind(residuals_df, data[dependent_vars]) |>\n",
    "select(!geometry)\n",
    "\n",
    " return(residuals_df)}"
   ]
  },
  {
   "cell_type": "code",
   "execution_count": 5,
   "metadata": {
    "vscode": {
     "languageId": "r"
    }
   },
   "outputs": [
    {
     "name": "stderr",
     "output_type": "stream",
     "text": [
      "Warning message:\n",
      "\"\u001b[1m\u001b[22mThere was 1 warning in `mutate()`.\n",
      "\u001b[1m\u001b[22m\u001b[36mℹ\u001b[39m In argument: `model = list(lm(residual_value ~ x_value, data = cur_data()))`.\n",
      "\u001b[36mℹ\u001b[39m In group 1: `residual_type = \"residual_bus_index\"`.\n",
      "Caused by warning:\n",
      "\u001b[1m\u001b[22m\u001b[33m!\u001b[39m `cur_data()` was deprecated in dplyr 1.1.0.\n",
      "\u001b[36mℹ\u001b[39m Please use `pick()` instead.\"\n",
      "Warning message:\n",
      "\"\u001b[1m\u001b[22mUsing `size` aesthetic for lines was deprecated in ggplot2 3.4.0.\n",
      "\u001b[36mℹ\u001b[39m Please use `linewidth` instead.\"\n"
     ]
    },
    {
     "data": {
      "image/png": "[encoded data removed]",
      "text/plain": [
       "plot without title"
      ]
     },
     "metadata": {
      "image/png": {
       "height": 720,
       "width": 900
      }
     },
     "output_type": "display_data"
    }
   ],
   "source": [
    "dependent_vars <- c('mean_land_value','school_index', 'light_index', 'bus_index', 'cultural_space_index', 'income', 'immigrant_prop', 'education_prop')\n",
    "residuals_df <- fn_residuals(census_index_crime, dependent_vars, \"crime_rate\")\n",
    "\n",
    "residuals_long <- residuals_df |>\n",
    "  pivot_longer(\n",
    "    cols = starts_with(\"residual_\"), names_to = \"residual_type\", values_to = \"residual_value\") |>\n",
    "  mutate(x_value = case_when(\n",
    "    residual_type == \"residual_mean_land_value\" ~ mean_land_value,\n",
    "    residual_type == \"residual_school_index\" ~ school_index,\n",
    "    residual_type == \"residual_light_index\" ~ light_index,\n",
    "    residual_type == \"residual_bus_index\" ~ bus_index,\n",
    "    residual_type == \"residual_cultural_space_index\" ~ cultural_space_index,\n",
    "    residual_type == \"residual_income\" ~ income,\n",
    "    residual_type == \"residual_immigrant_prop\" ~ immigrant_prop,\n",
    "    residual_type == \"residual_education_prop\" ~ education_prop\n",
    "  ))\n",
    "\n",
    "  options(repr.plot.width = 15, repr.plot.height = 12)\n",
    "\n",
    "residuals_long  <- residuals_long |>\n",
    "  group_by(residual_type) |>\n",
    "  mutate(\n",
    "    model = list(lm(residual_value ~ x_value, data = cur_data())),\n",
    "    fitted_values = predict(model[[1]], newdata = data.frame(x_value = x_value))\n",
    "  ) |>\n",
    "  ungroup()\n",
    "\n",
    "ggplot(residuals_long, aes(x = x_value, y = residual_value)) +\n",
    "  geom_point(alpha=0.3) +\n",
    "  geom_line(aes(y = fitted_values), color = \"#ff9500\", size=1, alpha=0.8) +  \n",
    "  facet_wrap(~ residual_type, scales = \"free\") +\n",
    "  labs(\n",
    "    title = \"Residual vs Respective Xi\",\n",
    "    x = \"Xi\",\n",
    "    y = \"Residual\"\n",
    "  ) +\n",
    "  theme_minimal()"
   ]
  },
  {
   "cell_type": "markdown",
   "metadata": {},
   "source": [
    "Simple regressions and visualizations"
   ]
  },
  {
   "cell_type": "code",
   "execution_count": 6,
   "metadata": {
    "vscode": {
     "languageId": "r"
    }
   },
   "outputs": [
    {
     "name": "stderr",
     "output_type": "stream",
     "text": [
      "Warning message:\n",
      "\"\u001b[1m\u001b[22mUsing an external vector in selections was deprecated in tidyselect 1.1.0.\n",
      "\u001b[36mℹ\u001b[39m Please use `all_of()` or `any_of()` instead.\n",
      "  # Was:\n",
      "  data %>% select(regressors)\n",
      "\n",
      "  # Now:\n",
      "  data %>% select(all_of(regressors))\n",
      "\n",
      "See <https://tidyselect.r-lib.org/reference/faq-external-vector.html>.\"\n",
      "\u001b[1m\u001b[22m`geom_smooth()` using formula = 'y ~ x'\n"
     ]
    },
    {
     "data": {
      "image/png": "[encoded data removed]",
      "text/plain": [
       "plot without title"
      ]
     },
     "metadata": {
      "image/png": {
       "height": 720,
       "width": 900
      }
     },
     "output_type": "display_data"
    }
   ],
   "source": [
    "regressors <- c('light_index', 'mean_land_value','school_index', 'bus_index', 'cultural_space_index', 'income', 'immigrant_prop', 'education_prop')\n",
    "\n",
    "long_data <- census_index_crime |>\n",
    "  pivot_longer(cols = regressors,\n",
    "               names_to = \"regressor\",\n",
    "               values_to = \"value\")\n",
    "\n",
    "variables_regression_scatter <- ggplot(long_data, aes(x = value, y = crime_rate)) +\n",
    "  geom_point(color = \"darkblue\", alpha = 0.6) +\n",
    "  facet_wrap(~ regressor, scales = \"free_x\") + \n",
    "  geom_smooth(method = \"lm\", se = FALSE, color = \"red\") +\n",
    "  labs(title = \"Crime Rate vs Regressors\",\n",
    "       x = \"Explanatory Variable Value\",\n",
    "       y = \"Crime Rate\") +\n",
    "  theme_minimal() +\n",
    "  theme(plot.title = element_text(size = 20, face = \"bold\"),\n",
    "        strip.text = element_text(size = 15),  \n",
    "        axis.title = element_text(size = 14),\n",
    "        axis.text = element_text(size = 12))\n",
    "        \n",
    "variables_regression_scatter"
   ]
  },
  {
   "cell_type": "code",
   "execution_count": 7,
   "metadata": {
    "vscode": {
     "languageId": "r"
    }
   },
   "outputs": [
    {
     "name": "stdout",
     "output_type": "stream",
     "text": [
      "\n",
      "Simple Regression Results\n",
      "============================================================================================================================\n",
      "                                                                    Dependent variable:                                     \n",
      "                               ---------------------------------------------------------------------------------------------\n",
      "                                                                        Crime Rate                                          \n",
      "                                    (1)         (2)        (3)        (4)         (5)         (6)         (7)        (8)    \n",
      "----------------------------------------------------------------------------------------------------------------------------\n",
      "light_index                     413.580***                                                                                  \n",
      "                                 (30.733)                                                                                   \n",
      "                                                                                                                            \n",
      "mean_land_value                                6.177                                                                        \n",
      "                                              (7.023)                                                                       \n",
      "                                                                                                                            \n",
      "school_index                                             50.633                                                             \n",
      "                                                        (36.736)                                                            \n",
      "                                                                                                                            \n",
      "bus_index                                                         375.805***                                                \n",
      "                                                                   (35.955)                                                 \n",
      "                                                                                                                            \n",
      "cultural_space_index                                                          393.231***                                    \n",
      "                                                                               (28.945)                                     \n",
      "                                                                                                                            \n",
      "income                                                                                    -583.360***                       \n",
      "                                                                                           (106.463)                        \n",
      "                                                                                                                            \n",
      "immigrant_prop                                                                                        -964.330***           \n",
      "                                                                                                       (175.969)            \n",
      "                                                                                                                            \n",
      "education_prop                                                                                                    445.897** \n",
      "                                                                                                                  (198.519) \n",
      "                                                                                                                            \n",
      "Constant                       -1,365.077*** 448.519*** 290.236** -902.400*** -718.617*** 886.297***  863.030***  310.618***\n",
      "                                 (137.878)    (30.054)  (126.415)  (132.853)   (90.210)    (82.062)    (78.045)    (71.890) \n",
      "                                                                                                                            \n",
      "----------------------------------------------------------------------------------------------------------------------------\n",
      "Observations                        989         989        989        989         989         989         989        989    \n",
      "R2                                 0.155       0.001      0.002      0.100       0.158       0.030       0.030      0.005   \n",
      "Adjusted R2                        0.154      -0.0002     0.001      0.099       0.157       0.029       0.029      0.004   \n",
      "Residual Std. Error (df = 987)    774.350     842.068    841.589    799.323     773.202     829.871     829.868    840.254  \n",
      "F Statistic (df = 1; 987)       181.092***     0.774      1.900   109.244***  184.564***   30.025***   30.032***   5.045**  \n",
      "============================================================================================================================\n",
      "Note:                                                                                            *p<0.1; **p<0.05; ***p<0.01\n"
     ]
    }
   ],
   "source": [
    "# Carry out all the simple regressions\n",
    "outcome <- \"crime_rate\"\n",
    "\n",
    "simple_regressions <- map(regressors, ~ lm(as.formula(paste(outcome, \"~\", .x)), data = census_index_crime))\n",
    "\n",
    "names(simple_regressions) <- regressors\n",
    "\n",
    "stargazer(simple_regressions, type = \"text\",\n",
    "          title = \"Simple Regression Results\",\n",
    "          dep.var.labels = c(\"Crime Rate\"))"
   ]
  },
  {
   "cell_type": "markdown",
   "metadata": {},
   "source": [
    "<h4> Shifting to log-log regression model <h4>"
   ]
  },
  {
   "cell_type": "code",
   "execution_count": 8,
   "metadata": {
    "vscode": {
     "languageId": "r"
    }
   },
   "outputs": [
    {
     "name": "stdout",
     "output_type": "stream",
     "text": [
      "[1] \"Variables with zero counts:\"\n",
      "                name           households            dwellings \n",
      "                  NA                    0                    0 \n",
      "          population   population_density               region \n",
      "                   0                    0                   NA \n",
      "          area_sq_km                  age               income \n",
      "                   0                    0                    0 \n",
      "      immigrant_prop       education_prop         school_index \n",
      "                   0                    1                    0 \n",
      "         light_index            bus_index cultural_space_index \n",
      "                   0                    0                    0 \n",
      "         crime_count           crime_rate      mean_land_value \n",
      "                   0                    0                    0 \n",
      "            geometry \n",
      "                  NA \n"
     ]
    }
   ],
   "source": [
    "# Identify variables with zeros\n",
    "zero_counts <- sapply(census_index_crime, function(x) {\n",
    "  if (is.numeric(x)) {\n",
    "    sum(x == 0, na.rm = TRUE)\n",
    "  } else {\n",
    "    NA\n",
    "  }\n",
    "})\n",
    "print(\"Variables with zero counts:\")\n",
    "print(zero_counts)"
   ]
  },
  {
   "cell_type": "code",
   "execution_count": 9,
   "metadata": {
    "vscode": {
     "languageId": "r"
    }
   },
   "outputs": [
    {
     "name": "stdout",
     "output_type": "stream",
     "text": [
      "Rows: 989\n",
      "Columns: 26\n",
      "$ name                     \u001b[3m\u001b[90m<chr>\u001b[39m\u001b[23m \"59150307\", \"59150308\", \"59150309\", \"59150310…\n",
      "$ households               \u001b[3m\u001b[90m<int>\u001b[39m\u001b[23m 254, 203, 269, 283, 181, 203, 402, 170, 333, …\n",
      "$ dwellings                \u001b[3m\u001b[90m<int>\u001b[39m\u001b[23m 273, 223, 299, 310, 199, 211, 418, 181, 356, …\n",
      "$ population               \u001b[3m\u001b[90m<int>\u001b[39m\u001b[23m 632, 501, 745, 536, 532, 562, 1088, 556, 959,…\n",
      "$ population_density       \u001b[3m\u001b[90m<dbl>\u001b[39m\u001b[23m 2110.9, 4575.3, 6663.7, 4895.0, 6567.9, 6445.…\n",
      "$ region                   \u001b[3m\u001b[90m<chr>\u001b[39m\u001b[23m \"Vancouver\", \"Vancouver\", \"Vancouver\", \"Vanco…\n",
      "$ area_sq_km               \u001b[3m\u001b[90m<dbl>\u001b[39m\u001b[23m 0.29926, 0.10956, 0.11190, 0.10940, 0.08094, …\n",
      "$ age                      \u001b[3m\u001b[90m<int>\u001b[39m\u001b[23m 630, 500, 745, 540, 530, 560, 1085, 555, 960,…\n",
      "$ income                   \u001b[3m\u001b[90m<dbl>\u001b[39m\u001b[23m 0.90965, 0.93611, 0.84736, 0.45184, 0.82517, …\n",
      "$ immigrant_prop           \u001b[3m\u001b[90m<dbl>\u001b[39m\u001b[23m 0.2610759, 0.2894212, 0.3557047, 0.2891791, 0…\n",
      "$ education_prop           \u001b[3m\u001b[90m<dbl>\u001b[39m\u001b[23m 0.3085443, 0.2794411, 0.3154362, 0.1865672, 0…\n",
      "$ school_index             \u001b[3m\u001b[90m<dbl>\u001b[39m\u001b[23m 1.967207, 2.127046, 2.283703, 3.196982, 2.388…\n",
      "$ light_index              \u001b[3m\u001b[90m<dbl>\u001b[39m\u001b[23m 3.476492, 3.318048, 3.687467, 3.915391, 3.068…\n",
      "$ bus_index                \u001b[3m\u001b[90m<dbl>\u001b[39m\u001b[23m 2.182603, 2.310107, 2.631079, 4.245162, 2.604…\n",
      "$ cultural_space_index     \u001b[3m\u001b[90m<dbl>\u001b[39m\u001b[23m 2.157921, 2.214813, 2.337378, 2.244403, 2.351…\n",
      "$ crime_count              \u001b[3m\u001b[90m<int>\u001b[39m\u001b[23m 28, 16, 31, 24, 14, 13, 20, 15, 23, 12, 15, 1…\n",
      "$ crime_rate               \u001b[3m\u001b[90m<dbl>\u001b[39m\u001b[23m 443.0380, 319.3613, 416.1074, 447.7612, 263.1…\n",
      "$ mean_land_value          \u001b[3m\u001b[90m<dbl>\u001b[39m\u001b[23m 0.9556436, 1.0139412, 0.7501839, 1.1976135, 0…\n",
      "$ geometry                 \u001b[3m\u001b[90m<MULTIPOLYGON [°]>\u001b[39m\u001b[23m MULTIPOLYGON (((-123.0233 4..., …\n",
      "$ log_crime_rate           \u001b[3m\u001b[90m<dbl>\u001b[39m\u001b[23m 6.093655, 5.766323, 6.030943, 6.104260, 5.572…\n",
      "$ log_mean_land_value      \u001b[3m\u001b[90m<dbl>\u001b[39m\u001b[23m -0.04537024, 0.01384492, -0.28743690, 0.18033…\n",
      "$ log_school_index         \u001b[3m\u001b[90m<dbl>\u001b[39m\u001b[23m 0.6766149, 0.7547340, 0.8257981, 1.1622073, 0…\n",
      "$ log_light_index          \u001b[3m\u001b[90m<dbl>\u001b[39m\u001b[23m 1.246024, 1.199377, 1.304940, 1.364915, 1.121…\n",
      "$ log_bus_index            \u001b[3m\u001b[90m<dbl>\u001b[39m\u001b[23m 0.7805182, 0.8372938, 0.9673941, 1.4457801, 0…\n",
      "$ log_cultural_space_index \u001b[3m\u001b[90m<dbl>\u001b[39m\u001b[23m 0.7691453, 0.7951678, 0.8490300, 0.8084395, 0…\n",
      "$ log_income               \u001b[3m\u001b[90m<dbl>\u001b[39m\u001b[23m -0.094695369, -0.066022288, -0.165629645, -0.…\n"
     ]
    }
   ],
   "source": [
    "# log transformation for variables other than immigrant_prop and education_prop\n",
    "census_index_crime_log <- census_index_crime |> \n",
    "  mutate(\n",
    "    log_crime_rate = log(crime_rate),\n",
    "    log_mean_land_value = log(mean_land_value),\n",
    "    log_school_index = log(school_index),\n",
    "    log_light_index = log(light_index),\n",
    "    log_bus_index = log(bus_index),\n",
    "    log_cultural_space_index = log(cultural_space_index),\n",
    "    log_income = log(income),\n",
    "    immigrant_prop = immigrant_prop,  \n",
    "    education_prop = education_prop \n",
    "  )|>\n",
    "  glimpse()\n"
   ]
  },
  {
   "cell_type": "code",
   "execution_count": 10,
   "metadata": {
    "vscode": {
     "languageId": "r"
    }
   },
   "outputs": [
    {
     "name": "stdout",
     "output_type": "stream",
     "text": [
      "\n",
      "\tstudentized Breusch-Pagan test\n",
      "\n",
      "data:  reg_log_simple\n",
      "BP = 64.428, df = 2, p-value = 1.022e-14\n",
      "\n",
      "\n",
      "Log-Log Regression Results with Robust Standard Errors\n",
      "================================================================\n",
      "                                      Dependent variable:       \n",
      "                               ---------------------------------\n",
      "                                        Log Crime Rate          \n",
      "                                      SE              RSE       \n",
      "                                     (1)              (2)       \n",
      "----------------------------------------------------------------\n",
      "log_light_index                1.791*** (0.127) 1.791*** (0.154)\n",
      "Constant                       3.051*** (0.187) 3.051*** (0.221)\n",
      "----------------------------------------------------------------\n",
      "Observations                         989              989       \n",
      "R2                                  0.168            0.168      \n",
      "Adjusted R2                         0.168            0.168      \n",
      "Residual Std. Error (df = 987)      0.745            0.745      \n",
      "F Statistic (df = 1; 987)         199.876***       199.876***   \n",
      "================================================================\n",
      "Note:                                *p<0.1; **p<0.05; ***p<0.01\n"
     ]
    }
   ],
   "source": [
    "# Conduct a regression on log(light index) only\n",
    "reg_log_simple <- lm(log_crime_rate ~  log_light_index,\n",
    "              data = census_index_crime_log)\n",
    "\n",
    "white_test <- bptest(reg_log_simple, ~ fitted(reg_log_simple) + I(fitted(reg_log_simple)^2), data = census_index_crime_log)\n",
    "print(white_test) \n",
    "\n",
    "robust_se_simple <- sqrt(diag(vcovHC(reg_log_simple, type = \"HC1\")))\n",
    "\n",
    "stargazer(reg_log_simple, reg_log_simple, type = \"text\", \n",
    "        title = \"Log-Log Regression Results with Robust Standard Errors\", \n",
    "        dep.var.labels = c(\"Log Crime Rate\"), \n",
    "        column.labels = c(\"SE\", \"RSE\"),\n",
    "        se = list(NULL, robust_se_simple),\n",
    "        single.row=TRUE)"
   ]
  },
  {
   "cell_type": "markdown",
   "metadata": {},
   "source": [
    "We shift to using log(light count) instead for research topic concern."
   ]
  },
  {
   "cell_type": "code",
   "execution_count": 11,
   "metadata": {
    "vscode": {
     "languageId": "r"
    }
   },
   "outputs": [
    {
     "name": "stderr",
     "output_type": "stream",
     "text": [
      "Downloading data from CoV Open Data portal\n",
      "\n"
     ]
    }
   ],
   "source": [
    "light_data <- get_cov_data(dataset_id = 'street-lighting-poles')|>\n",
    "    st_sf()"
   ]
  },
  {
   "cell_type": "code",
   "execution_count": 12,
   "metadata": {
    "vscode": {
     "languageId": "r"
    }
   },
   "outputs": [
    {
     "name": "stdout",
     "output_type": "stream",
     "text": [
      "Rows: 989\n",
      "Columns: 28\n",
      "$ name                     \u001b[3m\u001b[90m<chr>\u001b[39m\u001b[23m \"59150307\", \"59150308\", \"59150309\", \"59150310…\n",
      "$ households               \u001b[3m\u001b[90m<int>\u001b[39m\u001b[23m 254, 203, 269, 283, 181, 203, 402, 170, 333, …\n",
      "$ dwellings                \u001b[3m\u001b[90m<int>\u001b[39m\u001b[23m 273, 223, 299, 310, 199, 211, 418, 181, 356, …\n",
      "$ population               \u001b[3m\u001b[90m<int>\u001b[39m\u001b[23m 632, 501, 745, 536, 532, 562, 1088, 556, 959,…\n",
      "$ population_density       \u001b[3m\u001b[90m<dbl>\u001b[39m\u001b[23m 2110.9, 4575.3, 6663.7, 4895.0, 6567.9, 6445.…\n",
      "$ region                   \u001b[3m\u001b[90m<chr>\u001b[39m\u001b[23m \"Vancouver\", \"Vancouver\", \"Vancouver\", \"Vanco…\n",
      "$ area_sq_km               \u001b[3m\u001b[90m<dbl>\u001b[39m\u001b[23m 0.29926, 0.10956, 0.11190, 0.10940, 0.08094, …\n",
      "$ age                      \u001b[3m\u001b[90m<int>\u001b[39m\u001b[23m 630, 500, 745, 540, 530, 560, 1085, 555, 960,…\n",
      "$ income                   \u001b[3m\u001b[90m<dbl>\u001b[39m\u001b[23m 0.90965, 0.93611, 0.84736, 0.45184, 0.82517, …\n",
      "$ immigrant_prop           \u001b[3m\u001b[90m<dbl>\u001b[39m\u001b[23m 0.2610759, 0.2894212, 0.3557047, 0.2891791, 0…\n",
      "$ education_prop           \u001b[3m\u001b[90m<dbl>\u001b[39m\u001b[23m 0.3085443, 0.2794411, 0.3154362, 0.1865672, 0…\n",
      "$ school_index             \u001b[3m\u001b[90m<dbl>\u001b[39m\u001b[23m 1.967207, 2.127046, 2.283703, 3.196982, 2.388…\n",
      "$ light_index              \u001b[3m\u001b[90m<dbl>\u001b[39m\u001b[23m 3.476492, 3.318048, 3.687467, 3.915391, 3.068…\n",
      "$ bus_index                \u001b[3m\u001b[90m<dbl>\u001b[39m\u001b[23m 2.182603, 2.310107, 2.631079, 4.245162, 2.604…\n",
      "$ cultural_space_index     \u001b[3m\u001b[90m<dbl>\u001b[39m\u001b[23m 2.157921, 2.214813, 2.337378, 2.244403, 2.351…\n",
      "$ crime_count              \u001b[3m\u001b[90m<int>\u001b[39m\u001b[23m 28, 16, 31, 24, 14, 13, 20, 15, 23, 12, 15, 1…\n",
      "$ crime_rate               \u001b[3m\u001b[90m<dbl>\u001b[39m\u001b[23m 443.0380, 319.3613, 416.1074, 447.7612, 263.1…\n",
      "$ mean_land_value          \u001b[3m\u001b[90m<dbl>\u001b[39m\u001b[23m 0.9556436, 1.0139412, 0.7501839, 1.1976135, 0…\n",
      "$ log_crime_rate           \u001b[3m\u001b[90m<dbl>\u001b[39m\u001b[23m 6.093655, 5.766323, 6.030943, 6.104260, 5.572…\n",
      "$ log_mean_land_value      \u001b[3m\u001b[90m<dbl>\u001b[39m\u001b[23m -0.04537024, 0.01384492, -0.28743690, 0.18033…\n",
      "$ log_school_index         \u001b[3m\u001b[90m<dbl>\u001b[39m\u001b[23m 0.6766149, 0.7547340, 0.8257981, 1.1622073, 0…\n",
      "$ log_light_index          \u001b[3m\u001b[90m<dbl>\u001b[39m\u001b[23m 1.246024, 1.199377, 1.304940, 1.364915, 1.121…\n",
      "$ log_bus_index            \u001b[3m\u001b[90m<dbl>\u001b[39m\u001b[23m 0.7805182, 0.8372938, 0.9673941, 1.4457801, 0…\n",
      "$ log_cultural_space_index \u001b[3m\u001b[90m<dbl>\u001b[39m\u001b[23m 0.7691453, 0.7951678, 0.8490300, 0.8084395, 0…\n",
      "$ log_income               \u001b[3m\u001b[90m<dbl>\u001b[39m\u001b[23m -0.094695369, -0.066022288, -0.165629645, -0.…\n",
      "$ light_count              \u001b[3m\u001b[90m<int>\u001b[39m\u001b[23m 117, 57, 81, 81, 32, 26, 50, 85, 122, 38, 78,…\n",
      "$ geometry                 \u001b[3m\u001b[90m<MULTIPOLYGON [°]>\u001b[39m\u001b[23m MULTIPOLYGON (((-123.0233 4..., …\n",
      "$ log_light_count          \u001b[3m\u001b[90m<dbl>\u001b[39m\u001b[23m 4.762174, 4.043051, 4.394449, 4.394449, 3.465…\n"
     ]
    }
   ],
   "source": [
    "# Merge light counts back into the census dataset\n",
    "census_index_crime_log <- st_sf(census_index_crime_log)|>\n",
    "    st_make_valid()\n",
    "\n",
    "light_data <- st_transform(light_data, st_crs(census_index_crime_log))\n",
    "\n",
    "lights_with_census <- st_join(light_data, census_index_crime_log, join = st_within)\n",
    "\n",
    "light_counts <- lights_with_census %>%\n",
    "    st_drop_geometry() %>% \n",
    "    group_by(name) %>%     \n",
    "    summarize(light_count = n(), .groups = \"drop\")\n",
    "\n",
    "census_index_crime_log <- census_index_crime_log %>%\n",
    "    left_join(light_counts, by = \"name\") %>%\n",
    "    mutate(light_count = replace_na(light_count, 0))|>\n",
    "    mutate(log_light_count = log(if_else(light_count == 0, 0.01, light_count))) # Fill missing values with 0\n",
    "\n",
    "glimpse(census_index_crime_log)"
   ]
  },
  {
   "cell_type": "code",
   "execution_count": 13,
   "metadata": {
    "vscode": {
     "languageId": "r"
    }
   },
   "outputs": [
    {
     "name": "stdout",
     "output_type": "stream",
     "text": [
      "\n",
      "\tstudentized Breusch-Pagan test\n",
      "\n",
      "data:  reg_log_simple2\n",
      "BP = 54.414, df = 2, p-value = 1.528e-12\n",
      "\n",
      "\n",
      "Log-Log Regression Results with Robust Standard Errors\n",
      "================================================================\n",
      "                                      Dependent variable:       \n",
      "                               ---------------------------------\n",
      "                                        Log Crime Rate          \n",
      "                                      SE              RSE       \n",
      "                                     (1)              (2)       \n",
      "----------------------------------------------------------------\n",
      "log_light_count                0.345*** (0.038) 0.345*** (0.048)\n",
      "Constant                       4.358*** (0.149) 4.358*** (0.181)\n",
      "----------------------------------------------------------------\n",
      "Observations                         989              989       \n",
      "R2                                  0.076            0.076      \n",
      "Adjusted R2                         0.075            0.075      \n",
      "Residual Std. Error (df = 987)      0.785            0.785      \n",
      "F Statistic (df = 1; 987)         81.162***        81.162***    \n",
      "================================================================\n",
      "Note:                                *p<0.1; **p<0.05; ***p<0.01\n"
     ]
    }
   ],
   "source": [
    "# Conduct a regression on log(light count) only\n",
    "reg_log_simple2 <- lm(log_crime_rate ~  log_light_count,\n",
    "              data = census_index_crime_log)\n",
    "\n",
    "white_test <- bptest(reg_log_simple2, ~ fitted(reg_log_simple2) + I(fitted(reg_log_simple2)^2), data = census_index_crime_log)\n",
    "print(white_test) \n",
    "\n",
    "robust_se_simple2 <- sqrt(diag(vcovHC(reg_log_simple2, type = \"HC1\")))\n",
    "\n",
    "stargazer(reg_log_simple2, reg_log_simple2, type = \"text\", \n",
    "        title = \"Log-Log Regression Results with Robust Standard Errors\", \n",
    "        dep.var.labels = c(\"Log Crime Rate\"), \n",
    "        column.labels = c(\"SE\", \"RSE\"),\n",
    "        se = list(NULL, robust_se_simple2),\n",
    "        single.row=TRUE)"
   ]
  },
  {
   "cell_type": "markdown",
   "metadata": {},
   "source": [
    "Adding control variables into the regression. We decided to also include variables capturing demographic factors, we decide to use mean age from census 2016 data."
   ]
  },
  {
   "cell_type": "code",
   "execution_count": 14,
   "metadata": {
    "vscode": {
     "languageId": "r"
    }
   },
   "outputs": [
    {
     "name": "stderr",
     "output_type": "stream",
     "text": [
      "Warning message:\n",
      "\"package 'cancensus' was built under R version 4.4.2\"\n",
      "Census data is currently stored temporarily.\n",
      "\n",
      " In order to speed up performance, reduce API quota usage, and reduce unnecessary network calls, please set up a persistent cache directory via `set_cancensus_cache_path('<local cache path>', install = TRUE)`.\n",
      " This will add your cache directory as environment varianble to your .Renviron to be used across sessions and projects.\n",
      "\n",
      "\n",
      "\n",
      "Reading vectors data from local cache.\n",
      "\n",
      "Reading geo data from local cache.\n",
      "\n"
     ]
    },
    {
     "name": "stdout",
     "output_type": "stream",
     "text": [
      "Rows: 993\n",
      "Columns: 3\n",
      "$ name             \u001b[3m\u001b[90m<chr>\u001b[39m\u001b[23m \"59150307\", \"59150308\", \"59150309\", \"59150310\", \"5915…\n",
      "$ mean_age         \u001b[3m\u001b[90m<dbl>\u001b[39m\u001b[23m 43.2, 42.2, 41.5, 40.2, 40.1, 41.0, 43.9, 37.6, 42.3,…\n",
      "$ prop_working_age \u001b[3m\u001b[90m<dbl>\u001b[39m\u001b[23m 0.622, 0.670, 0.745, 0.815, 0.710, 0.743, 0.696, 0.73…\n"
     ]
    }
   ],
   "source": [
    "# Load average age data\n",
    "library(cancensus)\n",
    "options(cancensus.api_key='CensusMapper_f228791d9506a7a747ece66db73b95be')\n",
    "options(cancensus.cache_path = \"/cache\")\n",
    "\n",
    "census_data_age <- get_census(dataset='CA16', regions=list(CSD=\"5915022\"), vectors=c(\"v_CA16_379\",\"v_CA16_388\"), labels=\"detailed\", geo_format=\"sf\", level='DA')|>\n",
    "    rename(mean_age = `v_CA16_379: Average age`, name = GeoUID)|>\n",
    "    mutate(prop_working_age = `v_CA16_388: 15 to 64 years`/100)|>\n",
    "    select(name, mean_age, prop_working_age)|>\n",
    "    st_drop_geometry()|>\n",
    "    glimpse()"
   ]
  },
  {
   "cell_type": "code",
   "execution_count": 15,
   "metadata": {
    "vscode": {
     "languageId": "r"
    }
   },
   "outputs": [
    {
     "name": "stdout",
     "output_type": "stream",
     "text": [
      "Rows: 989\n",
      "Columns: 31\n",
      "$ name                     \u001b[3m\u001b[90m<chr>\u001b[39m\u001b[23m \"59150307\", \"59150308\", \"59150309\", \"59150310…\n",
      "$ households               \u001b[3m\u001b[90m<int>\u001b[39m\u001b[23m 254, 203, 269, 283, 181, 203, 402, 170, 333, …\n",
      "$ dwellings                \u001b[3m\u001b[90m<int>\u001b[39m\u001b[23m 273, 223, 299, 310, 199, 211, 418, 181, 356, …\n",
      "$ population               \u001b[3m\u001b[90m<int>\u001b[39m\u001b[23m 632, 501, 745, 536, 532, 562, 1088, 556, 959,…\n",
      "$ population_density       \u001b[3m\u001b[90m<dbl>\u001b[39m\u001b[23m 2110.9, 4575.3, 6663.7, 4895.0, 6567.9, 6445.…\n",
      "$ region                   \u001b[3m\u001b[90m<chr>\u001b[39m\u001b[23m \"Vancouver\", \"Vancouver\", \"Vancouver\", \"Vanco…\n",
      "$ area_sq_km               \u001b[3m\u001b[90m<dbl>\u001b[39m\u001b[23m 0.29926, 0.10956, 0.11190, 0.10940, 0.08094, …\n",
      "$ age                      \u001b[3m\u001b[90m<int>\u001b[39m\u001b[23m 630, 500, 745, 540, 530, 560, 1085, 555, 960,…\n",
      "$ income                   \u001b[3m\u001b[90m<dbl>\u001b[39m\u001b[23m 0.90965, 0.93611, 0.84736, 0.45184, 0.82517, …\n",
      "$ immigrant_prop           \u001b[3m\u001b[90m<dbl>\u001b[39m\u001b[23m 0.2610759, 0.2894212, 0.3557047, 0.2891791, 0…\n",
      "$ education_prop           \u001b[3m\u001b[90m<dbl>\u001b[39m\u001b[23m 0.3085443, 0.2794411, 0.3154362, 0.1865672, 0…\n",
      "$ school_index             \u001b[3m\u001b[90m<dbl>\u001b[39m\u001b[23m 1.967207, 2.127046, 2.283703, 3.196982, 2.388…\n",
      "$ light_index              \u001b[3m\u001b[90m<dbl>\u001b[39m\u001b[23m 3.476492, 3.318048, 3.687467, 3.915391, 3.068…\n",
      "$ bus_index                \u001b[3m\u001b[90m<dbl>\u001b[39m\u001b[23m 2.182603, 2.310107, 2.631079, 4.245162, 2.604…\n",
      "$ cultural_space_index     \u001b[3m\u001b[90m<dbl>\u001b[39m\u001b[23m 2.157921, 2.214813, 2.337378, 2.244403, 2.351…\n",
      "$ crime_count              \u001b[3m\u001b[90m<int>\u001b[39m\u001b[23m 28, 16, 31, 24, 14, 13, 20, 15, 23, 12, 15, 1…\n",
      "$ crime_rate               \u001b[3m\u001b[90m<dbl>\u001b[39m\u001b[23m 443.0380, 319.3613, 416.1074, 447.7612, 263.1…\n",
      "$ mean_land_value          \u001b[3m\u001b[90m<dbl>\u001b[39m\u001b[23m 0.9556436, 1.0139412, 0.7501839, 1.1976135, 0…\n",
      "$ log_crime_rate           \u001b[3m\u001b[90m<dbl>\u001b[39m\u001b[23m 6.093655, 5.766323, 6.030943, 6.104260, 5.572…\n",
      "$ log_mean_land_value      \u001b[3m\u001b[90m<dbl>\u001b[39m\u001b[23m -0.04537024, 0.01384492, -0.28743690, 0.18033…\n",
      "$ log_school_index         \u001b[3m\u001b[90m<dbl>\u001b[39m\u001b[23m 0.6766149, 0.7547340, 0.8257981, 1.1622073, 0…\n",
      "$ log_light_index          \u001b[3m\u001b[90m<dbl>\u001b[39m\u001b[23m 1.246024, 1.199377, 1.304940, 1.364915, 1.121…\n",
      "$ log_bus_index            \u001b[3m\u001b[90m<dbl>\u001b[39m\u001b[23m 0.7805182, 0.8372938, 0.9673941, 1.4457801, 0…\n",
      "$ log_cultural_space_index \u001b[3m\u001b[90m<dbl>\u001b[39m\u001b[23m 0.7691453, 0.7951678, 0.8490300, 0.8084395, 0…\n",
      "$ log_income               \u001b[3m\u001b[90m<dbl>\u001b[39m\u001b[23m -0.094695369, -0.066022288, -0.165629645, -0.…\n",
      "$ light_count              \u001b[3m\u001b[90m<int>\u001b[39m\u001b[23m 117, 57, 81, 81, 32, 26, 50, 85, 122, 38, 78,…\n",
      "$ log_light_count          \u001b[3m\u001b[90m<dbl>\u001b[39m\u001b[23m 4.762174, 4.043051, 4.394449, 4.394449, 3.465…\n",
      "$ mean_age                 \u001b[3m\u001b[90m<dbl>\u001b[39m\u001b[23m 43.2, 42.2, 41.5, 40.2, 40.1, 41.0, 43.9, 37.…\n",
      "$ prop_working_age         \u001b[3m\u001b[90m<dbl>\u001b[39m\u001b[23m 0.622, 0.670, 0.745, 0.815, 0.710, 0.743, 0.6…\n",
      "$ geometry                 \u001b[3m\u001b[90m<MULTIPOLYGON [°]>\u001b[39m\u001b[23m MULTIPOLYGON (((-123.0233 4..., …\n",
      "$ log_mean_age             \u001b[3m\u001b[90m<dbl>\u001b[39m\u001b[23m 3.765840, 3.742420, 3.725693, 3.693867, 3.691…\n"
     ]
    }
   ],
   "source": [
    "census_index_crime_log <- merge(census_index_crime_log, census_data_age, by = \"name\")|>\n",
    "    mutate(log_mean_age = log(if_else(is.na(mean_age),0,mean_age)))|>\n",
    "    glimpse()"
   ]
  },
  {
   "cell_type": "code",
   "execution_count": 16,
   "metadata": {
    "vscode": {
     "languageId": "r"
    }
   },
   "outputs": [
    {
     "name": "stdout",
     "output_type": "stream",
     "text": [
      "\n",
      "\tstudentized Breusch-Pagan test\n",
      "\n",
      "data:  reg_log1\n",
      "BP = 7.2519, df = 2, p-value = 0.02662\n",
      "\n",
      "\n",
      "Log-Log Regression Results with Robust Standard Errors\n",
      "==================================================================\n",
      "                                       Dependent variable:        \n",
      "                               -----------------------------------\n",
      "                                         Log Crime Rate           \n",
      "                                      SE                RSE       \n",
      "                                      (1)               (2)       \n",
      "------------------------------------------------------------------\n",
      "log_light_count                0.520*** (0.030)  0.520*** (0.037) \n",
      "log_mean_land_value            0.093*** (0.027)   0.093** (0.036) \n",
      "log_school_index               -0.531*** (0.105) -0.531*** (0.107)\n",
      "log_cultural_space_index       1.485*** (0.100)  1.485*** (0.111) \n",
      "log_income                     -0.562*** (0.063) -0.562*** (0.067)\n",
      "log_mean_age                   -0.470** (0.199)  -0.470** (0.224) \n",
      "immigrant_prop                 -0.511*** (0.152) -0.511*** (0.153)\n",
      "education_prop                 0.725*** (0.177)  0.725*** (0.195) \n",
      "Constant                       4.230*** (0.760)  4.230*** (0.849) \n",
      "------------------------------------------------------------------\n",
      "Observations                          989               989       \n",
      "R2                                   0.514             0.514      \n",
      "Adjusted R2                          0.510             0.510      \n",
      "Residual Std. Error (df = 980)       0.572             0.572      \n",
      "F Statistic (df = 8; 980)         129.344***        129.344***    \n",
      "==================================================================\n",
      "Note:                                  *p<0.1; **p<0.05; ***p<0.01\n"
     ]
    },
    {
     "name": "stderr",
     "output_type": "stream",
     "text": [
      "Warning message in tidy.numeric(vif(reg_log1)):\n",
      "\"'tidy.numeric' is deprecated.\n",
      "See help(\"Deprecated\")\"\n"
     ]
    },
    {
     "data": {
      "text/html": [
       "<table class=\"dataframe\">\n",
       "<caption>A tibble: 8 × 2</caption>\n",
       "<thead>\n",
       "\t<tr><th scope=col>names</th><th scope=col>x</th></tr>\n",
       "\t<tr><th scope=col>&lt;chr&gt;</th><th scope=col>&lt;dbl&gt;</th></tr>\n",
       "</thead>\n",
       "<tbody>\n",
       "\t<tr><td>log_light_count         </td><td>1.163506</td></tr>\n",
       "\t<tr><td>log_mean_land_value     </td><td>1.082033</td></tr>\n",
       "\t<tr><td>log_school_index        </td><td>1.602743</td></tr>\n",
       "\t<tr><td>log_cultural_space_index</td><td>2.450723</td></tr>\n",
       "\t<tr><td>log_income              </td><td>1.536810</td></tr>\n",
       "\t<tr><td>log_mean_age            </td><td>1.112653</td></tr>\n",
       "\t<tr><td>immigrant_prop          </td><td>1.570767</td></tr>\n",
       "\t<tr><td>education_prop          </td><td>1.717184</td></tr>\n",
       "</tbody>\n",
       "</table>\n"
      ],
      "text/latex": [
       "A tibble: 8 × 2\n",
       "\\begin{tabular}{ll}\n",
       " names & x\\\\\n",
       " <chr> & <dbl>\\\\\n",
       "\\hline\n",
       "\t log\\_light\\_count          & 1.163506\\\\\n",
       "\t log\\_mean\\_land\\_value      & 1.082033\\\\\n",
       "\t log\\_school\\_index         & 1.602743\\\\\n",
       "\t log\\_cultural\\_space\\_index & 2.450723\\\\\n",
       "\t log\\_income               & 1.536810\\\\\n",
       "\t log\\_mean\\_age             & 1.112653\\\\\n",
       "\t immigrant\\_prop           & 1.570767\\\\\n",
       "\t education\\_prop           & 1.717184\\\\\n",
       "\\end{tabular}\n"
      ],
      "text/markdown": [
       "\n",
       "A tibble: 8 × 2\n",
       "\n",
       "| names &lt;chr&gt; | x &lt;dbl&gt; |\n",
       "|---|---|\n",
       "| log_light_count          | 1.163506 |\n",
       "| log_mean_land_value      | 1.082033 |\n",
       "| log_school_index         | 1.602743 |\n",
       "| log_cultural_space_index | 2.450723 |\n",
       "| log_income               | 1.536810 |\n",
       "| log_mean_age             | 1.112653 |\n",
       "| immigrant_prop           | 1.570767 |\n",
       "| education_prop           | 1.717184 |\n",
       "\n"
      ],
      "text/plain": [
       "  names                    x       \n",
       "1 log_light_count          1.163506\n",
       "2 log_mean_land_value      1.082033\n",
       "3 log_school_index         1.602743\n",
       "4 log_cultural_space_index 2.450723\n",
       "5 log_income               1.536810\n",
       "6 log_mean_age             1.112653\n",
       "7 immigrant_prop           1.570767\n",
       "8 education_prop           1.717184"
      ]
     },
     "metadata": {},
     "output_type": "display_data"
    }
   ],
   "source": [
    "# Add control variables\n",
    "reg_log1 <- lm(log_crime_rate ~ log_light_count+ log_mean_land_value + log_school_index + log_cultural_space_index\n",
    "               + log_income + log_mean_age + immigrant_prop + education_prop, \n",
    "              data = census_index_crime_log)\n",
    "\n",
    "white_test <- bptest(reg_log1, ~ fitted(reg_log1) + I(fitted(reg_log1)^2), data = census_index_crime_log)\n",
    "print(white_test)  \n",
    "\n",
    "robust_se1 <- sqrt(diag(vcovHC(reg_log1, type = \"HC1\")))\n",
    "\n",
    "stargazer(reg_log1, reg_log1, type = \"text\", \n",
    "        title = \"Log-Log Regression Results with Robust Standard Errors\", \n",
    "        dep.var.labels = c(\"Log Crime Rate\"), \n",
    "        column.labels = c(\"SE\", \"RSE\"),\n",
    "        se = list(NULL, robust_se1),\n",
    "        single.row=TRUE)\n",
    "\n",
    "vif(reg_log1)|>tidy()"
   ]
  },
  {
   "cell_type": "markdown",
   "metadata": {},
   "source": [
    "We decide to add a dummy control variable, \"containing insite\" to capture this regional characteristic"
   ]
  },
  {
   "cell_type": "code",
   "execution_count": 17,
   "metadata": {
    "vscode": {
     "languageId": "r"
    }
   },
   "outputs": [
    {
     "data": {
      "text/html": [
       "<style>\n",
       ".list-inline {list-style: none; margin:0; padding: 0}\n",
       ".list-inline>li {display: inline-block}\n",
       ".list-inline>li:not(:last-child)::after {content: \"\\00b7\"; padding: 0 .5ex}\n",
       "</style>\n",
       "<ol class=list-inline><li>0</li><li>0</li><li>0</li><li>0</li><li>0</li><li>0</li></ol>\n"
      ],
      "text/latex": [
       "\\begin{enumerate*}\n",
       "\\item 0\n",
       "\\item 0\n",
       "\\item 0\n",
       "\\item 0\n",
       "\\item 0\n",
       "\\item 0\n",
       "\\end{enumerate*}\n"
      ],
      "text/markdown": [
       "1. 0\n",
       "2. 0\n",
       "3. 0\n",
       "4. 0\n",
       "5. 0\n",
       "6. 0\n",
       "\n",
       "\n"
      ],
      "text/plain": [
       "[1] 0 0 0 0 0 0"
      ]
     },
     "metadata": {},
     "output_type": "display_data"
    }
   ],
   "source": [
    "# Add insite dummy\n",
    "insite_df <- data.frame(\n",
    "  id = 1:3,\n",
    "  lon = c(-123.10129, -123.10555, -123.12074), \n",
    "  lat = c(49.28160, 49.28302, 49.27544)          \n",
    ") # Source: Google Map\n",
    "\n",
    "insite_sf <- st_as_sf(insite_df, coords = c(\"lon\", \"lat\"), crs = 4326)\n",
    "\n",
    "if (st_crs(census_index_crime_log) != st_crs(insite_sf)) {\n",
    "  insite_sf <- st_transform(insite_sf, st_crs(census_index_crime_log))\n",
    "}\n",
    "\n",
    "valid_geometries <- st_is_valid(census_index_crime_log)\n",
    "\n",
    "if (!all(valid_geometries)) {\n",
    "  invalid_indices <- which(!valid_geometries)\n",
    "  invalid_reasons <- st_is_valid(census_index_crime_log[invalid_indices, ], reason = TRUE)\n",
    "  cat(\"Invalid geometries found. Reasons:\\n\")\n",
    "  print(invalid_reasons)\n",
    "\n",
    "  census_index_crime_log_st <- st_make_valid(census_index_crime_log_st)\n",
    "\n",
    "  valid_geometries <- st_is_valid(census_index_crime_log_st)\n",
    "  \n",
    "  if (!all(valid_geometries)) {\n",
    "    census_index_crime_log <- st_buffer(census_index_crime_log, dist = 0)\n",
    "    valid_geometries <- st_is_valid(census_index_crime_log)\n",
    "    \n",
    "    if (!all(valid_geometries)) {\n",
    "      stop(\"Some geometries are still invalid after attempting to fix them.\")\n",
    "    }\n",
    "  }\n",
    "}\n",
    "\n",
    "contains_result <- st_contains(census_index_crime_log, insite_sf, sparse = FALSE)\n",
    "\n",
    "census_index_crime_log$insite_dummy <- as.integer(apply(contains_result, 1, any))\n",
    "\n",
    "head(census_index_crime_log$insite_dummy)"
   ]
  },
  {
   "cell_type": "code",
   "execution_count": 18,
   "metadata": {
    "vscode": {
     "languageId": "r"
    }
   },
   "outputs": [
    {
     "name": "stdout",
     "output_type": "stream",
     "text": [
      "\n",
      "\tstudentized Breusch-Pagan test\n",
      "\n",
      "data:  reg_log2\n",
      "BP = 5.404, df = 2, p-value = 0.06707\n",
      "\n",
      "\n",
      "Log-Log Regression Results with Robust Standard Errors\n",
      "==================================================================\n",
      "                                       Dependent variable:        \n",
      "                               -----------------------------------\n",
      "                                         Log Crime Rate           \n",
      "                                      SE                RSE       \n",
      "                                      (1)               (2)       \n",
      "------------------------------------------------------------------\n",
      "log_light_count                0.514*** (0.030)  0.514*** (0.037) \n",
      "log_mean_land_value            0.095*** (0.027)  0.095*** (0.036) \n",
      "log_school_index               -0.516*** (0.105) -0.516*** (0.107)\n",
      "log_cultural_space_index       1.465*** (0.100)  1.465*** (0.111) \n",
      "log_income                     -0.557*** (0.063) -0.557*** (0.067)\n",
      "log_mean_age                   -0.495** (0.198)  -0.495** (0.224) \n",
      "immigrant_prop                 -0.495*** (0.152) -0.495*** (0.153)\n",
      "education_prop                 0.750*** (0.177)  0.750*** (0.195) \n",
      "insite_dummy                    0.859** (0.334)  0.859*** (0.136) \n",
      "Constant                       4.332*** (0.759)  4.332*** (0.848) \n",
      "------------------------------------------------------------------\n",
      "Observations                          989               989       \n",
      "R2                                   0.517             0.517      \n",
      "Adjusted R2                          0.512             0.512      \n",
      "Residual Std. Error (df = 979)       0.570             0.570      \n",
      "F Statistic (df = 9; 979)         116.360***        116.360***    \n",
      "==================================================================\n",
      "Note:                                  *p<0.1; **p<0.05; ***p<0.01\n"
     ]
    },
    {
     "name": "stderr",
     "output_type": "stream",
     "text": [
      "Warning message in tidy.numeric(vif(reg_log2)):\n",
      "\"'tidy.numeric' is deprecated.\n",
      "See help(\"Deprecated\")\"\n"
     ]
    },
    {
     "data": {
      "text/html": [
       "<table class=\"dataframe\">\n",
       "<caption>A tibble: 9 × 2</caption>\n",
       "<thead>\n",
       "\t<tr><th scope=col>names</th><th scope=col>x</th></tr>\n",
       "\t<tr><th scope=col>&lt;chr&gt;</th><th scope=col>&lt;dbl&gt;</th></tr>\n",
       "</thead>\n",
       "<tbody>\n",
       "\t<tr><td>log_light_count         </td><td>1.170004</td></tr>\n",
       "\t<tr><td>log_mean_land_value     </td><td>1.083316</td></tr>\n",
       "\t<tr><td>log_school_index        </td><td>1.608088</td></tr>\n",
       "\t<tr><td>log_cultural_space_index</td><td>2.465895</td></tr>\n",
       "\t<tr><td>log_income              </td><td>1.537920</td></tr>\n",
       "\t<tr><td>log_mean_age            </td><td>1.115351</td></tr>\n",
       "\t<tr><td>immigrant_prop          </td><td>1.573405</td></tr>\n",
       "\t<tr><td>education_prop          </td><td>1.722196</td></tr>\n",
       "\t<tr><td>insite_dummy            </td><td>1.029244</td></tr>\n",
       "</tbody>\n",
       "</table>\n"
      ],
      "text/latex": [
       "A tibble: 9 × 2\n",
       "\\begin{tabular}{ll}\n",
       " names & x\\\\\n",
       " <chr> & <dbl>\\\\\n",
       "\\hline\n",
       "\t log\\_light\\_count          & 1.170004\\\\\n",
       "\t log\\_mean\\_land\\_value      & 1.083316\\\\\n",
       "\t log\\_school\\_index         & 1.608088\\\\\n",
       "\t log\\_cultural\\_space\\_index & 2.465895\\\\\n",
       "\t log\\_income               & 1.537920\\\\\n",
       "\t log\\_mean\\_age             & 1.115351\\\\\n",
       "\t immigrant\\_prop           & 1.573405\\\\\n",
       "\t education\\_prop           & 1.722196\\\\\n",
       "\t insite\\_dummy             & 1.029244\\\\\n",
       "\\end{tabular}\n"
      ],
      "text/markdown": [
       "\n",
       "A tibble: 9 × 2\n",
       "\n",
       "| names &lt;chr&gt; | x &lt;dbl&gt; |\n",
       "|---|---|\n",
       "| log_light_count          | 1.170004 |\n",
       "| log_mean_land_value      | 1.083316 |\n",
       "| log_school_index         | 1.608088 |\n",
       "| log_cultural_space_index | 2.465895 |\n",
       "| log_income               | 1.537920 |\n",
       "| log_mean_age             | 1.115351 |\n",
       "| immigrant_prop           | 1.573405 |\n",
       "| education_prop           | 1.722196 |\n",
       "| insite_dummy             | 1.029244 |\n",
       "\n"
      ],
      "text/plain": [
       "  names                    x       \n",
       "1 log_light_count          1.170004\n",
       "2 log_mean_land_value      1.083316\n",
       "3 log_school_index         1.608088\n",
       "4 log_cultural_space_index 2.465895\n",
       "5 log_income               1.537920\n",
       "6 log_mean_age             1.115351\n",
       "7 immigrant_prop           1.573405\n",
       "8 education_prop           1.722196\n",
       "9 insite_dummy             1.029244"
      ]
     },
     "metadata": {},
     "output_type": "display_data"
    }
   ],
   "source": [
    "# Adding insite to our model\n",
    "reg_log2 <- lm(log_crime_rate ~ log_light_count+ log_mean_land_value + log_school_index + log_cultural_space_index\n",
    "               + log_income + log_mean_age + immigrant_prop + education_prop + insite_dummy, \n",
    "              data = census_index_crime_log)\n",
    "\n",
    "white_test <- bptest(reg_log2, ~ fitted(reg_log2) + I(fitted(reg_log2)^2), data = census_index_crime_log)\n",
    "print(white_test)  \n",
    "\n",
    "robust_se2 <- sqrt(diag(vcovHC(reg_log2, type = \"HC1\")))\n",
    "\n",
    "stargazer(reg_log2, reg_log2, type = \"text\", \n",
    "        title = \"Log-Log Regression Results with Robust Standard Errors\", \n",
    "        column.labels = c(\"SE\",\"RSE\"),\n",
    "        dep.var.labels = c(\"Log Crime Rate\"), \n",
    "        se = list(NULL, robust_se2),\n",
    "        single.row=TRUE)\n",
    "\n",
    "vif(reg_log2)|>tidy()"
   ]
  },
  {
   "cell_type": "markdown",
   "metadata": {},
   "source": [
    "Decided to include another dummy variable indicating the region is in Downtown Vancouver."
   ]
  },
  {
   "cell_type": "code",
   "execution_count": 19,
   "metadata": {
    "vscode": {
     "languageId": "r"
    }
   },
   "outputs": [
    {
     "name": "stderr",
     "output_type": "stream",
     "text": [
      "Downloading data from CoV Open Data portal\n",
      "\n"
     ]
    },
    {
     "name": "stdout",
     "output_type": "stream",
     "text": [
      "Rows: 22\n",
      "Columns: 4\n",
      "$ name         \u001b[3m\u001b[90m<chr>\u001b[39m\u001b[23m \"Dunbar-Southlands\", \"Fairview\", \"Mount Pleasant\", \"Renfr…\n",
      "$ geom         \u001b[3m\u001b[90m<chr>\u001b[39m\u001b[23m \"{\\\"coordinates\\\": [[[-123.17016601562501, 49.24789047147…\n",
      "$ geo_point_2d \u001b[3m\u001b[90m<chr>\u001b[39m\u001b[23m \"49.23796190534427, -123.18954680338996\", \"49.26454048616…\n",
      "$ geometry     \u001b[3m\u001b[90m<POLYGON [°]>\u001b[39m\u001b[23m POLYGON ((-123.1702 49.2478..., POLYGON ((-123.14…\n"
     ]
    }
   ],
   "source": [
    "local_area_boundary <- get_cov_data(\"local-area-boundary\")|>\n",
    "    st_sf()\n",
    "\n",
    "glimpse(local_area_boundary)"
   ]
  },
  {
   "cell_type": "code",
   "execution_count": 20,
   "metadata": {
    "vscode": {
     "languageId": "r"
    }
   },
   "outputs": [
    {
     "name": "stdout",
     "output_type": "stream",
     "text": [
      "Rows: 989\n",
      "Columns: 33\n",
      "$ name                     \u001b[3m\u001b[90m<chr>\u001b[39m\u001b[23m \"59150307\", \"59150308\", \"59150309\", \"59150310…\n",
      "$ households               \u001b[3m\u001b[90m<int>\u001b[39m\u001b[23m 254, 203, 269, 283, 181, 203, 402, 170, 333, …\n",
      "$ dwellings                \u001b[3m\u001b[90m<int>\u001b[39m\u001b[23m 273, 223, 299, 310, 199, 211, 418, 181, 356, …\n",
      "$ population               \u001b[3m\u001b[90m<int>\u001b[39m\u001b[23m 632, 501, 745, 536, 532, 562, 1088, 556, 959,…\n",
      "$ population_density       \u001b[3m\u001b[90m<dbl>\u001b[39m\u001b[23m 2110.9, 4575.3, 6663.7, 4895.0, 6567.9, 6445.…\n",
      "$ region                   \u001b[3m\u001b[90m<chr>\u001b[39m\u001b[23m \"Vancouver\", \"Vancouver\", \"Vancouver\", \"Vanco…\n",
      "$ area_sq_km               \u001b[3m\u001b[90m<dbl>\u001b[39m\u001b[23m 0.29926, 0.10956, 0.11190, 0.10940, 0.08094, …\n",
      "$ age                      \u001b[3m\u001b[90m<int>\u001b[39m\u001b[23m 630, 500, 745, 540, 530, 560, 1085, 555, 960,…\n",
      "$ income                   \u001b[3m\u001b[90m<dbl>\u001b[39m\u001b[23m 0.90965, 0.93611, 0.84736, 0.45184, 0.82517, …\n",
      "$ immigrant_prop           \u001b[3m\u001b[90m<dbl>\u001b[39m\u001b[23m 0.2610759, 0.2894212, 0.3557047, 0.2891791, 0…\n",
      "$ education_prop           \u001b[3m\u001b[90m<dbl>\u001b[39m\u001b[23m 0.3085443, 0.2794411, 0.3154362, 0.1865672, 0…\n",
      "$ school_index             \u001b[3m\u001b[90m<dbl>\u001b[39m\u001b[23m 1.967207, 2.127046, 2.283703, 3.196982, 2.388…\n",
      "$ light_index              \u001b[3m\u001b[90m<dbl>\u001b[39m\u001b[23m 3.476492, 3.318048, 3.687467, 3.915391, 3.068…\n",
      "$ bus_index                \u001b[3m\u001b[90m<dbl>\u001b[39m\u001b[23m 2.182603, 2.310107, 2.631079, 4.245162, 2.604…\n",
      "$ cultural_space_index     \u001b[3m\u001b[90m<dbl>\u001b[39m\u001b[23m 2.157921, 2.214813, 2.337378, 2.244403, 2.351…\n",
      "$ crime_count              \u001b[3m\u001b[90m<int>\u001b[39m\u001b[23m 28, 16, 31, 24, 14, 13, 20, 15, 23, 12, 15, 1…\n",
      "$ crime_rate               \u001b[3m\u001b[90m<dbl>\u001b[39m\u001b[23m 443.0380, 319.3613, 416.1074, 447.7612, 263.1…\n",
      "$ mean_land_value          \u001b[3m\u001b[90m<dbl>\u001b[39m\u001b[23m 0.9556436, 1.0139412, 0.7501839, 1.1976135, 0…\n",
      "$ log_crime_rate           \u001b[3m\u001b[90m<dbl>\u001b[39m\u001b[23m 6.093655, 5.766323, 6.030943, 6.104260, 5.572…\n",
      "$ log_mean_land_value      \u001b[3m\u001b[90m<dbl>\u001b[39m\u001b[23m -0.04537024, 0.01384492, -0.28743690, 0.18033…\n",
      "$ log_school_index         \u001b[3m\u001b[90m<dbl>\u001b[39m\u001b[23m 0.6766149, 0.7547340, 0.8257981, 1.1622073, 0…\n",
      "$ log_light_index          \u001b[3m\u001b[90m<dbl>\u001b[39m\u001b[23m 1.246024, 1.199377, 1.304940, 1.364915, 1.121…\n",
      "$ log_bus_index            \u001b[3m\u001b[90m<dbl>\u001b[39m\u001b[23m 0.7805182, 0.8372938, 0.9673941, 1.4457801, 0…\n",
      "$ log_cultural_space_index \u001b[3m\u001b[90m<dbl>\u001b[39m\u001b[23m 0.7691453, 0.7951678, 0.8490300, 0.8084395, 0…\n",
      "$ log_income               \u001b[3m\u001b[90m<dbl>\u001b[39m\u001b[23m -0.094695369, -0.066022288, -0.165629645, -0.…\n",
      "$ light_count              \u001b[3m\u001b[90m<int>\u001b[39m\u001b[23m 117, 57, 81, 81, 32, 26, 50, 85, 122, 38, 78,…\n",
      "$ log_light_count          \u001b[3m\u001b[90m<dbl>\u001b[39m\u001b[23m 4.762174, 4.043051, 4.394449, 4.394449, 3.465…\n",
      "$ mean_age                 \u001b[3m\u001b[90m<dbl>\u001b[39m\u001b[23m 43.2, 42.2, 41.5, 40.2, 40.1, 41.0, 43.9, 37.…\n",
      "$ prop_working_age         \u001b[3m\u001b[90m<dbl>\u001b[39m\u001b[23m 0.622, 0.670, 0.745, 0.815, 0.710, 0.743, 0.6…\n",
      "$ geometry                 \u001b[3m\u001b[90m<MULTIPOLYGON [°]>\u001b[39m\u001b[23m MULTIPOLYGON (((-123.0233 4..., …\n",
      "$ log_mean_age             \u001b[3m\u001b[90m<dbl>\u001b[39m\u001b[23m 3.765840, 3.742420, 3.725693, 3.693867, 3.691…\n",
      "$ insite_dummy             \u001b[3m\u001b[90m<int>\u001b[39m\u001b[23m 0, 0, 0, 0, 0, 0, 0, 0, 0, 0, 0, 0, 0, 0, 0, …\n",
      "$ is_downtown              \u001b[3m\u001b[90m<int>\u001b[39m\u001b[23m 0, 0, 0, 0, 0, 0, 0, 0, 0, 0, 0, 0, 0, 0, 0, …\n"
     ]
    }
   ],
   "source": [
    "# Create a downtown dummy in our dataset\n",
    "local_area_boundary_valid <- st_make_valid(local_area_boundary)\n",
    "\n",
    "selected_areas <- local_area_boundary_valid %>%\n",
    "  filter(name %in% c(\"West End\", \"Downtown\", \"Strathcona\"))\n",
    "\n",
    "census_index_crime_log <- st_simplify(census_index_crime_log, dTolerance = 0.01)\n",
    "selected_areas <- st_simplify(selected_areas, dTolerance = 0.01)\n",
    "\n",
    "desired_crs <- st_crs(selected_areas)\n",
    "census_index_crime_log <- st_transform(census_index_crime_log, crs = desired_crs)\n",
    "\n",
    "census_index_crime_log$is_downtown <- as.integer(\n",
    "  lengths(st_intersects(census_index_crime_log, selected_areas)) > 0\n",
    ")\n",
    "\n",
    "glimpse(census_index_crime_log)"
   ]
  },
  {
   "cell_type": "code",
   "execution_count": 21,
   "metadata": {
    "vscode": {
     "languageId": "r"
    }
   },
   "outputs": [
    {
     "name": "stdout",
     "output_type": "stream",
     "text": [
      "\n",
      "\tstudentized Breusch-Pagan test\n",
      "\n",
      "data:  reg_log3\n",
      "BP = 7.2022, df = 2, p-value = 0.02729\n",
      "\n",
      "\n",
      "Log-Log Regression Results with Robust Standard Errors\n",
      "==================================================================\n",
      "                                       Dependent variable:        \n",
      "                               -----------------------------------\n",
      "                                         Log Crime Rate           \n",
      "                                      SE                RSE       \n",
      "                                      (1)               (2)       \n",
      "------------------------------------------------------------------\n",
      "log_light_count                0.527*** (0.037)  0.527*** (0.037) \n",
      "log_mean_land_value             0.093** (0.037)   0.093** (0.037) \n",
      "log_school_index               -0.340*** (0.103) -0.340*** (0.103)\n",
      "log_cultural_space_index       1.215*** (0.110)  1.215*** (0.110) \n",
      "log_income                     -0.480*** (0.069) -0.480*** (0.069)\n",
      "log_mean_age                   -0.535** (0.228)  -0.535** (0.228) \n",
      "immigrant_prop                 -0.632*** (0.151) -0.632*** (0.151)\n",
      "education_prop                 0.653*** (0.193)  0.653*** (0.193) \n",
      "is_downtown                    0.327*** (0.075)  0.327*** (0.075) \n",
      "Constant                       4.558*** (0.870)  4.558*** (0.870) \n",
      "------------------------------------------------------------------\n",
      "Observations                          989               989       \n",
      "R2                                   0.526             0.526      \n",
      "Adjusted R2                          0.521             0.521      \n",
      "Residual Std. Error (df = 979)       0.565             0.565      \n",
      "F Statistic (df = 9; 979)         120.535***        120.535***    \n",
      "==================================================================\n",
      "Note:                                  *p<0.1; **p<0.05; ***p<0.01\n"
     ]
    },
    {
     "name": "stderr",
     "output_type": "stream",
     "text": [
      "Warning message in tidy.numeric(vif(reg_log3)):\n",
      "\"'tidy.numeric' is deprecated.\n",
      "See help(\"Deprecated\")\"\n"
     ]
    },
    {
     "data": {
      "text/html": [
       "<table class=\"dataframe\">\n",
       "<caption>A tibble: 9 × 2</caption>\n",
       "<thead>\n",
       "\t<tr><th scope=col>names</th><th scope=col>x</th></tr>\n",
       "\t<tr><th scope=col>&lt;chr&gt;</th><th scope=col>&lt;dbl&gt;</th></tr>\n",
       "</thead>\n",
       "<tbody>\n",
       "\t<tr><td>log_light_count         </td><td>1.165912</td></tr>\n",
       "\t<tr><td>log_mean_land_value     </td><td>1.082058</td></tr>\n",
       "\t<tr><td>log_school_index        </td><td>1.820609</td></tr>\n",
       "\t<tr><td>log_cultural_space_index</td><td>3.183301</td></tr>\n",
       "\t<tr><td>log_income              </td><td>1.644201</td></tr>\n",
       "\t<tr><td>log_mean_age            </td><td>1.117524</td></tr>\n",
       "\t<tr><td>immigrant_prop          </td><td>1.611855</td></tr>\n",
       "\t<tr><td>education_prop          </td><td>1.728957</td></tr>\n",
       "\t<tr><td>is_downtown             </td><td>1.749355</td></tr>\n",
       "</tbody>\n",
       "</table>\n"
      ],
      "text/latex": [
       "A tibble: 9 × 2\n",
       "\\begin{tabular}{ll}\n",
       " names & x\\\\\n",
       " <chr> & <dbl>\\\\\n",
       "\\hline\n",
       "\t log\\_light\\_count          & 1.165912\\\\\n",
       "\t log\\_mean\\_land\\_value      & 1.082058\\\\\n",
       "\t log\\_school\\_index         & 1.820609\\\\\n",
       "\t log\\_cultural\\_space\\_index & 3.183301\\\\\n",
       "\t log\\_income               & 1.644201\\\\\n",
       "\t log\\_mean\\_age             & 1.117524\\\\\n",
       "\t immigrant\\_prop           & 1.611855\\\\\n",
       "\t education\\_prop           & 1.728957\\\\\n",
       "\t is\\_downtown              & 1.749355\\\\\n",
       "\\end{tabular}\n"
      ],
      "text/markdown": [
       "\n",
       "A tibble: 9 × 2\n",
       "\n",
       "| names &lt;chr&gt; | x &lt;dbl&gt; |\n",
       "|---|---|\n",
       "| log_light_count          | 1.165912 |\n",
       "| log_mean_land_value      | 1.082058 |\n",
       "| log_school_index         | 1.820609 |\n",
       "| log_cultural_space_index | 3.183301 |\n",
       "| log_income               | 1.644201 |\n",
       "| log_mean_age             | 1.117524 |\n",
       "| immigrant_prop           | 1.611855 |\n",
       "| education_prop           | 1.728957 |\n",
       "| is_downtown              | 1.749355 |\n",
       "\n"
      ],
      "text/plain": [
       "  names                    x       \n",
       "1 log_light_count          1.165912\n",
       "2 log_mean_land_value      1.082058\n",
       "3 log_school_index         1.820609\n",
       "4 log_cultural_space_index 3.183301\n",
       "5 log_income               1.644201\n",
       "6 log_mean_age             1.117524\n",
       "7 immigrant_prop           1.611855\n",
       "8 education_prop           1.728957\n",
       "9 is_downtown              1.749355"
      ]
     },
     "metadata": {},
     "output_type": "display_data"
    }
   ],
   "source": [
    "reg_log3 <- lm(log_crime_rate ~ log_light_count+ log_mean_land_value + log_school_index + log_cultural_space_index\n",
    "               + log_income + log_mean_age + immigrant_prop + education_prop + is_downtown, \n",
    "              data = census_index_crime_log)\n",
    "\n",
    "white_test <- bptest(reg_log3, ~ fitted(reg_log3) + I(fitted(reg_log3)^2), data = census_index_crime_log)\n",
    "print(white_test)  \n",
    "\n",
    "robust_se3 <- sqrt(diag(vcovHC(reg_log3, type = \"HC1\")))\n",
    "\n",
    "stargazer(reg_log3, reg_log3, type = \"text\", \n",
    "        title = \"Log-Log Regression Results with Robust Standard Errors\", \n",
    "        dep.var.labels = c(\"Log Crime Rate\"), \n",
    "        column.labels = c(\"SE\", \"RSE\"),\n",
    "        se = list(robust_se3, robust_se3),\n",
    "        single.row=TRUE)\n",
    "\n",
    "vif(reg_log3)|>tidy()"
   ]
  },
  {
   "cell_type": "markdown",
   "metadata": {},
   "source": [
    "We try by creating interaction between our downtown dummy and log (light count)"
   ]
  },
  {
   "cell_type": "code",
   "execution_count": 22,
   "metadata": {
    "vscode": {
     "languageId": "r"
    }
   },
   "outputs": [
    {
     "name": "stdout",
     "output_type": "stream",
     "text": [
      "\n",
      "\tstudentized Breusch-Pagan test\n",
      "\n",
      "data:  reg_log_interaction\n",
      "BP = 6.7251, df = 2, p-value = 0.03465\n",
      "\n",
      "\n",
      "Log-Log Regression Results with Robust Standard Errors\n",
      "==================================================================\n",
      "                                       Dependent variable:        \n",
      "                               -----------------------------------\n",
      "                                         Log Crime Rate           \n",
      "                                      SE                RSE       \n",
      "                                      (1)               (2)       \n",
      "------------------------------------------------------------------\n",
      "log_light_count                0.486*** (0.030)  0.486*** (0.038) \n",
      "log_mean_land_value            0.101*** (0.027)  0.101*** (0.037) \n",
      "log_school_index               -0.322*** (0.110) -0.322*** (0.104)\n",
      "log_cultural_space_index       1.189*** (0.112)  1.189*** (0.112) \n",
      "log_income                     -0.462*** (0.064) -0.462*** (0.071)\n",
      "log_mean_age                   -0.527*** (0.196) -0.527** (0.226) \n",
      "immigrant_prop                 -0.614*** (0.151) -0.614*** (0.151)\n",
      "education_prop                 0.638*** (0.175)  0.638*** (0.193) \n",
      "log_light_count:is_downtown    0.096*** (0.017)  0.096*** (0.021) \n",
      "Constant                       4.689*** (0.754)  4.689*** (0.871) \n",
      "------------------------------------------------------------------\n",
      "Observations                          989               989       \n",
      "R2                                   0.528             0.528      \n",
      "Adjusted R2                          0.524             0.524      \n",
      "Residual Std. Error (df = 979)       0.563             0.563      \n",
      "F Statistic (df = 9; 979)         121.777***        121.777***    \n",
      "==================================================================\n",
      "Note:                                  *p<0.1; **p<0.05; ***p<0.01\n"
     ]
    },
    {
     "name": "stderr",
     "output_type": "stream",
     "text": [
      "there are higher-order terms (interactions) in this model\n",
      "consider setting type = 'predictor'; see ?vif\n",
      "\n",
      "Warning message in tidy.numeric(vif(reg_log_interaction)):\n",
      "\"'tidy.numeric' is deprecated.\n",
      "See help(\"Deprecated\")\"\n"
     ]
    },
    {
     "data": {
      "text/html": [
       "<table class=\"dataframe\">\n",
       "<caption>A tibble: 9 × 2</caption>\n",
       "<thead>\n",
       "\t<tr><th scope=col>names</th><th scope=col>x</th></tr>\n",
       "\t<tr><th scope=col>&lt;chr&gt;</th><th scope=col>&lt;dbl&gt;</th></tr>\n",
       "</thead>\n",
       "<tbody>\n",
       "\t<tr><td>log_light_count            </td><td>1.212134</td></tr>\n",
       "\t<tr><td>log_mean_land_value        </td><td>1.085564</td></tr>\n",
       "\t<tr><td>log_school_index           </td><td>1.817760</td></tr>\n",
       "\t<tr><td>log_cultural_space_index   </td><td>3.178756</td></tr>\n",
       "\t<tr><td>log_income                 </td><td>1.667094</td></tr>\n",
       "\t<tr><td>log_mean_age               </td><td>1.115782</td></tr>\n",
       "\t<tr><td>immigrant_prop             </td><td>1.595344</td></tr>\n",
       "\t<tr><td>education_prop             </td><td>1.731366</td></tr>\n",
       "\t<tr><td>log_light_count:is_downtown</td><td>1.759214</td></tr>\n",
       "</tbody>\n",
       "</table>\n"
      ],
      "text/latex": [
       "A tibble: 9 × 2\n",
       "\\begin{tabular}{ll}\n",
       " names & x\\\\\n",
       " <chr> & <dbl>\\\\\n",
       "\\hline\n",
       "\t log\\_light\\_count             & 1.212134\\\\\n",
       "\t log\\_mean\\_land\\_value         & 1.085564\\\\\n",
       "\t log\\_school\\_index            & 1.817760\\\\\n",
       "\t log\\_cultural\\_space\\_index    & 3.178756\\\\\n",
       "\t log\\_income                  & 1.667094\\\\\n",
       "\t log\\_mean\\_age                & 1.115782\\\\\n",
       "\t immigrant\\_prop              & 1.595344\\\\\n",
       "\t education\\_prop              & 1.731366\\\\\n",
       "\t log\\_light\\_count:is\\_downtown & 1.759214\\\\\n",
       "\\end{tabular}\n"
      ],
      "text/markdown": [
       "\n",
       "A tibble: 9 × 2\n",
       "\n",
       "| names &lt;chr&gt; | x &lt;dbl&gt; |\n",
       "|---|---|\n",
       "| log_light_count             | 1.212134 |\n",
       "| log_mean_land_value         | 1.085564 |\n",
       "| log_school_index            | 1.817760 |\n",
       "| log_cultural_space_index    | 3.178756 |\n",
       "| log_income                  | 1.667094 |\n",
       "| log_mean_age                | 1.115782 |\n",
       "| immigrant_prop              | 1.595344 |\n",
       "| education_prop              | 1.731366 |\n",
       "| log_light_count:is_downtown | 1.759214 |\n",
       "\n"
      ],
      "text/plain": [
       "  names                       x       \n",
       "1 log_light_count             1.212134\n",
       "2 log_mean_land_value         1.085564\n",
       "3 log_school_index            1.817760\n",
       "4 log_cultural_space_index    3.178756\n",
       "5 log_income                  1.667094\n",
       "6 log_mean_age                1.115782\n",
       "7 immigrant_prop              1.595344\n",
       "8 education_prop              1.731366\n",
       "9 log_light_count:is_downtown 1.759214"
      ]
     },
     "metadata": {},
     "output_type": "display_data"
    }
   ],
   "source": [
    "reg_log_interaction <- lm(log_crime_rate ~ log_light_count+ log_mean_land_value + log_school_index + log_cultural_space_index\n",
    "               + log_income + log_mean_age + immigrant_prop + education_prop + is_downtown:log_light_count, \n",
    "              data = census_index_crime_log)\n",
    "\n",
    "white_test <- bptest(reg_log_interaction, ~ fitted(reg_log_interaction) + I(fitted(reg_log_interaction)^2), data = census_index_crime_log)\n",
    "print(white_test)  \n",
    "\n",
    "robust_se_interaction <- sqrt(diag(vcovHC(reg_log_interaction, type = \"HC1\")))\n",
    "\n",
    "stargazer(reg_log_interaction, reg_log_interaction, type = \"text\", \n",
    "        title = \"Log-Log Regression Results with Robust Standard Errors\", \n",
    "        dep.var.labels = c(\"Log Crime Rate\"), \n",
    "        column.labels = c(\"SE\", \"RSE\"),\n",
    "        se = list(NULL, robust_se_interaction),\n",
    "        single.row=TRUE)\n",
    "\n",
    "vif(reg_log_interaction)|>tidy()"
   ]
  },
  {
   "cell_type": "markdown",
   "metadata": {},
   "source": [
    "We decide to move on with \"Is Downtown\" dummy, then we seek to add more control to improve our model. We begin by adding population density."
   ]
  },
  {
   "cell_type": "code",
   "execution_count": 23,
   "metadata": {
    "vscode": {
     "languageId": "r"
    }
   },
   "outputs": [
    {
     "name": "stdout",
     "output_type": "stream",
     "text": [
      "Rows: 989\n",
      "Columns: 34\n",
      "$ name                     \u001b[3m\u001b[90m<chr>\u001b[39m\u001b[23m \"59150307\", \"59150308\", \"59150309\", \"59150310…\n",
      "$ households               \u001b[3m\u001b[90m<int>\u001b[39m\u001b[23m 254, 203, 269, 283, 181, 203, 402, 170, 333, …\n",
      "$ dwellings                \u001b[3m\u001b[90m<int>\u001b[39m\u001b[23m 273, 223, 299, 310, 199, 211, 418, 181, 356, …\n",
      "$ population               \u001b[3m\u001b[90m<int>\u001b[39m\u001b[23m 632, 501, 745, 536, 532, 562, 1088, 556, 959,…\n",
      "$ population_density       \u001b[3m\u001b[90m<dbl>\u001b[39m\u001b[23m 2110.9, 4575.3, 6663.7, 4895.0, 6567.9, 6445.…\n",
      "$ region                   \u001b[3m\u001b[90m<chr>\u001b[39m\u001b[23m \"Vancouver\", \"Vancouver\", \"Vancouver\", \"Vanco…\n",
      "$ area_sq_km               \u001b[3m\u001b[90m<dbl>\u001b[39m\u001b[23m 0.29926, 0.10956, 0.11190, 0.10940, 0.08094, …\n",
      "$ age                      \u001b[3m\u001b[90m<int>\u001b[39m\u001b[23m 630, 500, 745, 540, 530, 560, 1085, 555, 960,…\n",
      "$ income                   \u001b[3m\u001b[90m<dbl>\u001b[39m\u001b[23m 0.90965, 0.93611, 0.84736, 0.45184, 0.82517, …\n",
      "$ immigrant_prop           \u001b[3m\u001b[90m<dbl>\u001b[39m\u001b[23m 0.2610759, 0.2894212, 0.3557047, 0.2891791, 0…\n",
      "$ education_prop           \u001b[3m\u001b[90m<dbl>\u001b[39m\u001b[23m 0.3085443, 0.2794411, 0.3154362, 0.1865672, 0…\n",
      "$ school_index             \u001b[3m\u001b[90m<dbl>\u001b[39m\u001b[23m 1.967207, 2.127046, 2.283703, 3.196982, 2.388…\n",
      "$ light_index              \u001b[3m\u001b[90m<dbl>\u001b[39m\u001b[23m 3.476492, 3.318048, 3.687467, 3.915391, 3.068…\n",
      "$ bus_index                \u001b[3m\u001b[90m<dbl>\u001b[39m\u001b[23m 2.182603, 2.310107, 2.631079, 4.245162, 2.604…\n",
      "$ cultural_space_index     \u001b[3m\u001b[90m<dbl>\u001b[39m\u001b[23m 2.157921, 2.214813, 2.337378, 2.244403, 2.351…\n",
      "$ crime_count              \u001b[3m\u001b[90m<int>\u001b[39m\u001b[23m 28, 16, 31, 24, 14, 13, 20, 15, 23, 12, 15, 1…\n",
      "$ crime_rate               \u001b[3m\u001b[90m<dbl>\u001b[39m\u001b[23m 443.0380, 319.3613, 416.1074, 447.7612, 263.1…\n",
      "$ mean_land_value          \u001b[3m\u001b[90m<dbl>\u001b[39m\u001b[23m 0.9556436, 1.0139412, 0.7501839, 1.1976135, 0…\n",
      "$ log_crime_rate           \u001b[3m\u001b[90m<dbl>\u001b[39m\u001b[23m 6.093655, 5.766323, 6.030943, 6.104260, 5.572…\n",
      "$ log_mean_land_value      \u001b[3m\u001b[90m<dbl>\u001b[39m\u001b[23m -0.04537024, 0.01384492, -0.28743690, 0.18033…\n",
      "$ log_school_index         \u001b[3m\u001b[90m<dbl>\u001b[39m\u001b[23m 0.6766149, 0.7547340, 0.8257981, 1.1622073, 0…\n",
      "$ log_light_index          \u001b[3m\u001b[90m<dbl>\u001b[39m\u001b[23m 1.246024, 1.199377, 1.304940, 1.364915, 1.121…\n",
      "$ log_bus_index            \u001b[3m\u001b[90m<dbl>\u001b[39m\u001b[23m 0.7805182, 0.8372938, 0.9673941, 1.4457801, 0…\n",
      "$ log_cultural_space_index \u001b[3m\u001b[90m<dbl>\u001b[39m\u001b[23m 0.7691453, 0.7951678, 0.8490300, 0.8084395, 0…\n",
      "$ log_income               \u001b[3m\u001b[90m<dbl>\u001b[39m\u001b[23m -0.094695369, -0.066022288, -0.165629645, -0.…\n",
      "$ light_count              \u001b[3m\u001b[90m<int>\u001b[39m\u001b[23m 117, 57, 81, 81, 32, 26, 50, 85, 122, 38, 78,…\n",
      "$ log_light_count          \u001b[3m\u001b[90m<dbl>\u001b[39m\u001b[23m 4.762174, 4.043051, 4.394449, 4.394449, 3.465…\n",
      "$ mean_age                 \u001b[3m\u001b[90m<dbl>\u001b[39m\u001b[23m 43.2, 42.2, 41.5, 40.2, 40.1, 41.0, 43.9, 37.…\n",
      "$ prop_working_age         \u001b[3m\u001b[90m<dbl>\u001b[39m\u001b[23m 0.622, 0.670, 0.745, 0.815, 0.710, 0.743, 0.6…\n",
      "$ geometry                 \u001b[3m\u001b[90m<MULTIPOLYGON [°]>\u001b[39m\u001b[23m MULTIPOLYGON (((-123.0233 4..., …\n",
      "$ log_mean_age             \u001b[3m\u001b[90m<dbl>\u001b[39m\u001b[23m 3.765840, 3.742420, 3.725693, 3.693867, 3.691…\n",
      "$ insite_dummy             \u001b[3m\u001b[90m<int>\u001b[39m\u001b[23m 0, 0, 0, 0, 0, 0, 0, 0, 0, 0, 0, 0, 0, 0, 0, …\n",
      "$ is_downtown              \u001b[3m\u001b[90m<int>\u001b[39m\u001b[23m 0, 0, 0, 0, 0, 0, 0, 0, 0, 0, 0, 0, 0, 0, 0, …\n",
      "$ log_population_density   \u001b[3m\u001b[90m<dbl>\u001b[39m\u001b[23m 7.654870, 8.428428, 8.804430, 8.495970, 8.789…\n"
     ]
    }
   ],
   "source": [
    "census_index_crime_log <- census_index_crime_log|>\n",
    "    mutate(log_population_density = log(ifelse(population_density == 0, 0.01, population_density)))|>\n",
    "    glimpse()"
   ]
  },
  {
   "cell_type": "code",
   "execution_count": 24,
   "metadata": {
    "vscode": {
     "languageId": "r"
    }
   },
   "outputs": [
    {
     "name": "stdout",
     "output_type": "stream",
     "text": [
      "\n",
      "\tstudentized Breusch-Pagan test\n",
      "\n",
      "data:  reg_log4\n",
      "BP = 11.784, df = 2, p-value = 0.002761\n",
      "\n",
      "\n",
      "Log-Log Regression Results with Robust Standard Errors\n",
      "==================================================================\n",
      "                                       Dependent variable:        \n",
      "                               -----------------------------------\n",
      "                                         Log Crime Rate           \n",
      "                                      SE                RSE       \n",
      "                                      (1)               (2)       \n",
      "------------------------------------------------------------------\n",
      "log_light_count                0.393*** (0.039)  0.393*** (0.044) \n",
      "log_mean_land_value              0.021 (0.031)     0.021 (0.043)  \n",
      "log_school_index               -0.612*** (0.105) -0.612*** (0.108)\n",
      "log_cultural_space_index       1.651*** (0.104)  1.651*** (0.113) \n",
      "log_income                     -0.681*** (0.066) -0.681*** (0.077)\n",
      "log_mean_age                   -0.594*** (0.198) -0.594*** (0.223)\n",
      "log_population_density         -0.202*** (0.040) -0.202*** (0.051)\n",
      "immigrant_prop                 -0.362** (0.153)  -0.362** (0.157) \n",
      "education_prop                 0.911*** (0.179)  0.911*** (0.204) \n",
      "Constant                       6.746*** (0.903)  6.746*** (1.007) \n",
      "------------------------------------------------------------------\n",
      "Observations                          989               989       \n",
      "R2                                   0.526             0.526      \n",
      "Adjusted R2                          0.521             0.521      \n",
      "Residual Std. Error (df = 979)       0.565             0.565      \n",
      "F Statistic (df = 9; 979)         120.623***        120.623***    \n",
      "==================================================================\n",
      "Note:                                  *p<0.1; **p<0.05; ***p<0.01\n"
     ]
    },
    {
     "name": "stderr",
     "output_type": "stream",
     "text": [
      "Warning message in tidy.numeric(vif(reg_log4)):\n",
      "\"'tidy.numeric' is deprecated.\n",
      "See help(\"Deprecated\")\"\n"
     ]
    },
    {
     "data": {
      "text/html": [
       "<table class=\"dataframe\">\n",
       "<caption>A tibble: 9 × 2</caption>\n",
       "<thead>\n",
       "\t<tr><th scope=col>names</th><th scope=col>x</th></tr>\n",
       "\t<tr><th scope=col>&lt;chr&gt;</th><th scope=col>&lt;dbl&gt;</th></tr>\n",
       "</thead>\n",
       "<tbody>\n",
       "\t<tr><td>log_light_count         </td><td>1.999435</td></tr>\n",
       "\t<tr><td>log_mean_land_value     </td><td>1.384732</td></tr>\n",
       "\t<tr><td>log_school_index        </td><td>1.641668</td></tr>\n",
       "\t<tr><td>log_cultural_space_index</td><td>2.724590</td></tr>\n",
       "\t<tr><td>log_income              </td><td>1.760792</td></tr>\n",
       "\t<tr><td>log_mean_age            </td><td>1.130172</td></tr>\n",
       "\t<tr><td>log_population_density  </td><td>3.167249</td></tr>\n",
       "\t<tr><td>immigrant_prop          </td><td>1.631566</td></tr>\n",
       "\t<tr><td>education_prop          </td><td>1.794013</td></tr>\n",
       "</tbody>\n",
       "</table>\n"
      ],
      "text/latex": [
       "A tibble: 9 × 2\n",
       "\\begin{tabular}{ll}\n",
       " names & x\\\\\n",
       " <chr> & <dbl>\\\\\n",
       "\\hline\n",
       "\t log\\_light\\_count          & 1.999435\\\\\n",
       "\t log\\_mean\\_land\\_value      & 1.384732\\\\\n",
       "\t log\\_school\\_index         & 1.641668\\\\\n",
       "\t log\\_cultural\\_space\\_index & 2.724590\\\\\n",
       "\t log\\_income               & 1.760792\\\\\n",
       "\t log\\_mean\\_age             & 1.130172\\\\\n",
       "\t log\\_population\\_density   & 3.167249\\\\\n",
       "\t immigrant\\_prop           & 1.631566\\\\\n",
       "\t education\\_prop           & 1.794013\\\\\n",
       "\\end{tabular}\n"
      ],
      "text/markdown": [
       "\n",
       "A tibble: 9 × 2\n",
       "\n",
       "| names &lt;chr&gt; | x &lt;dbl&gt; |\n",
       "|---|---|\n",
       "| log_light_count          | 1.999435 |\n",
       "| log_mean_land_value      | 1.384732 |\n",
       "| log_school_index         | 1.641668 |\n",
       "| log_cultural_space_index | 2.724590 |\n",
       "| log_income               | 1.760792 |\n",
       "| log_mean_age             | 1.130172 |\n",
       "| log_population_density   | 3.167249 |\n",
       "| immigrant_prop           | 1.631566 |\n",
       "| education_prop           | 1.794013 |\n",
       "\n"
      ],
      "text/plain": [
       "  names                    x       \n",
       "1 log_light_count          1.999435\n",
       "2 log_mean_land_value      1.384732\n",
       "3 log_school_index         1.641668\n",
       "4 log_cultural_space_index 2.724590\n",
       "5 log_income               1.760792\n",
       "6 log_mean_age             1.130172\n",
       "7 log_population_density   3.167249\n",
       "8 immigrant_prop           1.631566\n",
       "9 education_prop           1.794013"
      ]
     },
     "metadata": {},
     "output_type": "display_data"
    }
   ],
   "source": [
    "reg_log4 <- lm(log_crime_rate ~ log_light_count+ log_mean_land_value + log_school_index + log_cultural_space_index\n",
    "               + log_income  + log_mean_age + log_population_density + immigrant_prop + education_prop, \n",
    "              data = census_index_crime_log)\n",
    "\n",
    "white_test <- bptest(reg_log4, ~ fitted(reg_log4) + I(fitted(reg_log4)^2), data = census_index_crime_log)\n",
    "print(white_test)  \n",
    "\n",
    "robust_se4 <- sqrt(diag(vcovHC(reg_log4, type = \"HC1\")))\n",
    "\n",
    "stargazer(reg_log4, reg_log4, type = \"text\", \n",
    "        title = \"Log-Log Regression Results with Robust Standard Errors\", \n",
    "        dep.var.labels = c(\"Log Crime Rate\"), \n",
    "        column.labels = c(\"SE\", \"RSE\"),\n",
    "        se = list(NULL, robust_se4),\n",
    "        single.row=TRUE)\n",
    "\n",
    "vif(reg_log4)|>tidy()"
   ]
  },
  {
   "cell_type": "code",
   "execution_count": 25,
   "metadata": {
    "vscode": {
     "languageId": "r"
    }
   },
   "outputs": [
    {
     "name": "stdout",
     "output_type": "stream",
     "text": [
      "\n",
      "\tstudentized Breusch-Pagan test\n",
      "\n",
      "data:  reg_log5\n",
      "BP = 11.814, df = 2, p-value = 0.00272\n",
      "\n",
      "\n",
      "Log-Log Regression Results with Robust Standard Errors\n",
      "==================================================================\n",
      "                                       Dependent variable:        \n",
      "                               -----------------------------------\n",
      "                                         Log Crime Rate           \n",
      "                                      SE                RSE       \n",
      "                                      (1)               (2)       \n",
      "------------------------------------------------------------------\n",
      "log_light_count                0.388*** (0.038)  0.388*** (0.042) \n",
      "log_school_index               -0.621*** (0.104) -0.621*** (0.110)\n",
      "log_cultural_space_index       1.660*** (0.104)  1.660*** (0.115) \n",
      "log_income                     -0.687*** (0.066) -0.687*** (0.075)\n",
      "log_mean_age                   -0.583*** (0.197) -0.583*** (0.220)\n",
      "log_population_density         -0.215*** (0.036) -0.215*** (0.040)\n",
      "immigrant_prop                 -0.355** (0.153)  -0.355** (0.157) \n",
      "education_prop                 0.936*** (0.175)  0.936*** (0.194) \n",
      "Constant                       6.835*** (0.893)  6.835*** (0.992) \n",
      "------------------------------------------------------------------\n",
      "Observations                          989               989       \n",
      "R2                                   0.526             0.526      \n",
      "Adjusted R2                          0.522             0.522      \n",
      "Residual Std. Error (df = 980)       0.565             0.565      \n",
      "F Statistic (df = 8; 980)         135.716***        135.716***    \n",
      "==================================================================\n",
      "Note:                                  *p<0.1; **p<0.05; ***p<0.01\n"
     ]
    },
    {
     "name": "stderr",
     "output_type": "stream",
     "text": [
      "Warning message in tidy.numeric(vif(reg_log5)):\n",
      "\"'tidy.numeric' is deprecated.\n",
      "See help(\"Deprecated\")\"\n"
     ]
    },
    {
     "data": {
      "text/html": [
       "<table class=\"dataframe\">\n",
       "<caption>A tibble: 8 × 2</caption>\n",
       "<thead>\n",
       "\t<tr><th scope=col>names</th><th scope=col>x</th></tr>\n",
       "\t<tr><th scope=col>&lt;chr&gt;</th><th scope=col>&lt;dbl&gt;</th></tr>\n",
       "</thead>\n",
       "<tbody>\n",
       "\t<tr><td>log_light_count         </td><td>1.918484</td></tr>\n",
       "\t<tr><td>log_school_index        </td><td>1.620443</td></tr>\n",
       "\t<tr><td>log_cultural_space_index</td><td>2.687266</td></tr>\n",
       "\t<tr><td>log_income              </td><td>1.723976</td></tr>\n",
       "\t<tr><td>log_mean_age            </td><td>1.123201</td></tr>\n",
       "\t<tr><td>log_population_density  </td><td>2.474896</td></tr>\n",
       "\t<tr><td>immigrant_prop          </td><td>1.622320</td></tr>\n",
       "\t<tr><td>education_prop          </td><td>1.719853</td></tr>\n",
       "</tbody>\n",
       "</table>\n"
      ],
      "text/latex": [
       "A tibble: 8 × 2\n",
       "\\begin{tabular}{ll}\n",
       " names & x\\\\\n",
       " <chr> & <dbl>\\\\\n",
       "\\hline\n",
       "\t log\\_light\\_count          & 1.918484\\\\\n",
       "\t log\\_school\\_index         & 1.620443\\\\\n",
       "\t log\\_cultural\\_space\\_index & 2.687266\\\\\n",
       "\t log\\_income               & 1.723976\\\\\n",
       "\t log\\_mean\\_age             & 1.123201\\\\\n",
       "\t log\\_population\\_density   & 2.474896\\\\\n",
       "\t immigrant\\_prop           & 1.622320\\\\\n",
       "\t education\\_prop           & 1.719853\\\\\n",
       "\\end{tabular}\n"
      ],
      "text/markdown": [
       "\n",
       "A tibble: 8 × 2\n",
       "\n",
       "| names &lt;chr&gt; | x &lt;dbl&gt; |\n",
       "|---|---|\n",
       "| log_light_count          | 1.918484 |\n",
       "| log_school_index         | 1.620443 |\n",
       "| log_cultural_space_index | 2.687266 |\n",
       "| log_income               | 1.723976 |\n",
       "| log_mean_age             | 1.123201 |\n",
       "| log_population_density   | 2.474896 |\n",
       "| immigrant_prop           | 1.622320 |\n",
       "| education_prop           | 1.719853 |\n",
       "\n"
      ],
      "text/plain": [
       "  names                    x       \n",
       "1 log_light_count          1.918484\n",
       "2 log_school_index         1.620443\n",
       "3 log_cultural_space_index 2.687266\n",
       "4 log_income               1.723976\n",
       "5 log_mean_age             1.123201\n",
       "6 log_population_density   2.474896\n",
       "7 immigrant_prop           1.622320\n",
       "8 education_prop           1.719853"
      ]
     },
     "metadata": {},
     "output_type": "display_data"
    }
   ],
   "source": [
    "# Omit mean land value\n",
    "reg_log5 <- lm(log_crime_rate ~ log_light_count + log_school_index + log_cultural_space_index\n",
    "               + log_income  + log_mean_age + log_population_density + immigrant_prop + education_prop, \n",
    "              data = census_index_crime_log)\n",
    "\n",
    "white_test <- bptest(reg_log5, ~ fitted(reg_log5) + I(fitted(reg_log5)^2), data = census_index_crime_log)\n",
    "print(white_test)  \n",
    "\n",
    "robust_se5 <- sqrt(diag(vcovHC(reg_log5, type = \"HC1\")))\n",
    "\n",
    "stargazer(reg_log5, reg_log5, type = \"text\", \n",
    "        title = \"Log-Log Regression Results with Robust Standard Errors\", \n",
    "        dep.var.labels = c(\"Log Crime Rate\"), \n",
    "        column.labels = c(\"SE\", \"RSE\"),\n",
    "        se = list(NULL, robust_se5),\n",
    "        single.row=TRUE)\n",
    "\n",
    "vif(reg_log5)|>tidy()"
   ]
  },
  {
   "cell_type": "code",
   "execution_count": 26,
   "metadata": {
    "vscode": {
     "languageId": "r"
    }
   },
   "outputs": [
    {
     "name": "stdout",
     "output_type": "stream",
     "text": [
      "\n",
      "\tstudentized Breusch-Pagan test\n",
      "\n",
      "data:  reg_log6\n",
      "BP = 13.451, df = 2, p-value = 0.0012\n",
      "\n",
      "\n",
      "Log-Log Regression Results with Robust Standard Errors\n",
      "==================================================================\n",
      "                                       Dependent variable:        \n",
      "                               -----------------------------------\n",
      "                                         Log Crime Rate           \n",
      "                                      SE                RSE       \n",
      "                                      (1)               (2)       \n",
      "------------------------------------------------------------------\n",
      "log_light_count                0.345*** (0.038)  0.345*** (0.041) \n",
      "log_school_index               -0.363*** (0.108) -0.363*** (0.104)\n",
      "log_cultural_space_index       1.326*** (0.111)  1.326*** (0.110) \n",
      "log_income                     -0.613*** (0.065) -0.613*** (0.075)\n",
      "log_mean_age                   -0.758*** (0.194) -0.758*** (0.226)\n",
      "log_population_density         -0.293*** (0.036) -0.293*** (0.042)\n",
      "immigrant_prop                 -0.475*** (0.150) -0.475*** (0.152)\n",
      "education_prop                 0.879*** (0.171)  0.879*** (0.187) \n",
      "is_downtown                    0.486*** (0.067)  0.486*** (0.076) \n",
      "Constant                       8.412*** (0.897)  8.412*** (1.055) \n",
      "------------------------------------------------------------------\n",
      "Observations                          989               989       \n",
      "R2                                   0.550             0.550      \n",
      "Adjusted R2                          0.546             0.546      \n",
      "Residual Std. Error (df = 979)       0.550             0.550      \n",
      "F Statistic (df = 9; 979)         132.882***        132.882***    \n",
      "==================================================================\n",
      "Note:                                  *p<0.1; **p<0.05; ***p<0.01\n"
     ]
    },
    {
     "name": "stderr",
     "output_type": "stream",
     "text": [
      "Warning message in tidy.numeric(vif(reg_log6)):\n",
      "\"'tidy.numeric' is deprecated.\n",
      "See help(\"Deprecated\")\"\n"
     ]
    },
    {
     "data": {
      "text/html": [
       "<table class=\"dataframe\">\n",
       "<caption>A tibble: 9 × 2</caption>\n",
       "<thead>\n",
       "\t<tr><th scope=col>names</th><th scope=col>x</th></tr>\n",
       "\t<tr><th scope=col>&lt;chr&gt;</th><th scope=col>&lt;dbl&gt;</th></tr>\n",
       "</thead>\n",
       "<tbody>\n",
       "\t<tr><td>log_light_count         </td><td>1.967759</td></tr>\n",
       "\t<tr><td>log_school_index        </td><td>1.816749</td></tr>\n",
       "\t<tr><td>log_cultural_space_index</td><td>3.241518</td></tr>\n",
       "\t<tr><td>log_income              </td><td>1.767524</td></tr>\n",
       "\t<tr><td>log_mean_age            </td><td>1.140728</td></tr>\n",
       "\t<tr><td>log_population_density  </td><td>2.713004</td></tr>\n",
       "\t<tr><td>immigrant_prop          </td><td>1.642368</td></tr>\n",
       "\t<tr><td>education_prop          </td><td>1.723479</td></tr>\n",
       "\t<tr><td>is_downtown             </td><td>1.917616</td></tr>\n",
       "</tbody>\n",
       "</table>\n"
      ],
      "text/latex": [
       "A tibble: 9 × 2\n",
       "\\begin{tabular}{ll}\n",
       " names & x\\\\\n",
       " <chr> & <dbl>\\\\\n",
       "\\hline\n",
       "\t log\\_light\\_count          & 1.967759\\\\\n",
       "\t log\\_school\\_index         & 1.816749\\\\\n",
       "\t log\\_cultural\\_space\\_index & 3.241518\\\\\n",
       "\t log\\_income               & 1.767524\\\\\n",
       "\t log\\_mean\\_age             & 1.140728\\\\\n",
       "\t log\\_population\\_density   & 2.713004\\\\\n",
       "\t immigrant\\_prop           & 1.642368\\\\\n",
       "\t education\\_prop           & 1.723479\\\\\n",
       "\t is\\_downtown              & 1.917616\\\\\n",
       "\\end{tabular}\n"
      ],
      "text/markdown": [
       "\n",
       "A tibble: 9 × 2\n",
       "\n",
       "| names &lt;chr&gt; | x &lt;dbl&gt; |\n",
       "|---|---|\n",
       "| log_light_count          | 1.967759 |\n",
       "| log_school_index         | 1.816749 |\n",
       "| log_cultural_space_index | 3.241518 |\n",
       "| log_income               | 1.767524 |\n",
       "| log_mean_age             | 1.140728 |\n",
       "| log_population_density   | 2.713004 |\n",
       "| immigrant_prop           | 1.642368 |\n",
       "| education_prop           | 1.723479 |\n",
       "| is_downtown              | 1.917616 |\n",
       "\n"
      ],
      "text/plain": [
       "  names                    x       \n",
       "1 log_light_count          1.967759\n",
       "2 log_school_index         1.816749\n",
       "3 log_cultural_space_index 3.241518\n",
       "4 log_income               1.767524\n",
       "5 log_mean_age             1.140728\n",
       "6 log_population_density   2.713004\n",
       "7 immigrant_prop           1.642368\n",
       "8 education_prop           1.723479\n",
       "9 is_downtown              1.917616"
      ]
     },
     "metadata": {},
     "output_type": "display_data"
    }
   ],
   "source": [
    "# Add is downtown\n",
    "reg_log6 <- lm(log_crime_rate ~ log_light_count + log_school_index + log_cultural_space_index\n",
    "               + log_income  + log_mean_age + log_population_density + log_mean_age + immigrant_prop + education_prop + is_downtown, \n",
    "              data = census_index_crime_log)\n",
    "\n",
    "white_test <- bptest(reg_log6, ~ fitted(reg_log6) + I(fitted(reg_log6)^2), data = census_index_crime_log)\n",
    "print(white_test)  \n",
    "\n",
    "robust_se6 <- sqrt(diag(vcovHC(reg_log6, type = \"HC1\")))\n",
    "\n",
    "stargazer(reg_log6, reg_log6, type = \"text\", \n",
    "        title = \"Log-Log Regression Results with Robust Standard Errors\", \n",
    "        dep.var.labels = c(\"Log Crime Rate\"), \n",
    "        column.labels = c(\"SE\", \"RSE\"),\n",
    "        se = list(NULL, robust_se6),\n",
    "        single.row=TRUE)\n",
    "\n",
    "vif(reg_log6)|>tidy()"
   ]
  },
  {
   "cell_type": "markdown",
   "metadata": {},
   "source": [
    "Since we've decided all the controls, we want to add interaction. "
   ]
  },
  {
   "cell_type": "code",
   "execution_count": 27,
   "metadata": {
    "vscode": {
     "languageId": "r"
    }
   },
   "outputs": [
    {
     "name": "stdout",
     "output_type": "stream",
     "text": [
      "\n",
      "\tstudentized Breusch-Pagan test\n",
      "\n",
      "data:  reg_log7\n",
      "BP = 13.194, df = 2, p-value = 0.001365\n",
      "\n",
      "\n",
      "Log-Log Regression Results with Robust Standard Errors\n",
      "==================================================================\n",
      "                                       Dependent variable:        \n",
      "                               -----------------------------------\n",
      "                                         Log Crime Rate           \n",
      "                                      SE                RSE       \n",
      "                                      (1)               (2)       \n",
      "------------------------------------------------------------------\n",
      "log_light_count                0.286*** (0.045)  0.286*** (0.048) \n",
      "log_school_index               -0.354*** (0.108) -0.354*** (0.105)\n",
      "log_cultural_space_index       1.310*** (0.111)  1.310*** (0.111) \n",
      "log_income                     -0.597*** (0.065) -0.597*** (0.077)\n",
      "log_mean_age                   -0.735*** (0.193) -0.735*** (0.226)\n",
      "log_population_density         -0.298*** (0.036) -0.298*** (0.043)\n",
      "immigrant_prop                 -0.438*** (0.150) -0.438*** (0.150)\n",
      "education_prop                 0.875*** (0.170)  0.875*** (0.187) \n",
      "is_downtown                      0.004 (0.216)     0.004 (0.248)  \n",
      "log_light_count:is_downtown     0.136** (0.058)   0.136* (0.070)  \n",
      "Constant                       8.596*** (0.898)  8.596*** (1.063) \n",
      "------------------------------------------------------------------\n",
      "Observations                          989               989       \n",
      "R2                                   0.552             0.552      \n",
      "Adjusted R2                          0.548             0.548      \n",
      "Residual Std. Error (df = 978)       0.549             0.549      \n",
      "F Statistic (df = 10; 978)        120.698***        120.698***    \n",
      "==================================================================\n",
      "Note:                                  *p<0.1; **p<0.05; ***p<0.01\n"
     ]
    },
    {
     "name": "stderr",
     "output_type": "stream",
     "text": [
      "there are higher-order terms (interactions) in this model\n",
      "consider setting type = 'predictor'; see ?vif\n",
      "\n",
      "Warning message in tidy.numeric(vif(reg_log7)):\n",
      "\"'tidy.numeric' is deprecated.\n",
      "See help(\"Deprecated\")\"\n"
     ]
    },
    {
     "data": {
      "text/html": [
       "<table class=\"dataframe\">\n",
       "<caption>A tibble: 10 × 2</caption>\n",
       "<thead>\n",
       "\t<tr><th scope=col>names</th><th scope=col>x</th></tr>\n",
       "\t<tr><th scope=col>&lt;chr&gt;</th><th scope=col>&lt;dbl&gt;</th></tr>\n",
       "</thead>\n",
       "<tbody>\n",
       "\t<tr><td>log_light_count            </td><td> 2.832238</td></tr>\n",
       "\t<tr><td>log_school_index           </td><td> 1.818912</td></tr>\n",
       "\t<tr><td>log_cultural_space_index   </td><td> 3.254000</td></tr>\n",
       "\t<tr><td>log_income                 </td><td> 1.788691</td></tr>\n",
       "\t<tr><td>log_mean_age               </td><td> 1.143511</td></tr>\n",
       "\t<tr><td>log_population_density     </td><td> 2.722393</td></tr>\n",
       "\t<tr><td>immigrant_prop             </td><td> 1.659881</td></tr>\n",
       "\t<tr><td>education_prop             </td><td> 1.723687</td></tr>\n",
       "\t<tr><td>is_downtown                </td><td>20.051920</td></tr>\n",
       "\t<tr><td>log_light_count:is_downtown</td><td>20.143774</td></tr>\n",
       "</tbody>\n",
       "</table>\n"
      ],
      "text/latex": [
       "A tibble: 10 × 2\n",
       "\\begin{tabular}{ll}\n",
       " names & x\\\\\n",
       " <chr> & <dbl>\\\\\n",
       "\\hline\n",
       "\t log\\_light\\_count             &  2.832238\\\\\n",
       "\t log\\_school\\_index            &  1.818912\\\\\n",
       "\t log\\_cultural\\_space\\_index    &  3.254000\\\\\n",
       "\t log\\_income                  &  1.788691\\\\\n",
       "\t log\\_mean\\_age                &  1.143511\\\\\n",
       "\t log\\_population\\_density      &  2.722393\\\\\n",
       "\t immigrant\\_prop              &  1.659881\\\\\n",
       "\t education\\_prop              &  1.723687\\\\\n",
       "\t is\\_downtown                 & 20.051920\\\\\n",
       "\t log\\_light\\_count:is\\_downtown & 20.143774\\\\\n",
       "\\end{tabular}\n"
      ],
      "text/markdown": [
       "\n",
       "A tibble: 10 × 2\n",
       "\n",
       "| names &lt;chr&gt; | x &lt;dbl&gt; |\n",
       "|---|---|\n",
       "| log_light_count             |  2.832238 |\n",
       "| log_school_index            |  1.818912 |\n",
       "| log_cultural_space_index    |  3.254000 |\n",
       "| log_income                  |  1.788691 |\n",
       "| log_mean_age                |  1.143511 |\n",
       "| log_population_density      |  2.722393 |\n",
       "| immigrant_prop              |  1.659881 |\n",
       "| education_prop              |  1.723687 |\n",
       "| is_downtown                 | 20.051920 |\n",
       "| log_light_count:is_downtown | 20.143774 |\n",
       "\n"
      ],
      "text/plain": [
       "   names                       x        \n",
       "1  log_light_count              2.832238\n",
       "2  log_school_index             1.818912\n",
       "3  log_cultural_space_index     3.254000\n",
       "4  log_income                   1.788691\n",
       "5  log_mean_age                 1.143511\n",
       "6  log_population_density       2.722393\n",
       "7  immigrant_prop               1.659881\n",
       "8  education_prop               1.723687\n",
       "9  is_downtown                 20.051920\n",
       "10 log_light_count:is_downtown 20.143774"
      ]
     },
     "metadata": {},
     "output_type": "display_data"
    }
   ],
   "source": [
    "# Add an interaction\n",
    "reg_log7 <- lm(log_crime_rate ~ log_light_count + log_school_index + log_cultural_space_index\n",
    "               + log_income  + log_mean_age + log_population_density + log_mean_age + immigrant_prop + education_prop\n",
    "               + is_downtown + is_downtown:log_light_count, \n",
    "              data = census_index_crime_log)\n",
    "\n",
    "white_test <- bptest(reg_log7, ~ fitted(reg_log7) + I(fitted(reg_log7)^2), data = census_index_crime_log)\n",
    "print(white_test)  \n",
    "\n",
    "robust_se7 <- sqrt(diag(vcovHC(reg_log7, type = \"HC1\")))\n",
    "\n",
    "stargazer(reg_log7, reg_log7, type = \"text\", \n",
    "        title = \"Log-Log Regression Results with Robust Standard Errors\", \n",
    "        dep.var.labels = c(\"Log Crime Rate\"), \n",
    "        column.labels = c(\"SE\", \"RSE\"),\n",
    "        se = list(NULL, robust_se7),\n",
    "        single.row=TRUE)\n",
    "\n",
    "vif(reg_log7)|>tidy()"
   ]
  },
  {
   "cell_type": "markdown",
   "metadata": {},
   "source": [
    "Since the high VIF suggest it may not be a good idea to include both \"is downtown\" and the interaction."
   ]
  },
  {
   "cell_type": "code",
   "execution_count": 28,
   "metadata": {
    "vscode": {
     "languageId": "r"
    }
   },
   "outputs": [
    {
     "name": "stdout",
     "output_type": "stream",
     "text": [
      "\n",
      "\tstudentized Breusch-Pagan test\n",
      "\n",
      "data:  reg_log8\n",
      "BP = 13.194, df = 2, p-value = 0.001364\n",
      "\n",
      "\n",
      "Log-Log Regression Results with Robust Standard Errors\n",
      "==================================================================\n",
      "                                       Dependent variable:        \n",
      "                               -----------------------------------\n",
      "                                         Log Crime Rate           \n",
      "                                      SE                RSE       \n",
      "                                      (1)               (2)       \n",
      "------------------------------------------------------------------\n",
      "log_light_count                0.286*** (0.039)  0.286*** (0.043) \n",
      "log_school_index               -0.355*** (0.107) -0.355*** (0.106)\n",
      "log_cultural_space_index       1.310*** (0.111)  1.310*** (0.112) \n",
      "log_income                     -0.597*** (0.065) -0.597*** (0.076)\n",
      "log_mean_age                   -0.735*** (0.193) -0.735*** (0.224)\n",
      "log_population_density         -0.298*** (0.036) -0.298*** (0.043)\n",
      "immigrant_prop                 -0.438*** (0.149) -0.438*** (0.151)\n",
      "education_prop                 0.875*** (0.170)  0.875*** (0.187) \n",
      "log_light_count:is_downtown    0.137*** (0.018)  0.137*** (0.021) \n",
      "Constant                       8.596*** (0.898)  8.596*** (1.063) \n",
      "------------------------------------------------------------------\n",
      "Observations                          989               989       \n",
      "R2                                   0.552             0.552      \n",
      "Adjusted R2                          0.548             0.548      \n",
      "Residual Std. Error (df = 979)       0.549             0.549      \n",
      "F Statistic (df = 9; 979)         134.246***        134.246***    \n",
      "==================================================================\n",
      "Note:                                  *p<0.1; **p<0.05; ***p<0.01\n"
     ]
    },
    {
     "name": "stderr",
     "output_type": "stream",
     "text": [
      "there are higher-order terms (interactions) in this model\n",
      "consider setting type = 'predictor'; see ?vif\n",
      "\n",
      "Warning message in tidy.numeric(vif(reg_log8)):\n",
      "\"'tidy.numeric' is deprecated.\n",
      "See help(\"Deprecated\")\"\n"
     ]
    },
    {
     "data": {
      "text/html": [
       "<table class=\"dataframe\">\n",
       "<caption>A tibble: 9 × 2</caption>\n",
       "<thead>\n",
       "\t<tr><th scope=col>names</th><th scope=col>x</th></tr>\n",
       "\t<tr><th scope=col>&lt;chr&gt;</th><th scope=col>&lt;dbl&gt;</th></tr>\n",
       "</thead>\n",
       "<tbody>\n",
       "\t<tr><td>log_light_count            </td><td>2.167112</td></tr>\n",
       "\t<tr><td>log_school_index           </td><td>1.810303</td></tr>\n",
       "\t<tr><td>log_cultural_space_index   </td><td>3.238628</td></tr>\n",
       "\t<tr><td>log_income                 </td><td>1.783241</td></tr>\n",
       "\t<tr><td>log_mean_age               </td><td>1.135210</td></tr>\n",
       "\t<tr><td>log_population_density     </td><td>2.718941</td></tr>\n",
       "\t<tr><td>immigrant_prop             </td><td>1.631104</td></tr>\n",
       "\t<tr><td>education_prop             </td><td>1.723664</td></tr>\n",
       "\t<tr><td>log_light_count:is_downtown</td><td>1.926401</td></tr>\n",
       "</tbody>\n",
       "</table>\n"
      ],
      "text/latex": [
       "A tibble: 9 × 2\n",
       "\\begin{tabular}{ll}\n",
       " names & x\\\\\n",
       " <chr> & <dbl>\\\\\n",
       "\\hline\n",
       "\t log\\_light\\_count             & 2.167112\\\\\n",
       "\t log\\_school\\_index            & 1.810303\\\\\n",
       "\t log\\_cultural\\_space\\_index    & 3.238628\\\\\n",
       "\t log\\_income                  & 1.783241\\\\\n",
       "\t log\\_mean\\_age                & 1.135210\\\\\n",
       "\t log\\_population\\_density      & 2.718941\\\\\n",
       "\t immigrant\\_prop              & 1.631104\\\\\n",
       "\t education\\_prop              & 1.723664\\\\\n",
       "\t log\\_light\\_count:is\\_downtown & 1.926401\\\\\n",
       "\\end{tabular}\n"
      ],
      "text/markdown": [
       "\n",
       "A tibble: 9 × 2\n",
       "\n",
       "| names &lt;chr&gt; | x &lt;dbl&gt; |\n",
       "|---|---|\n",
       "| log_light_count             | 2.167112 |\n",
       "| log_school_index            | 1.810303 |\n",
       "| log_cultural_space_index    | 3.238628 |\n",
       "| log_income                  | 1.783241 |\n",
       "| log_mean_age                | 1.135210 |\n",
       "| log_population_density      | 2.718941 |\n",
       "| immigrant_prop              | 1.631104 |\n",
       "| education_prop              | 1.723664 |\n",
       "| log_light_count:is_downtown | 1.926401 |\n",
       "\n"
      ],
      "text/plain": [
       "  names                       x       \n",
       "1 log_light_count             2.167112\n",
       "2 log_school_index            1.810303\n",
       "3 log_cultural_space_index    3.238628\n",
       "4 log_income                  1.783241\n",
       "5 log_mean_age                1.135210\n",
       "6 log_population_density      2.718941\n",
       "7 immigrant_prop              1.631104\n",
       "8 education_prop              1.723664\n",
       "9 log_light_count:is_downtown 1.926401"
      ]
     },
     "metadata": {},
     "output_type": "display_data"
    }
   ],
   "source": [
    "# Add an interaction\n",
    "reg_log8 <- lm(log_crime_rate ~ log_light_count + log_school_index + log_cultural_space_index\n",
    "               + log_income  + log_mean_age + log_population_density + immigrant_prop + education_prop \n",
    "               + is_downtown:log_light_count, \n",
    "              data = census_index_crime_log)\n",
    "\n",
    "white_test <- bptest(reg_log8, ~ fitted(reg_log8) + I(fitted(reg_log8)^2), data = census_index_crime_log)\n",
    "print(white_test)  \n",
    "\n",
    "robust_se8 <- sqrt(diag(vcovHC(reg_log8, type = \"HC1\")))\n",
    "\n",
    "stargazer(reg_log8, reg_log8, type = \"text\", \n",
    "        title = \"Log-Log Regression Results with Robust Standard Errors\", \n",
    "        dep.var.labels = c(\"Log Crime Rate\"), \n",
    "        column.labels = c(\"SE\", \"RSE\"),\n",
    "        se = list(NULL, robust_se8),\n",
    "        single.row=TRUE)\n",
    "\n",
    "vif(reg_log8)|>tidy()"
   ]
  },
  {
   "cell_type": "markdown",
   "metadata": {},
   "source": [
    "We therefore decided our final regression model. But we still want to explore the inverse causality problem in our model and the regional fixed effect more."
   ]
  },
  {
   "cell_type": "code",
   "execution_count": 29,
   "metadata": {
    "vscode": {
     "languageId": "r"
    }
   },
   "outputs": [
    {
     "name": "stdout",
     "output_type": "stream",
     "text": [
      "\n",
      "\tstudentized Breusch-Pagan test\n",
      "\n",
      "data:  reg_log_inverse\n",
      "BP = 6.2975, df = 2, p-value = 0.04291\n",
      "\n",
      "\n",
      "Log-Log Regression Results with Robust Standard Errors\n",
      "==================================================================\n",
      "                                       Dependent variable:        \n",
      "                               -----------------------------------\n",
      "                                         Log Crime Rate           \n",
      "                                      SE                RSE       \n",
      "                                      (1)               (2)       \n",
      "------------------------------------------------------------------\n",
      "log_crime_rate                 0.246*** (0.024)  0.246*** (0.030) \n",
      "log_school_index                 0.103 (0.085)     0.103 (0.080)  \n",
      "log_cultural_space_index        0.158* (0.093)     0.158 (0.103)  \n",
      "log_income                      0.135** (0.055)   0.135** (0.061) \n",
      "log_mean_age                    -0.029 (0.158)    -0.029 (0.178)  \n",
      "log_population_density         -0.485*** (0.024) -0.485*** (0.028)\n",
      "immigrant_prop                 0.754*** (0.119)  0.754*** (0.125) \n",
      "education_prop                 -0.419*** (0.141) -0.419*** (0.128)\n",
      "Constant                       6.435*** (0.703)  6.435*** (0.781) \n",
      "------------------------------------------------------------------\n",
      "Observations                          989               989       \n",
      "R2                                   0.529             0.529      \n",
      "Adjusted R2                          0.525             0.525      \n",
      "Residual Std. Error (df = 980)       0.450             0.450      \n",
      "F Statistic (df = 8; 980)         137.321***        137.321***    \n",
      "==================================================================\n",
      "Note:                                  *p<0.1; **p<0.05; ***p<0.01\n"
     ]
    },
    {
     "name": "stderr",
     "output_type": "stream",
     "text": [
      "Warning message in tidy.numeric(vif(reg_log_inverse)):\n",
      "\"'tidy.numeric' is deprecated.\n",
      "See help(\"Deprecated\")\"\n"
     ]
    },
    {
     "data": {
      "text/html": [
       "<table class=\"dataframe\">\n",
       "<caption>A tibble: 8 × 2</caption>\n",
       "<thead>\n",
       "\t<tr><th scope=col>names</th><th scope=col>x</th></tr>\n",
       "\t<tr><th scope=col>&lt;chr&gt;</th><th scope=col>&lt;dbl&gt;</th></tr>\n",
       "</thead>\n",
       "<tbody>\n",
       "\t<tr><td>log_crime_rate          </td><td>1.906631</td></tr>\n",
       "\t<tr><td>log_school_index        </td><td>1.676290</td></tr>\n",
       "\t<tr><td>log_cultural_space_index</td><td>3.380295</td></tr>\n",
       "\t<tr><td>log_income              </td><td>1.904800</td></tr>\n",
       "\t<tr><td>log_mean_age            </td><td>1.133206</td></tr>\n",
       "\t<tr><td>log_population_density  </td><td>1.826325</td></tr>\n",
       "\t<tr><td>immigrant_prop          </td><td>1.567541</td></tr>\n",
       "\t<tr><td>education_prop          </td><td>1.754205</td></tr>\n",
       "</tbody>\n",
       "</table>\n"
      ],
      "text/latex": [
       "A tibble: 8 × 2\n",
       "\\begin{tabular}{ll}\n",
       " names & x\\\\\n",
       " <chr> & <dbl>\\\\\n",
       "\\hline\n",
       "\t log\\_crime\\_rate           & 1.906631\\\\\n",
       "\t log\\_school\\_index         & 1.676290\\\\\n",
       "\t log\\_cultural\\_space\\_index & 3.380295\\\\\n",
       "\t log\\_income               & 1.904800\\\\\n",
       "\t log\\_mean\\_age             & 1.133206\\\\\n",
       "\t log\\_population\\_density   & 1.826325\\\\\n",
       "\t immigrant\\_prop           & 1.567541\\\\\n",
       "\t education\\_prop           & 1.754205\\\\\n",
       "\\end{tabular}\n"
      ],
      "text/markdown": [
       "\n",
       "A tibble: 8 × 2\n",
       "\n",
       "| names &lt;chr&gt; | x &lt;dbl&gt; |\n",
       "|---|---|\n",
       "| log_crime_rate           | 1.906631 |\n",
       "| log_school_index         | 1.676290 |\n",
       "| log_cultural_space_index | 3.380295 |\n",
       "| log_income               | 1.904800 |\n",
       "| log_mean_age             | 1.133206 |\n",
       "| log_population_density   | 1.826325 |\n",
       "| immigrant_prop           | 1.567541 |\n",
       "| education_prop           | 1.754205 |\n",
       "\n"
      ],
      "text/plain": [
       "  names                    x       \n",
       "1 log_crime_rate           1.906631\n",
       "2 log_school_index         1.676290\n",
       "3 log_cultural_space_index 3.380295\n",
       "4 log_income               1.904800\n",
       "5 log_mean_age             1.133206\n",
       "6 log_population_density   1.826325\n",
       "7 immigrant_prop           1.567541\n",
       "8 education_prop           1.754205"
      ]
     },
     "metadata": {},
     "output_type": "display_data"
    }
   ],
   "source": [
    "# Creating an inverse causality model to shopw endogeneity\n",
    "reg_log_inverse <- lm(log_light_count ~ log_crime_rate+ log_school_index + log_cultural_space_index\n",
    "               + log_income + log_mean_age + log_population_density + immigrant_prop + education_prop, \n",
    "              data = census_index_crime_log)\n",
    "\n",
    "white_test <- bptest(reg_log_inverse, ~ fitted(reg_log_inverse) + I(fitted(reg_log_inverse)^2), data = census_index_crime_log)\n",
    "print(white_test)  \n",
    "\n",
    "robust_se_inverse <- sqrt(diag(vcovHC(reg_log_inverse, type = \"HC1\")))\n",
    "\n",
    "stargazer(reg_log_inverse, reg_log_inverse, type = \"text\", \n",
    "        title = \"Log-Log Regression Results with Robust Standard Errors\", \n",
    "        dep.var.labels = c(\"Log Crime Rate\"), \n",
    "        column.labels = c(\"SE\", \"RSE\"),\n",
    "        se = list(NULL, robust_se_inverse),\n",
    "        single.row=TRUE)\n",
    "\n",
    "vif(reg_log_inverse)|>tidy()"
   ]
  },
  {
   "cell_type": "code",
   "execution_count": 30,
   "metadata": {
    "vscode": {
     "languageId": "r"
    }
   },
   "outputs": [
    {
     "name": "stdout",
     "output_type": "stream",
     "text": [
      "Rows: 112\n",
      "Columns: 37\n",
      "$ name.x                   \u001b[3m\u001b[90m<chr>\u001b[39m\u001b[23m \"59150751\", \"59150752\", \"59150753\", \"59150754…\n",
      "$ households               \u001b[3m\u001b[90m<int>\u001b[39m\u001b[23m 349, 120, 116, 240, 413, 76, 254, 287, 191, 6…\n",
      "$ dwellings                \u001b[3m\u001b[90m<int>\u001b[39m\u001b[23m 379, 142, 130, 267, 454, 109, 261, 299, 228, …\n",
      "$ population               \u001b[3m\u001b[90m<int>\u001b[39m\u001b[23m 782, 300, 271, 456, 779, 203, 499, 577, 644, …\n",
      "$ population_density       \u001b[3m\u001b[90m<dbl>\u001b[39m\u001b[23m 895.7, 7537.7, 9609.9, 10654.2, 15096.9, 8388…\n",
      "$ region                   \u001b[3m\u001b[90m<chr>\u001b[39m\u001b[23m \"Vancouver\", \"Vancouver\", \"Vancouver\", \"Vanco…\n",
      "$ area_sq_km               \u001b[3m\u001b[90m<dbl>\u001b[39m\u001b[23m 0.87307, 0.03983, 0.02826, 0.04282, 0.05163, …\n",
      "$ age                      \u001b[3m\u001b[90m<int>\u001b[39m\u001b[23m 785, 300, 275, 455, 780, 205, 495, 575, 645, …\n",
      "$ income                   \u001b[3m\u001b[90m<dbl>\u001b[39m\u001b[23m 0.34624, 0.73216, 0.62080, 0.41600, 0.17740, …\n",
      "$ immigrant_prop           \u001b[3m\u001b[90m<dbl>\u001b[39m\u001b[23m 0.3324808, 0.4000000, 0.1660517, 0.2850877, 0…\n",
      "$ education_prop           \u001b[3m\u001b[90m<dbl>\u001b[39m\u001b[23m 0.2365729, 0.3833333, 0.3874539, 0.2960526, 0…\n",
      "$ school_index             \u001b[3m\u001b[90m<dbl>\u001b[39m\u001b[23m 3.600271, 3.508716, 3.474039, 3.433914, 3.441…\n",
      "$ light_index              \u001b[3m\u001b[90m<dbl>\u001b[39m\u001b[23m 6.539331, 5.126017, 4.903184, 4.537481, 3.793…\n",
      "$ bus_index                \u001b[3m\u001b[90m<dbl>\u001b[39m\u001b[23m 4.737193, 4.692437, 3.577114, 3.534585, 3.915…\n",
      "$ cultural_space_index     \u001b[3m\u001b[90m<dbl>\u001b[39m\u001b[23m 4.182006, 3.865926, 3.875664, 3.847782, 3.900…\n",
      "$ crime_count              \u001b[3m\u001b[90m<int>\u001b[39m\u001b[23m 176, 28, 21, 29, 39, 33, 29, 62, 78, 18, 24, …\n",
      "$ crime_rate               \u001b[3m\u001b[90m<dbl>\u001b[39m\u001b[23m 2250.6394, 933.3333, 774.9077, 635.9649, 500.…\n",
      "$ mean_land_value          \u001b[3m\u001b[90m<dbl>\u001b[39m\u001b[23m 2.5668269, 0.8127200, 1.1456812, 1.2539565, 4…\n",
      "$ log_crime_rate           \u001b[3m\u001b[90m<dbl>\u001b[39m\u001b[23m 7.718970, 6.838762, 6.652744, 6.455143, 6.215…\n",
      "$ log_mean_land_value      \u001b[3m\u001b[90m<dbl>\u001b[39m\u001b[23m 0.94267047, -0.20736863, 0.13599939, 0.226303…\n",
      "$ log_school_index         \u001b[3m\u001b[90m<dbl>\u001b[39m\u001b[23m 1.281009, 1.255250, 1.245318, 1.233701, 1.236…\n",
      "$ log_light_index          \u001b[3m\u001b[90m<dbl>\u001b[39m\u001b[23m 1.877835, 1.634329, 1.589885, 1.512372, 1.333…\n",
      "$ log_bus_index            \u001b[3m\u001b[90m<dbl>\u001b[39m\u001b[23m 1.555445, 1.545952, 1.274556, 1.262596, 1.364…\n",
      "$ log_cultural_space_index \u001b[3m\u001b[90m<dbl>\u001b[39m\u001b[23m 1.430791, 1.352201, 1.354717, 1.347497, 1.361…\n",
      "$ log_income               \u001b[3m\u001b[90m<dbl>\u001b[39m\u001b[23m -1.06062310, -0.31175621, -0.47674631, -0.877…\n",
      "$ light_count              \u001b[3m\u001b[90m<int>\u001b[39m\u001b[23m 310, 32, 22, 27, 12, 15, 11, 40, 40, 18, 30, …\n",
      "$ log_light_count          \u001b[3m\u001b[90m<dbl>\u001b[39m\u001b[23m 5.736572, 3.465736, 3.091042, 3.295837, 2.484…\n",
      "$ mean_age                 \u001b[3m\u001b[90m<dbl>\u001b[39m\u001b[23m 47.1, 38.9, 38.4, 42.0, 44.7, 41.5, 54.0, 60.…\n",
      "$ prop_working_age         \u001b[3m\u001b[90m<dbl>\u001b[39m\u001b[23m 0.699, 0.750, 0.796, 0.769, 0.564, 0.756, 0.4…\n",
      "$ log_mean_age             \u001b[3m\u001b[90m<dbl>\u001b[39m\u001b[23m 3.852273, 3.660994, 3.648057, 3.737670, 3.799…\n",
      "$ insite_dummy             \u001b[3m\u001b[90m<int>\u001b[39m\u001b[23m 0, 0, 0, 0, 0, 0, 0, 0, 0, 0, 0, 0, 0, 0, 0, …\n",
      "$ is_downtown              \u001b[3m\u001b[90m<int>\u001b[39m\u001b[23m 1, 1, 1, 1, 1, 1, 1, 1, 1, 1, 1, 1, 1, 1, 1, …\n",
      "$ log_population_density   \u001b[3m\u001b[90m<dbl>\u001b[39m\u001b[23m 6.797606, 8.927672, 9.170549, 9.273709, 9.622…\n",
      "$ name.y                   \u001b[3m\u001b[90m<chr>\u001b[39m\u001b[23m \"Strathcona\", \"Strathcona\", \"Strathcona\", \"St…\n",
      "$ geom                     \u001b[3m\u001b[90m<chr>\u001b[39m\u001b[23m \"{\\\"coordinates\\\": [[[-123.0992889404297, 49.…\n",
      "$ geo_point_2d             \u001b[3m\u001b[90m<chr>\u001b[39m\u001b[23m \"49.27821957764724, -123.08823528054062\", \"49…\n",
      "$ geometry                 \u001b[3m\u001b[90m<MULTIPOLYGON [°]>\u001b[39m\u001b[23m MULTIPOLYGON (((-123.0932 4..., …\n"
     ]
    }
   ],
   "source": [
    "# Create a new downtown only dataset\n",
    "downtown_areas <- local_area_boundary_valid %>%\n",
    "  filter(name %in% c(\"West End\", \"Downtown\", \"Strathcona\"))\n",
    "\n",
    "selected_areas <- st_simplify(selected_areas, dTolerance = 0.01)\n",
    "\n",
    "desired_crs <- st_crs(selected_areas)\n",
    "census_index_crime_log <- st_transform(census_index_crime_log, crs = desired_crs)\n",
    "\n",
    "census_index_crime_log_dt <- st_join(\n",
    "  census_index_crime_log,\n",
    "  downtown_areas,\n",
    "  join = st_within,\n",
    "  left = FALSE\n",
    ")\n",
    "\n",
    "glimpse(census_index_crime_log_dt)"
   ]
  },
  {
   "cell_type": "code",
   "execution_count": 31,
   "metadata": {
    "vscode": {
     "languageId": "r"
    }
   },
   "outputs": [
    {
     "name": "stdout",
     "output_type": "stream",
     "text": [
      "\n",
      "\tstudentized Breusch-Pagan test\n",
      "\n",
      "data:  reg_log_dt\n",
      "BP = 0.98093, df = 2, p-value = 0.6123\n",
      "\n",
      "\n",
      "Log-Log Regression Results with Robust Standard Errors\n",
      "====================================================\n",
      "                             Dependent variable:    \n",
      "                         ---------------------------\n",
      "                               Log Crime Rate       \n",
      "----------------------------------------------------\n",
      "log_light_count               0.467*** (0.098)      \n",
      "log_school_index              -1.664** (0.709)      \n",
      "log_cultural_space_index      1.745*** (0.591)      \n",
      "log_income                     -0.250 (0.244)       \n",
      "log_mean_age                  -1.177** (0.554)      \n",
      "log_population_density        -0.457*** (0.119)     \n",
      "immigrant_prop                 -0.408 (0.615)       \n",
      "education_prop                 -0.703 (0.870)       \n",
      "Constant                      13.482*** (2.952)     \n",
      "----------------------------------------------------\n",
      "Observations                         112            \n",
      "R2                                  0.553           \n",
      "Adjusted R2                         0.518           \n",
      "Residual Std. Error           0.646 (df = 103)      \n",
      "F Statistic                15.937*** (df = 8; 103)  \n",
      "====================================================\n",
      "Note:                    *p<0.1; **p<0.05; ***p<0.01\n"
     ]
    },
    {
     "name": "stderr",
     "output_type": "stream",
     "text": [
      "Warning message in tidy.numeric(vif(reg_log_dt)):\n",
      "\"'tidy.numeric' is deprecated.\n",
      "See help(\"Deprecated\")\"\n"
     ]
    },
    {
     "data": {
      "text/html": [
       "<table class=\"dataframe\">\n",
       "<caption>A tibble: 8 × 2</caption>\n",
       "<thead>\n",
       "\t<tr><th scope=col>names</th><th scope=col>x</th></tr>\n",
       "\t<tr><th scope=col>&lt;chr&gt;</th><th scope=col>&lt;dbl&gt;</th></tr>\n",
       "</thead>\n",
       "<tbody>\n",
       "\t<tr><td>log_light_count         </td><td>1.790053</td></tr>\n",
       "\t<tr><td>log_school_index        </td><td>1.634793</td></tr>\n",
       "\t<tr><td>log_cultural_space_index</td><td>1.674331</td></tr>\n",
       "\t<tr><td>log_income              </td><td>3.075196</td></tr>\n",
       "\t<tr><td>log_mean_age            </td><td>1.487660</td></tr>\n",
       "\t<tr><td>log_population_density  </td><td>1.813331</td></tr>\n",
       "\t<tr><td>immigrant_prop          </td><td>1.247169</td></tr>\n",
       "\t<tr><td>education_prop          </td><td>3.692439</td></tr>\n",
       "</tbody>\n",
       "</table>\n"
      ],
      "text/latex": [
       "A tibble: 8 × 2\n",
       "\\begin{tabular}{ll}\n",
       " names & x\\\\\n",
       " <chr> & <dbl>\\\\\n",
       "\\hline\n",
       "\t log\\_light\\_count          & 1.790053\\\\\n",
       "\t log\\_school\\_index         & 1.634793\\\\\n",
       "\t log\\_cultural\\_space\\_index & 1.674331\\\\\n",
       "\t log\\_income               & 3.075196\\\\\n",
       "\t log\\_mean\\_age             & 1.487660\\\\\n",
       "\t log\\_population\\_density   & 1.813331\\\\\n",
       "\t immigrant\\_prop           & 1.247169\\\\\n",
       "\t education\\_prop           & 3.692439\\\\\n",
       "\\end{tabular}\n"
      ],
      "text/markdown": [
       "\n",
       "A tibble: 8 × 2\n",
       "\n",
       "| names &lt;chr&gt; | x &lt;dbl&gt; |\n",
       "|---|---|\n",
       "| log_light_count          | 1.790053 |\n",
       "| log_school_index         | 1.634793 |\n",
       "| log_cultural_space_index | 1.674331 |\n",
       "| log_income               | 3.075196 |\n",
       "| log_mean_age             | 1.487660 |\n",
       "| log_population_density   | 1.813331 |\n",
       "| immigrant_prop           | 1.247169 |\n",
       "| education_prop           | 3.692439 |\n",
       "\n"
      ],
      "text/plain": [
       "  names                    x       \n",
       "1 log_light_count          1.790053\n",
       "2 log_school_index         1.634793\n",
       "3 log_cultural_space_index 1.674331\n",
       "4 log_income               3.075196\n",
       "5 log_mean_age             1.487660\n",
       "6 log_population_density   1.813331\n",
       "7 immigrant_prop           1.247169\n",
       "8 education_prop           3.692439"
      ]
     },
     "metadata": {},
     "output_type": "display_data"
    }
   ],
   "source": [
    "# Carry out a downtown only regression\n",
    "reg_log_dt <- lm(log_crime_rate ~  log_light_count + log_school_index +  log_cultural_space_index\n",
    "               + log_income  + log_mean_age + log_population_density + immigrant_prop + education_prop,\n",
    "              data = census_index_crime_log_dt)\n",
    "\n",
    "white_test <- bptest(reg_log_dt, ~ fitted(reg_log_dt) + I(fitted(reg_log_dt)^2), data = census_index_crime_log_dt)\n",
    "print(white_test) \n",
    "\n",
    "robust_se_dt <- sqrt(diag(vcovHC(reg_log_dt, type = \"HC1\")))\n",
    "\n",
    "stargazer(reg_log_dt, type = \"text\", \n",
    "        title = \"Log-Log Regression Results with Robust Standard Errors\", \n",
    "        dep.var.labels = c(\"Log Crime Rate\"), \n",
    "        # se = list(robust_se_dt),\n",
    "        single.row=TRUE)\n",
    "vif(reg_log_dt)|>\n",
    "    tidy()"
   ]
  },
  {
   "cell_type": "markdown",
   "metadata": {},
   "source": [
    "Since we noticed the homoskedasticity of this model, we decide to explore more."
   ]
  },
  {
   "cell_type": "code",
   "execution_count": 32,
   "metadata": {
    "vscode": {
     "languageId": "r"
    }
   },
   "outputs": [
    {
     "name": "stdout",
     "output_type": "stream",
     "text": [
      "Rows: 608\n",
      "Columns: 37\n",
      "$ name.x                   \u001b[3m\u001b[90m<chr>\u001b[39m\u001b[23m \"59150309\", \"59150311\", \"59150329\", \"59150330…\n",
      "$ households               \u001b[3m\u001b[90m<int>\u001b[39m\u001b[23m 269, 181, 333, 174, 275, 246, 185, 192, 213, …\n",
      "$ dwellings                \u001b[3m\u001b[90m<int>\u001b[39m\u001b[23m 299, 199, 356, 189, 307, 264, 202, 208, 225, …\n",
      "$ population               \u001b[3m\u001b[90m<int>\u001b[39m\u001b[23m 745, 532, 959, 506, 782, 683, 541, 507, 618, …\n",
      "$ population_density       \u001b[3m\u001b[90m<dbl>\u001b[39m\u001b[23m 6663.7, 6567.9, 3109.6, 6462.3, 5068.0, 6103.…\n",
      "$ region                   \u001b[3m\u001b[90m<chr>\u001b[39m\u001b[23m \"Vancouver\", \"Vancouver\", \"Vancouver\", \"Vanco…\n",
      "$ area_sq_km               \u001b[3m\u001b[90m<dbl>\u001b[39m\u001b[23m 0.11190, 0.08094, 0.30854, 0.07820, 0.15441, …\n",
      "$ age                      \u001b[3m\u001b[90m<int>\u001b[39m\u001b[23m 745, 530, 960, 510, 785, 680, 545, 505, 620, …\n",
      "$ income                   \u001b[3m\u001b[90m<dbl>\u001b[39m\u001b[23m 0.84736, 0.82517, 0.66688, 0.82176, 0.67840, …\n",
      "$ immigrant_prop           \u001b[3m\u001b[90m<dbl>\u001b[39m\u001b[23m 0.3557047, 0.4041353, 0.5422315, 0.3557312, 0…\n",
      "$ education_prop           \u001b[3m\u001b[90m<dbl>\u001b[39m\u001b[23m 0.3154362, 0.2537594, 0.1876955, 0.1581028, 0…\n",
      "$ school_index             \u001b[3m\u001b[90m<dbl>\u001b[39m\u001b[23m 2.283703, 2.388786, 2.677803, 2.721358, 3.545…\n",
      "$ light_index              \u001b[3m\u001b[90m<dbl>\u001b[39m\u001b[23m 3.687467, 3.068842, 3.781829, 3.600480, 3.927…\n",
      "$ bus_index                \u001b[3m\u001b[90m<dbl>\u001b[39m\u001b[23m 2.631079, 2.604649, 3.209212, 2.939070, 2.952…\n",
      "$ cultural_space_index     \u001b[3m\u001b[90m<dbl>\u001b[39m\u001b[23m 2.337378, 2.351434, 2.478247, 2.568944, 2.650…\n",
      "$ crime_count              \u001b[3m\u001b[90m<int>\u001b[39m\u001b[23m 31, 14, 23, 12, 15, 12, 8, 8, 8, 16, 20, 19, …\n",
      "$ crime_rate               \u001b[3m\u001b[90m<dbl>\u001b[39m\u001b[23m 416.1074, 263.1579, 239.8332, 237.1542, 191.8…\n",
      "$ mean_land_value          \u001b[3m\u001b[90m<dbl>\u001b[39m\u001b[23m 0.7501839, 0.9045840, 1.5684421, 0.9563577, 1…\n",
      "$ log_crime_rate           \u001b[3m\u001b[90m<dbl>\u001b[39m\u001b[23m 6.030943, 5.572754, 5.479944, 5.468710, 5.256…\n",
      "$ log_mean_land_value      \u001b[3m\u001b[90m<dbl>\u001b[39m\u001b[23m -0.28743690, -0.10028011, 0.45008283, -0.0446…\n",
      "$ log_school_index         \u001b[3m\u001b[90m<dbl>\u001b[39m\u001b[23m 0.8257981, 0.8707852, 0.9849966, 1.0011311, 1…\n",
      "$ log_light_index          \u001b[3m\u001b[90m<dbl>\u001b[39m\u001b[23m 1.304940, 1.121300, 1.330208, 1.281067, 1.368…\n",
      "$ log_bus_index            \u001b[3m\u001b[90m<dbl>\u001b[39m\u001b[23m 0.9673941, 0.9572979, 1.1660255, 1.0780933, 1…\n",
      "$ log_cultural_space_index \u001b[3m\u001b[90m<dbl>\u001b[39m\u001b[23m 0.8490300, 0.8550251, 0.9075516, 0.9434950, 0…\n",
      "$ log_income               \u001b[3m\u001b[90m<dbl>\u001b[39m\u001b[23m -0.16562965, -0.19216585, -0.40514516, -0.196…\n",
      "$ light_count              \u001b[3m\u001b[90m<int>\u001b[39m\u001b[23m 81, 32, 122, 38, 78, 79, 73, 62, 69, 74, 58, …\n",
      "$ log_light_count          \u001b[3m\u001b[90m<dbl>\u001b[39m\u001b[23m 4.394449, 3.465736, 4.804021, 3.637586, 4.356…\n",
      "$ mean_age                 \u001b[3m\u001b[90m<dbl>\u001b[39m\u001b[23m 41.5, 40.1, 42.3, 42.1, 42.0, 43.6, 44.8, 45.…\n",
      "$ prop_working_age         \u001b[3m\u001b[90m<dbl>\u001b[39m\u001b[23m 0.745, 0.710, 0.724, 0.752, 0.667, 0.708, 0.6…\n",
      "$ log_mean_age             \u001b[3m\u001b[90m<dbl>\u001b[39m\u001b[23m 3.725693, 3.691376, 3.744787, 3.740048, 3.737…\n",
      "$ insite_dummy             \u001b[3m\u001b[90m<int>\u001b[39m\u001b[23m 0, 0, 0, 0, 0, 0, 0, 0, 0, 0, 0, 0, 0, 0, 0, …\n",
      "$ is_downtown              \u001b[3m\u001b[90m<int>\u001b[39m\u001b[23m 0, 0, 0, 0, 0, 0, 0, 0, 0, 0, 0, 0, 0, 0, 0, …\n",
      "$ log_population_density   \u001b[3m\u001b[90m<dbl>\u001b[39m\u001b[23m 8.804430, 8.789949, 8.042249, 8.773741, 8.530…\n",
      "$ name.y                   \u001b[3m\u001b[90m<chr>\u001b[39m\u001b[23m \"Hastings-Sunrise\", \"Hastings-Sunrise\", \"Hast…\n",
      "$ geom                     \u001b[3m\u001b[90m<chr>\u001b[39m\u001b[23m \"{\\\"coordinates\\\": [[[-123.05648803710938, 49…\n",
      "$ geo_point_2d             \u001b[3m\u001b[90m<chr>\u001b[39m\u001b[23m \"49.27793405209019, -123.04026992328848\", \"49…\n",
      "$ geometry                 \u001b[3m\u001b[90m<MULTIPOLYGON [°]>\u001b[39m\u001b[23m MULTIPOLYGON (((-123.0283 4..., …\n"
     ]
    }
   ],
   "source": [
    "# Create a new dataset that exclude downtown\n",
    "non_downtown_areas <- local_area_boundary_valid %>%\n",
    "  filter(!name %in% c(\"West End\", \"Downtown\", \"Strathcona\"))\n",
    "\n",
    "census_index_crime_log_ut <- st_join(\n",
    "  census_index_crime_log,\n",
    "  non_downtown_areas,\n",
    "  join = st_within,\n",
    "  left = FALSE\n",
    ")\n",
    "\n",
    "glimpse(census_index_crime_log_ut)"
   ]
  },
  {
   "cell_type": "code",
   "execution_count": 33,
   "metadata": {
    "vscode": {
     "languageId": "r"
    }
   },
   "outputs": [
    {
     "name": "stdout",
     "output_type": "stream",
     "text": [
      "\n",
      "\tstudentized Breusch-Pagan test\n",
      "\n",
      "data:  reg_log_ut\n",
      "BP = 4.7499, df = 2, p-value = 0.09302\n",
      "\n",
      "\n",
      "Log-Log Regression Results with Robust Standard Errors\n",
      "====================================================\n",
      "                             Dependent variable:    \n",
      "                         ---------------------------\n",
      "                               Log Crime Rate       \n",
      "----------------------------------------------------\n",
      "log_light_count               0.294*** (0.052)      \n",
      "log_school_index               -0.219* (0.122)      \n",
      "log_cultural_space_index      1.208*** (0.126)      \n",
      "log_income                    -0.612*** (0.088)     \n",
      "log_mean_age                  -1.060*** (0.251)     \n",
      "log_population_density        -0.237*** (0.053)     \n",
      "immigrant_prop                -0.527*** (0.179)     \n",
      "education_prop                1.115*** (0.197)      \n",
      "Constant                      9.138*** (1.166)      \n",
      "----------------------------------------------------\n",
      "Observations                         608            \n",
      "R2                                  0.459           \n",
      "Adjusted R2                         0.451           \n",
      "Residual Std. Error           0.491 (df = 599)      \n",
      "F Statistic                63.402*** (df = 8; 599)  \n",
      "====================================================\n",
      "Note:                    *p<0.1; **p<0.05; ***p<0.01\n"
     ]
    },
    {
     "name": "stderr",
     "output_type": "stream",
     "text": [
      "Warning message in tidy.numeric(vif(reg_log_ut)):\n",
      "\"'tidy.numeric' is deprecated.\n",
      "See help(\"Deprecated\")\"\n"
     ]
    },
    {
     "data": {
      "text/html": [
       "<table class=\"dataframe\">\n",
       "<caption>A tibble: 8 × 2</caption>\n",
       "<thead>\n",
       "\t<tr><th scope=col>names</th><th scope=col>x</th></tr>\n",
       "\t<tr><th scope=col>&lt;chr&gt;</th><th scope=col>&lt;dbl&gt;</th></tr>\n",
       "</thead>\n",
       "<tbody>\n",
       "\t<tr><td>log_light_count         </td><td>1.988655</td></tr>\n",
       "\t<tr><td>log_school_index        </td><td>1.929550</td></tr>\n",
       "\t<tr><td>log_cultural_space_index</td><td>2.746134</td></tr>\n",
       "\t<tr><td>log_income              </td><td>1.693282</td></tr>\n",
       "\t<tr><td>log_mean_age            </td><td>1.092807</td></tr>\n",
       "\t<tr><td>log_population_density  </td><td>2.531558</td></tr>\n",
       "\t<tr><td>immigrant_prop          </td><td>1.936805</td></tr>\n",
       "\t<tr><td>education_prop          </td><td>1.723233</td></tr>\n",
       "</tbody>\n",
       "</table>\n"
      ],
      "text/latex": [
       "A tibble: 8 × 2\n",
       "\\begin{tabular}{ll}\n",
       " names & x\\\\\n",
       " <chr> & <dbl>\\\\\n",
       "\\hline\n",
       "\t log\\_light\\_count          & 1.988655\\\\\n",
       "\t log\\_school\\_index         & 1.929550\\\\\n",
       "\t log\\_cultural\\_space\\_index & 2.746134\\\\\n",
       "\t log\\_income               & 1.693282\\\\\n",
       "\t log\\_mean\\_age             & 1.092807\\\\\n",
       "\t log\\_population\\_density   & 2.531558\\\\\n",
       "\t immigrant\\_prop           & 1.936805\\\\\n",
       "\t education\\_prop           & 1.723233\\\\\n",
       "\\end{tabular}\n"
      ],
      "text/markdown": [
       "\n",
       "A tibble: 8 × 2\n",
       "\n",
       "| names &lt;chr&gt; | x &lt;dbl&gt; |\n",
       "|---|---|\n",
       "| log_light_count          | 1.988655 |\n",
       "| log_school_index         | 1.929550 |\n",
       "| log_cultural_space_index | 2.746134 |\n",
       "| log_income               | 1.693282 |\n",
       "| log_mean_age             | 1.092807 |\n",
       "| log_population_density   | 2.531558 |\n",
       "| immigrant_prop           | 1.936805 |\n",
       "| education_prop           | 1.723233 |\n",
       "\n"
      ],
      "text/plain": [
       "  names                    x       \n",
       "1 log_light_count          1.988655\n",
       "2 log_school_index         1.929550\n",
       "3 log_cultural_space_index 2.746134\n",
       "4 log_income               1.693282\n",
       "5 log_mean_age             1.092807\n",
       "6 log_population_density   2.531558\n",
       "7 immigrant_prop           1.936805\n",
       "8 education_prop           1.723233"
      ]
     },
     "metadata": {},
     "output_type": "display_data"
    }
   ],
   "source": [
    "reg_log_ut <- lm(log_crime_rate ~  log_light_count + log_school_index +  log_cultural_space_index\n",
    "               + log_income + log_mean_age + log_population_density + immigrant_prop + education_prop,\n",
    "              data = census_index_crime_log_ut)\n",
    "\n",
    "white_test <- bptest(reg_log_ut, ~ fitted(reg_log_ut) + I(fitted(reg_log_ut)^2), data = census_index_crime_log_ut)\n",
    "print(white_test) \n",
    "\n",
    "robust_se_ut <- sqrt(diag(vcovHC(reg_log_ut, type = \"HC1\")))\n",
    "\n",
    "stargazer(reg_log_ut, type = \"text\", \n",
    "        title = \"Log-Log Regression Results with Robust Standard Errors\", \n",
    "        dep.var.labels = c(\"Log Crime Rate\"), \n",
    "        # se = list(robust_se_ut),\n",
    "        single.row=TRUE)\n",
    "\n",
    "vif(reg_log_ut)|>\n",
    "        tidy()"
   ]
  },
  {
   "cell_type": "code",
   "execution_count": 34,
   "metadata": {
    "vscode": {
     "languageId": "r"
    }
   },
   "outputs": [
    {
     "name": "stdout",
     "output_type": "stream",
     "text": [
      "\n",
      "\tstudentized Breusch-Pagan test\n",
      "\n",
      "data:  reg_linear\n",
      "BP = 113.54, df = 2, p-value < 2.2e-16\n",
      "\n",
      "\n",
      "Regression Results with Robust Standard Errors\n",
      "==========================================================================\n",
      "                                           Dependent variable:            \n",
      "                               -------------------------------------------\n",
      "                                               Crime Rate                 \n",
      "                                        SE                    RSE         \n",
      "                                        (1)                   (2)         \n",
      "--------------------------------------------------------------------------\n",
      "light_count                       1.663** (0.748)        1.663 (1.261)    \n",
      "school_index                   -168.042*** (34.909)  -168.042*** (46.023) \n",
      "cultural_space_index            387.172*** (39.543)   387.172*** (83.304) \n",
      "income                         -459.504*** (108.403) -459.504*** (111.142)\n",
      "mean_age                          -4.497 (5.039)        -4.497 (5.006)    \n",
      "population_density               -0.018*** (0.003)     -0.018*** (0.005)  \n",
      "immigrant_prop                   147.498 (181.097)     147.498 (186.462)  \n",
      "education_prop                   104.718 (205.985)     104.718 (260.656)  \n",
      "light_count:is_downtown          4.421*** (0.784)        4.421 (2.883)    \n",
      "Constant                         326.908 (295.864)     326.908 (262.532)  \n",
      "--------------------------------------------------------------------------\n",
      "Observations                            989                   989         \n",
      "R2                                     0.358                 0.358        \n",
      "Adjusted R2                            0.352                 0.352        \n",
      "Residual Std. Error (df = 979)        677.575               677.575       \n",
      "F Statistic (df = 9; 979)            60.732***             60.732***      \n",
      "==========================================================================\n",
      "Note:                                          *p<0.1; **p<0.05; ***p<0.01\n"
     ]
    },
    {
     "name": "stderr",
     "output_type": "stream",
     "text": [
      "there are higher-order terms (interactions) in this model\n",
      "consider setting type = 'predictor'; see ?vif\n",
      "\n",
      "Warning message in tidy.numeric(vif(reg_linear)):\n",
      "\"'tidy.numeric' is deprecated.\n",
      "See help(\"Deprecated\")\"\n"
     ]
    },
    {
     "data": {
      "text/html": [
       "<table class=\"dataframe\">\n",
       "<caption>A tibble: 9 × 2</caption>\n",
       "<thead>\n",
       "\t<tr><th scope=col>names</th><th scope=col>x</th></tr>\n",
       "\t<tr><th scope=col>&lt;chr&gt;</th><th scope=col>&lt;dbl&gt;</th></tr>\n",
       "</thead>\n",
       "<tbody>\n",
       "\t<tr><td>light_count            </td><td>3.930266</td></tr>\n",
       "\t<tr><td>school_index           </td><td>1.393091</td></tr>\n",
       "\t<tr><td>cultural_space_index   </td><td>2.430286</td></tr>\n",
       "\t<tr><td>income                 </td><td>1.555232</td></tr>\n",
       "\t<tr><td>mean_age               </td><td>1.059817</td></tr>\n",
       "\t<tr><td>population_density     </td><td>1.788304</td></tr>\n",
       "\t<tr><td>immigrant_prop         </td><td>1.588736</td></tr>\n",
       "\t<tr><td>education_prop         </td><td>1.655654</td></tr>\n",
       "\t<tr><td>light_count:is_downtown</td><td>3.882445</td></tr>\n",
       "</tbody>\n",
       "</table>\n"
      ],
      "text/latex": [
       "A tibble: 9 × 2\n",
       "\\begin{tabular}{ll}\n",
       " names & x\\\\\n",
       " <chr> & <dbl>\\\\\n",
       "\\hline\n",
       "\t light\\_count             & 3.930266\\\\\n",
       "\t school\\_index            & 1.393091\\\\\n",
       "\t cultural\\_space\\_index    & 2.430286\\\\\n",
       "\t income                  & 1.555232\\\\\n",
       "\t mean\\_age                & 1.059817\\\\\n",
       "\t population\\_density      & 1.788304\\\\\n",
       "\t immigrant\\_prop          & 1.588736\\\\\n",
       "\t education\\_prop          & 1.655654\\\\\n",
       "\t light\\_count:is\\_downtown & 3.882445\\\\\n",
       "\\end{tabular}\n"
      ],
      "text/markdown": [
       "\n",
       "A tibble: 9 × 2\n",
       "\n",
       "| names &lt;chr&gt; | x &lt;dbl&gt; |\n",
       "|---|---|\n",
       "| light_count             | 3.930266 |\n",
       "| school_index            | 1.393091 |\n",
       "| cultural_space_index    | 2.430286 |\n",
       "| income                  | 1.555232 |\n",
       "| mean_age                | 1.059817 |\n",
       "| population_density      | 1.788304 |\n",
       "| immigrant_prop          | 1.588736 |\n",
       "| education_prop          | 1.655654 |\n",
       "| light_count:is_downtown | 3.882445 |\n",
       "\n"
      ],
      "text/plain": [
       "  names                   x       \n",
       "1 light_count             3.930266\n",
       "2 school_index            1.393091\n",
       "3 cultural_space_index    2.430286\n",
       "4 income                  1.555232\n",
       "5 mean_age                1.059817\n",
       "6 population_density      1.788304\n",
       "7 immigrant_prop          1.588736\n",
       "8 education_prop          1.655654\n",
       "9 light_count:is_downtown 3.882445"
      ]
     },
     "metadata": {},
     "output_type": "display_data"
    }
   ],
   "source": [
    "# Create a linear regression model with our controls, without log-log transformation\n",
    "reg_linear <- lm(crime_rate ~  light_count + school_index +  cultural_space_index\n",
    "               + income + mean_age + population_density + immigrant_prop + education_prop + is_downtown:light_count,\n",
    "              data = census_index_crime_log)\n",
    "\n",
    "white_test <- bptest(reg_linear, ~ fitted(reg_linear) + I(fitted(reg_linear)^2), data = census_index_crime_log)\n",
    "print(white_test) \n",
    "\n",
    "robust_se_linear <- sqrt(diag(vcovHC(reg_linear, type = \"HC1\")))\n",
    "\n",
    "stargazer(reg_linear, reg_linear, type = \"text\", \n",
    "        title = \"Regression Results with Robust Standard Errors\", \n",
    "        column.labels = c(\"SE\", \"RSE\"),\n",
    "        dep.var.labels = c(\"Crime Rate\"), \n",
    "        se = list(NULL, robust_se_linear),\n",
    "        single.row=TRUE)\n",
    "\n",
    "vif(reg_linear)|>\n",
    "        tidy()"
   ]
  },
  {
   "cell_type": "markdown",
   "metadata": {},
   "source": [
    "<h4>Result Summary<h4>"
   ]
  },
  {
   "cell_type": "markdown",
   "metadata": {},
   "source": [
    "Comparing data before and after log-log transformation."
   ]
  },
  {
   "cell_type": "code",
   "execution_count": 35,
   "metadata": {
    "vscode": {
     "languageId": "r"
    }
   },
   "outputs": [
    {
     "name": "stderr",
     "output_type": "stream",
     "text": [
      "Warning message:\n",
      "\"\u001b[1m\u001b[22mUsing an external vector in selections was deprecated in tidyselect 1.1.0.\n",
      "\u001b[36mℹ\u001b[39m Please use `all_of()` or `any_of()` instead.\n",
      "  # Was:\n",
      "  data %>% select(regressors_age_logless)\n",
      "\n",
      "  # Now:\n",
      "  data %>% select(all_of(regressors_age_logless))\n",
      "\n",
      "See <https://tidyselect.r-lib.org/reference/faq-external-vector.html>.\"\n",
      "\u001b[1m\u001b[22m`geom_smooth()` using formula = 'y ~ x'\n"
     ]
    },
    {
     "data": {
      "image/png": "[encoded data removed]",
      "text/plain": [
       "plot without title"
      ]
     },
     "metadata": {
      "image/png": {
       "height": 720,
       "width": 900
      }
     },
     "output_type": "display_data"
    }
   ],
   "source": [
    "regressors_age_logless <- c('light_count', 'school_index', 'cultural_space_index', \n",
    "                'income', 'population_density', 'mean_age','immigrant_prop', 'education_prop','is_downtown')\n",
    "\n",
    "long_data_age_logless <- census_index_crime_log |>\n",
    "  pivot_longer(cols = regressors_age_logless,\n",
    "               names_to = \"regressor\",\n",
    "               values_to = \"value\")\n",
    "\n",
    "variables_scatter_logless <- ggplot(long_data_age_logless, aes(x = value, y = crime_rate)) +\n",
    "  geom_point(color = \"darkblue\", alpha = 0.6) +\n",
    "  facet_wrap(~ regressor, scales = \"free_x\") + \n",
    "  labs(title = \"Crime Rate vs Regressors\",\n",
    "       x = \"Explanatory Variable Value\",\n",
    "       y = \"Crime Rate\") +\n",
    "  geom_smooth(method = \"lm\", se = FALSE, color = \"red\") +\n",
    "  theme_minimal() +\n",
    "  theme(plot.title = element_text(size = 20, face = \"bold\"),\n",
    "        strip.text = element_text(size = 15),  \n",
    "        axis.title = element_text(size = 14),\n",
    "        axis.text = element_text(size = 12))\n",
    "\n",
    "variables_scatter_logless"
   ]
  },
  {
   "cell_type": "code",
   "execution_count": 36,
   "metadata": {
    "vscode": {
     "languageId": "r"
    }
   },
   "outputs": [
    {
     "name": "stderr",
     "output_type": "stream",
     "text": [
      "Warning message:\n",
      "\"\u001b[1m\u001b[22mUsing an external vector in selections was deprecated in tidyselect 1.1.0.\n",
      "\u001b[36mℹ\u001b[39m Please use `all_of()` or `any_of()` instead.\n",
      "  # Was:\n",
      "  data %>% select(regressors_log)\n",
      "\n",
      "  # Now:\n",
      "  data %>% select(all_of(regressors_log))\n",
      "\n",
      "See <https://tidyselect.r-lib.org/reference/faq-external-vector.html>.\"\n",
      "\u001b[1m\u001b[22m`geom_smooth()` using formula = 'y ~ x'\n"
     ]
    },
    {
     "data": {
      "image/png": "[encoded data removed]",
      "text/plain": [
       "plot without title"
      ]
     },
     "metadata": {
      "image/png": {
       "height": 720,
       "width": 900
      }
     },
     "output_type": "display_data"
    }
   ],
   "source": [
    "regressors_log <- c('log_light_count', 'log_school_index', 'log_cultural_space_index', \n",
    "                'log_income', 'log_population_density', 'log_mean_age','immigrant_prop', 'education_prop','is_downtown')\n",
    "\n",
    "long_data_log <- census_index_crime_log |>\n",
    "  pivot_longer(cols = regressors_log,\n",
    "               names_to = \"regressor\",\n",
    "               values_to = \"value\")\n",
    "\n",
    "log_log_variables_scatter_log <- ggplot(long_data_log, aes(x = value, y = log_crime_rate)) +\n",
    "  geom_point(color = \"darkblue\", alpha = 0.6) +\n",
    "  facet_wrap(~ regressor, scales = \"free_x\") + \n",
    "  labs(title = \"Log(Crime Rate) vs log(Regressors)\",\n",
    "       x = \"Explanatory Variable Value\",\n",
    "       y = \"Log(Crime Rate)\") +\n",
    "  geom_smooth(method = \"lm\", se = FALSE, color = \"red\") +\n",
    "  theme_minimal() +\n",
    "  theme(plot.title = element_text(size = 20, face = \"bold\"),\n",
    "        strip.text = element_text(size = 15),  \n",
    "        axis.title = element_text(size = 14),\n",
    "        axis.text = element_text(size = 12))\n",
    "\n",
    "log_log_variables_scatter_log"
   ]
  },
  {
   "cell_type": "code",
   "execution_count": 37,
   "metadata": {
    "vscode": {
     "languageId": "r"
    }
   },
   "outputs": [
    {
     "name": "stderr",
     "output_type": "stream",
     "text": [
      "Warning message:\n",
      "\"\u001b[1m\u001b[22mUsing an external vector in selections was deprecated in tidyselect 1.1.0.\n",
      "\u001b[36mℹ\u001b[39m Please use `all_of()` or `any_of()` instead.\n",
      "  # Was:\n",
      "  data %>% select(regressors_inverse)\n",
      "\n",
      "  # Now:\n",
      "  data %>% select(all_of(regressors_inverse))\n",
      "\n",
      "See <https://tidyselect.r-lib.org/reference/faq-external-vector.html>.\"\n",
      "\u001b[1m\u001b[22m`geom_smooth()` using formula = 'y ~ x'\n"
     ]
    },
    {
     "data": {
      "image/png": "[encoded data removed]",
      "text/plain": [
       "plot without title"
      ]
     },
     "metadata": {
      "image/png": {
       "height": 720,
       "width": 900
      }
     },
     "output_type": "display_data"
    }
   ],
   "source": [
    "# Inverse model visualization\n",
    "regressors_inverse <- c('log_crime_rate', 'log_school_index', 'log_cultural_space_index', \n",
    "                'log_income', 'log_population_density', 'log_mean_age','immigrant_prop', 'education_prop')\n",
    "\n",
    "long_data_inverse <- census_index_crime_log |>\n",
    "  pivot_longer(cols = regressors_inverse,\n",
    "               names_to = \"regressor\",\n",
    "               values_to = \"value\")\n",
    "\n",
    "log_log_variables_scatter_inverse <- ggplot(long_data_inverse, aes(x = value, y = log_light_count)) +\n",
    "  geom_point(color = \"darkblue\", alpha = 0.6) +\n",
    "  facet_wrap(~ regressor, scales = \"free_x\") + \n",
    "  labs(title = \"Log(Light Count) vs log(Regressors)\",\n",
    "       x = \"Explanatory Variable Value\",\n",
    "       y = \"Log(Light Count)\") +\n",
    "  geom_smooth(method = \"lm\", se = FALSE, color = \"red\") +\n",
    "  theme_minimal() +\n",
    "  theme(plot.title = element_text(size = 20, face = \"bold\"),\n",
    "        strip.text = element_text(size = 15),  \n",
    "        axis.title = element_text(size = 14),\n",
    "        axis.text = element_text(size = 12))\n",
    "\n",
    "log_log_variables_scatter_inverse\n"
   ]
  },
  {
   "cell_type": "markdown",
   "metadata": {},
   "source": [
    "Comparing of regression outputs."
   ]
  },
  {
   "cell_type": "code",
   "execution_count": 38,
   "metadata": {
    "vscode": {
     "languageId": "r"
    }
   },
   "outputs": [
    {
     "name": "stdout",
     "output_type": "stream",
     "text": [
      "\n",
      "Table 1: Log-Log Regression Results with Robust Standard Errors\n",
      "===========================================================================================================================================================\n",
      "                                                                                    Dependent variable:                                                    \n",
      "                                ---------------------------------------------------------------------------------------------------------------------------\n",
      "                                                                                     Log (Crime Rate)                                                      \n",
      "                                          (1)                     (2)                      (3)                      (4)                      (5)           \n",
      "-----------------------------------------------------------------------------------------------------------------------------------------------------------\n",
      "Log (Light Count)                  0.345*** (0.048)         0.520*** (0.037)         0.527*** (0.037)         0.486*** (0.038)         0.393*** (0.044)    \n",
      "Log (Mean Land Value)                                       0.093** (0.036)          0.093** (0.037)          0.101*** (0.037)          0.021 (0.043)      \n",
      "Log (School Index)                                         -0.531*** (0.107)        -0.340*** (0.103)        -0.322*** (0.104)        -0.612*** (0.108)    \n",
      "Log (Cultural Space Index)                                  1.485*** (0.111)         1.215*** (0.110)         1.189*** (0.112)         1.651*** (0.113)    \n",
      "Log Income                                                 -0.562*** (0.067)        -0.480*** (0.069)        -0.462*** (0.071)        -0.681*** (0.077)    \n",
      "Log (Mean Age)                                              -0.470** (0.224)         -0.535** (0.228)         -0.527** (0.226)        -0.594*** (0.223)    \n",
      "Log (Population Density)                                                                                                              -0.202*** (0.051)    \n",
      "Immigrant Proportion                                       -0.511*** (0.153)        -0.632*** (0.151)        -0.614*** (0.151)         -0.362** (0.157)    \n",
      "Education Proportion                                        0.725*** (0.195)         0.653*** (0.193)         0.638*** (0.193)         0.911*** (0.204)    \n",
      "Is Downtown                                                                          0.327*** (0.075)                                                      \n",
      "Is Downtown X Log (Light Count)                                                                               0.096*** (0.021)                             \n",
      "Constant                           4.358*** (0.181)         4.230*** (0.849)         4.558*** (0.870)         4.689*** (0.871)         6.746*** (1.007)    \n",
      "-----------------------------------------------------------------------------------------------------------------------------------------------------------\n",
      "Observations                              989                     989                      989                      989                      989           \n",
      "R2                                       0.076                   0.514                    0.526                    0.528                    0.526          \n",
      "Adjusted R2                              0.075                   0.510                    0.521                    0.524                    0.521          \n",
      "Residual Std. Error                0.785 (df = 987)         0.572 (df = 980)         0.565 (df = 979)         0.563 (df = 979)         0.565 (df = 979)    \n",
      "F Statistic                     81.162*** (df = 1; 987) 129.344*** (df = 8; 980) 120.535*** (df = 9; 979) 121.777*** (df = 9; 979) 120.623*** (df = 9; 979)\n",
      "===========================================================================================================================================================\n",
      "Note:                                                                                                                           *p<0.1; **p<0.05; ***p<0.01\n"
     ]
    }
   ],
   "source": [
    "# Waterfall table 1\n",
    "reg_foot_traffic <- list(reg_log_simple2, reg_log1, reg_log3, reg_log_interaction, reg_log4)\n",
    "\n",
    "stargazer(reg_foot_traffic, type = \"text\", \n",
    "        title = \"Table 1: Log-Log Regression Results with Robust Standard Errors\", \n",
    "        dep.var.labels = c(\"Log (Crime Rate)\"), \n",
    "          covariate.labels = c(\n",
    "                \"Log (Light Count)\", \n",
    "               \"Log (Mean Land Value)\",\n",
    "               \"Log (School Index)\", \n",
    "               \"Log (Cultural Space Index)\", \n",
    "               \"Log Income\", \n",
    "               \"Log (Mean Age)\",\n",
    "               \"Log (Population Density)\",\n",
    "               \"Immigrant Proportion\", \n",
    "                \"Education Proportion\",\n",
    "                \"Is Downtown\",\n",
    "                \"Is Downtown X Log (Light Count)\"),\n",
    "        se = list(robust_se_simple2, robust_se1, robust_se3, robust_se_interaction, robust_se4),\n",
    "        single.row = TRUE,\n",
    "        align=TRUE)"
   ]
  },
  {
   "cell_type": "code",
   "execution_count": 39,
   "metadata": {
    "vscode": {
     "languageId": "r"
    }
   },
   "outputs": [
    {
     "name": "stdout",
     "output_type": "stream",
     "text": [
      "\n",
      "Table 2: Comparing the endogeneity effect\n",
      "==================================================================\n",
      "                                       Dependent variable:        \n",
      "                               -----------------------------------\n",
      "                               Log (Crime Rate)  Log (Light Count)\n",
      "                                      (1)               (2)       \n",
      "------------------------------------------------------------------\n",
      "Log (Light Count)              0.388*** (0.043)                   \n",
      "Log (Crime Rate)                                 0.246*** (0.030) \n",
      "Log (School Index)             -0.621*** (0.106)   0.103 (0.080)  \n",
      "Log (Cultural Space Index)     1.660*** (0.112)    0.158 (0.103)  \n",
      "Log Income                     -0.687*** (0.076)  0.135** (0.061) \n",
      "Log (Mean Age)                 -0.583*** (0.224)  -0.029 (0.178)  \n",
      "Log (Population Density)       -0.215*** (0.043) -0.485*** (0.028)\n",
      "Immigrant Proportion           -0.355** (0.151)  0.754*** (0.125) \n",
      "Education Proportion           0.936*** (0.187)  -0.419*** (0.128)\n",
      "Constant                       6.835*** (1.063)  6.435*** (0.781) \n",
      "------------------------------------------------------------------\n",
      "Observations                          989               989       \n",
      "R2                                   0.526             0.529      \n",
      "Adjusted R2                          0.522             0.525      \n",
      "Residual Std. Error (df = 980)       0.565             0.450      \n",
      "F Statistic (df = 8; 980)         135.716***        137.321***    \n",
      "==================================================================\n",
      "Note:                                  *p<0.1; **p<0.05; ***p<0.01\n"
     ]
    }
   ],
   "source": [
    "# Endogeneity Comparison\n",
    "stargazer(reg_log5,  reg_log_inverse, type = \"text\",\n",
    "          title = \"Table 2: Comparing the endogeneity effect\",\n",
    "          covariate.labels = c(\"Log (Light Count)\",\n",
    "               \"Log (Crime Rate)\", \n",
    "               \"Log (School Index)\", \n",
    "               \"Log (Cultural Space Index)\", \n",
    "               \"Log Income\",\n",
    "               \"Log (Mean Age)\",\n",
    "               \"Log (Population Density)\",\n",
    "               \"Immigrant Proportion\", \n",
    "                \"Education Proportion\"),\n",
    "                se = list(robust_se8, robust_se_inverse),\n",
    "          dep.var.labels = c(\"Log (Crime Rate)\", \"Log (Light Count)\"),\n",
    "          single.row = TRUE)"
   ]
  },
  {
   "cell_type": "code",
   "execution_count": 40,
   "metadata": {
    "vscode": {
     "languageId": "r"
    }
   },
   "outputs": [
    {
     "name": "stdout",
     "output_type": "stream",
     "text": [
      "\n",
      "Table 3: Log-Log Regression Results with Robust Standard Errors\n",
      "====================================================================================================================================\n",
      "                                                                        Dependent variable:                                         \n",
      "                                ----------------------------------------------------------------------------------------------------\n",
      "                                                                          Log (Crime Rate)                                          \n",
      "                                          (1)                      (2)                       (3)                      (4)           \n",
      "------------------------------------------------------------------------------------------------------------------------------------\n",
      "Log (Light Count)                   0.388*** (0.042)         0.345*** (0.041)         0.286*** (0.048)          0.286*** (0.043)    \n",
      "Log (School Index)                 -0.621*** (0.110)        -0.363*** (0.104)         -0.354*** (0.105)        -0.355*** (0.106)    \n",
      "Log (Cultural Space Index)          1.660*** (0.115)         1.326*** (0.110)         1.310*** (0.111)          1.310*** (0.112)    \n",
      "Log Income                         -0.687*** (0.075)        -0.613*** (0.075)         -0.597*** (0.077)        -0.597*** (0.076)    \n",
      "Log (Mean Age)                     -0.583*** (0.220)        -0.758*** (0.226)         -0.735*** (0.226)        -0.735*** (0.224)    \n",
      "Log (Population Density)           -0.215*** (0.040)        -0.293*** (0.042)         -0.298*** (0.043)        -0.298*** (0.043)    \n",
      "Immigrant Proportion                -0.355** (0.157)        -0.475*** (0.152)         -0.438*** (0.150)        -0.438*** (0.151)    \n",
      "Education Proportion                0.936*** (0.194)         0.879*** (0.187)         0.875*** (0.187)          0.875*** (0.187)    \n",
      "Is Downtown                                                  0.486*** (0.076)           0.004 (0.248)                               \n",
      "Is Downtown X Log (Light Count)                                                        0.136* (0.070)           0.137*** (0.021)    \n",
      "Constant                            6.835*** (0.992)         8.412*** (1.055)         8.596*** (1.063)          8.596*** (1.063)    \n",
      "------------------------------------------------------------------------------------------------------------------------------------\n",
      "Observations                              989                      989                       989                      989           \n",
      "R2                                       0.526                    0.550                     0.552                    0.552          \n",
      "Adjusted R2                              0.522                    0.546                     0.548                    0.548          \n",
      "Residual Std. Error                 0.565 (df = 980)         0.550 (df = 979)         0.549 (df = 978)          0.549 (df = 979)    \n",
      "F Statistic                     135.716*** (df = 8; 980) 132.882*** (df = 9; 979) 120.698*** (df = 10; 978) 134.246*** (df = 9; 979)\n",
      "====================================================================================================================================\n",
      "Note:                                                                                                    *p<0.1; **p<0.05; ***p<0.01\n"
     ]
    }
   ],
   "source": [
    "# Waterfall table 3\n",
    "stargazer(reg_log5, reg_log6,  reg_log7, reg_log8, type = \"text\", \n",
    "        title = \"Table 3: Log-Log Regression Results with Robust Standard Errors\", \n",
    "        dep.var.labels = c(\"Log (Crime Rate)\"), \n",
    "          covariate.labels = c(\n",
    "                \"Log (Light Count)\", \n",
    "               \"Log (School Index)\", \n",
    "               \"Log (Cultural Space Index)\", \n",
    "               \"Log Income\", \n",
    "               \"Log (Mean Age)\",\n",
    "               \"Log (Population Density)\",\n",
    "               \"Immigrant Proportion\", \n",
    "                \"Education Proportion\",\n",
    "                \"Is Downtown\",\n",
    "                \"Is Downtown X Log (Light Count)\"),\n",
    "        se = list(robust_se5, robust_se6, robust_se7, robust_se8),\n",
    "        single.row = TRUE,\n",
    "        align=TRUE)"
   ]
  },
  {
   "cell_type": "code",
   "execution_count": 41,
   "metadata": {
    "vscode": {
     "languageId": "r"
    }
   },
   "outputs": [
    {
     "name": "stdout",
     "output_type": "stream",
     "text": [
      "\n",
      "Table 4: Regression Results by Region with Robust Standard Error in Model 3, 4 and 5\n",
      "==========================================================================================================================================================\n",
      "                                                                                   Dependent variable:                                                    \n",
      "                                --------------------------------------------------------------------------------------------------------------------------\n",
      "                                                                                     Log (Crime Rate)                                                     \n",
      "                                     Downtown-Only           Non-Downtown           Whole Vancouver          Whole Vancouver          Whole Vancouver     \n",
      "                                          (1)                     (2)                     (3)                      (4)                      (5)           \n",
      "----------------------------------------------------------------------------------------------------------------------------------------------------------\n",
      "Log (Light Count)                  0.467*** (0.098)        0.294*** (0.052)         0.388*** (0.042)         0.345*** (0.041)         0.286*** (0.043)    \n",
      "Log (School Index)                 -1.664** (0.709)         -0.219* (0.122)        -0.621*** (0.110)        -0.363*** (0.104)        -0.355*** (0.106)    \n",
      "Log (Cultural Space Index)         1.745*** (0.591)        1.208*** (0.126)         1.660*** (0.115)         1.326*** (0.110)         1.310*** (0.112)    \n",
      "Log Income                          -0.250 (0.244)         -0.612*** (0.088)       -0.687*** (0.075)        -0.613*** (0.075)        -0.597*** (0.076)    \n",
      "Log (Mean Age)                     -1.177** (0.554)        -1.060*** (0.251)       -0.583*** (0.220)        -0.758*** (0.226)        -0.735*** (0.224)    \n",
      "Log (Population Density)           -0.457*** (0.119)       -0.237*** (0.053)       -0.215*** (0.040)        -0.293*** (0.042)        -0.298*** (0.043)    \n",
      "Immigrant Proportion                -0.408 (0.615)         -0.527*** (0.179)        -0.355** (0.157)        -0.475*** (0.152)        -0.438*** (0.151)    \n",
      "Education Proportion                -0.703 (0.870)         1.115*** (0.197)         0.936*** (0.194)         0.879*** (0.187)         0.875*** (0.187)    \n",
      "Is Downtown                                                                                                  0.486*** (0.076)                             \n",
      "Is Downtown X Log (Light Count)                                                                                                       0.137*** (0.021)    \n",
      "Constant                           13.482*** (2.952)       9.138*** (1.166)         6.835*** (0.992)         8.412*** (1.055)         8.596*** (1.063)    \n",
      "----------------------------------------------------------------------------------------------------------------------------------------------------------\n",
      "Observations                              112                     608                     989                      989                      989           \n",
      "R2                                       0.553                   0.459                   0.526                    0.550                    0.552          \n",
      "Adjusted R2                              0.518                   0.451                   0.522                    0.546                    0.548          \n",
      "Residual Std. Error                0.646 (df = 103)        0.491 (df = 599)         0.565 (df = 980)         0.550 (df = 979)         0.549 (df = 979)    \n",
      "F Statistic                     15.937*** (df = 8; 103) 63.402*** (df = 8; 599) 135.716*** (df = 8; 980) 132.882*** (df = 9; 979) 134.246*** (df = 9; 979)\n",
      "==========================================================================================================================================================\n",
      "Note:                                                                                                                          *p<0.1; **p<0.05; ***p<0.01\n"
     ]
    }
   ],
   "source": [
    "# Comparison between our final model and the downtown-only and non-downtown models\n",
    "stargazer(reg_log_dt, reg_log_ut,reg_log5, reg_log6, reg_log8, type = \"text\",\n",
    "          title = \"Table 4: Regression Results by Region with Robust Standard Error in Model 3, 4 and 5\",\n",
    "          column.labels = c(\"Downtown-Only\", \"Non-Downtown\", \"Whole Vancouver\", \"Whole Vancouver\", \"Whole Vancouver\"),\n",
    "          covariate.labels = c(\"Log (Light Count)\", \n",
    "               \"Log (School Index)\", \n",
    "               \"Log (Cultural Space Index)\", \n",
    "               \"Log Income\",\n",
    "               \"Log (Mean Age)\",\n",
    "               \"Log (Population Density)\",\n",
    "               \"Immigrant Proportion\", \n",
    "                \"Education Proportion\",\n",
    "                \"Is Downtown\",\n",
    "                \"Is Downtown X Log (Light Count)\"),\n",
    "                se = list(NULL, NULL, robust_se5, robust_se6, robust_se8),\n",
    "          dep.var.labels = c(\"Log (Crime Rate)\", \"Log (Crime Rate)\"),\n",
    "          single.row = TRUE)"
   ]
  },
  {
   "cell_type": "code",
   "execution_count": 42,
   "metadata": {
    "vscode": {
     "languageId": "r"
    }
   },
   "outputs": [
    {
     "name": "stdout",
     "output_type": "stream",
     "text": [
      "\n",
      "Table 5: Regression Results of Linear and log-log Models\n",
      "=======================================================================\n",
      "                                          Dependent variable:          \n",
      "                                ---------------------------------------\n",
      "                                     Crime Rate       Log (Crime Rate) \n",
      "                                         (1)                 (2)       \n",
      "-----------------------------------------------------------------------\n",
      "Light Count                         1.663 (1.261)                      \n",
      "School Index                    -168.042*** (46.023)                   \n",
      "Cultural Space Index             387.172*** (83.304)                   \n",
      "Income                          -459.504*** (111.142)                  \n",
      "Mean Age                           -4.497 (5.006)                      \n",
      "Population Density                -0.018*** (0.005)                    \n",
      "Log (Light Count)                                     0.286*** (0.043) \n",
      "Log (School Index)                                    -0.355*** (0.106)\n",
      "Log (Cultural Space Index)                            1.310*** (0.112) \n",
      "Log Income                                            -0.597*** (0.076)\n",
      "Log (Mean Age)                                        -0.735*** (0.224)\n",
      "Log (Population Density)                              -0.298*** (0.043)\n",
      "Immigrant Proportion              147.498 (186.462)   -0.438*** (0.151)\n",
      "Education Proportion              104.718 (260.656)   0.875*** (0.187) \n",
      "Is Downtown X Light Count           4.421 (2.883)                      \n",
      "Is Downtown X Log (Light Count)                       0.137*** (0.021) \n",
      "Constant                          326.908 (262.532)   8.596*** (1.063) \n",
      "-----------------------------------------------------------------------\n",
      "Observations                             989                 989       \n",
      "R2                                      0.358               0.552      \n",
      "Adjusted R2                             0.352               0.548      \n",
      "Residual Std. Error (df = 979)         677.575              0.549      \n",
      "F Statistic (df = 9; 979)             60.732***          134.246***    \n",
      "=======================================================================\n",
      "Note:                                       *p<0.1; **p<0.05; ***p<0.01\n"
     ]
    }
   ],
   "source": [
    "# Comparison between a linear model and a log-log model\n",
    "stargazer(reg_linear, reg_log8, type = \"text\",\n",
    "          title = \"Table 5: Regression Results of Linear and log-log Models\",\n",
    "          covariate.labels = c(\"Light Count\", \n",
    "               \"School Index\", \n",
    "               \"Cultural Space Index\", \n",
    "               \"Income\",\n",
    "               \"Mean Age\",\n",
    "               \"Population Density\",\n",
    "               \"Log (Light Count)\", \n",
    "               \"Log (School Index)\", \n",
    "               \"Log (Cultural Space Index)\", \n",
    "               \"Log Income\",\n",
    "               \"Log (Mean Age)\",\n",
    "               \"Log (Population Density)\",\n",
    "               \"Immigrant Proportion\", \n",
    "                \"Education Proportion\",\n",
    "                \"Is Downtown X Light Count\",\n",
    "                \"Is Downtown X Log (Light Count)\"),\n",
    "                se = list(robust_se_linear, robust_se8),\n",
    "          dep.var.labels = c(\"Crime Rate\", \"Log (Crime Rate)\"),\n",
    "          single.row = TRUE)"
   ]
  },
  {
   "cell_type": "code",
   "execution_count": null,
   "metadata": {
    "vscode": {
     "languageId": "r"
    }
   },
   "outputs": [],
   "source": []
  }
 ],
 "metadata": {
  "kernelspec": {
   "display_name": "R",
   "language": "R",
   "name": "ir"
  },
  "language_info": {
   "codemirror_mode": "r",
   "file_extension": ".r",
   "mimetype": "text/x-r-source",
   "name": "R",
   "pygments_lexer": "r",
   "version": "4.4.1"
  }
 },
 "nbformat": 4,
 "nbformat_minor": 2
}
