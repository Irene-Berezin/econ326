{
 "cells": [
  {
   "cell_type": "code",
   "execution_count": 1,
   "metadata": {
    "vscode": {
     "languageId": "r"
    }
   },
   "outputs": [
    {
     "name": "stderr",
     "output_type": "stream",
     "text": [
      "Registered S3 method overwritten by 'geojsonsf':\n",
      "  method        from   \n",
      "  print.geojson geojson\n",
      "\n",
      "\n",
      "Attaching package: 'geojsonio'\n",
      "\n",
      "\n",
      "The following object is masked from 'package:base':\n",
      "\n",
      "    pretty\n",
      "\n",
      "\n",
      "-- \u001b[1mAttaching core tidyverse packages\u001b[22m ------------------------ tidyverse 2.0.0 --\n",
      "\u001b[32mv\u001b[39m \u001b[34mdplyr    \u001b[39m 1.1.4     \u001b[32mv\u001b[39m \u001b[34mreadr    \u001b[39m 2.1.5\n",
      "\u001b[32mv\u001b[39m \u001b[34mforcats  \u001b[39m 1.0.0     \u001b[32mv\u001b[39m \u001b[34mstringr  \u001b[39m 1.5.0\n",
      "\u001b[32mv\u001b[39m \u001b[34mggplot2  \u001b[39m 3.5.1     \u001b[32mv\u001b[39m \u001b[34mtibble   \u001b[39m 3.2.1\n",
      "\u001b[32mv\u001b[39m \u001b[34mlubridate\u001b[39m 1.9.3     \u001b[32mv\u001b[39m \u001b[34mtidyr    \u001b[39m 1.3.1\n",
      "\u001b[32mv\u001b[39m \u001b[34mpurrr    \u001b[39m 1.0.2     \n",
      "-- \u001b[1mConflicts\u001b[22m ------------------------------------------ tidyverse_conflicts() --\n",
      "\u001b[31mx\u001b[39m \u001b[34mdplyr\u001b[39m::\u001b[32mfilter()\u001b[39m masks \u001b[34mstats\u001b[39m::filter()\n",
      "\u001b[31mx\u001b[39m \u001b[34mdplyr\u001b[39m::\u001b[32mlag()\u001b[39m    masks \u001b[34mstats\u001b[39m::lag()\n",
      "\u001b[36mi\u001b[39m Use the conflicted package (\u001b[3m\u001b[34m<http://conflicted.r-lib.org/>\u001b[39m\u001b[23m) to force all conflicts to become errors\n"
     ]
    }
   ],
   "source": [
    "library(geojsonio)\n",
    "library(tidyverse)\n",
    "library(dplyr)\n",
    "library(\"knitr\")"
   ]
  },
  {
   "cell_type": "code",
   "execution_count": 2,
   "metadata": {
    "vscode": {
     "languageId": "r"
    }
   },
   "outputs": [
    {
     "name": "stderr",
     "output_type": "stream",
     "text": [
      "Census data is currently stored temporarily.\n",
      "\n",
      " In order to speed up performance, reduce API quota usage, and reduce unnecessary network calls, please set up a persistent cache directory via `set_cancensus_cache_path('<local cache path>', install = TRUE)`.\n",
      " This will add your cache directory as environment varianble to your .Renviron to be used across sessions and projects.\n",
      "\n",
      "\n",
      "\n"
     ]
    }
   ],
   "source": [
    "\n",
    "library(cancensus)\n",
    "options(cancensus.api_key='CensusMapper_f228791d9506a7a747ece66db73b95be')\n",
    "options(cancensus.cache_path = \"/cache\")"
   ]
  },
  {
   "cell_type": "code",
   "execution_count": 3,
   "metadata": {
    "vscode": {
     "languageId": "r"
    }
   },
   "outputs": [
    {
     "name": "stderr",
     "output_type": "stream",
     "text": [
      "Reading vectors data from local cache.\n",
      "\n",
      "Reading geo data from local cache.\n",
      "\n"
     ]
    }
   ],
   "source": [
    "census_data <- get_census(dataset='CA16', regions=list(CSD=\"5915022\"), vectors=c(\"v_CA16_401\",\"v_CA16_404\",\"v_CA16_406\",\"v_CA16_1\",\"v_CA16_2396\",\"v_CA16_2510\"), labels=\"detailed\", geo_format=\"sf\", level='DA')"
   ]
  },
  {
   "cell_type": "code",
   "execution_count": 5,
   "metadata": {
    "vscode": {
     "languageId": "r"
    }
   },
   "outputs": [
    {
     "data": {
      "text/html": [
       "<table class=\"dataframe\">\n",
       "<caption>A tibble: 4 × 2</caption>\n",
       "<thead>\n",
       "\t<tr><th scope=col>dataset_id</th><th scope=col>title</th></tr>\n",
       "\t<tr><th scope=col>&lt;chr&gt;</th><th scope=col>&lt;chr&gt;</th></tr>\n",
       "</thead>\n",
       "<tbody>\n",
       "\t<tr><td>property-tax-report-2006-2010</td><td>Property tax report 2006-2010</td></tr>\n",
       "\t<tr><td>property-tax-report-2011-2015</td><td>Property tax report 2011-2015</td></tr>\n",
       "\t<tr><td>property-tax-report-2016-2019</td><td>Property tax report 2016-2019</td></tr>\n",
       "\t<tr><td>property-tax-report          </td><td>Property tax report          </td></tr>\n",
       "</tbody>\n",
       "</table>\n"
      ],
      "text/latex": [
       "A tibble: 4 × 2\n",
       "\\begin{tabular}{ll}\n",
       " dataset\\_id & title\\\\\n",
       " <chr> & <chr>\\\\\n",
       "\\hline\n",
       "\t property-tax-report-2006-2010 & Property tax report 2006-2010\\\\\n",
       "\t property-tax-report-2011-2015 & Property tax report 2011-2015\\\\\n",
       "\t property-tax-report-2016-2019 & Property tax report 2016-2019\\\\\n",
       "\t property-tax-report           & Property tax report          \\\\\n",
       "\\end{tabular}\n"
      ],
      "text/markdown": [
       "\n",
       "A tibble: 4 × 2\n",
       "\n",
       "| dataset_id &lt;chr&gt; | title &lt;chr&gt; |\n",
       "|---|---|\n",
       "| property-tax-report-2006-2010 | Property tax report 2006-2010 |\n",
       "| property-tax-report-2011-2015 | Property tax report 2011-2015 |\n",
       "| property-tax-report-2016-2019 | Property tax report 2016-2019 |\n",
       "| property-tax-report           | Property tax report           |\n",
       "\n"
      ],
      "text/plain": [
       "  dataset_id                    title                        \n",
       "1 property-tax-report-2006-2010 Property tax report 2006-2010\n",
       "2 property-tax-report-2011-2015 Property tax report 2011-2015\n",
       "3 property-tax-report-2016-2019 Property tax report 2016-2019\n",
       "4 property-tax-report           Property tax report          "
      ]
     },
     "metadata": {},
     "output_type": "display_data"
    }
   ],
   "source": [
    "library(\"sf\")\n",
    "library(VancouvR)\n",
    "search_cov_datasets(\"property-tax\") %>%\n",
    "  select(dataset_id,title)"
   ]
  },
  {
   "cell_type": "code",
   "execution_count": 6,
   "metadata": {
    "vscode": {
     "languageId": "r"
    }
   },
   "outputs": [
    {
     "name": "stderr",
     "output_type": "stream",
     "text": [
      "Warning message:\n",
      "\"\u001b[1m\u001b[22m`as.tibble()` was deprecated in tibble 2.0.0.\n",
      "\u001b[36mi\u001b[39m Please use `as_tibble()` instead.\n",
      "\u001b[36mi\u001b[39m The signature and semantics have changed, see `?as_tibble`.\"\n",
      "Downloading data from CoV Open Data portal\n",
      "\n",
      "Warning message:\n",
      "\"\u001b[1m\u001b[22mThere was 1 warning in `mutate()`.\n",
      "\u001b[1m\u001b[22m\u001b[36mi\u001b[39m In argument: `current_land_value =\n",
      "  .Primitive(\"as.integer\")(current_land_value)`.\n",
      "Caused by warning:\n",
      "\u001b[33m!\u001b[39m NAs introduced by coercion to integer range\"\n"
     ]
    },
    {
     "name": "stdout",
     "output_type": "stream",
     "text": [
      "Rows: 199,924\n",
      "Columns: 2\n",
      "$ current_land_value \u001b[3m\u001b[90m<int>\u001b[39m\u001b[23m 126000, 1100000, 1028000, 825000, 922000, 878000, 1~\n",
      "$ tax_coord          \u001b[3m\u001b[90m<chr>\u001b[39m\u001b[23m \"58825549\", \"60125529\", \"61223603\", \"63025324\", \"59~\n"
     ]
    }
   ],
   "source": [
    "tax_data <- get_cov_data(dataset_id = \"property-tax-report-2016-2019\",\n",
    "                         where=\"tax_assessment_year='2016'\",\n",
    "                         select = \"current_land_value, land_coordinate as tax_coord\")|>\n",
    "    as.tibble()\n",
    "glimpse(tax_data)"
   ]
  },
  {
   "cell_type": "code",
   "execution_count": 7,
   "metadata": {
    "vscode": {
     "languageId": "r"
    }
   },
   "outputs": [
    {
     "name": "stderr",
     "output_type": "stream",
     "text": [
      "Downloading data from CoV Open Data portal\n",
      "\n"
     ]
    }
   ],
   "source": [
    "property_polygons <- get_cov_data(dataset_id=\"property-parcel-polygons\")"
   ]
  },
  {
   "cell_type": "code",
   "execution_count": 8,
   "metadata": {
    "vscode": {
     "languageId": "r"
    }
   },
   "outputs": [
    {
     "name": "stdout",
     "output_type": "stream",
     "text": [
      "Rows: 204,278\n",
      "Columns: 8\n",
      "$ tax_coord          \u001b[3m\u001b[90m<chr>\u001b[39m\u001b[23m \"01963206\", \"01963229\", \"01963245\", \"01963265\", \"01~\n",
      "$ current_land_value \u001b[3m\u001b[90m<int>\u001b[39m\u001b[23m 11366000, 10623000, 10763000, 10763000, 12864000, 1~\n",
      "$ civic_number       \u001b[3m\u001b[90m<chr>\u001b[39m\u001b[23m \"4888\", \"4898\", \"4874\", \"4850\", \"4811\", \"4818\", \"16~\n",
      "$ streetname         \u001b[3m\u001b[90m<chr>\u001b[39m\u001b[23m \"BELMONT AV\", \"FANNIN AV\", \"FANNIN AV\", \"FANNIN AV\"~\n",
      "$ site_id            \u001b[3m\u001b[90m<chr>\u001b[39m\u001b[23m \"010862706\", \"010863915\", \"010863923\", \"010863931\",~\n",
      "$ geom               \u001b[3m\u001b[90m<chr>\u001b[39m\u001b[23m \"{\\\"coordinates\\\": [[[-123.22221178283283, 49.27466~\n",
      "$ geo_point_2d       \u001b[3m\u001b[90m<chr>\u001b[39m\u001b[23m \"49.27488185499064, -123.22286857659084\", \"49.27431~\n",
      "$ geometry           \u001b[3m\u001b[90m<POLYGON [°]>\u001b[39m\u001b[23m POLYGON ((-123.2222 49.2746..., POLYGON ((-~\n"
     ]
    }
   ],
   "source": [
    "land_price <- merge(tax_data, property_polygons, by = \"tax_coord\")|>\n",
    "    glimpse() \n",
    "land_price_sf <- st_sf(land_price, geometry = land_price$geometry, crs = 4326)"
   ]
  },
  {
   "cell_type": "code",
   "execution_count": null,
   "metadata": {
    "vscode": {
     "languageId": "r"
    }
   },
   "outputs": [],
   "source": [
    "library(ggmap)"
   ]
  },
  {
   "cell_type": "code",
   "execution_count": 9,
   "metadata": {
    "vscode": {
     "languageId": "r"
    }
   },
   "outputs": [
    {
     "name": "stderr",
     "output_type": "stream",
     "text": [
      "\u001b[1mRows: \u001b[22m\u001b[34m530652\u001b[39m \u001b[1mColumns: \u001b[22m\u001b[34m12\u001b[39m\n",
      "\u001b[36m--\u001b[39m \u001b[1mColumn specification\u001b[22m \u001b[36m--------------------------------------------------------\u001b[39m\n",
      "\u001b[1mDelimiter:\u001b[22m \",\"\n",
      "\u001b[31mchr\u001b[39m (3): TYPE, HUNDRED_BLOCK, NEIGHBOURHOOD\n",
      "\u001b[32mdbl\u001b[39m (9): YEAR, MONTH, DAY, HOUR, MINUTE, X, Y, Latitude, Longitude\n",
      "\n",
      "\u001b[36mi\u001b[39m Use `spec()` to retrieve the full column specification for this data.\n",
      "\u001b[36mi\u001b[39m Specify the column types or set `show_col_types = FALSE` to quiet this message.\n"
     ]
    }
   ],
   "source": [
    "crime_data <- read_csv('crime_data_kraggle/crime.csv')"
   ]
  },
  {
   "cell_type": "code",
   "execution_count": 10,
   "metadata": {
    "vscode": {
     "languageId": "r"
    }
   },
   "outputs": [],
   "source": [
    "crime_data_sf <- st_as_sf(crime_data, coords = c(\"Longitude\", \"Latitude\"), crs = 4326)"
   ]
  },
  {
   "cell_type": "code",
   "execution_count": null,
   "metadata": {
    "vscode": {
     "languageId": "r"
    }
   },
   "outputs": [
    {
     "name": "stdout",
     "output_type": "stream",
     "text": [
      "Rows: 530,652\n",
      "Columns: 12\n",
      "$ TYPE          \u001b[3m\u001b[90m<chr>\u001b[39m\u001b[23m \"Other Theft\", \"Other Theft\", \"Other Theft\", \"Other Thef~\n",
      "$ YEAR          \u001b[3m\u001b[90m<dbl>\u001b[39m\u001b[23m 2003, 2003, 2003, 2003, 2003, 2003, 2003, 2003, 2003, 20~\n",
      "$ MONTH         \u001b[3m\u001b[90m<dbl>\u001b[39m\u001b[23m 5, 5, 4, 4, 4, 3, 3, 6, 2, 7, 1, 9, 4, 9, 11, 9, 10, 1, ~\n",
      "$ DAY           \u001b[3m\u001b[90m<dbl>\u001b[39m\u001b[23m 12, 7, 23, 20, 12, 26, 10, 28, 16, 9, 31, 27, 19, 24, 5,~\n",
      "$ HOUR          \u001b[3m\u001b[90m<dbl>\u001b[39m\u001b[23m 16, 15, 16, 11, 17, 20, 12, 4, 9, 18, 19, 1, 18, 18, 8, ~\n",
      "$ MINUTE        \u001b[3m\u001b[90m<dbl>\u001b[39m\u001b[23m 15, 20, 40, 15, 45, 45, 0, 13, 2, 15, 45, 0, 0, 30, 12, ~\n",
      "$ HUNDRED_BLOCK \u001b[3m\u001b[90m<chr>\u001b[39m\u001b[23m \"9XX TERMINAL AVE\", \"9XX TERMINAL AVE\", \"9XX TERMINAL AV~\n",
      "$ NEIGHBOURHOOD \u001b[3m\u001b[90m<chr>\u001b[39m\u001b[23m \"Strathcona\", \"Strathcona\", \"Strathcona\", \"Strathcona\", ~\n",
      "$ X             \u001b[3m\u001b[90m<dbl>\u001b[39m\u001b[23m 493906.5, 493906.5, 493906.5, 493906.5, 493906.5, 493906~\n",
      "$ Y             \u001b[3m\u001b[90m<dbl>\u001b[39m\u001b[23m 5457452, 5457452, 5457452, 5457452, 5457452, 5457452, 54~\n",
      "$ Latitude      \u001b[3m\u001b[90m<dbl>\u001b[39m\u001b[23m 49.26980, 49.26980, 49.26980, 49.26980, 49.26980, 49.269~\n",
      "$ Longitude     \u001b[3m\u001b[90m<dbl>\u001b[39m\u001b[23m -123.0838, -123.0838, -123.0838, -123.0838, -123.0838, -~\n"
     ]
    }
   ],
   "source": [
    "glimpse(crime_data_sf)"
   ]
  },
  {
   "cell_type": "code",
   "execution_count": null,
   "metadata": {
    "vscode": {
     "languageId": "r"
    }
   },
   "outputs": [],
   "source": [
    "polygons_sf <- st_as_sf(polygons_df, wkt = \"geometry\", crs = 4326)"
   ]
  }
 ],
 "metadata": {
  "kernelspec": {
   "display_name": "R",
   "language": "R",
   "name": "ir"
  },
  "language_info": {
   "codemirror_mode": "r",
   "file_extension": ".r",
   "mimetype": "text/x-r-source",
   "name": "R",
   "pygments_lexer": "r",
   "version": "4.1.3"
  }
 },
 "nbformat": 4,
 "nbformat_minor": 2
}
