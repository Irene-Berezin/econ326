{
 "cells": [
  {
   "cell_type": "code",
   "execution_count": 15,
   "metadata": {
    "vscode": {
     "languageId": "r"
    }
   },
   "outputs": [
    {
     "name": "stderr",
     "output_type": "stream",
     "text": [
      "Linking to GEOS 3.12.1, GDAL 3.8.4, PROJ 9.3.1; sf_use_s2() is TRUE\n",
      "\n"
     ]
    }
   ],
   "source": [
    "library(geojsonio)\n",
    "library(tidyverse)\n",
    "library(dplyr)\n",
    "library(\"knitr\")\n",
    "library(units)\n",
    "library(sf)"
   ]
  },
  {
   "cell_type": "code",
   "execution_count": 45,
   "metadata": {
    "vscode": {
     "languageId": "r"
    }
   },
   "outputs": [
    {
     "name": "stdout",
     "output_type": "stream",
     "text": [
      "Reading layer `census_index_crime' from data source \n",
      "  `C:\\Users\\Kaiyan Zhang\\Desktop\\econ326\\census_index_crime.geojson' \n",
      "  using driver `GeoJSON'\n",
      "Simple feature collection with 993 features and 17 fields\n",
      "Geometry type: MULTIPOLYGON\n",
      "Dimension:     XY\n",
      "Bounding box:  xmin: -123.2242 ymin: 49.19853 xmax: -123.0229 ymax: 49.31408\n",
      "Geodetic CRS:  WGS 84\n"
     ]
    },
    {
     "name": "stderr",
     "output_type": "stream",
     "text": [
      "Warning message:\n",
      "\"\u001b[1m\u001b[22mThere were 4 warnings in `stopifnot()`.\n",
      "The first warning was:\n",
      "\u001b[1m\u001b[22m\u001b[36mℹ\u001b[39m In argument: `across(...)`.\n",
      "Caused by warning:\n",
      "\u001b[33m!\u001b[39m NAs introduced by coercion\n",
      "\u001b[1m\u001b[22m\u001b[36mℹ\u001b[39m Run `dplyr::last_dplyr_warnings()` to see the 3 remaining warnings.\"\n"
     ]
    },
    {
     "name": "stdout",
     "output_type": "stream",
     "text": [
      "Rows: 989\n",
      "Columns: 18\n",
      "$ name               \u001b[3m\u001b[90m<chr>\u001b[39m\u001b[23m \"59150307\", \"59150308\", \"59150309\", \"59150310\", \"59…\n",
      "$ households         \u001b[3m\u001b[90m<int>\u001b[39m\u001b[23m 254, 203, 269, 283, 181, 203, 402, 170, 333, 174, 2…\n",
      "$ dwellings          \u001b[3m\u001b[90m<int>\u001b[39m\u001b[23m 273, 223, 299, 310, 199, 211, 418, 181, 356, 189, 3…\n",
      "$ population         \u001b[3m\u001b[90m<int>\u001b[39m\u001b[23m 632, 501, 745, 536, 532, 562, 1088, 556, 959, 506, …\n",
      "$ population_density \u001b[3m\u001b[90m<dbl>\u001b[39m\u001b[23m 2110.9, 4575.3, 6663.7, 4895.0, 6567.9, 6445.0, 629…\n",
      "$ region             \u001b[3m\u001b[90m<chr>\u001b[39m\u001b[23m \"Vancouver\", \"Vancouver\", \"Vancouver\", \"Vancouver\",…\n",
      "$ area_sq_km         \u001b[3m\u001b[90m<dbl>\u001b[39m\u001b[23m 0.29926, 0.10956, 0.11190, 0.10940, 0.08094, 0.0870…\n",
      "$ age                \u001b[3m\u001b[90m<int>\u001b[39m\u001b[23m 630, 500, 745, 540, 530, 560, 1085, 555, 960, 510, …\n",
      "$ income             \u001b[3m\u001b[90m<dbl>\u001b[39m\u001b[23m 0.90965, 0.93611, 0.84736, 0.45184, 0.82517, 0.7436…\n",
      "$ immigrant_prop     \u001b[3m\u001b[90m<dbl>\u001b[39m\u001b[23m 0.2610759, 0.2894212, 0.3557047, 0.2891791, 0.40413…\n",
      "$ education_prop     \u001b[3m\u001b[90m<dbl>\u001b[39m\u001b[23m 0.3085443, 0.2794411, 0.3154362, 0.1865672, 0.25375…\n",
      "$ school_index       \u001b[3m\u001b[90m<dbl>\u001b[39m\u001b[23m 1.074675, 1.252273, 1.426336, 2.441091, 1.543095, 1…\n",
      "$ light_index        \u001b[3m\u001b[90m<dbl>\u001b[39m\u001b[23m 2.751678, 2.575631, 2.986096, 3.239346, 2.298736, 1…\n",
      "$ bus_index          \u001b[3m\u001b[90m<dbl>\u001b[39m\u001b[23m 1.314003, 1.455674, 1.812310, 3.605736, 1.782943, 1…\n",
      "$ crime_count        \u001b[3m\u001b[90m<int>\u001b[39m\u001b[23m 28, 16, 31, 24, 14, 13, 20, 15, 23, 12, 15, 12, 8, …\n",
      "$ crime_rate         \u001b[3m\u001b[90m<dbl>\u001b[39m\u001b[23m 443.0380, 319.3613, 416.1074, 447.7612, 263.1579, 2…\n",
      "$ mean_land_value    \u001b[3m\u001b[90m<dbl>\u001b[39m\u001b[23m 0.9556436, 1.0139412, 0.7501839, 1.1976135, 0.90458…\n",
      "$ geometry           \u001b[3m\u001b[90m<MULTIPOLYGON [°]>\u001b[39m\u001b[23m MULTIPOLYGON (((-123.0233 4..., MULTIP…\n"
     ]
    }
   ],
   "source": [
    "# Read in the data\n",
    "census_index_crime <- st_read(\"census_index_crime.geojson\") |>\n",
    "    mutate(across(c(immigrant_prop, education_prop, mean_land_value,income), as.double))|>\n",
    "    na.omit()|>\n",
    "    glimpse()\n",
    "\n"
   ]
  },
  {
   "cell_type": "code",
   "execution_count": 46,
   "metadata": {
    "vscode": {
     "languageId": "r"
    }
   },
   "outputs": [
    {
     "data": {
      "text/plain": [
       "\n",
       "Call:\n",
       "lm(formula = crime_rate ~ school_index + light_index + bus_index + \n",
       "    immigrant_prop + education_prop, data = census_index_crime)\n",
       "\n",
       "Residuals:\n",
       "    Min      1Q  Median      3Q     Max \n",
       "-2111.9  -307.2   -95.9   121.8 12837.1 \n",
       "\n",
       "Coefficients:\n",
       "               Estimate Std. Error t value Pr(>|t|)    \n",
       "(Intercept)     -502.44     166.85  -3.011  0.00267 ** \n",
       "school_index    -290.68      36.85  -7.887 8.20e-15 ***\n",
       "light_index      434.14      43.59   9.958  < 2e-16 ***\n",
       "bus_index        112.60      50.45   2.232  0.02584 *  \n",
       "immigrant_prop  -689.38     174.33  -3.954 8.22e-05 ***\n",
       "education_prop   114.32     193.12   0.592  0.55400    \n",
       "---\n",
       "Signif. codes:  0 '***' 0.001 '**' 0.01 '*' 0.05 '.' 0.1 ' ' 1\n",
       "\n",
       "Residual standard error: 743.5 on 983 degrees of freedom\n",
       "Multiple R-squared:  0.2241,\tAdjusted R-squared:  0.2202 \n",
       "F-statistic:  56.8 on 5 and 983 DF,  p-value: < 2.2e-16\n"
      ]
     },
     "metadata": {},
     "output_type": "display_data"
    }
   ],
   "source": [
    "regression_simple <- lm(crime_rate ~ school_index + light_index + bus_index + immigrant_prop + education_prop, data = census_index_crime)|>\n",
    "    summary()\n",
    "    \n",
    "regression_simple"
   ]
  },
  {
   "cell_type": "code",
   "execution_count": 47,
   "metadata": {
    "vscode": {
     "languageId": "r"
    }
   },
   "outputs": [
    {
     "data": {
      "text/html": [
       "989"
      ],
      "text/latex": [
       "989"
      ],
      "text/markdown": [
       "989"
      ],
      "text/plain": [
       "[1] 989"
      ]
     },
     "metadata": {},
     "output_type": "display_data"
    }
   ],
   "source": [
    "reg_simple <- lm(crime_rate ~ mean_land_value + school_index + light_index + bus_index + immigrant_prop + education_prop, data = census_index_crime)\n",
    "    \n",
    "y_hat <- predict(reg_simple)\n",
    "\n",
    "length(y_hat)"
   ]
  },
  {
   "cell_type": "code",
   "execution_count": 49,
   "metadata": {
    "vscode": {
     "languageId": "r"
    }
   },
   "outputs": [
    {
     "data": {
      "text/plain": [
       "\n",
       "Call:\n",
       "lm(formula = census_index_crime$crime_rate - y_hat ~ y_hat + \n",
       "    I(y_hat^2))\n",
       "\n",
       "Residuals:\n",
       "    Min      1Q  Median      3Q     Max \n",
       "-4771.2  -167.3   -46.4    80.5 10520.9 \n",
       "\n",
       "Coefficients:\n",
       "              Estimate Std. Error t value Pr(>|t|)    \n",
       "(Intercept)  1.928e+02  3.421e+01   5.636 2.27e-08 ***\n",
       "y_hat       -1.235e+00  9.351e-02 -13.204  < 2e-16 ***\n",
       "I(y_hat^2)   1.008e-03  6.323e-05  15.946  < 2e-16 ***\n",
       "---\n",
       "Signif. codes:  0 '***' 0.001 '**' 0.01 '*' 0.05 '.' 0.1 ' ' 1\n",
       "\n",
       "Residual standard error: 660.8 on 986 degrees of freedom\n",
       "Multiple R-squared:  0.205,\tAdjusted R-squared:  0.2034 \n",
       "F-statistic: 127.1 on 2 and 986 DF,  p-value: < 2.2e-16\n"
      ]
     },
     "metadata": {},
     "output_type": "display_data"
    }
   ],
   "source": [
    "white <- lm(census_index_crime$crime_rate - y_hat ~ y_hat + I(y_hat^2))|>\n",
    "    summary()\n",
    "\n",
    "white"
   ]
  },
  {
   "cell_type": "code",
   "execution_count": null,
   "metadata": {
    "vscode": {
     "languageId": "r"
    }
   },
   "outputs": [],
   "source": []
  }
 ],
 "metadata": {
  "kernelspec": {
   "display_name": "R",
   "language": "R",
   "name": "ir"
  },
  "language_info": {
   "codemirror_mode": "r",
   "file_extension": ".r",
   "mimetype": "text/x-r-source",
   "name": "R",
   "pygments_lexer": "r",
   "version": "4.4.1"
  }
 },
 "nbformat": 4,
 "nbformat_minor": 2
}
