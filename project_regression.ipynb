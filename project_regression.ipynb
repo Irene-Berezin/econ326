{
 "cells": [
  {
   "cell_type": "code",
   "execution_count": 1,
   "metadata": {
    "vscode": {
     "languageId": "r"
    }
   },
   "outputs": [
    {
     "name": "stderr",
     "output_type": "stream",
     "text": [
      "Warning message:\n",
      "\"package 'geojsonio' was built under R version 4.4.2\"\n",
      "Registered S3 method overwritten by 'geojsonsf':\n",
      "  method        from   \n",
      "  print.geojson geojson\n",
      "\n",
      "\n",
      "Attaching package: 'geojsonio'\n",
      "\n",
      "\n",
      "The following object is masked from 'package:base':\n",
      "\n",
      "    pretty\n",
      "\n",
      "\n",
      "── \u001b[1mAttaching core tidyverse packages\u001b[22m ──────────────────────── tidyverse 2.0.0 ──\n",
      "\u001b[32m✔\u001b[39m \u001b[34mdplyr    \u001b[39m 1.1.4     \u001b[32m✔\u001b[39m \u001b[34mreadr    \u001b[39m 2.1.5\n",
      "\u001b[32m✔\u001b[39m \u001b[34mforcats  \u001b[39m 1.0.0     \u001b[32m✔\u001b[39m \u001b[34mstringr  \u001b[39m 1.5.1\n",
      "\u001b[32m✔\u001b[39m \u001b[34mggplot2  \u001b[39m 3.5.1     \u001b[32m✔\u001b[39m \u001b[34mtibble   \u001b[39m 3.2.1\n",
      "\u001b[32m✔\u001b[39m \u001b[34mlubridate\u001b[39m 1.9.3     \u001b[32m✔\u001b[39m \u001b[34mtidyr    \u001b[39m 1.3.1\n",
      "\u001b[32m✔\u001b[39m \u001b[34mpurrr    \u001b[39m 1.0.2     \n",
      "── \u001b[1mConflicts\u001b[22m ────────────────────────────────────────── tidyverse_conflicts() ──\n",
      "\u001b[31m✖\u001b[39m \u001b[34mdplyr\u001b[39m::\u001b[32mfilter()\u001b[39m masks \u001b[34mstats\u001b[39m::filter()\n",
      "\u001b[31m✖\u001b[39m \u001b[34mdplyr\u001b[39m::\u001b[32mlag()\u001b[39m    masks \u001b[34mstats\u001b[39m::lag()\n",
      "\u001b[36mℹ\u001b[39m Use the conflicted package (\u001b[3m\u001b[34m<http://conflicted.r-lib.org/>\u001b[39m\u001b[23m) to force all conflicts to become errors\n",
      "udunits database from C:/Users/Kaiyan Zhang/AppData/Local/R/win-library/4.4/units/share/udunits/udunits2.xml\n",
      "\n"
     ]
    }
   ],
   "source": [
    "library(geojsonio)\n",
    "library(tidyverse)\n",
    "library(dplyr)\n",
    "library(\"knitr\")\n",
    "library(units)"
   ]
  },
  {
   "cell_type": "code",
   "execution_count": 11,
   "metadata": {
    "vscode": {
     "languageId": "r"
    }
   },
   "outputs": [
    {
     "name": "stderr",
     "output_type": "stream",
     "text": [
      "Warning message:\n",
      "\"\u001b[1m\u001b[22mOne or more parsing issues, call `problems()` on your data frame for details,\n",
      "e.g.:\n",
      "  dat <- vroom(...)\n",
      "  problems(dat)\"\n",
      "\u001b[1mRows: \u001b[22m\u001b[34m2091\u001b[39m \u001b[1mColumns: \u001b[22m\u001b[34m26\u001b[39m\n",
      "\u001b[36m──\u001b[39m \u001b[1mColumn specification\u001b[22m \u001b[36m────────────────────────────────────────────────────────\u001b[39m\n",
      "\u001b[1mDelimiter:\u001b[22m \",\"\n",
      "\u001b[31mchr\u001b[39m (22): name, households, dwellings, population, population_density, regio...\n",
      "\u001b[32mdbl\u001b[39m  (4): age, avg_distance_km, school_index, bus_index\n",
      "\n",
      "\u001b[36mℹ\u001b[39m Use `spec()` to retrieve the full column specification for this data.\n",
      "\u001b[36mℹ\u001b[39m Specify the column types or set `show_col_types = FALSE` to quiet this message.\n"
     ]
    },
    {
     "name": "stdout",
     "output_type": "stream",
     "text": [
      "Rows: 1,381\n",
      "Columns: 26\n",
      "$ name                  \u001b[3m\u001b[90m<chr>\u001b[39m\u001b[23m \"59150307\", \"-123.02830850192\", \"-123.0232461010…\n",
      "$ households            \u001b[3m\u001b[90m<chr>\u001b[39m\u001b[23m \"254\", \"-123.02764649298\", \"-123.0232513882\", \"4…\n",
      "$ dwellings             \u001b[3m\u001b[90m<chr>\u001b[39m\u001b[23m \"273\", \"-123.02645040999\", \"-123.02325258558\", \"…\n",
      "$ population            \u001b[3m\u001b[90m<chr>\u001b[39m\u001b[23m \"632\", \"-123.02631280039\", \"-123.02326818965\", \"…\n",
      "$ population_density    \u001b[3m\u001b[90m<chr>\u001b[39m\u001b[23m \"2110.9\", \"-123.0261990042\", \"49.28928179184\", \"…\n",
      "$ region                \u001b[3m\u001b[90m<chr>\u001b[39m\u001b[23m \"Vancouver\", \"-123.02613281292\", \"49.28880566129…\n",
      "$ area_sq_km            \u001b[3m\u001b[90m<chr>\u001b[39m\u001b[23m \"0.29926\", \"-123.02613133871\", \"49.28871492123\",…\n",
      "$ age                   \u001b[3m\u001b[90m<dbl>\u001b[39m\u001b[23m 630.00000, -123.02611, 49.28866, 49.29158, 500.0…\n",
      "$ income                \u001b[3m\u001b[90m<chr>\u001b[39m\u001b[23m \"0.90965\", \"-123.02610035898\", \"49.28836970562\",…\n",
      "$ immigrant_prop        \u001b[3m\u001b[90m<chr>\u001b[39m\u001b[23m \"0.261075949367089\", \"-123.02608725052\", \"49.287…\n",
      "$ education_prop        \u001b[3m\u001b[90m<chr>\u001b[39m\u001b[23m \"0.308544303797468\", \"-123.02608700245\", \"49.287…\n",
      "$ avg_distance_km       \u001b[3m\u001b[90m<dbl>\u001b[39m\u001b[23m 7.535841, -123.026088, 49.287052, 49.292398, 7.2…\n",
      "$ area_km2              \u001b[3m\u001b[90m<chr>\u001b[39m\u001b[23m \"0.298291070870272\", \"-123.026103099\", \"49.28660…\n",
      "$ poi_count             \u001b[3m\u001b[90m<chr>\u001b[39m\u001b[23m \"0\", \"-123.02529099545\", \"49.28659826627\", \"49.2…\n",
      "$ poi_density           \u001b[3m\u001b[90m<chr>\u001b[39m\u001b[23m \"0\", \"-123.02388898757\", \"49.28615206235\", \"49.2…\n",
      "$ poi_per_10k_pop       \u001b[3m\u001b[90m<chr>\u001b[39m\u001b[23m \"0\", \"-123.02308603024\", \"49.28565971744\", \"49.2…\n",
      "$ avg_distance_norm     \u001b[3m\u001b[90m<chr>\u001b[39m\u001b[23m \"0.677597566374046\", \"-123.02308509851\", \"49.285…\n",
      "$ poi_density_norm      \u001b[3m\u001b[90m<chr>\u001b[39m\u001b[23m \"0\", \"-123.02308297664\", \"49.28567748772\", \"49.2…\n",
      "$ poi_per_10k_pop_norm  \u001b[3m\u001b[90m<chr>\u001b[39m\u001b[23m \"0\", \"-123.02308160573\", \"49.28567538237\", \"49.2…\n",
      "$ avg_distance_norm_inv \u001b[3m\u001b[90m<chr>\u001b[39m\u001b[23m \"0.322402433625954\", \"-123.02306148913\", \"49.285…\n",
      "$ school_index          \u001b[3m\u001b[90m<dbl>\u001b[39m\u001b[23m 1.074675, -123.023077, 49.285679, 49.293057, 1.2…\n",
      "$ light_index           \u001b[3m\u001b[90m<chr>\u001b[39m\u001b[23m \"2.75167840175703\", \"-123.02312476544\", \"49.2861…\n",
      "$ bus_index             \u001b[3m\u001b[90m<dbl>\u001b[39m\u001b[23m 1.314003, -123.023151, 49.286635, 49.292788, 1.4…\n",
      "$ crime_count           \u001b[3m\u001b[90m<chr>\u001b[39m\u001b[23m \"28\", \"-123.02315967735\", \"49.2866579861\", \"49.2…\n",
      "$ geometry              \u001b[3m\u001b[90m<chr>\u001b[39m\u001b[23m \"list(list(c(-123.02326818965\", \"-123.0232236233…\n",
      "$ crime_rate            \u001b[3m\u001b[90m<chr>\u001b[39m\u001b[23m \"-123.02327362493, -123.02327465239, -123.023275…\n"
     ]
    }
   ],
   "source": [
    "# Read in the data\n",
    "url <- \"https://raw.githubusercontent.com/Irene-Berezin/econ326/refs/heads/main/census_index_crime.csv\"\n",
    "census_index_crime <- read_csv(url) |>\n",
    "    na.omit()|>\n",
    "    glimpse()"
   ]
  },
  {
   "cell_type": "code",
   "execution_count": 10,
   "metadata": {
    "vscode": {
     "languageId": "r"
    }
   },
   "outputs": [
    {
     "name": "stderr",
     "output_type": "stream",
     "text": [
      "Warning message in storage.mode(v) <- \"double\":\n",
      "\"NAs introduced by coercion\"\n"
     ]
    },
    {
     "ename": "ERROR",
     "evalue": "Error in lm.fit(x, y, offset = offset, singular.ok = singular.ok, ...): NA/NaN/Inf in 'y'\n",
     "output_type": "error",
     "traceback": [
      "Error in lm.fit(x, y, offset = offset, singular.ok = singular.ok, ...): NA/NaN/Inf in 'y'\nTraceback:\n",
      "1. summary(lm(crime_rate ~ school_index + light_index, data = census_index_crime))",
      "2. lm(crime_rate ~ school_index + light_index, data = census_index_crime)",
      "3. lm.fit(x, y, offset = offset, singular.ok = singular.ok, ...)"
     ]
    }
   ],
   "source": [
    "regression_simple <- lm(crime_rate ~ school_index + light_index, data = census_index_crime)|>\n",
    "    summary()"
   ]
  },
  {
   "cell_type": "code",
   "execution_count": null,
   "metadata": {
    "vscode": {
     "languageId": "r"
    }
   },
   "outputs": [],
   "source": []
  }
 ],
 "metadata": {
  "kernelspec": {
   "display_name": "R",
   "language": "R",
   "name": "ir"
  },
  "language_info": {
   "codemirror_mode": "r",
   "file_extension": ".r",
   "mimetype": "text/x-r-source",
   "name": "R",
   "pygments_lexer": "r",
   "version": "4.4.1"
  }
 },
 "nbformat": 4,
 "nbformat_minor": 2
}
