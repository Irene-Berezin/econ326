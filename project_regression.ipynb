{
 "cells": [
  {
   "cell_type": "code",
   "execution_count": 50,
   "metadata": {
    "vscode": {
     "languageId": "r"
    }
   },
   "outputs": [],
   "source": [
    "library(geojsonio)\n",
    "library(tidyverse)\n",
    "library(dplyr)\n",
    "library(\"knitr\")\n",
    "library(units)\n",
    "library(sf)"
   ]
  },
  {
   "cell_type": "code",
   "execution_count": 51,
   "metadata": {
    "vscode": {
     "languageId": "r"
    }
   },
   "outputs": [
    {
     "name": "stdout",
     "output_type": "stream",
     "text": [
      "Reading layer `census_index_crime' from data source \n",
      "  `C:\\Users\\Kaiyan Zhang\\Desktop\\econ326\\census_index_crime.geojson' \n",
      "  using driver `GeoJSON'\n",
      "Simple feature collection with 993 features and 18 fields\n",
      "Geometry type: MULTIPOLYGON\n",
      "Dimension:     XY\n",
      "Bounding box:  xmin: -123.2242 ymin: 49.19853 xmax: -123.0229 ymax: 49.31408\n",
      "Geodetic CRS:  WGS 84\n"
     ]
    },
    {
     "name": "stderr",
     "output_type": "stream",
     "text": [
      "Warning message:\n",
      "\"\u001b[1m\u001b[22mThere were 4 warnings in `stopifnot()`.\n",
      "The first warning was:\n",
      "\u001b[1m\u001b[22m\u001b[36mℹ\u001b[39m In argument: `across(...)`.\n",
      "Caused by warning:\n",
      "\u001b[33m!\u001b[39m NAs introduced by coercion\n",
      "\u001b[1m\u001b[22m\u001b[36mℹ\u001b[39m Run `dplyr::last_dplyr_warnings()` to see the 3 remaining warnings.\"\n"
     ]
    },
    {
     "name": "stdout",
     "output_type": "stream",
     "text": [
      "Rows: 989\n",
      "Columns: 19\n",
      "$ name                 \u001b[3m\u001b[90m<chr>\u001b[39m\u001b[23m \"59150307\", \"59150308\", \"59150309\", \"59150310\", \"…\n",
      "$ households           \u001b[3m\u001b[90m<int>\u001b[39m\u001b[23m 254, 203, 269, 283, 181, 203, 402, 170, 333, 174,…\n",
      "$ dwellings            \u001b[3m\u001b[90m<int>\u001b[39m\u001b[23m 273, 223, 299, 310, 199, 211, 418, 181, 356, 189,…\n",
      "$ population           \u001b[3m\u001b[90m<int>\u001b[39m\u001b[23m 632, 501, 745, 536, 532, 562, 1088, 556, 959, 506…\n",
      "$ population_density   \u001b[3m\u001b[90m<dbl>\u001b[39m\u001b[23m 2110.9, 4575.3, 6663.7, 4895.0, 6567.9, 6445.0, 6…\n",
      "$ region               \u001b[3m\u001b[90m<chr>\u001b[39m\u001b[23m \"Vancouver\", \"Vancouver\", \"Vancouver\", \"Vancouver…\n",
      "$ area_sq_km           \u001b[3m\u001b[90m<dbl>\u001b[39m\u001b[23m 0.29926, 0.10956, 0.11190, 0.10940, 0.08094, 0.08…\n",
      "$ age                  \u001b[3m\u001b[90m<int>\u001b[39m\u001b[23m 630, 500, 745, 540, 530, 560, 1085, 555, 960, 510…\n",
      "$ income               \u001b[3m\u001b[90m<dbl>\u001b[39m\u001b[23m 0.90965, 0.93611, 0.84736, 0.45184, 0.82517, 0.74…\n",
      "$ immigrant_prop       \u001b[3m\u001b[90m<dbl>\u001b[39m\u001b[23m 0.2610759, 0.2894212, 0.3557047, 0.2891791, 0.404…\n",
      "$ education_prop       \u001b[3m\u001b[90m<dbl>\u001b[39m\u001b[23m 0.3085443, 0.2794411, 0.3154362, 0.1865672, 0.253…\n",
      "$ school_index         \u001b[3m\u001b[90m<dbl>\u001b[39m\u001b[23m 1.074675, 1.252273, 1.426336, 2.441091, 1.543095,…\n",
      "$ light_index          \u001b[3m\u001b[90m<dbl>\u001b[39m\u001b[23m 2.751678, 2.575631, 2.986096, 3.239346, 2.298736,…\n",
      "$ bus_index            \u001b[3m\u001b[90m<dbl>\u001b[39m\u001b[23m 1.314003, 1.455674, 1.812310, 3.605736, 1.782943,…\n",
      "$ cultural_space_index \u001b[3m\u001b[90m<dbl>\u001b[39m\u001b[23m 1.286579, 1.349792, 1.485976, 1.382670, 1.501593,…\n",
      "$ crime_count          \u001b[3m\u001b[90m<int>\u001b[39m\u001b[23m 28, 16, 31, 24, 14, 13, 20, 15, 23, 12, 15, 12, 8…\n",
      "$ crime_rate           \u001b[3m\u001b[90m<dbl>\u001b[39m\u001b[23m 443.0380, 319.3613, 416.1074, 447.7612, 263.1579,…\n",
      "$ mean_land_value      \u001b[3m\u001b[90m<dbl>\u001b[39m\u001b[23m 0.9556436, 1.0139412, 0.7501839, 1.1976135, 0.904…\n",
      "$ geometry             \u001b[3m\u001b[90m<MULTIPOLYGON [°]>\u001b[39m\u001b[23m MULTIPOLYGON (((-123.0233 4..., MULT…\n"
     ]
    }
   ],
   "source": [
    "# Read in the data\n",
    "census_index_crime <- st_read(\"census_index_crime.geojson\") |>\n",
    "    mutate(across(c(immigrant_prop, education_prop, mean_land_value,income), as.double))|>\n",
    "    na.omit()|>\n",
    "    glimpse()\n",
    "\n"
   ]
  },
  {
   "cell_type": "code",
   "execution_count": 55,
   "metadata": {
    "vscode": {
     "languageId": "r"
    }
   },
   "outputs": [
    {
     "data": {
      "text/plain": [
       "\n",
       "Call:\n",
       "lm(formula = crime_rate ~ school_index + light_index + bus_index + \n",
       "    cultural_space_index + immigrant_prop + education_prop, data = census_index_crime)\n",
       "\n",
       "Residuals:\n",
       "    Min      1Q  Median      3Q     Max \n",
       "-1745.0  -290.4   -97.3   138.3 13110.7 \n",
       "\n",
       "Coefficients:\n",
       "                     Estimate Std. Error t value Pr(>|t|)    \n",
       "(Intercept)           -579.87     164.98  -3.515  0.00046 ***\n",
       "school_index          -297.28      36.33  -8.183 8.52e-16 ***\n",
       "light_index            345.00      45.86   7.523 1.21e-13 ***\n",
       "bus_index               43.89      51.23   0.857  0.39173    \n",
       "cultural_space_index   226.95      40.93   5.544 3.79e-08 ***\n",
       "immigrant_prop        -148.58     197.52  -0.752  0.45208    \n",
       "education_prop        -171.98     197.14  -0.872  0.38323    \n",
       "---\n",
       "Signif. codes:  0 '***' 0.001 '**' 0.01 '*' 0.05 '.' 0.1 ' ' 1\n",
       "\n",
       "Residual standard error: 732.5 on 982 degrees of freedom\n",
       "Multiple R-squared:  0.2477,\tAdjusted R-squared:  0.2431 \n",
       "F-statistic: 53.89 on 6 and 982 DF,  p-value: < 2.2e-16\n"
      ]
     },
     "metadata": {},
     "output_type": "display_data"
    }
   ],
   "source": [
    "# Test by running a model including all control\n",
    "reg_simple <- lm(crime_rate ~ school_index + light_index + bus_index + cultural_space_index + immigrant_prop + education_prop, data = census_index_crime)\n",
    "    \n",
    "summary(reg_simple)"
   ]
  },
  {
   "cell_type": "code",
   "execution_count": 56,
   "metadata": {
    "vscode": {
     "languageId": "r"
    }
   },
   "outputs": [
    {
     "data": {
      "text/html": [
       "989"
      ],
      "text/latex": [
       "989"
      ],
      "text/markdown": [
       "989"
      ],
      "text/plain": [
       "[1] 989"
      ]
     },
     "metadata": {},
     "output_type": "display_data"
    }
   ],
   "source": [
    "# Predict y_hat\n",
    "y_hat <- predict(reg_simple)\n",
    "\n",
    "length(y_hat)"
   ]
  },
  {
   "cell_type": "code",
   "execution_count": 57,
   "metadata": {
    "vscode": {
     "languageId": "r"
    }
   },
   "outputs": [
    {
     "data": {
      "text/plain": [
       "\n",
       "Call:\n",
       "lm(formula = census_index_crime$crime_rate - y_hat ~ y_hat + \n",
       "    I(y_hat^2))\n",
       "\n",
       "Residuals:\n",
       "    Min      1Q  Median      3Q     Max \n",
       "-3103.4  -160.8   -48.6    63.1 12032.8 \n",
       "\n",
       "Coefficients:\n",
       "              Estimate Std. Error t value Pr(>|t|)    \n",
       "(Intercept)  1.658e+02  3.332e+01   4.976 7.66e-07 ***\n",
       "y_hat       -1.037e+00  8.703e-02 -11.913  < 2e-16 ***\n",
       "I(y_hat^2)   8.043e-04  5.508e-05  14.601  < 2e-16 ***\n",
       "---\n",
       "Signif. codes:  0 '***' 0.001 '**' 0.01 '*' 0.05 '.' 0.1 ' ' 1\n",
       "\n",
       "Residual standard error: 662.9 on 986 degrees of freedom\n",
       "Multiple R-squared:  0.1778,\tAdjusted R-squared:  0.1761 \n",
       "F-statistic: 106.6 on 2 and 986 DF,  p-value: < 2.2e-16\n"
      ]
     },
     "metadata": {},
     "output_type": "display_data"
    }
   ],
   "source": [
    "# Carry out white's test\n",
    "white <- lm(census_index_crime$crime_rate - y_hat ~ y_hat + I(y_hat^2))|>\n",
    "    summary()\n",
    "\n",
    "white"
   ]
  },
  {
   "cell_type": "code",
   "execution_count": null,
   "metadata": {
    "vscode": {
     "languageId": "r"
    }
   },
   "outputs": [],
   "source": []
  }
 ],
 "metadata": {
  "kernelspec": {
   "display_name": "R",
   "language": "R",
   "name": "ir"
  },
  "language_info": {
   "codemirror_mode": "r",
   "file_extension": ".r",
   "mimetype": "text/x-r-source",
   "name": "R",
   "pygments_lexer": "r",
   "version": "4.4.1"
  }
 },
 "nbformat": 4,
 "nbformat_minor": 2
}
