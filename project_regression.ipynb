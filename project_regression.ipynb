{
 "cells": [
  {
   "cell_type": "code",
   "execution_count": null,
   "metadata": {
    "vscode": {
     "languageId": "r"
    }
   },
   "outputs": [],
   "source": [
    "install.packages(\"sandwich\")\n",
    "install.packages(\"coefplot\")"
   ]
  },
  {
   "cell_type": "code",
   "execution_count": null,
   "metadata": {
    "vscode": {
     "languageId": "r"
    }
   },
   "outputs": [],
   "source": [
    "library(geojsonio)\n",
    "library(tidyverse)\n",
    "library(ggplot2)\n",
    "library(tidyr)\n",
    "library(dplyr)\n",
    "library(\"knitr\")\n",
    "library(broom)\n",
    "library(stargazer)\n",
    "library(units)\n",
    "library(sf)\n",
    "library(car)\n",
    "library(sandwich)\n",
    "library(coefplot)\n"
   ]
  },
  {
   "cell_type": "code",
   "execution_count": null,
   "metadata": {
    "vscode": {
     "languageId": "r"
    }
   },
   "outputs": [],
   "source": [
    "# Read in the data\n",
    "census_index_crime <- st_read(\"census_index_crime.geojson\") |>\n",
    "    mutate(across(c(immigrant_prop, education_prop, mean_land_value,income), as.double))|>\n",
    "    na.omit()|>\n",
    "    glimpse()"
   ]
  },
  {
   "cell_type": "code",
   "execution_count": null,
   "metadata": {
    "vscode": {
     "languageId": "r"
    }
   },
   "outputs": [],
   "source": [
    "census_save <- census_index_crime|>\n",
    "    st_drop_geometry()\n",
    "\n",
    "write.csv(census_save, \"census_index_crime.csv\")\n"
   ]
  },
  {
   "cell_type": "code",
   "execution_count": null,
   "metadata": {
    "vscode": {
     "languageId": "r"
    }
   },
   "outputs": [],
   "source": [
    "# Visualization of crime rate against regressors\n",
    "options(repr.plot.width = 12, repr.plot.height = 10)\n",
    "\n",
    "regressors <- c('mean_land_value','school_index', 'light_index', 'bus_index', 'cultural_space_index', 'income', 'immigrant_prop', 'education_prop')\n",
    "\n",
    "long_data <- census_index_crime |>\n",
    "  pivot_longer(cols = regressors,\n",
    "               names_to = \"regressor\",\n",
    "               values_to = \"value\")\n",
    "\n",
    "variables_scatter <- ggplot(long_data, aes(x = value, y = crime_rate)) +\n",
    "  geom_point(color = \"darkblue\", alpha = 0.6) +\n",
    "  facet_wrap(~ regressor, scales = \"free_x\") + \n",
    "  labs(title = \"Crime Rate vs Regressors\",\n",
    "       x = \"Explanatory Variable Value\",\n",
    "       y = \"Crime Rate\") +\n",
    "  theme_minimal() +\n",
    "  theme(plot.title = element_text(size = 20, face = \"bold\"),\n",
    "        strip.text = element_text(size = 15),  \n",
    "        axis.title = element_text(size = 14),\n",
    "        axis.text = element_text(size = 12))\n",
    "\n",
    "variables_scatter"
   ]
  },
  {
   "cell_type": "markdown",
   "metadata": {},
   "source": [
    "By eyeball method, it's clear that the data is itself heteoskedastic."
   ]
  },
  {
   "cell_type": "code",
   "execution_count": null,
   "metadata": {
    "vscode": {
     "languageId": "r"
    }
   },
   "outputs": [],
   "source": [
    "# Carry out all the simple regressions\n",
    "outcome <- \"crime_rate\"\n",
    "\n",
    "simple_regressions <- map(regressors, ~ lm(as.formula(paste(outcome, \"~\", .x)), data = census_index_crime))\n",
    "\n",
    "names(simple_regressions) <- regressors\n",
    "\n",
    "stargazer(simple_regressions, type = \"text\",\n",
    "          title = \"Simple Regression Results\",\n",
    "          dep.var.labels = c(\"Crime Rate\"))"
   ]
  },
  {
   "cell_type": "code",
   "execution_count": null,
   "metadata": {
    "vscode": {
     "languageId": "r"
    }
   },
   "outputs": [],
   "source": [
    "# Visualizing simple regressions\n",
    "options(repr.plot.width = 12, repr.plot.height = 10)\n",
    "simple_regression_plot <- variables_scatter +  geom_smooth(method = \"lm\", se = FALSE, color = \"red\") \n",
    "\n",
    "simple_regression_plot"
   ]
  },
  {
   "cell_type": "code",
   "execution_count": null,
   "metadata": {
    "vscode": {
     "languageId": "r"
    }
   },
   "outputs": [],
   "source": [
    "# Test by running a model including all control\n",
    "reg_all <- lm(crime_rate ~ mean_land_value + school_index + light_index + bus_index + cultural_space_index + \n",
    "    income + immigrant_prop + education_prop, data = census_index_crime)\n",
    "    \n",
    "stargazer(reg_all, type = \"text\",\n",
    "          title = \"Regression With All Variable Results\",\n",
    "          dep.var.labels = c(\"Crime Rate\"))"
   ]
  },
  {
   "cell_type": "code",
   "execution_count": null,
   "metadata": {
    "vscode": {
     "languageId": "r"
    }
   },
   "outputs": [],
   "source": [
    "coefplot(reg_all, intercept = FALSE, horizontal = TRUE, color = \"red\")"
   ]
  },
  {
   "cell_type": "markdown",
   "metadata": {},
   "source": [
    "The regression output above suggests that bus_index, immigrant_prop, and education_prop variables may be insignificant for having p-values > 0.1"
   ]
  },
  {
   "cell_type": "code",
   "execution_count": null,
   "metadata": {
    "vscode": {
     "languageId": "r"
    }
   },
   "outputs": [],
   "source": [
    "# Examining the vif of the model\n",
    "vif(reg_all, type = \"terms\")|>\n",
    "tidy()"
   ]
  },
  {
   "cell_type": "code",
   "execution_count": null,
   "metadata": {
    "vscode": {
     "languageId": "r"
    }
   },
   "outputs": [],
   "source": [
    "# Predict y_hat\n",
    "y_hat <- predict(reg_all)"
   ]
  },
  {
   "cell_type": "code",
   "execution_count": null,
   "metadata": {
    "vscode": {
     "languageId": "r"
    }
   },
   "outputs": [],
   "source": [
    "# Carry out white's test\n",
    "white <- lm(reg_all$residuals^2 ~ y_hat + I(y_hat^2))\n",
    "\n",
    "stargazer(white, type = \"text\",\n",
    "          title = \"White's Test\",\n",
    "          dep.var.labels = c(\"Residual\"))"
   ]
  },
  {
   "cell_type": "code",
   "execution_count": null,
   "metadata": {
    "vscode": {
     "languageId": "r"
    }
   },
   "outputs": [],
   "source": [
    "# Continuing on white's test\n",
    "linearHypothesis(white, c(\"y_hat = 0\", \"I(y_hat^2) = 0\"))"
   ]
  },
  {
   "cell_type": "markdown",
   "metadata": {},
   "source": [
    "The extremely small p-value suggests rejecting the null hypothesis that residuals are constant.\n",
    "This means there is strong evidence of heteroskedasticity in the data. We need to use robust standard errors to resolve this issue."
   ]
  },
  {
   "cell_type": "code",
   "execution_count": null,
   "metadata": {
    "vscode": {
     "languageId": "r"
    }
   },
   "outputs": [],
   "source": [
    "reg1 <- lm(crime_rate ~ school_index + light_index + cultural_space_index + \n",
    "    income, data = census_index_crime)\n",
    "\n",
    "stargazer(reg1, type = \"text\",\n",
    "          title = \"Regression With Significant Controls\",\n",
    "          dep.var.labels = c(\"Crime Rate\"))"
   ]
  },
  {
   "cell_type": "code",
   "execution_count": null,
   "metadata": {
    "vscode": {
     "languageId": "r"
    }
   },
   "outputs": [],
   "source": [
    "coefplot(reg1, intercept = FALSE, horizontal = TRUE, color = \"red\")"
   ]
  },
  {
   "cell_type": "code",
   "execution_count": null,
   "metadata": {
    "vscode": {
     "languageId": "r"
    }
   },
   "outputs": [],
   "source": [
    "stargazer(simple_regressions, reg1, reg_all,\n",
    "          type = \"text\", \n",
    "          title = \"Regression Results\",\n",
    "          dep.var.labels = c(\"Crime Rate\",\"Crime Rate\"))"
   ]
  },
  {
   "cell_type": "markdown",
   "metadata": {},
   "source": [
    "We want to make sure what made land_value and bus_index insignificant and school_index significant in our model with all variables, so we continue to run other models."
   ]
  },
  {
   "cell_type": "code",
   "execution_count": null,
   "metadata": {
    "vscode": {
     "languageId": "r"
    }
   },
   "outputs": [],
   "source": [
    "# Regressions with land_value always present\n",
    "regressors_without_land_value <- c( 'school_index','light_index', 'bus_index', 'cultural_space_index', 'income', 'immigrant_prop', 'education_prop')\n",
    "reg_with_land_value <-  map(regressors, ~ lm(as.formula(paste(outcome, \"~ mean_land_value +\", .x)), data = census_index_crime))\n",
    "\n",
    "names(reg_with_land_value) <- regressors\n",
    "\n",
    "stargazer(reg_with_land_value, type = \"text\",\n",
    "          title = \"Regression Results\",\n",
    "          dep.var.labels = c(\"Crime Rate\"))"
   ]
  },
  {
   "cell_type": "code",
   "execution_count": null,
   "metadata": {
    "vscode": {
     "languageId": "r"
    }
   },
   "outputs": [],
   "source": [
    "# Regressions with school always present\n",
    "regressors_without_school <- c( 'mean_land_value','light_index', 'bus_index', 'cultural_space_index', 'income', 'immigrant_prop', 'education_prop')\n",
    "reg_with_school <-  map(regressors, ~ lm(as.formula(paste(outcome, \"~ school_index +\",  .x)), data = census_index_crime))\n",
    "\n",
    "names(reg_with_school) <- regressors\n",
    "\n",
    "stargazer(reg_with_school, type = \"text\",\n",
    "          title = \"Regression Results\",\n",
    "          dep.var.labels = c(\"Crime Rate\"))"
   ]
  },
  {
   "cell_type": "code",
   "execution_count": null,
   "metadata": {
    "vscode": {
     "languageId": "r"
    }
   },
   "outputs": [],
   "source": [
    "# Regressions with bus always present\n",
    "regressors_without_bus <- c( 'mean_land_value','school_index','light_index', 'cultural_space_index', 'income', 'immigrant_prop', 'education_prop')\n",
    "reg_with_bus <-  map(regressors, ~ lm(as.formula(paste(outcome, \"~ bus_index +\",  .x)), data = census_index_crime))\n",
    "\n",
    "names(reg_with_bus) <- regressors\n",
    "\n",
    "stargazer(reg_with_bus, type = \"text\",\n",
    "          title = \"Regression Results\",\n",
    "          dep.var.labels = c(\"Crime Rate\"))"
   ]
  },
  {
   "cell_type": "markdown",
   "metadata": {},
   "source": [
    "From results above, we may conclude that mean land value is itself statistically insignificant, school is statistically significant when coexisting with most other variables, and bus is made insignificant by light_index (Which matched our hypothesis with visualization in fianl proposal). "
   ]
  },
  {
   "cell_type": "code",
   "execution_count": null,
   "metadata": {
    "vscode": {
     "languageId": "r"
    }
   },
   "outputs": [],
   "source": [
    "# Applying robust standard error to the first model\n",
    "se <- sqrt(diag(vcovHC(reg_all, type = \"HC1\")))\n",
    "\n",
    "stargazer(reg_all, reg_all, se = list(NULL, se), type = \"text\", column.labels=c(\"default\",\"robust\"), dep.var.labels = c(\"Crime Rate\"))"
   ]
  },
  {
   "cell_type": "code",
   "execution_count": null,
   "metadata": {
    "vscode": {
     "languageId": "r"
    }
   },
   "outputs": [],
   "source": [
    "# Testing our specifications in final proposal, with robust standard error\n",
    "reg_interaction <- lm(crime_rate ~ mean_land_value + school_index + education_prop + immigrant_prop + income + light_index\n",
    "     + cultural_space_index + bus_index + light_index:cultural_space_index + light_index:bus_index, data = census_index_crime)\n",
    "     \n",
    "se_interaction <- sqrt(diag(vcovHC(reg_interaction, type = \"HC1\")))\n",
    "\n",
    "stargazer(reg_interaction, se = list(se_interaction), type = \"text\", dep.var.labels = c(\"Crime Rate\"))\n",
    "\n",
    "coefplot(reg_interaction, intercept = FALSE, horizontal = TRUE, color = \"red\")"
   ]
  },
  {
   "cell_type": "markdown",
   "metadata": {},
   "source": [
    "Although all explanatory variables have large p-values, the model generally has a larger F statistic comparing to previous model including all variables. However the F statistic is still lower than that excluded \"insignificant\" controls."
   ]
  },
  {
   "cell_type": "code",
   "execution_count": null,
   "metadata": {
    "vscode": {
     "languageId": "r"
    }
   },
   "outputs": [],
   "source": [
    "# Testing the specification with quadratic terms\n",
    "reg_squared <- lm(crime_rate ~ mean_land_value + school_index  + education_prop + immigrant_prop + income + light_index + I(light_index^2)\n",
    "     + cultural_space_index + I(cultural_space_index^2) + bus_index + I(bus_index^2), data = census_index_crime)\n",
    "     \n",
    "se_squared <- sqrt(diag(vcovHC(reg_squared, type = \"HC1\")))\n",
    "\n",
    "stargazer(reg_squared, se =  list(se_interaction), type = \"text\", dep.var.labels = c(\"Crime Rate\"))\n",
    "\n",
    "coefplot(reg_squared, intercept = FALSE, horizontal = TRUE, color = \"red\")"
   ]
  },
  {
   "cell_type": "markdown",
   "metadata": {},
   "source": [
    "We noticed a situation that is similar to the model with interaction happened.  "
   ]
  },
  {
   "cell_type": "code",
   "execution_count": null,
   "metadata": {
    "vscode": {
     "languageId": "r"
    }
   },
   "outputs": [],
   "source": [
    "# Show four fitted models in a single output table\n",
    "se_short <- sqrt(diag(vcovHC(reg1, type = \"HC1\")))\n",
    "\n",
    "stargazer(reg1, reg_all, reg_interaction, reg_squared, se = list(se_short, se, se_interaction, se_squared), \n",
    "column.labels = c(\"short\",\"all\", \"interaction\", \"squared\"),  type = \"text\", dep.var.labels = c(\"Crime Rate\"))"
   ]
  },
  {
   "cell_type": "code",
   "execution_count": null,
   "metadata": {
    "vscode": {
     "languageId": "r"
    }
   },
   "outputs": [],
   "source": []
  }
 ],
 "metadata": {
  "kernelspec": {
   "display_name": "R",
   "language": "R",
   "name": "ir"
  },
  "language_info": {
   "codemirror_mode": "r",
   "file_extension": ".r",
   "mimetype": "text/x-r-source",
   "name": "R",
   "pygments_lexer": "r",
   "version": "4.4.1"
  }
 },
 "nbformat": 4,
 "nbformat_minor": 2
}
