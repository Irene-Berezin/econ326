{
 "cells": [
  {
   "cell_type": "markdown",
   "metadata": {},
   "source": [
    "## "
   ]
  },
  {
   "cell_type": "markdown",
   "metadata": {},
   "source": [
    "\n",
    "# Final Proposal outline: Analyzing Infrastructure's affect on Theft and Robbery in Vancouver\n",
    "\n",
    "#### Advanced Track: Irene Berezin, Kaiyan Zhang, Niko Bauer, Jerrold\n",
    "\n",
    "---\n",
    "\n",
    "## Research statement\n",
    "\n",
    "In recent years, the city of Vancouver has experienced continued growth, fueled by rising urbanization and immigration rates. As the housing market expands and economic productivity rises by approximately 2.8% (Economic Snapshot), Vancouver continues to prosper. However, this growth has come with challenges. Violent crime rates have surged by roughly 12% over the past couple of years (Vancouver's 2023 Crime Trends), highlighting that expansion alone does not guarantee citizens’ sense of security. This raises an essential question: as Vancouver grows, how can the city ensure the safety of its citizens? Moreover, how can the city continue channelling resources toward housing and infrastructure while ensuring its residents' safety? \n",
    "\n",
    "Research suggests that targeted infrastructure policies can effectively reduce crime rates. Yet, among a wide range of options, which interventions are the most effective? This is the question our project aims to answer. Specifically, we seek to understand how certain infrastructure elements—such as luminosity, cultural centers, schooling, and access to public transit contribute to crime reduction - specifically theft-related intentional crime - within specific areas. Moreover, we aim to isolate the individual impact of these policies to identify the most effective guidelines for the city to implement. Ultimately providing data-driven, cost-effective solutions that deter crime while enabling a continued focus on expansion and infrastructure development.\n",
    "\n",
    "--- \n",
    "\n",
    "## Variables\n",
    "\n",
    "#### Control Variables\n",
    "\n",
    "**Average property price:**\n",
    "\n",
    "The increase in the value of housing in an area plays a large role in affecting the premeditative crime rate. Therefore, we add this variable as a control so that we may better examine the effects of our other variables on the crime rate. \n",
    "\n",
    "**Average education level:**\n",
    "\n",
    "Average education has a significant effect on crime levels within an area. Therefore, we include this variable in our model to control for its effects and isolate how infrastructure impacts crime within an area.\n",
    "\n",
    "**Proportion of immigrants:**\n",
    "\n",
    "The proportion of immigrants can highlight diverse socio-economic dynamics in a neighborhood, influencing crime rates based on religious and cultural conflict. Therefore, we include this variable as a control to ensure that we are not capturing cross-cultural effects that are impacting crime rates. \n",
    "\n",
    "**Average Income:**\n",
    "We use this variable to control for the effects of income within an area on crime rates. When studying infrastructure, we want to remove the impact of this variable on our outcome variable. We keep this variable alongside our average property value variable because it accounts for building value discrepancies. Moreover, massive apartments filled with lower-middle-class workers find themselves in apartment complexes worth millions of dollars. Having both will allow us to account for these parameters in our model. \n",
    "\n",
    "#### Variables of Interest\n",
    "\n",
    "**Proximity to cultural centers:**\n",
    "One of the first variables under consideration is how proximity to cultural centers affects crime rates when accounting for other variables in our model. \n",
    "\n",
    "**Luminosity:**\n",
    "Luminosity fits nicely into our model as it is an actionable guideline that can be introduced into infrastructure policy. We use luminosity as a variable to assess the impact of street lighting on crime rates, assuming that higher light levels may deter crime by increasing visibility. \n",
    "\n",
    "**Public transit:**\n",
    "Access to public transit can significantly impact crime rates within a neighbourhood. Areas with robust public transit systems often see higher levels of foot traffic, which can deter certain crimes. Notably, at some point, we see diminishing and even negatively associated results with public transit and crime rates. Thus, it will be our model's job to reflect that in our analysis. \n",
    "\n",
    "---\n",
    "\n",
    "## Summary statistics "
   ]
  },
  {
   "cell_type": "code",
   "execution_count": null,
   "metadata": {
    "vscode": {
     "languageId": "r"
    }
   },
   "outputs": [],
   "source": [
    "library(tidyverse)\n",
    "\n",
    "read_csv()"
   ]
  }
 ],
 "metadata": {
  "kernelspec": {
   "display_name": "R",
   "language": "R",
   "name": "ir"
  },
  "language_info": {
   "name": "R"
  }
 },
 "nbformat": 4,
 "nbformat_minor": 2
}
