{
 "cells": [
  {
   "cell_type": "code",
   "execution_count": 1,
   "metadata": {
    "vscode": {
     "languageId": "r"
    }
   },
   "outputs": [
    {
     "name": "stderr",
     "output_type": "stream",
     "text": [
      "Installing packages into 'C:/Users/Kaiyan Zhang/AppData/Local/R/win-library/4.4'\n",
      "(as 'lib' is unspecified)\n",
      "\n"
     ]
    },
    {
     "name": "stdout",
     "output_type": "stream",
     "text": [
      "package 'sf' successfully unpacked and MD5 sums checked\n"
     ]
    },
    {
     "name": "stderr",
     "output_type": "stream",
     "text": [
      "Warning message:\n",
      "\"cannot remove prior installation of package 'sf'\"\n",
      "Warning message in file.copy(savedcopy, lib, recursive = TRUE):\n",
      "\"problem copying C:\\Users\\Kaiyan Zhang\\AppData\\Local\\R\\win-library\\4.4\\00LOCK\\sf\\libs\\x64\\sf.dll to C:\\Users\\Kaiyan Zhang\\AppData\\Local\\R\\win-library\\4.4\\sf\\libs\\x64\\sf.dll: Permission denied\"\n",
      "Warning message:\n",
      "\"restored 'sf'\"\n"
     ]
    },
    {
     "name": "stdout",
     "output_type": "stream",
     "text": [
      "package 'dplyr' successfully unpacked and MD5 sums checked\n"
     ]
    },
    {
     "name": "stderr",
     "output_type": "stream",
     "text": [
      "Warning message:\n",
      "\"cannot remove prior installation of package 'dplyr'\"\n",
      "Warning message in file.copy(savedcopy, lib, recursive = TRUE):\n",
      "\"problem copying C:\\Users\\Kaiyan Zhang\\AppData\\Local\\R\\win-library\\4.4\\00LOCK\\dplyr\\libs\\x64\\dplyr.dll to C:\\Users\\Kaiyan Zhang\\AppData\\Local\\R\\win-library\\4.4\\dplyr\\libs\\x64\\dplyr.dll: Permission denied\"\n",
      "Warning message:\n",
      "\"restored 'dplyr'\"\n"
     ]
    },
    {
     "name": "stdout",
     "output_type": "stream",
     "text": [
      "package 'units' successfully unpacked and MD5 sums checked\n"
     ]
    },
    {
     "name": "stderr",
     "output_type": "stream",
     "text": [
      "Warning message:\n",
      "\"cannot remove prior installation of package 'units'\"\n",
      "Warning message in file.copy(savedcopy, lib, recursive = TRUE):\n",
      "\"problem copying C:\\Users\\Kaiyan Zhang\\AppData\\Local\\R\\win-library\\4.4\\00LOCK\\units\\libs\\x64\\units.dll to C:\\Users\\Kaiyan Zhang\\AppData\\Local\\R\\win-library\\4.4\\units\\libs\\x64\\units.dll: Permission denied\"\n",
      "Warning message:\n",
      "\"restored 'units'\"\n"
     ]
    },
    {
     "name": "stdout",
     "output_type": "stream",
     "text": [
      "\n",
      "The downloaded binary packages are in\n",
      "\tC:\\Users\\Kaiyan Zhang\\AppData\\Local\\Temp\\RtmpuEuCtI\\downloaded_packages\n"
     ]
    },
    {
     "name": "stderr",
     "output_type": "stream",
     "text": [
      "Linking to GEOS 3.12.1, GDAL 3.8.4, PROJ 9.3.1; sf_use_s2() is TRUE\n",
      "\n",
      "\n",
      "Attaching package: 'dplyr'\n",
      "\n",
      "\n",
      "The following objects are masked from 'package:stats':\n",
      "\n",
      "    filter, lag\n",
      "\n",
      "\n",
      "The following objects are masked from 'package:base':\n",
      "\n",
      "    intersect, setdiff, setequal, union\n",
      "\n",
      "\n",
      "udunits database from C:/Users/Kaiyan Zhang/AppData/Local/R/win-library/4.4/units/share/udunits/udunits2.xml\n",
      "\n"
     ]
    }
   ],
   "source": [
    "install.packages(c(\"sf\", \"dplyr\", \"units\"))\n",
    "library(sf)\n",
    "library(dplyr)\n",
    "library(units)\n"
   ]
  },
  {
   "cell_type": "code",
   "execution_count": 8,
   "metadata": {
    "vscode": {
     "languageId": "r"
    }
   },
   "outputs": [],
   "source": [
    "# function to compute the accessibility index\n",
    "compute_accessibility_index <- function(local_areas, points_of_interest, population_data) {\n",
    "  local_areas <- st_transform(local_areas, crs = 4326)\n",
    "  points_of_interest <- st_transform(points_of_interest, crs = 4326)\n",
    "  \n",
    "  local_areas <- left_join(local_areas, population_data, by = \"name\")\n",
    "  \n",
    "  areas_union <- st_union(local_areas)\n",
    "  points_of_interest <- st_intersection(points_of_interest, areas_union)\n",
    "  \n",
    "  area_centroids <- st_centroid(local_areas)\n",
    "  \n",
    "  # Calculate average distance from each local area to points of interest\n",
    "  distance_matrix <- st_distance(area_centroids, points_of_interest)\n",
    "  distance_matrix_km <- set_units(distance_matrix, \"km\")\n",
    "  avg_distance_km <- apply(distance_matrix_km, 1, mean, na.rm = TRUE)\n",
    "  local_areas$avg_distance_km <- avg_distance_km\n",
    "  \n",
    "  # Calculate points of interest density\n",
    "  local_areas$area_km2 <- st_area(local_areas) %>% set_units(\"km^2\") %>% set_units(NULL)\n",
    "\n",
    "  points_in_areas <- st_join(points_of_interest, local_areas, join = st_within)\n",
    "  poi_counts <- points_in_areas %>%\n",
    "    st_set_geometry(NULL) %>%\n",
    "    group_by_at(\"name\") %>%\n",
    "    summarise(poi_count = n())\n",
    "  \n",
    "  local_areas <- left_join(local_areas, poi_counts, by = \"name\")\n",
    "  local_areas$poi_count[is.na(local_areas$poi_count)] <- 0\n",
    "\n",
    "  local_areas$poi_density <- local_areas$poi_count / local_areas$area_km2\n",
    "  \n",
    "  # Calculate points per 10,000 population\n",
    "  local_areas$poi_per_10k_pop <- (local_areas$poi_count / local_areas$population) * 10000\n",
    "  \n",
    "  # Normalize the values ([0, 1] range)\n",
    "  normalize <- function(x) {\n",
    "    return((x - min(x, na.rm = TRUE)) / (max(x, na.rm = TRUE) - min(x, na.rm = TRUE)))\n",
    "  }\n",
    "  \n",
    "  local_areas$avg_distance_norm <- normalize(avg_distance_km)\n",
    "  local_areas$poi_density_norm <- normalize(local_areas$poi_density)\n",
    "  local_areas$poi_per_10k_pop_norm <- normalize(local_areas$poi_per_10k_pop)\n",
    "  \n",
    "  local_areas$avg_distance_norm_inv <- 1 - local_areas$avg_distance_norm\n",
    "  \n",
    "  local_areas$accessibility_index <- (local_areas$avg_distance_norm_inv +\n",
    "                                      local_areas$poi_density_norm +\n",
    "                                      local_areas$poi_per_10k_pop_norm) / 3\n",
    "  \n",
    "  \n",
    "  return(local_areas)\n",
    "}\n"
   ]
  },
  {
   "cell_type": "code",
   "execution_count": 9,
   "metadata": {
    "vscode": {
     "languageId": "r"
    }
   },
   "outputs": [
    {
     "name": "stdout",
     "output_type": "stream",
     "text": [
      "Reading layer `Stops' from data source \n",
      "  `C:\\Users\\Kaiyan Zhang\\Desktop\\econ326\\transit_data\\Stops.shp' \n",
      "  using driver `ESRI Shapefile'\n",
      "Simple feature collection with 8785 features and 10 fields\n",
      "Geometry type: POINT\n",
      "Dimension:     XY\n",
      "Bounding box:  xmin: -123.4231 ymin: 49.00439 xmax: -122.3029 ymax: 49.47356\n",
      "Geodetic CRS:  WGS 84\n",
      "Reading layer `local-area-boundary' from data source \n",
      "  `C:\\Users\\Kaiyan Zhang\\Desktop\\econ326\\transit_data\\local-area-boundary.geojson' \n",
      "  using driver `GeoJSON'\n",
      "Simple feature collection with 22 features and 2 fields\n",
      "Geometry type: POLYGON\n",
      "Dimension:     XY\n",
      "Bounding box:  xmin: -123.2248 ymin: 49.19894 xmax: -123.0232 ymax: 49.29581\n",
      "Geodetic CRS:  WGS 84\n"
     ]
    },
    {
     "name": "stderr",
     "output_type": "stream",
     "text": [
      "Warning message:\n",
      "\"attribute variables are assumed to be spatially constant throughout all geometries\"\n",
      "Warning message:\n",
      "\"st_centroid assumes attributes are constant over geometries\"\n"
     ]
    },
    {
     "name": "stdout",
     "output_type": "stream",
     "text": [
      "Simple feature collection with 22 features and 5 fields\n",
      "Geometry type: POLYGON\n",
      "Dimension:     XY\n",
      "Bounding box:  xmin: -123.2248 ymin: 49.19894 xmax: -123.0232 ymax: 49.29581\n",
      "Geodetic CRS:  WGS 84\n",
      "First 10 features:\n",
      "                  name avg_distance_km poi_density poi_per_10k_pop\n",
      "1             Downtown        4.846520   40.532732        30.46913\n",
      "2     Hastings-Sunrise        6.217951   12.993115        31.23644\n",
      "3           Kerrisdale        6.209519    6.977132        32.91592\n",
      "4              Marpole        6.093279   11.688837        28.61815\n",
      "5             Oakridge        4.882206   15.197184        46.81504\n",
      "6           Riley Park        3.982990   14.228318        31.03525\n",
      "7         South Cambie        4.162934   16.120887        43.91468\n",
      "8          Shaughnessy        4.616570   12.753219        67.61566\n",
      "9  Victoria-Fraserview        5.531697   17.130517        30.25913\n",
      "10   Dunbar-Southlands        7.184482    7.286453        30.80513\n",
      "   accessibility_index                       geometry\n",
      "1            0.7097699 POLYGON ((-123.1123 49.2901...\n",
      "2            0.3285509 POLYGON ((-123.0565 49.2934...\n",
      "3            0.2794076 POLYGON ((-123.1791 49.2155...\n",
      "4            0.3103145 POLYGON ((-123.107 49.20416...\n",
      "5            0.5518031 POLYGON ((-123.1056 49.2331...\n",
      "6            0.5224515 POLYGON ((-123.1056 49.2331...\n",
      "7            0.6026697 POLYGON ((-123.116 49.23794...\n",
      "8            0.6722181 POLYGON ((-123.1553 49.2345...\n",
      "9            0.4200090 POLYGON ((-123.0568 49.2042...\n",
      "10           0.1902503 POLYGON ((-123.1702 49.2478...\n",
      "Deleting source `stops_index.geojson' using driver `GeoJSON'\n",
      "Writing layer `stops_index' to data source \n",
      "  `stops_index.geojson' using driver `GeoJSON'\n",
      "Writing 22 features with 13 fields and geometry type Polygon.\n"
     ]
    },
    {
     "data": {
      "image/png": "[encoded data removed]",
      "text/plain": [
       "plot without title"
      ]
     },
     "metadata": {
      "image/png": {
       "height": 420,
       "width": 420
      }
     },
     "output_type": "display_data"
    }
   ],
   "source": [
    "bus_stops <- st_read(\"./transit_data/Stops.shp\")\n",
    "\n",
    "local_areas <- st_read(\"./transit_data/local-area-boundary.geojson\")\n",
    "\n",
    "# Population data from 2016 Census\n",
    "population_data <- data.frame(\n",
    "  name = c(\n",
    "    \"Arbutus Ridge\", \"Downtown\", \"Dunbar-Southlands\", \"Fairview\",\n",
    "    \"Grandview-Woodland\", \"Hastings-Sunrise\",\n",
    "    \"Kensington-Cedar Cottage\", \"Kerrisdale\",\n",
    "    \"Killarney\", \"Kitsilano\", \"Marpole\", \"Mount Pleasant\", \"Oakridge\",\n",
    "    \"Renfrew-Collingwood\", \"Riley Park\", \"Shaughnessy\", \"South Cambie\",\n",
    "    \"Strathcona\", \"Sunset\",\n",
    "    \"Victoria-Fraserview\", \"West End\",\n",
    "    \"West Point Grey\"\n",
    "  ),\n",
    "  population = c(\n",
    "    15295, 62030, 21425, 33620,\n",
    "    29175, 34575, 49325, 13975,\n",
    "    29325, 43045, 24460, 32955, 13030,\n",
    "    51530, 22555, 8430, 7970,\n",
    "    12585, 36500, 31065, 47200, 13065\n",
    "  )\n",
    ")\n",
    "\n",
    "# compute overall index\n",
    "local_areas_with_index <- compute_accessibility_index(\n",
    "  local_areas = local_areas,\n",
    "  points_of_interest = bus_stops,\n",
    "  population_data = population_data\n",
    ")\n",
    "\n",
    "library(ggplot2)\n",
    "ggplot(data = local_areas_with_index) +\n",
    "  geom_sf(aes(fill = accessibility_index)) +\n",
    "  scale_fill_viridis_c() +\n",
    "  theme_minimal() +\n",
    "  labs(title = \"Index by Area\", fill = \"Index\")\n",
    "\n",
    "# Export results as GeoJSON file\n",
    "print(local_areas_with_index %>% select(name, avg_distance_km, poi_density, poi_per_10k_pop, accessibility_index))\n",
    "st_write(local_areas_with_index, \"stops_index.geojson\", delete_dsn = TRUE)\n"
   ]
  },
  {
   "cell_type": "code",
   "execution_count": 4,
   "metadata": {
    "vscode": {
     "languageId": "r"
    }
   },
   "outputs": [
    {
     "name": "stdout",
     "output_type": "stream",
     "text": [
      "Rows: 8,785\n",
      "Columns: 11\n",
      "$ stop_id    \u001b[3m\u001b[90m<dbl>\u001b[39m\u001b[23m 3350, 3351, 3353, 10067, 3637, 3638, 3639, 9422, 3641, 3642…\n",
      "$ stop_code  \u001b[3m\u001b[90m<chr>\u001b[39m\u001b[23m \"53314\", \"53315\", \"53317\", \"53318\", \"53598\", \"53599\", \"5360…\n",
      "$ stop_name  \u001b[3m\u001b[90m<chr>\u001b[39m\u001b[23m \"EB LOUGHEED HWY FS NORTH RD\", \"EB LOUGHEED HWY NS GUILBY S…\n",
      "$ stop_desc  \u001b[3m\u001b[90m<chr>\u001b[39m\u001b[23m \"LOUGHEED HWY @ NORTH RD\", \"LOUGHEED HWY @ GUILBY ST\", \"LOU…\n",
      "$ stop_lat   \u001b[3m\u001b[90m<dbl>\u001b[39m\u001b[23m 49.24523, 49.24219, 49.23859, 49.23683, 49.23820, 49.23967,…\n",
      "$ stop_lon   \u001b[3m\u001b[90m<dbl>\u001b[39m\u001b[23m -122.8917, -122.8862, -122.8795, -122.8710, -122.8674, -122…\n",
      "$ zone_id    \u001b[3m\u001b[90m<chr>\u001b[39m\u001b[23m \"ZN 99\", \"ZN 99\", \"ZN 99\", \"ZN 99\", \"ZN 99\", \"ZN 99\", \"ZN 9…\n",
      "$ stop_url   \u001b[3m\u001b[90m<chr>\u001b[39m\u001b[23m NA, NA, NA, NA, NA, NA, NA, NA, NA, NA, NA, NA, NA, NA, NA,…\n",
      "$ location_t \u001b[3m\u001b[90m<dbl>\u001b[39m\u001b[23m 0, 0, 0, 0, 0, 0, 0, 0, 0, 0, 0, 0, 0, 0, 0, 0, 0, 0, 0, 0,…\n",
      "$ parent_sta \u001b[3m\u001b[90m<dbl>\u001b[39m\u001b[23m NA, NA, NA, NA, NA, NA, NA, NA, NA, NA, NA, NA, NA, NA, NA,…\n",
      "$ geometry   \u001b[3m\u001b[90m<POINT [°]>\u001b[39m\u001b[23m POINT (-122.8917 49.24523), POINT (-122.8862 49.24219…\n"
     ]
    }
   ],
   "source": [
    "glimpse(bus_stops)"
   ]
  },
  {
   "cell_type": "code",
   "execution_count": 5,
   "metadata": {
    "vscode": {
     "languageId": "r"
    }
   },
   "outputs": [
    {
     "name": "stdout",
     "output_type": "stream",
     "text": [
      "Rows: 22\n",
      "Columns: 3\n",
      "$ name         \u001b[3m\u001b[90m<chr>\u001b[39m\u001b[23m \"Downtown\", \"Hastings-Sunrise\", \"Kerrisdale\", \"Marpole\", …\n",
      "$ geo_point_2d \u001b[3m\u001b[90m<chr>\u001b[39m\u001b[23m \"{ \\\"lon\\\": -123.11656700827415, \\\"lat\\\": 49.280747070137…\n",
      "$ geometry     \u001b[3m\u001b[90m<POLYGON [°]>\u001b[39m\u001b[23m POLYGON ((-123.1123 49.2901..., POLYGON ((-123.05…\n"
     ]
    }
   ],
   "source": [
    "glimpse(local_areas)"
   ]
  },
  {
   "cell_type": "code",
   "execution_count": null,
   "metadata": {
    "vscode": {
     "languageId": "r"
    }
   },
   "outputs": [],
   "source": []
  }
 ],
 "metadata": {
  "kernelspec": {
   "display_name": "R",
   "language": "R",
   "name": "ir"
  },
  "language_info": {
   "codemirror_mode": "r",
   "file_extension": ".r",
   "mimetype": "text/x-r-source",
   "name": "R",
   "pygments_lexer": "r",
   "version": "4.4.1"
  }
 },
 "nbformat": 4,
 "nbformat_minor": 2
}
